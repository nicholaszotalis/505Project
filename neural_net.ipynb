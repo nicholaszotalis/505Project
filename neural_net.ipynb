{
  "cells": [
    {
      "cell_type": "code",
      "execution_count": null,
      "id": "8d3ab388-9e4c-4c4e-93b3-2b5a7d294f7c",
      "metadata": {
        "id": "8d3ab388-9e4c-4c4e-93b3-2b5a7d294f7c",
        "colab": {
          "base_uri": "https://localhost:8080/"
        },
        "outputId": "0be6b996-9cb2-46bc-87b7-49d5386e2a2d"
      },
      "outputs": [
        {
          "output_type": "stream",
          "name": "stdout",
          "text": [
            "[nltk_data] Downloading package punkt to /root/nltk_data...\n",
            "[nltk_data]   Package punkt is already up-to-date!\n"
          ]
        },
        {
          "output_type": "execute_result",
          "data": {
            "text/plain": [
              "True"
            ]
          },
          "metadata": {},
          "execution_count": 1
        }
      ],
      "source": [
        "import pandas as pd\n",
        "import tensorflow as tf\n",
        "from tensorflow import keras\n",
        "from sklearn.model_selection import train_test_split, StratifiedKFold\n",
        "from keras.preprocessing.text import Tokenizer\n",
        "from keras.preprocessing.sequence import pad_sequences\n",
        "from sklearn.feature_extraction.text import TfidfVectorizer, CountVectorizer\n",
        "from sklearn.preprocessing import LabelEncoder\n",
        "import numpy as np\n",
        "import tqdm.notebook as tq\n",
        "import itertools\n",
        "import pickle\n",
        "from gensim.models import Word2Vec, Phrases\n",
        "import nltk\n",
        "from nltk.tokenize import word_tokenize\n",
        "nltk.download('punkt')"
      ]
    },
    {
      "cell_type": "code",
      "execution_count": null,
      "id": "e0d3ebc1-fdf6-45f2-9aa5-221e03f8c7f8",
      "metadata": {
        "colab": {
          "base_uri": "https://localhost:8080/"
        },
        "id": "e0d3ebc1-fdf6-45f2-9aa5-221e03f8c7f8",
        "outputId": "0f266068-e1ba-4f25-8c3e-ec2a8f95071f"
      },
      "outputs": [
        {
          "output_type": "stream",
          "name": "stdout",
          "text": [
            "POLITICS                0.194290\n",
            "SOCIAL                  0.105850\n",
            "RELIGION                0.102368\n",
            "LAW/ORDER               0.094708\n",
            "SOCIAL ISSUES           0.093315\n",
            "HEALTH                  0.088440\n",
            "ECONOMY                 0.059889\n",
            "FARMING                 0.054318\n",
            "SPORTS                  0.034123\n",
            "EDUCATION               0.029944\n",
            "RELATIONSHIPS           0.027159\n",
            "WILDLIFE/ENVIRONMENT    0.025070\n",
            "OPINION/ESSAY           0.018106\n",
            "LOCALCHIEFS             0.017409\n",
            "CULTURE                 0.016017\n",
            "WITCHCRAFT              0.011142\n",
            "MUSIC                   0.010446\n",
            "TRANSPORT               0.007660\n",
            "ARTS AND CRAFTS         0.004875\n",
            "FLOODING                0.004875\n",
            "Name: Label, dtype: float64\n"
          ]
        },
        {
          "output_type": "stream",
          "name": "stderr",
          "text": [
            "/usr/local/lib/python3.7/dist-packages/gensim/models/phrases.py:598: UserWarning: For a faster implementation, use the gensim.models.phrases.Phraser class\n",
            "  warnings.warn(\"For a faster implementation, use the gensim.models.phrases.Phraser class\")\n"
          ]
        }
      ],
      "source": [
        "train = pd.read_csv(\"Train.csv\")\n",
        "#train = train[train[\"Label\"].isin([\"POLITICS\", \"SOCIAL\", \"RELIGION\", \"LAW/ORDER\", \"SOCIAL ISSUES\", \"HEALTH\", \"ECONOMY\", \"FARMING\"])]\n",
        "#train[\"Label\"][train[\"Label\"].isin([\"FLOODING\", \"ARTS AND CRAFTS\", \"TRANSPORT\", \"MUSIC\", \"WITCHCRAFT\", \"CULTURE\", \"LOCALCHIEFS\", \"OPINION/ESSAY\"])] = \"OTHER\"\n",
        "train_data = train[\"Text\"]\n",
        "train_labels = train[\"Label\"]\n",
        "\n",
        "\n",
        "labels = train_labels.unique()\n",
        "print(train_labels.value_counts() / len(train_labels))\n",
        "\n",
        "int2Label = {}\n",
        "for i in range(len(labels)):\n",
        "    train_labels[train_labels == labels[i]] = i\n",
        "    int2Label[i] = labels[i]\n",
        "\n",
        "with open(\"nationArticleText.txt\", \"rb\") as file:\n",
        "  nationArticles = pickle.load(file)\n",
        "\n",
        "chichewa_tkns = []\n",
        "for s in train['Text'].values.tolist() + nationArticles:\n",
        "  chichewa_tkns.append(word_tokenize(s))\n",
        "\n",
        "bigram_transformer = Phrases(chichewa_tkns)\n",
        "w2vmodel = Word2Vec(bigram_transformer[chichewa_tkns], size = 100, min_count = 1, workers = 4)"
      ]
    },
    {
      "cell_type": "code",
      "source": [
        "train_data[0]"
      ],
      "metadata": {
        "colab": {
          "base_uri": "https://localhost:8080/",
          "height": 219
        },
        "id": "TRnBJQlO444Z",
        "outputId": "ccb1fa35-90f7-44aa-df8a-7eb7d2ba1aa2"
      },
      "id": "TRnBJQlO444Z",
      "execution_count": null,
      "outputs": [
        {
          "output_type": "execute_result",
          "data": {
            "text/plain": [
              "' Mwangonde: Khansala wachinyamata Akamati achinyamata ndi atsogoleri a mawa, ambiri amaganiza kuti izi ndi nkhambakamwa chabe. Koma achinyamata ena, monga Lusubilo Mwangonde, akukwaniritsa akupherezetsa mawuwa osati pongolota kuti adzakhala, koma kutsogolera kumene chifukwa nthawi yawo yakwana. DAILES BANDA adacheza ndi Mwangonde, khansala wachinyama, yemwe akuimira Jumbo Ward mumzinda wa Mzuzu, motere:  Chisale watuluka nkumangidwanso  Sipakala waimitsa Nyumba ya Malamulo  Pa Wenela pasintha zedi Ali ndi masomphenya: Mwangonde Tikudziweni  Ndine Lusubilo Mwangonde, ndili ndi zaka 27 zakubadwa. Ndinabadwa mbanja la ana asanu ndipo ndine wachinayi kubadwa. Ndimachokera mmudzi mwa Mwamalopa, kwa Paramount Chief Kyungu mboma la Karonga. Sindili pabanja pakadalipano.\\n Mbiri ya maphunziro anu ndi yotani? Maphunziro anga a pulaimale ndidachitira kusukula yapulaiveti ya Viphya mumzinda wa Mzuzu ndipo asekondale ndidachitira pa Phwezi Boys mboma la Rumphi. Ndili ndi diploma ya Accounting ndipo pakadalipano ndikupanga digiri komanso Chartered Accounting kusukulu ya Malawi College of Accountancy (MCA).\\n Mudayamba bwanji zandale? Kuyambira ndili wachichepere, zaka 12, ndakhala ndikukhala mumaudindo a utgogoleri. Ichi ndi china mwa zinthu zomwe zidandilimbikitsa kuti ndikhoza kudzapambana pazisankho. Koma chachikulu chomwe chidandichititsa kuti ndilowe ukhansala chidali chifukwa chakuti ndinkafuna kupereka mpata kwa anthu kuti azitha kuyankhula zakukhosi kwawo polimbikitsa demokalase ndi chitukuko.\\n Ntchito mukugwira ndi zomwe munkayembekezera? Eya, ndiponso ndinkayembekezera zambiri.\\n Masomphenya anu ndi otani pandale? Ine ndine munthu wokhulupirira Mulungu ndipo ndili ndi chikhulupiriro choti Iye ndi amene adzandionetsere zomwe ndikuyera kuchita ndi tsogolo langa.\\n Zinthu zina zomwe mumachita ndi chiyani pambali pa ukhansala? Ndikakhala sindikugwira ntchito yaukhansala ndimakhala ndikuchita bizinesi, nthawi zina ndimakhala ndili kusukulu komwe ndikuchita maphuro anga a digiri. Kuonjezera pamenepo ndili ndi bungwe lomwe ndidayambitsa ndi anzanga ena la Centre for Participatory Democracy lomwe limalimbikitsa demokalase.\\n Zomwe mwakwanitsa ndi zotani? Ndathandiza kuti ntchito yopala misewu ya kudera la Moyale itheke. Misewuyi yakhala nthawi yaitali osapalidwa. Ndidathandiziranso kuti ochita malonda ayambe kumanga mashopu anjerwa ndi kusiya kumangira matabwa kapena zigwagwa. Ndidakwanitsanso kukaimirira khonsolo ya Mzuzu ku Nyumba ya Malamulo. Ndaonanso kuti ntchitoyi yandithandiza kusintha momwe ndimaonera zinthu komanso ndimakumana ndi anthu osiyanasiyana omwe amandiphunzitsa zinthu zambiri.\\n'"
            ],
            "application/vnd.google.colaboratory.intrinsic+json": {
              "type": "string"
            }
          },
          "metadata": {},
          "execution_count": 33
        }
      ]
    },
    {
      "cell_type": "code",
      "source": [
        "w2vmodel.wv[\"pulezidenti\"] #This means president\n",
        "w2vmodel.wv.most_similar(\"pulezidenti\", topn=10)\n",
        "#Saulos Chilima - current vice president of Malawi\n",
        "#Nawo_pampando - participate in the chair\n",
        "#Chipanicho - the party\n",
        "#Zamtengatenga - transport\n",
        "#akufuna_kupikisana - he wants to compete\n",
        "#mneneli - speaker\n",
        "#ulamuliro_wa - rule of\n",
        "#chipanichi - party\n",
        "#wachiwiri_kwa - second to\n",
        "#msonkhano_waukulu - general assembly"
      ],
      "metadata": {
        "colab": {
          "base_uri": "https://localhost:8080/"
        },
        "id": "i9Em8xcCqXz0",
        "outputId": "b325d962-a585-4b22-df74-1fa309ffcfd4"
      },
      "id": "i9Em8xcCqXz0",
      "execution_count": null,
      "outputs": [
        {
          "output_type": "execute_result",
          "data": {
            "text/plain": [
              "[('Saulos_Chilima', 0.9732174277305603),\n",
              " ('nawo_pampando', 0.9731787443161011),\n",
              " ('chipanicho', 0.9722374677658081),\n",
              " ('zamtengatenga', 0.9721649885177612),\n",
              " ('akufuna_kupikisana', 0.9694526195526123),\n",
              " ('mneneli', 0.9682236313819885),\n",
              " ('ulamuliro_wa', 0.9662355184555054),\n",
              " ('chipanichi', 0.965084433555603),\n",
              " ('wachiwiri_kwa', 0.9643409252166748),\n",
              " ('msonkhano_waukulu', 0.9640751481056213)]"
            ]
          },
          "metadata": {},
          "execution_count": 35
        }
      ]
    },
    {
      "cell_type": "markdown",
      "source": [
        "# With NN Embeddings"
      ],
      "metadata": {
        "id": "he6ifuKcqp3X"
      },
      "id": "he6ifuKcqp3X"
    },
    {
      "cell_type": "code",
      "execution_count": null,
      "id": "1882aaf1-7339-407c-a56f-0543bc597df2",
      "metadata": {
        "colab": {
          "base_uri": "https://localhost:8080/"
        },
        "id": "1882aaf1-7339-407c-a56f-0543bc597df2",
        "outputId": "9ba487d9-92cb-41d0-f878-af0fc996e1e3"
      },
      "outputs": [
        {
          "output_type": "stream",
          "name": "stdout",
          "text": [
            "47433\n",
            " Mwangonde: Khansala wachinyamata Akamati achinyamata ndi atsogoleri a mawa, ambiri amaganiza kuti izi ndi nkhambakamwa chabe. Koma achinyamata ena, monga Lusubilo Mwangonde, akukwaniritsa akupherezetsa mawuwa osati pongolota kuti adzakhala, koma kutsogolera kumene chifukwa nthawi yawo yakwana. DAILES BANDA adacheza ndi Mwangonde, khansala wachinyama, yemwe akuimira Jumbo Ward mumzinda wa Mzuzu, motere:  Chisale watuluka nkumangidwanso  Sipakala waimitsa Nyumba ya Malamulo  Pa Wenela pasintha zedi Ali ndi masomphenya: Mwangonde Tikudziweni  Ndine Lusubilo Mwangonde, ndili ndi zaka 27 zakubadwa. Ndinabadwa mbanja la ana asanu ndipo ndine wachinayi kubadwa. Ndimachokera mmudzi mwa Mwamalopa, kwa Paramount Chief Kyungu mboma la Karonga. Sindili pabanja pakadalipano.\n",
            " Mbiri ya maphunziro anu ndi yotani? Maphunziro anga a pulaimale ndidachitira kusukula yapulaiveti ya Viphya mumzinda wa Mzuzu ndipo asekondale ndidachitira pa Phwezi Boys mboma la Rumphi. Ndili ndi diploma ya Accounting ndipo pakadalipano ndikupanga digiri komanso Chartered Accounting kusukulu ya Malawi College of Accountancy (MCA).\n",
            " Mudayamba bwanji zandale? Kuyambira ndili wachichepere, zaka 12, ndakhala ndikukhala mumaudindo a utgogoleri. Ichi ndi china mwa zinthu zomwe zidandilimbikitsa kuti ndikhoza kudzapambana pazisankho. Koma chachikulu chomwe chidandichititsa kuti ndilowe ukhansala chidali chifukwa chakuti ndinkafuna kupereka mpata kwa anthu kuti azitha kuyankhula zakukhosi kwawo polimbikitsa demokalase ndi chitukuko.\n",
            " Ntchito mukugwira ndi zomwe munkayembekezera? Eya, ndiponso ndinkayembekezera zambiri.\n",
            " Masomphenya anu ndi otani pandale? Ine ndine munthu wokhulupirira Mulungu ndipo ndili ndi chikhulupiriro choti Iye ndi amene adzandionetsere zomwe ndikuyera kuchita ndi tsogolo langa.\n",
            " Zinthu zina zomwe mumachita ndi chiyani pambali pa ukhansala? Ndikakhala sindikugwira ntchito yaukhansala ndimakhala ndikuchita bizinesi, nthawi zina ndimakhala ndili kusukulu komwe ndikuchita maphuro anga a digiri. Kuonjezera pamenepo ndili ndi bungwe lomwe ndidayambitsa ndi anzanga ena la Centre for Participatory Democracy lomwe limalimbikitsa demokalase.\n",
            " Zomwe mwakwanitsa ndi zotani? Ndathandiza kuti ntchito yopala misewu ya kudera la Moyale itheke. Misewuyi yakhala nthawi yaitali osapalidwa. Ndidathandiziranso kuti ochita malonda ayambe kumanga mashopu anjerwa ndi kusiya kumangira matabwa kapena zigwagwa. Ndidakwanitsanso kukaimirira khonsolo ya Mzuzu ku Nyumba ya Malamulo. Ndaonanso kuti ntchitoyi yandithandiza kusintha momwe ndimaonera zinthu komanso ndimakumana ndi anthu osiyanasiyana omwe amandiphunzitsa zinthu zambiri.\n",
            "\n",
            "[92, 32, 187, 265, 3928, 92, 661, 32, 8, 155, 108, 3928, 1, 12149, 138, 41, 120, 92, 661, 92, 297, 836, 30, 312, 5, 917, 44, 1873, 9, 515, 7, 86, 9, 392, 25, 32, 3130, 49, 66, 1874, 40, 8, 1947, 19204, 138, 1, 19205, 334, 376, 25, 32, 1, 1948, 2, 8, 930, 3928, 12, 138, 1, 4311, 1014, 456, 26, 138, 59, 230, 3, 9, 19206]\n",
            "909\n"
          ]
        },
        {
          "output_type": "stream",
          "name": "stderr",
          "text": [
            "/usr/local/lib/python3.7/dist-packages/ipykernel_launcher.py:14: DeprecationWarning: `np.float` is a deprecated alias for the builtin `float`. To silence this warning, use `float` by itself. Doing this will not modify any behavior and is safe. If you specifically wanted the numpy scalar type, use `np.float64` here.\n",
            "Deprecated in NumPy 1.20; for more details and guidance: https://numpy.org/devdocs/release/1.20.0-notes.html#deprecations\n",
            "  \n",
            "/usr/local/lib/python3.7/dist-packages/ipykernel_launcher.py:15: DeprecationWarning: `np.float` is a deprecated alias for the builtin `float`. To silence this warning, use `float` by itself. Doing this will not modify any behavior and is safe. If you specifically wanted the numpy scalar type, use `np.float64` here.\n",
            "Deprecated in NumPy 1.20; for more details and guidance: https://numpy.org/devdocs/release/1.20.0-notes.html#deprecations\n",
            "  from ipykernel import kernelapp as app\n",
            "/usr/local/lib/python3.7/dist-packages/ipykernel_launcher.py:16: DeprecationWarning: `np.float` is a deprecated alias for the builtin `float`. To silence this warning, use `float` by itself. Doing this will not modify any behavior and is safe. If you specifically wanted the numpy scalar type, use `np.float64` here.\n",
            "Deprecated in NumPy 1.20; for more details and guidance: https://numpy.org/devdocs/release/1.20.0-notes.html#deprecations\n",
            "  app.launch_new_instance()\n",
            "/usr/local/lib/python3.7/dist-packages/ipykernel_launcher.py:17: DeprecationWarning: `np.float` is a deprecated alias for the builtin `float`. To silence this warning, use `float` by itself. Doing this will not modify any behavior and is safe. If you specifically wanted the numpy scalar type, use `np.float64` here.\n",
            "Deprecated in NumPy 1.20; for more details and guidance: https://numpy.org/devdocs/release/1.20.0-notes.html#deprecations\n"
          ]
        }
      ],
      "source": [
        "train_sentences, test_sentences, y_train, y_test = train_test_split(train_data, train_labels, test_size = .1, stratify = train_labels)\n",
        "tokenizer = Tokenizer()\n",
        "tokenizer.fit_on_texts(train_sentences)\n",
        "x_train = tokenizer.texts_to_sequences(train_sentences)\n",
        "x_test = tokenizer.texts_to_sequences(test_sentences)\n",
        "vocab_size = len(tokenizer.word_index) + 1\n",
        "print(vocab_size)\n",
        "print(train_sentences[0])\n",
        "print(x_train[0])\n",
        "maxLen = max([len(x_train[i]) for i in range(len(x_train))])\n",
        "print(maxLen)\n",
        "x_train = pad_sequences(x_train, padding = 'post', maxlen=maxLen)\n",
        "x_test = pad_sequences(x_test, padding = 'post', maxlen=maxLen)\n",
        "x_train = np.array(x_train, dtype=np.float)\n",
        "x_test = np.array(x_test, dtype=np.float)\n",
        "y_train = np.array(y_train, dtype=np.float)\n",
        "y_test = np.array(y_test, dtype=np.float)"
      ]
    },
    {
      "cell_type": "code",
      "execution_count": null,
      "id": "1cd274df-ca75-41a2-8841-caa691c1571b",
      "metadata": {
        "colab": {
          "base_uri": "https://localhost:8080/"
        },
        "id": "1cd274df-ca75-41a2-8841-caa691c1571b",
        "outputId": "93e25c3c-affb-4102-8b21-1722338bd1fa"
      },
      "outputs": [
        {
          "output_type": "stream",
          "name": "stdout",
          "text": [
            "Model: \"sequential_2\"\n",
            "_________________________________________________________________\n",
            " Layer (type)                Output Shape              Param #   \n",
            "=================================================================\n",
            " embedding (Embedding)       (None, 909, 100)          4743300   \n",
            "                                                                 \n",
            " conv1d (Conv1D)             (None, 905, 128)          64128     \n",
            "                                                                 \n",
            " global_max_pooling1d (Globa  (None, 128)              0         \n",
            " lMaxPooling1D)                                                  \n",
            "                                                                 \n",
            " dense_4 (Dense)             (None, 20)                2580      \n",
            "                                                                 \n",
            " dense_5 (Dense)             (None, 20)                420       \n",
            "                                                                 \n",
            "=================================================================\n",
            "Total params: 4,810,428\n",
            "Trainable params: 4,810,428\n",
            "Non-trainable params: 0\n",
            "_________________________________________________________________\n"
          ]
        }
      ],
      "source": [
        "embedding_dim = 100\n",
        "\n",
        "model = keras.models.Sequential()\n",
        "model.add(keras.layers.Embedding(input_dim = vocab_size, output_dim = embedding_dim, input_length = maxLen))\n",
        "model.add(keras.layers.Conv1D(128, 5, activation='relu'))\n",
        "model.add(keras.layers.GlobalMaxPool1D())\n",
        "model.add(keras.layers.Dense(20, activation = 'relu'))\n",
        "model.add(keras.layers.Dense(20, activation = 'softmax'))\n",
        "model.compile(optimizer = 'adam', loss = 'sparse_categorical_crossentropy', metrics = ['accuracy'])\n",
        "model.summary()"
      ]
    },
    {
      "cell_type": "code",
      "execution_count": null,
      "id": "11822901-ab27-4a0a-a79d-7ad4527b8b3d",
      "metadata": {
        "id": "11822901-ab27-4a0a-a79d-7ad4527b8b3d"
      },
      "outputs": [],
      "source": [
        "model.fit(x_train, y_train, epochs = 30, validation_data = (x_test, y_test))"
      ]
    },
    {
      "cell_type": "code",
      "execution_count": null,
      "id": "4987fe48-6111-4a9b-99c2-eb34591c63fc",
      "metadata": {
        "colab": {
          "base_uri": "https://localhost:8080/"
        },
        "id": "4987fe48-6111-4a9b-99c2-eb34591c63fc",
        "outputId": "a4dd503d-8660-4f7f-d934-96fa88db4ad7"
      },
      "outputs": [
        {
          "output_type": "execute_result",
          "data": {
            "text/plain": [
              "0.5277777910232544"
            ]
          },
          "metadata": {},
          "execution_count": 6
        }
      ],
      "source": [
        "model.evaluate(x_test, y_test, verbose=False)[1]"
      ]
    },
    {
      "cell_type": "markdown",
      "source": [
        "# Grid Search with stratified 5-fold validation\n",
        "\n",
        "Had memory crash, before that best performance was 64.9% with 600, relu, .8, countvectorizer, withoutw2v"
      ],
      "metadata": {
        "id": "UM-i5Jc1qs4O"
      },
      "id": "UM-i5Jc1qs4O"
    },
    {
      "cell_type": "code",
      "execution_count": null,
      "id": "ad10a84d-a0f2-46d4-94d5-9010155ff521",
      "metadata": {
        "id": "ad10a84d-a0f2-46d4-94d5-9010155ff521",
        "outputId": "60bb185b-04b6-4b94-c4c3-c4bf265fca71"
      },
      "outputs": [
        {
          "data": {
            "text/plain": [
              "(1292, 47229)"
            ]
          },
          "execution_count": 62,
          "metadata": {},
          "output_type": "execute_result"
        }
      ],
      "source": [
        "vectorizer = TfidfVectorizer()\n",
        "x_train_vec = vectorizer.fit_transform(train_sentences)\n",
        "x_test_vec = vectorizer.transform(test_sentences)\n",
        "x_train_vec.shape"
      ]
    },
    {
      "cell_type": "code",
      "execution_count": null,
      "id": "e0ac51f9-d13a-4e83-a966-aa0d27eedd37",
      "metadata": {
        "id": "e0ac51f9-d13a-4e83-a966-aa0d27eedd37"
      },
      "outputs": [],
      "source": [
        "def createVecModel(input_size, denseLayer, activation, dropout):\n",
        "    vecModel = keras.models.Sequential()\n",
        "    vecModel.add(keras.layers.InputLayer(input_size))\n",
        "    vecModel.add(keras.layers.Dense(denseLayer, activation=activation))\n",
        "    vecModel.add(keras.layers.Dropout(dropout))\n",
        "    vecModel.add(keras.layers.Dense(20, activation='softmax'))\n",
        "    vecModel.compile(optimizer = 'adam', loss = 'sparse_categorical_crossentropy', metrics = ['accuracy'])\n",
        "    return vecModel"
      ]
    },
    {
      "cell_type": "code",
      "source": [
        "def vectorize_w2v(s):\n",
        "  vec = 0\n",
        "  n = 0\n",
        "  for token in word_tokenize(s):\n",
        "    try:\n",
        "      vec += w2vmodel.wv[token]\n",
        "      n += 1\n",
        "    except:\n",
        "      pass\n",
        "  return vec / n"
      ],
      "metadata": {
        "id": "5Zw9mj-x-hQx"
      },
      "id": "5Zw9mj-x-hQx",
      "execution_count": null,
      "outputs": []
    },
    {
      "cell_type": "code",
      "execution_count": null,
      "id": "a2827dfa-6c8e-430e-8706-20efbc4fd366",
      "metadata": {
        "colab": {
          "base_uri": "https://localhost:8080/"
        },
        "id": "a2827dfa-6c8e-430e-8706-20efbc4fd366",
        "outputId": "d2d96fb9-7881-4626-ada6-3f75e4068d6a"
      },
      "outputs": [
        {
          "output_type": "execute_result",
          "data": {
            "text/plain": [
              "144"
            ]
          },
          "metadata": {},
          "execution_count": 5
        }
      ],
      "source": [
        "params = [[400, 600, 800],\n",
        "          ['relu', 'elu', 'selu'],\n",
        "          [.4, .6, .8, .9],\n",
        "          [\"countvectorizer\", \"tfidf\"],\n",
        "          [\"withw2v\", \"withoutw2v\"]\n",
        "         ]\n",
        "params = itertools.product(*params)\n",
        "params = list(params)\n",
        "len(params)"
      ]
    },
    {
      "cell_type": "code",
      "execution_count": null,
      "id": "229962d9-71f1-445d-93d8-b703720bb03c",
      "metadata": {
        "colab": {
          "base_uri": "https://localhost:8080/",
          "height": 250,
          "referenced_widgets": [
            "fca9345d89104e83804b68836e6d4517",
            "9d03faffae014e4faf1c3b9b6932744b",
            "69ac9fda793d4aba907baa41bd9e5999",
            "60b9a229a39d4544a5d9c1f4e4f03cc4",
            "0a69dc0f1f03424583164a93d63687a0",
            "41fdbfaf6d7d491c86277603305cba2c",
            "3f33937349b34f60a77520e24b9c7cd6",
            "85b6a73dd4244fce981c5dc3cdd6e4e2",
            "a2c27dd6cfa54dde9131d136b4efca08",
            "1cf091df87e04f70ae498279ff4c0d35",
            "6a4a21916ac4483d9822e22b63f07d47"
          ]
        },
        "id": "229962d9-71f1-445d-93d8-b703720bb03c",
        "outputId": "ac768529-4d4d-43af-dca1-38ea7fd0f55d"
      },
      "outputs": [
        {
          "data": {
            "application/vnd.jupyter.widget-view+json": {
              "model_id": "fca9345d89104e83804b68836e6d4517",
              "version_major": 2,
              "version_minor": 0
            },
            "text/plain": [
              "  0%|          | 0/44 [00:00<?, ?it/s]"
            ]
          },
          "metadata": {},
          "output_type": "display_data"
        },
        {
          "output_type": "stream",
          "name": "stdout",
          "text": [
            "Best Params:  (800, 'relu', 0.6, 'countvectorizer', 'withw2v')\n",
            "Best Accuracy:  0.6365103602409363\n",
            "Best Params:  (800, 'relu', 0.6, 'countvectorizer', 'withoutw2v')\n",
            "Best Accuracy:  0.6378968358039856\n",
            "Best Params:  (800, 'relu', 0.6, 'tfidf', 'withoutw2v')\n",
            "Best Accuracy:  0.6483376979827881\n",
            "Best Params:  (800, 'elu', 0.9, 'tfidf', 'withoutw2v')\n",
            "Best Accuracy:  0.6483425259590149\n",
            "Best Params:  (800, 'selu', 0.6, 'tfidf', 'withoutw2v')\n",
            "Best Accuracy:  0.6490393877029419\n",
            "(800, 'selu', 0.6, 'tfidf', 'withoutw2v') 0.6490393877029419\n"
          ]
        }
      ],
      "source": [
        "skf = StratifiedKFold(n_splits=5)\n",
        "best_acc = 0\n",
        "best_params = None\n",
        "for i in tq.tqdm(range(100, len(params))):\n",
        "    combo = params[i]\n",
        "    denseLayer, activation, dropout, mode, w2v = combo\n",
        "    acc = 0\n",
        "    for trainidx, testidx in skf.split(train_data, LabelEncoder().fit_transform(train_labels)):\n",
        "        x_train, y_train = train_data[trainidx], train_labels[trainidx]\n",
        "        x_test, y_test = train_data[testidx], train_labels[testidx]\n",
        "\n",
        "        if mode == 'countvectorizer':\n",
        "          vectorizer = CountVectorizer()\n",
        "        else:\n",
        "          vectorizer = TfidfVectorizer()\n",
        "        \n",
        "        x_train_vec = vectorizer.fit_transform(x_train)\n",
        "        x_test_vec = vectorizer.transform(x_test)\n",
        "        \n",
        "        x_train_vec = x_train_vec.toarray()\n",
        "        x_test_vec = x_test_vec.toarray()\n",
        "        if w2v == 'withw2v':\n",
        "          x_train_w2v = np.array([vectorize_w2v(x) for x in x_train.values])\n",
        "          x_test_w2v = np.array([vectorize_w2v(x) for x in x_test.values])\n",
        "          x_train_vec = np.hstack([x_train_vec, x_train_w2v])\n",
        "          x_test_vec = np.hstack([x_test_vec, x_test_w2v])\n",
        "\n",
        "        y_train = np.array(y_train, dtype='float')\n",
        "        y_test = np.array(y_test, dtype='float')\n",
        "        \n",
        "        vecModel = createVecModel(x_train_vec.shape[1], denseLayer, activation, dropout)\n",
        "        vecModel.fit(x_train_vec, y_train, epochs = 15, verbose = False)\n",
        "        acc += vecModel.evaluate(x_test_vec, y_test, verbose = False)[1]\n",
        "\n",
        "        del vecModel\n",
        "    acc /= 5\n",
        "    \n",
        "    if acc > best_acc:\n",
        "        best_acc = acc\n",
        "        best_params = combo\n",
        "        print(\"Best Params: \", best_params)\n",
        "        print(\"Best Accuracy: \", best_acc)\n",
        "    \n",
        "\n",
        "print(best_params, best_acc)\n",
        "with open(\"best_params_acc.txt\", \"wb\") as file:\n",
        "    pickle.dump((best_params, best_acc), file)"
      ]
    },
    {
      "cell_type": "code",
      "source": [
        "x_train = train[\"Text\"]\n",
        "y_train = train[\"Label\"]\n",
        "vectorizer = TfidfVectorizer()\n",
        "x_train_vec = vectorizer.fit_transform(x_train).toarray()\n",
        "y_train = np.array(y_train, dtype='float')\n",
        "model = createVecModel(x_train_vec.shape[1], 800, 'selu', .6)\n",
        "model.fit(x_train_vec, y_train, epochs=15)"
      ],
      "metadata": {
        "colab": {
          "base_uri": "https://localhost:8080/"
        },
        "id": "ZDR4h-pJbzFC",
        "outputId": "d535aed0-eaaa-4304-87e4-5e4713780ba6"
      },
      "id": "ZDR4h-pJbzFC",
      "execution_count": null,
      "outputs": [
        {
          "output_type": "stream",
          "name": "stdout",
          "text": [
            "Epoch 1/15\n",
            "45/45 [==============================] - 2s 16ms/step - loss: 2.3713 - accuracy: 0.2946\n",
            "Epoch 2/15\n",
            "45/45 [==============================] - 1s 15ms/step - loss: 1.0846 - accuracy: 0.7820\n",
            "Epoch 3/15\n",
            "45/45 [==============================] - 1s 14ms/step - loss: 0.3696 - accuracy: 0.9499\n",
            "Epoch 4/15\n",
            "45/45 [==============================] - 1s 13ms/step - loss: 0.1058 - accuracy: 0.9944\n",
            "Epoch 5/15\n",
            "45/45 [==============================] - 1s 14ms/step - loss: 0.0434 - accuracy: 0.9972\n",
            "Epoch 6/15\n",
            "45/45 [==============================] - 1s 14ms/step - loss: 0.0242 - accuracy: 0.9979\n",
            "Epoch 7/15\n",
            "45/45 [==============================] - 1s 15ms/step - loss: 0.0167 - accuracy: 0.9979\n",
            "Epoch 8/15\n",
            "45/45 [==============================] - 0s 11ms/step - loss: 0.0153 - accuracy: 0.9972\n",
            "Epoch 9/15\n",
            "45/45 [==============================] - 1s 12ms/step - loss: 0.0111 - accuracy: 0.9979\n",
            "Epoch 10/15\n",
            "45/45 [==============================] - 0s 10ms/step - loss: 0.0095 - accuracy: 0.9979\n",
            "Epoch 11/15\n",
            "45/45 [==============================] - 1s 12ms/step - loss: 0.0097 - accuracy: 0.9972\n",
            "Epoch 12/15\n",
            "45/45 [==============================] - 1s 12ms/step - loss: 0.0093 - accuracy: 0.9972\n",
            "Epoch 13/15\n",
            "45/45 [==============================] - 0s 10ms/step - loss: 0.0054 - accuracy: 0.9986\n",
            "Epoch 14/15\n",
            "45/45 [==============================] - 1s 11ms/step - loss: 0.0075 - accuracy: 0.9972\n",
            "Epoch 15/15\n",
            "45/45 [==============================] - 1s 11ms/step - loss: 0.0072 - accuracy: 0.9986\n"
          ]
        },
        {
          "output_type": "execute_result",
          "data": {
            "text/plain": [
              "<keras.callbacks.History at 0x7fd536054510>"
            ]
          },
          "metadata": {},
          "execution_count": 18
        }
      ]
    },
    {
      "cell_type": "markdown",
      "source": [
        "# Using 800, selu, tfidf, .6, withoutw2v for predictions\n",
        "\n"
      ],
      "metadata": {
        "id": "jZhN68VsZ75d"
      },
      "id": "jZhN68VsZ75d"
    },
    {
      "cell_type": "code",
      "source": [
        "test = pd.read_csv(\"Test.csv\")\n",
        "x_test = test[\"Text\"]\n",
        "\n",
        "x_test_vec = vectorizer.transform(x_test)\n",
        "x_test_vec = x_test_vec.toarray()\n",
        "preds = np.argmax(model.predict(x_test_vec), axis=1)\n",
        "preds = [int2Label[pred] for pred in preds]\n",
        "for i in range(len(preds)):\n",
        "  if preds[i] == 'OTHER':\n",
        "    preds[i] = np.random.choice([\"FLOODING\", \"ARTS AND CRAFTS\", \"TRANSPORT\", \"MUSIC\", \"WITCHCRAFT\", \"CULTURE\", \"LOCALCHIEFS\", \"OPINION/ESSAY\"])\n",
        "test[\"Label\"] = preds\n",
        "test[[\"ID\", \"Label\"]].to_csv(\"submission_nn.csv\", index=False)\n",
        "\n",
        "combiner = pd.read_csv(\"combiner.csv\")\n",
        "combiner['Neural Network'] = preds\n",
        "combiner.to_csv('combiner.csv', index = False)\n",
        "combiner.head()"
      ],
      "metadata": {
        "colab": {
          "base_uri": "https://localhost:8080/",
          "height": 617
        },
        "id": "NXmZ40cPaB8r",
        "outputId": "a14e8a95-900c-46ce-8ec1-7b61be0a3ecb"
      },
      "id": "NXmZ40cPaB8r",
      "execution_count": null,
      "outputs": [
        {
          "output_type": "execute_result",
          "data": {
            "text/plain": [
              "            ID                                               Text  \\\n",
              "0  ID_ADHEtjTi   Abambo odzikhweza akuchuluka Kafukufuku wa ap...   \n",
              "1  ID_AHfJktdQ  Ambuye Ziyaye Ayamikira Aphunzitsi a Tilitonse...   \n",
              "2  ID_AUJIHpZr   Anatcheleza: Akundiopseza a gogo wanga Akundi...   \n",
              "3  ID_AUKYBbIM   Ulova wafika posauzana Adatenga digiri ya uph...   \n",
              "4  ID_AZnsVPEi   Dzombe kukoma, koma Kuyambira makedzana, pant...   \n",
              "\n",
              "             SGD        MultiNB Logistic Regression            KNN  \\\n",
              "0  SOCIAL ISSUES  SOCIAL ISSUES       SOCIAL ISSUES       RELIGION   \n",
              "1       RELIGION       RELIGION            RELIGION       RELIGION   \n",
              "2  RELATIONSHIPS  RELATIONSHIPS       RELATIONSHIPS  RELATIONSHIPS   \n",
              "3       POLITICS      LAW/ORDER       SOCIAL ISSUES       POLITICS   \n",
              "4         HEALTH         HEALTH              HEALTH      EDUCATION   \n",
              "\n",
              "             SVM Neural Network  \n",
              "0  SOCIAL ISSUES  SOCIAL ISSUES  \n",
              "1       RELIGION       RELIGION  \n",
              "2  RELATIONSHIPS  RELATIONSHIPS  \n",
              "3  SOCIAL ISSUES  SOCIAL ISSUES  \n",
              "4         HEALTH  SOCIAL ISSUES  "
            ],
            "text/html": [
              "\n",
              "  <div id=\"df-2da8c1cd-46fc-470c-b0a1-68ecef542236\">\n",
              "    <div class=\"colab-df-container\">\n",
              "      <div>\n",
              "<style scoped>\n",
              "    .dataframe tbody tr th:only-of-type {\n",
              "        vertical-align: middle;\n",
              "    }\n",
              "\n",
              "    .dataframe tbody tr th {\n",
              "        vertical-align: top;\n",
              "    }\n",
              "\n",
              "    .dataframe thead th {\n",
              "        text-align: right;\n",
              "    }\n",
              "</style>\n",
              "<table border=\"1\" class=\"dataframe\">\n",
              "  <thead>\n",
              "    <tr style=\"text-align: right;\">\n",
              "      <th></th>\n",
              "      <th>ID</th>\n",
              "      <th>Text</th>\n",
              "      <th>SGD</th>\n",
              "      <th>MultiNB</th>\n",
              "      <th>Logistic Regression</th>\n",
              "      <th>KNN</th>\n",
              "      <th>SVM</th>\n",
              "      <th>Neural Network</th>\n",
              "    </tr>\n",
              "  </thead>\n",
              "  <tbody>\n",
              "    <tr>\n",
              "      <th>0</th>\n",
              "      <td>ID_ADHEtjTi</td>\n",
              "      <td>Abambo odzikhweza akuchuluka Kafukufuku wa ap...</td>\n",
              "      <td>SOCIAL ISSUES</td>\n",
              "      <td>SOCIAL ISSUES</td>\n",
              "      <td>SOCIAL ISSUES</td>\n",
              "      <td>RELIGION</td>\n",
              "      <td>SOCIAL ISSUES</td>\n",
              "      <td>SOCIAL ISSUES</td>\n",
              "    </tr>\n",
              "    <tr>\n",
              "      <th>1</th>\n",
              "      <td>ID_AHfJktdQ</td>\n",
              "      <td>Ambuye Ziyaye Ayamikira Aphunzitsi a Tilitonse...</td>\n",
              "      <td>RELIGION</td>\n",
              "      <td>RELIGION</td>\n",
              "      <td>RELIGION</td>\n",
              "      <td>RELIGION</td>\n",
              "      <td>RELIGION</td>\n",
              "      <td>RELIGION</td>\n",
              "    </tr>\n",
              "    <tr>\n",
              "      <th>2</th>\n",
              "      <td>ID_AUJIHpZr</td>\n",
              "      <td>Anatcheleza: Akundiopseza a gogo wanga Akundi...</td>\n",
              "      <td>RELATIONSHIPS</td>\n",
              "      <td>RELATIONSHIPS</td>\n",
              "      <td>RELATIONSHIPS</td>\n",
              "      <td>RELATIONSHIPS</td>\n",
              "      <td>RELATIONSHIPS</td>\n",
              "      <td>RELATIONSHIPS</td>\n",
              "    </tr>\n",
              "    <tr>\n",
              "      <th>3</th>\n",
              "      <td>ID_AUKYBbIM</td>\n",
              "      <td>Ulova wafika posauzana Adatenga digiri ya uph...</td>\n",
              "      <td>POLITICS</td>\n",
              "      <td>LAW/ORDER</td>\n",
              "      <td>SOCIAL ISSUES</td>\n",
              "      <td>POLITICS</td>\n",
              "      <td>SOCIAL ISSUES</td>\n",
              "      <td>SOCIAL ISSUES</td>\n",
              "    </tr>\n",
              "    <tr>\n",
              "      <th>4</th>\n",
              "      <td>ID_AZnsVPEi</td>\n",
              "      <td>Dzombe kukoma, koma Kuyambira makedzana, pant...</td>\n",
              "      <td>HEALTH</td>\n",
              "      <td>HEALTH</td>\n",
              "      <td>HEALTH</td>\n",
              "      <td>EDUCATION</td>\n",
              "      <td>HEALTH</td>\n",
              "      <td>SOCIAL ISSUES</td>\n",
              "    </tr>\n",
              "  </tbody>\n",
              "</table>\n",
              "</div>\n",
              "      <button class=\"colab-df-convert\" onclick=\"convertToInteractive('df-2da8c1cd-46fc-470c-b0a1-68ecef542236')\"\n",
              "              title=\"Convert this dataframe to an interactive table.\"\n",
              "              style=\"display:none;\">\n",
              "        \n",
              "  <svg xmlns=\"http://www.w3.org/2000/svg\" height=\"24px\"viewBox=\"0 0 24 24\"\n",
              "       width=\"24px\">\n",
              "    <path d=\"M0 0h24v24H0V0z\" fill=\"none\"/>\n",
              "    <path d=\"M18.56 5.44l.94 2.06.94-2.06 2.06-.94-2.06-.94-.94-2.06-.94 2.06-2.06.94zm-11 1L8.5 8.5l.94-2.06 2.06-.94-2.06-.94L8.5 2.5l-.94 2.06-2.06.94zm10 10l.94 2.06.94-2.06 2.06-.94-2.06-.94-.94-2.06-.94 2.06-2.06.94z\"/><path d=\"M17.41 7.96l-1.37-1.37c-.4-.4-.92-.59-1.43-.59-.52 0-1.04.2-1.43.59L10.3 9.45l-7.72 7.72c-.78.78-.78 2.05 0 2.83L4 21.41c.39.39.9.59 1.41.59.51 0 1.02-.2 1.41-.59l7.78-7.78 2.81-2.81c.8-.78.8-2.07 0-2.86zM5.41 20L4 18.59l7.72-7.72 1.47 1.35L5.41 20z\"/>\n",
              "  </svg>\n",
              "      </button>\n",
              "      \n",
              "  <style>\n",
              "    .colab-df-container {\n",
              "      display:flex;\n",
              "      flex-wrap:wrap;\n",
              "      gap: 12px;\n",
              "    }\n",
              "\n",
              "    .colab-df-convert {\n",
              "      background-color: #E8F0FE;\n",
              "      border: none;\n",
              "      border-radius: 50%;\n",
              "      cursor: pointer;\n",
              "      display: none;\n",
              "      fill: #1967D2;\n",
              "      height: 32px;\n",
              "      padding: 0 0 0 0;\n",
              "      width: 32px;\n",
              "    }\n",
              "\n",
              "    .colab-df-convert:hover {\n",
              "      background-color: #E2EBFA;\n",
              "      box-shadow: 0px 1px 2px rgba(60, 64, 67, 0.3), 0px 1px 3px 1px rgba(60, 64, 67, 0.15);\n",
              "      fill: #174EA6;\n",
              "    }\n",
              "\n",
              "    [theme=dark] .colab-df-convert {\n",
              "      background-color: #3B4455;\n",
              "      fill: #D2E3FC;\n",
              "    }\n",
              "\n",
              "    [theme=dark] .colab-df-convert:hover {\n",
              "      background-color: #434B5C;\n",
              "      box-shadow: 0px 1px 3px 1px rgba(0, 0, 0, 0.15);\n",
              "      filter: drop-shadow(0px 1px 2px rgba(0, 0, 0, 0.3));\n",
              "      fill: #FFFFFF;\n",
              "    }\n",
              "  </style>\n",
              "\n",
              "      <script>\n",
              "        const buttonEl =\n",
              "          document.querySelector('#df-2da8c1cd-46fc-470c-b0a1-68ecef542236 button.colab-df-convert');\n",
              "        buttonEl.style.display =\n",
              "          google.colab.kernel.accessAllowed ? 'block' : 'none';\n",
              "\n",
              "        async function convertToInteractive(key) {\n",
              "          const element = document.querySelector('#df-2da8c1cd-46fc-470c-b0a1-68ecef542236');\n",
              "          const dataTable =\n",
              "            await google.colab.kernel.invokeFunction('convertToInteractive',\n",
              "                                                     [key], {});\n",
              "          if (!dataTable) return;\n",
              "\n",
              "          const docLinkHtml = 'Like what you see? Visit the ' +\n",
              "            '<a target=\"_blank\" href=https://colab.research.google.com/notebooks/data_table.ipynb>data table notebook</a>'\n",
              "            + ' to learn more about interactive tables.';\n",
              "          element.innerHTML = '';\n",
              "          dataTable['output_type'] = 'display_data';\n",
              "          await google.colab.output.renderOutput(dataTable, element);\n",
              "          const docLink = document.createElement('div');\n",
              "          docLink.innerHTML = docLinkHtml;\n",
              "          element.appendChild(docLink);\n",
              "        }\n",
              "      </script>\n",
              "    </div>\n",
              "  </div>\n",
              "  "
            ]
          },
          "metadata": {},
          "execution_count": 19
        }
      ]
    },
    {
      "cell_type": "code",
      "source": [
        "x_train = train_data\n",
        "y_train = train_labels\n",
        "\n",
        "vectorizer = TfidfVectorizer()\n",
        "x_train_vec = vectorizer.fit_transform(x_train)\n",
        "x_train_vec = x_train_vec.toarray()\n",
        "y_train = np.array(y_train, dtype='float')\n",
        "\n",
        "model = createVecModel(x_train_vec.shape[1], 600, 'selu', .9)\n",
        "model.fit(x_train_vec, y_train, epochs=12)"
      ],
      "metadata": {
        "colab": {
          "base_uri": "https://localhost:8080/"
        },
        "id": "qfetm-8Udvhg",
        "outputId": "d954324f-d66d-41fb-ec55-a52f4d844728"
      },
      "id": "qfetm-8Udvhg",
      "execution_count": null,
      "outputs": [
        {
          "output_type": "stream",
          "name": "stdout",
          "text": [
            "Epoch 1/12\n",
            "45/45 [==============================] - 1s 10ms/step - loss: 2.6128 - accuracy: 0.1971\n",
            "Epoch 2/12\n",
            "45/45 [==============================] - 0s 9ms/step - loss: 1.9076 - accuracy: 0.4269\n",
            "Epoch 3/12\n",
            "45/45 [==============================] - 0s 9ms/step - loss: 1.4067 - accuracy: 0.6734\n",
            "Epoch 4/12\n",
            "45/45 [==============================] - 0s 9ms/step - loss: 0.9841 - accuracy: 0.7994\n",
            "Epoch 5/12\n",
            "45/45 [==============================] - 0s 9ms/step - loss: 0.6934 - accuracy: 0.8712\n",
            "Epoch 6/12\n",
            "45/45 [==============================] - 0s 9ms/step - loss: 0.4652 - accuracy: 0.9297\n",
            "Epoch 7/12\n",
            "45/45 [==============================] - 0s 9ms/step - loss: 0.3353 - accuracy: 0.9547\n",
            "Epoch 8/12\n",
            "45/45 [==============================] - 0s 9ms/step - loss: 0.2277 - accuracy: 0.9735\n",
            "Epoch 9/12\n",
            "45/45 [==============================] - 0s 9ms/step - loss: 0.1601 - accuracy: 0.9868\n",
            "Epoch 10/12\n",
            "45/45 [==============================] - 0s 9ms/step - loss: 0.1126 - accuracy: 0.9903\n",
            "Epoch 11/12\n",
            "45/45 [==============================] - 0s 9ms/step - loss: 0.0857 - accuracy: 0.9937\n",
            "Epoch 12/12\n",
            "45/45 [==============================] - 0s 9ms/step - loss: 0.0637 - accuracy: 0.9965\n"
          ]
        },
        {
          "output_type": "execute_result",
          "data": {
            "text/plain": [
              "<keras.callbacks.History at 0x7f2b4516bfd0>"
            ]
          },
          "metadata": {},
          "execution_count": 18
        }
      ]
    },
    {
      "cell_type": "code",
      "source": [
        "test = pd.read_csv(\"Test.csv\")\n",
        "x_test = test[\"Text\"]\n",
        "x_test_vec = vectorizer.transform(x_test)\n",
        "x_test_vec = x_test_vec.toarray()\n",
        "preds = np.argmax(model.predict(x_test_vec), axis=1)\n",
        "preds = [int2Label[pred] for pred in preds]\n",
        "for i in range(len(preds)):\n",
        "  if preds[i] == 'OTHER':\n",
        "    preds[i] = np.random.choice([\"FLOODING\", \"ARTS AND CRAFTS\", \"TRANSPORT\", \"MUSIC\", \"WITCHCRAFT\", \"CULTURE\", \"LOCALCHIEFS\", \"OPINION/ESSAY\"])\n",
        "test[\"Label\"] = preds\n",
        "test[[\"ID\", \"Label\"]].to_csv(\"submission_nn.csv\", index=False)"
      ],
      "metadata": {
        "id": "w1uRY5KvecXC"
      },
      "id": "w1uRY5KvecXC",
      "execution_count": null,
      "outputs": []
    },
    {
      "cell_type": "markdown",
      "source": [
        "# With word2vec"
      ],
      "metadata": {
        "id": "uXCgXIQDqmfO"
      },
      "id": "uXCgXIQDqmfO"
    },
    {
      "cell_type": "code",
      "source": [
        "#x_train, x_test, y_train, y_test = train_test_split(train_data, train_labels, test_size = .15, stratify = train_labels)\n",
        "\n",
        "\n",
        "vectorizer = TfidfVectorizer()\n",
        "x_train_vec = vectorizer.fit_transform(x_train).toarray()\n",
        "x_test_vec = vectorizer.transform(x_test).toarray()\n",
        "\n",
        "x_train_w2v = np.array([vectorize_w2v(x) for x in x_train.values])\n",
        "x_test_w2v = np.array([vectorize_w2v(x) for x in x_test.values])\n",
        "y_train = np.array(y_train, dtype='float')\n",
        "y_test = np.array(y_test, dtype='float')\n",
        "\n",
        "x_train_w2v = np.hstack([x_train_vec, x_train_w2v])\n",
        "x_test_w2v = np.hstack([x_test_vec, x_test_w2v])\n"
      ],
      "metadata": {
        "id": "laDMInWTru4w"
      },
      "id": "laDMInWTru4w",
      "execution_count": null,
      "outputs": []
    },
    {
      "cell_type": "code",
      "source": [
        "x_train_w2v.shape, x_test_w2v.shape"
      ],
      "metadata": {
        "colab": {
          "base_uri": "https://localhost:8080/"
        },
        "id": "J1JyCwRKsHoc",
        "outputId": "aaefbb68-7a0b-43d8-8794-4ce521b73b4f"
      },
      "id": "J1JyCwRKsHoc",
      "execution_count": null,
      "outputs": [
        {
          "output_type": "execute_result",
          "data": {
            "text/plain": [
              "((1220, 45763), (216, 45763))"
            ]
          },
          "metadata": {},
          "execution_count": 27
        }
      ]
    },
    {
      "cell_type": "code",
      "source": [
        "model = keras.Sequential()\n",
        "model.add(keras.layers.InputLayer(x_train_w2v.shape[1]))\n",
        "model.add(keras.layers.Dense(500, activation='selu'))\n",
        "model.add(keras.layers.Dropout(.5))\n",
        "model.add(keras.layers.Dense(20, activation='softmax'))\n",
        "model.compile(optimizer = 'adam', loss = 'sparse_categorical_crossentropy', metrics = ['accuracy'])\n",
        "model.fit(x_train_w2v, y_train, epochs = 20, validation_data=(x_test_w2v, y_test))"
      ],
      "metadata": {
        "colab": {
          "base_uri": "https://localhost:8080/"
        },
        "id": "1V9De3Xjsgle",
        "outputId": "1828282e-3628-4931-da33-cb4495d1befc"
      },
      "id": "1V9De3Xjsgle",
      "execution_count": null,
      "outputs": [
        {
          "output_type": "stream",
          "name": "stdout",
          "text": [
            "Epoch 1/20\n",
            "39/39 [==============================] - 1s 15ms/step - loss: 2.4082 - accuracy: 0.2705 - val_loss: 2.0621 - val_accuracy: 0.3704\n",
            "Epoch 2/20\n",
            "39/39 [==============================] - 0s 10ms/step - loss: 1.4781 - accuracy: 0.6221 - val_loss: 1.7360 - val_accuracy: 0.5000\n",
            "Epoch 3/20\n",
            "39/39 [==============================] - 0s 10ms/step - loss: 0.8447 - accuracy: 0.8197 - val_loss: 1.4943 - val_accuracy: 0.5648\n",
            "Epoch 4/20\n",
            "39/39 [==============================] - 0s 10ms/step - loss: 0.4397 - accuracy: 0.9361 - val_loss: 1.3917 - val_accuracy: 0.5880\n",
            "Epoch 5/20\n",
            "39/39 [==============================] - 0s 8ms/step - loss: 0.2114 - accuracy: 0.9852 - val_loss: 1.3483 - val_accuracy: 0.6065\n",
            "Epoch 6/20\n",
            "39/39 [==============================] - 0s 9ms/step - loss: 0.1029 - accuracy: 0.9943 - val_loss: 1.3034 - val_accuracy: 0.6065\n",
            "Epoch 7/20\n",
            "39/39 [==============================] - 0s 8ms/step - loss: 0.0622 - accuracy: 0.9967 - val_loss: 1.3021 - val_accuracy: 0.6204\n",
            "Epoch 8/20\n",
            "39/39 [==============================] - 0s 8ms/step - loss: 0.0420 - accuracy: 0.9975 - val_loss: 1.2931 - val_accuracy: 0.6065\n",
            "Epoch 9/20\n",
            "39/39 [==============================] - 0s 8ms/step - loss: 0.0341 - accuracy: 0.9984 - val_loss: 1.2922 - val_accuracy: 0.6065\n",
            "Epoch 10/20\n",
            "39/39 [==============================] - 0s 7ms/step - loss: 0.0267 - accuracy: 0.9975 - val_loss: 1.2860 - val_accuracy: 0.6111\n",
            "Epoch 11/20\n",
            "39/39 [==============================] - 0s 7ms/step - loss: 0.0244 - accuracy: 0.9967 - val_loss: 1.3057 - val_accuracy: 0.5787\n",
            "Epoch 12/20\n",
            "39/39 [==============================] - 0s 8ms/step - loss: 0.0221 - accuracy: 0.9959 - val_loss: 1.3055 - val_accuracy: 0.6065\n",
            "Epoch 13/20\n",
            "39/39 [==============================] - 0s 7ms/step - loss: 0.0164 - accuracy: 0.9975 - val_loss: 1.3009 - val_accuracy: 0.6065\n",
            "Epoch 14/20\n",
            "39/39 [==============================] - 0s 8ms/step - loss: 0.0156 - accuracy: 0.9984 - val_loss: 1.2928 - val_accuracy: 0.6111\n",
            "Epoch 15/20\n",
            "39/39 [==============================] - 0s 8ms/step - loss: 0.0121 - accuracy: 0.9975 - val_loss: 1.2979 - val_accuracy: 0.6065\n",
            "Epoch 16/20\n",
            "39/39 [==============================] - 0s 8ms/step - loss: 0.0130 - accuracy: 0.9984 - val_loss: 1.3044 - val_accuracy: 0.6111\n",
            "Epoch 17/20\n",
            "39/39 [==============================] - 0s 8ms/step - loss: 0.0158 - accuracy: 0.9959 - val_loss: 1.3412 - val_accuracy: 0.6111\n",
            "Epoch 18/20\n",
            "39/39 [==============================] - 0s 8ms/step - loss: 0.0141 - accuracy: 0.9959 - val_loss: 1.3017 - val_accuracy: 0.6204\n",
            "Epoch 19/20\n",
            "39/39 [==============================] - 0s 9ms/step - loss: 0.0131 - accuracy: 0.9975 - val_loss: 1.3195 - val_accuracy: 0.6065\n",
            "Epoch 20/20\n",
            "39/39 [==============================] - 0s 7ms/step - loss: 0.0117 - accuracy: 0.9975 - val_loss: 1.3578 - val_accuracy: 0.6111\n"
          ]
        },
        {
          "output_type": "execute_result",
          "data": {
            "text/plain": [
              "<keras.callbacks.History at 0x7f39601bd910>"
            ]
          },
          "metadata": {},
          "execution_count": 31
        }
      ]
    }
  ],
  "metadata": {
    "kernelspec": {
      "display_name": "Python 3 (ipykernel)",
      "language": "python",
      "name": "python3"
    },
    "language_info": {
      "codemirror_mode": {
        "name": "ipython",
        "version": 3
      },
      "file_extension": ".py",
      "mimetype": "text/x-python",
      "name": "python",
      "nbconvert_exporter": "python",
      "pygments_lexer": "ipython3",
      "version": "3.8.11"
    },
    "colab": {
      "name": "neural net.ipynb",
      "provenance": [],
      "collapsed_sections": []
    },
    "accelerator": "GPU",
    "widgets": {
      "application/vnd.jupyter.widget-state+json": {
        "fca9345d89104e83804b68836e6d4517": {
          "model_module": "@jupyter-widgets/controls",
          "model_name": "HBoxModel",
          "model_module_version": "1.5.0",
          "state": {
            "_dom_classes": [],
            "_model_module": "@jupyter-widgets/controls",
            "_model_module_version": "1.5.0",
            "_model_name": "HBoxModel",
            "_view_count": null,
            "_view_module": "@jupyter-widgets/controls",
            "_view_module_version": "1.5.0",
            "_view_name": "HBoxView",
            "box_style": "",
            "children": [
              "IPY_MODEL_9d03faffae014e4faf1c3b9b6932744b",
              "IPY_MODEL_69ac9fda793d4aba907baa41bd9e5999",
              "IPY_MODEL_60b9a229a39d4544a5d9c1f4e4f03cc4"
            ],
            "layout": "IPY_MODEL_0a69dc0f1f03424583164a93d63687a0"
          }
        },
        "9d03faffae014e4faf1c3b9b6932744b": {
          "model_module": "@jupyter-widgets/controls",
          "model_name": "HTMLModel",
          "model_module_version": "1.5.0",
          "state": {
            "_dom_classes": [],
            "_model_module": "@jupyter-widgets/controls",
            "_model_module_version": "1.5.0",
            "_model_name": "HTMLModel",
            "_view_count": null,
            "_view_module": "@jupyter-widgets/controls",
            "_view_module_version": "1.5.0",
            "_view_name": "HTMLView",
            "description": "",
            "description_tooltip": null,
            "layout": "IPY_MODEL_41fdbfaf6d7d491c86277603305cba2c",
            "placeholder": "​",
            "style": "IPY_MODEL_3f33937349b34f60a77520e24b9c7cd6",
            "value": "100%"
          }
        },
        "69ac9fda793d4aba907baa41bd9e5999": {
          "model_module": "@jupyter-widgets/controls",
          "model_name": "FloatProgressModel",
          "model_module_version": "1.5.0",
          "state": {
            "_dom_classes": [],
            "_model_module": "@jupyter-widgets/controls",
            "_model_module_version": "1.5.0",
            "_model_name": "FloatProgressModel",
            "_view_count": null,
            "_view_module": "@jupyter-widgets/controls",
            "_view_module_version": "1.5.0",
            "_view_name": "ProgressView",
            "bar_style": "success",
            "description": "",
            "description_tooltip": null,
            "layout": "IPY_MODEL_85b6a73dd4244fce981c5dc3cdd6e4e2",
            "max": 44,
            "min": 0,
            "orientation": "horizontal",
            "style": "IPY_MODEL_a2c27dd6cfa54dde9131d136b4efca08",
            "value": 44
          }
        },
        "60b9a229a39d4544a5d9c1f4e4f03cc4": {
          "model_module": "@jupyter-widgets/controls",
          "model_name": "HTMLModel",
          "model_module_version": "1.5.0",
          "state": {
            "_dom_classes": [],
            "_model_module": "@jupyter-widgets/controls",
            "_model_module_version": "1.5.0",
            "_model_name": "HTMLModel",
            "_view_count": null,
            "_view_module": "@jupyter-widgets/controls",
            "_view_module_version": "1.5.0",
            "_view_name": "HTMLView",
            "description": "",
            "description_tooltip": null,
            "layout": "IPY_MODEL_1cf091df87e04f70ae498279ff4c0d35",
            "placeholder": "​",
            "style": "IPY_MODEL_6a4a21916ac4483d9822e22b63f07d47",
            "value": " 44/44 [31:39&lt;00:00, 38.95s/it]"
          }
        },
        "0a69dc0f1f03424583164a93d63687a0": {
          "model_module": "@jupyter-widgets/base",
          "model_name": "LayoutModel",
          "model_module_version": "1.2.0",
          "state": {
            "_model_module": "@jupyter-widgets/base",
            "_model_module_version": "1.2.0",
            "_model_name": "LayoutModel",
            "_view_count": null,
            "_view_module": "@jupyter-widgets/base",
            "_view_module_version": "1.2.0",
            "_view_name": "LayoutView",
            "align_content": null,
            "align_items": null,
            "align_self": null,
            "border": null,
            "bottom": null,
            "display": null,
            "flex": null,
            "flex_flow": null,
            "grid_area": null,
            "grid_auto_columns": null,
            "grid_auto_flow": null,
            "grid_auto_rows": null,
            "grid_column": null,
            "grid_gap": null,
            "grid_row": null,
            "grid_template_areas": null,
            "grid_template_columns": null,
            "grid_template_rows": null,
            "height": null,
            "justify_content": null,
            "justify_items": null,
            "left": null,
            "margin": null,
            "max_height": null,
            "max_width": null,
            "min_height": null,
            "min_width": null,
            "object_fit": null,
            "object_position": null,
            "order": null,
            "overflow": null,
            "overflow_x": null,
            "overflow_y": null,
            "padding": null,
            "right": null,
            "top": null,
            "visibility": null,
            "width": null
          }
        },
        "41fdbfaf6d7d491c86277603305cba2c": {
          "model_module": "@jupyter-widgets/base",
          "model_name": "LayoutModel",
          "model_module_version": "1.2.0",
          "state": {
            "_model_module": "@jupyter-widgets/base",
            "_model_module_version": "1.2.0",
            "_model_name": "LayoutModel",
            "_view_count": null,
            "_view_module": "@jupyter-widgets/base",
            "_view_module_version": "1.2.0",
            "_view_name": "LayoutView",
            "align_content": null,
            "align_items": null,
            "align_self": null,
            "border": null,
            "bottom": null,
            "display": null,
            "flex": null,
            "flex_flow": null,
            "grid_area": null,
            "grid_auto_columns": null,
            "grid_auto_flow": null,
            "grid_auto_rows": null,
            "grid_column": null,
            "grid_gap": null,
            "grid_row": null,
            "grid_template_areas": null,
            "grid_template_columns": null,
            "grid_template_rows": null,
            "height": null,
            "justify_content": null,
            "justify_items": null,
            "left": null,
            "margin": null,
            "max_height": null,
            "max_width": null,
            "min_height": null,
            "min_width": null,
            "object_fit": null,
            "object_position": null,
            "order": null,
            "overflow": null,
            "overflow_x": null,
            "overflow_y": null,
            "padding": null,
            "right": null,
            "top": null,
            "visibility": null,
            "width": null
          }
        },
        "3f33937349b34f60a77520e24b9c7cd6": {
          "model_module": "@jupyter-widgets/controls",
          "model_name": "DescriptionStyleModel",
          "model_module_version": "1.5.0",
          "state": {
            "_model_module": "@jupyter-widgets/controls",
            "_model_module_version": "1.5.0",
            "_model_name": "DescriptionStyleModel",
            "_view_count": null,
            "_view_module": "@jupyter-widgets/base",
            "_view_module_version": "1.2.0",
            "_view_name": "StyleView",
            "description_width": ""
          }
        },
        "85b6a73dd4244fce981c5dc3cdd6e4e2": {
          "model_module": "@jupyter-widgets/base",
          "model_name": "LayoutModel",
          "model_module_version": "1.2.0",
          "state": {
            "_model_module": "@jupyter-widgets/base",
            "_model_module_version": "1.2.0",
            "_model_name": "LayoutModel",
            "_view_count": null,
            "_view_module": "@jupyter-widgets/base",
            "_view_module_version": "1.2.0",
            "_view_name": "LayoutView",
            "align_content": null,
            "align_items": null,
            "align_self": null,
            "border": null,
            "bottom": null,
            "display": null,
            "flex": null,
            "flex_flow": null,
            "grid_area": null,
            "grid_auto_columns": null,
            "grid_auto_flow": null,
            "grid_auto_rows": null,
            "grid_column": null,
            "grid_gap": null,
            "grid_row": null,
            "grid_template_areas": null,
            "grid_template_columns": null,
            "grid_template_rows": null,
            "height": null,
            "justify_content": null,
            "justify_items": null,
            "left": null,
            "margin": null,
            "max_height": null,
            "max_width": null,
            "min_height": null,
            "min_width": null,
            "object_fit": null,
            "object_position": null,
            "order": null,
            "overflow": null,
            "overflow_x": null,
            "overflow_y": null,
            "padding": null,
            "right": null,
            "top": null,
            "visibility": null,
            "width": null
          }
        },
        "a2c27dd6cfa54dde9131d136b4efca08": {
          "model_module": "@jupyter-widgets/controls",
          "model_name": "ProgressStyleModel",
          "model_module_version": "1.5.0",
          "state": {
            "_model_module": "@jupyter-widgets/controls",
            "_model_module_version": "1.5.0",
            "_model_name": "ProgressStyleModel",
            "_view_count": null,
            "_view_module": "@jupyter-widgets/base",
            "_view_module_version": "1.2.0",
            "_view_name": "StyleView",
            "bar_color": null,
            "description_width": ""
          }
        },
        "1cf091df87e04f70ae498279ff4c0d35": {
          "model_module": "@jupyter-widgets/base",
          "model_name": "LayoutModel",
          "model_module_version": "1.2.0",
          "state": {
            "_model_module": "@jupyter-widgets/base",
            "_model_module_version": "1.2.0",
            "_model_name": "LayoutModel",
            "_view_count": null,
            "_view_module": "@jupyter-widgets/base",
            "_view_module_version": "1.2.0",
            "_view_name": "LayoutView",
            "align_content": null,
            "align_items": null,
            "align_self": null,
            "border": null,
            "bottom": null,
            "display": null,
            "flex": null,
            "flex_flow": null,
            "grid_area": null,
            "grid_auto_columns": null,
            "grid_auto_flow": null,
            "grid_auto_rows": null,
            "grid_column": null,
            "grid_gap": null,
            "grid_row": null,
            "grid_template_areas": null,
            "grid_template_columns": null,
            "grid_template_rows": null,
            "height": null,
            "justify_content": null,
            "justify_items": null,
            "left": null,
            "margin": null,
            "max_height": null,
            "max_width": null,
            "min_height": null,
            "min_width": null,
            "object_fit": null,
            "object_position": null,
            "order": null,
            "overflow": null,
            "overflow_x": null,
            "overflow_y": null,
            "padding": null,
            "right": null,
            "top": null,
            "visibility": null,
            "width": null
          }
        },
        "6a4a21916ac4483d9822e22b63f07d47": {
          "model_module": "@jupyter-widgets/controls",
          "model_name": "DescriptionStyleModel",
          "model_module_version": "1.5.0",
          "state": {
            "_model_module": "@jupyter-widgets/controls",
            "_model_module_version": "1.5.0",
            "_model_name": "DescriptionStyleModel",
            "_view_count": null,
            "_view_module": "@jupyter-widgets/base",
            "_view_module_version": "1.2.0",
            "_view_name": "StyleView",
            "description_width": ""
          }
        }
      }
    }
  },
  "nbformat": 4,
  "nbformat_minor": 5
}