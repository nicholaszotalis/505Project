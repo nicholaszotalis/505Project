{
  "cells": [
    {
      "cell_type": "code",
      "execution_count": 1,
      "id": "8d3ab388-9e4c-4c4e-93b3-2b5a7d294f7c",
      "metadata": {
        "id": "8d3ab388-9e4c-4c4e-93b3-2b5a7d294f7c",
        "colab": {
          "base_uri": "https://localhost:8080/"
        },
        "outputId": "3f8debe4-0868-451b-96c3-b54e43180e98"
      },
      "outputs": [
        {
          "output_type": "stream",
          "name": "stdout",
          "text": [
            "[nltk_data] Downloading package punkt to /root/nltk_data...\n",
            "[nltk_data]   Unzipping tokenizers/punkt.zip.\n"
          ]
        },
        {
          "output_type": "execute_result",
          "data": {
            "text/plain": [
              "True"
            ]
          },
          "metadata": {},
          "execution_count": 1
        }
      ],
      "source": [
        "import pandas as pd\n",
        "import tensorflow as tf\n",
        "from tensorflow import keras\n",
        "from sklearn.model_selection import train_test_split, StratifiedKFold\n",
        "from keras.preprocessing.text import Tokenizer\n",
        "from keras.preprocessing.sequence import pad_sequences\n",
        "from sklearn.feature_extraction.text import TfidfVectorizer\n",
        "from sklearn.preprocessing import LabelEncoder\n",
        "import numpy as np\n",
        "import tqdm.notebook as tq\n",
        "import itertools\n",
        "import pickle\n",
        "from gensim.models import Word2Vec, Phrases\n",
        "import nltk\n",
        "from nltk.tokenize import word_tokenize\n",
        "nltk.download('punkt')"
      ]
    },
    {
      "cell_type": "code",
      "execution_count": 9,
      "id": "e0d3ebc1-fdf6-45f2-9aa5-221e03f8c7f8",
      "metadata": {
        "colab": {
          "base_uri": "https://localhost:8080/"
        },
        "id": "e0d3ebc1-fdf6-45f2-9aa5-221e03f8c7f8",
        "outputId": "de9d9ba9-6b47-482f-8e93-c224bf97dbdb"
      },
      "outputs": [
        {
          "output_type": "stream",
          "name": "stdout",
          "text": [
            "POLITICS                0.194290\n",
            "SOCIAL                  0.105850\n",
            "RELIGION                0.102368\n",
            "LAW/ORDER               0.094708\n",
            "SOCIAL ISSUES           0.093315\n",
            "HEALTH                  0.088440\n",
            "ECONOMY                 0.059889\n",
            "FARMING                 0.054318\n",
            "SPORTS                  0.034123\n",
            "EDUCATION               0.029944\n",
            "RELATIONSHIPS           0.027159\n",
            "WILDLIFE/ENVIRONMENT    0.025070\n",
            "OPINION/ESSAY           0.018106\n",
            "LOCALCHIEFS             0.017409\n",
            "CULTURE                 0.016017\n",
            "WITCHCRAFT              0.011142\n",
            "MUSIC                   0.010446\n",
            "TRANSPORT               0.007660\n",
            "ARTS AND CRAFTS         0.004875\n",
            "FLOODING                0.004875\n",
            "Name: Label, dtype: float64\n"
          ]
        },
        {
          "output_type": "stream",
          "name": "stderr",
          "text": [
            "/usr/local/lib/python3.7/dist-packages/gensim/models/phrases.py:598: UserWarning: For a faster implementation, use the gensim.models.phrases.Phraser class\n",
            "  warnings.warn(\"For a faster implementation, use the gensim.models.phrases.Phraser class\")\n"
          ]
        }
      ],
      "source": [
        "train = pd.read_csv(\"Train.csv\")\n",
        "#train = train[train[\"Label\"].isin([\"POLITICS\", \"SOCIAL\", \"RELIGION\", \"LAW/ORDER\", \"SOCIAL ISSUES\", \"HEALTH\", \"ECONOMY\", \"FARMING\"])]\n",
        "#train[\"Label\"][train[\"Label\"].isin([\"FLOODING\", \"ARTS AND CRAFTS\", \"TRANSPORT\", \"MUSIC\", \"WITCHCRAFT\", \"CULTURE\", \"LOCALCHIEFS\", \"OPINION/ESSAY\"])] = \"OTHER\"\n",
        "train_data = train[\"Text\"]\n",
        "train_labels = train[\"Label\"]\n",
        "\n",
        "\n",
        "labels = train_labels.unique()\n",
        "print(train_labels.value_counts() / len(train_labels))\n",
        "\n",
        "int2Label = {}\n",
        "for i in range(len(labels)):\n",
        "    train_labels[train_labels == labels[i]] = i\n",
        "    int2Label[i] = labels[i]\n",
        "\n",
        "with open(\"nationArticleText.txt\", \"rb\") as file:\n",
        "  nationArticles = pickle.load(file)\n",
        "\n",
        "chichewa_tkns = []\n",
        "for s in train['Text'].values.tolist() + nationArticles:\n",
        "  chichewa_tkns.append(word_tokenize(s))\n",
        "\n",
        "bigram_transformer = Phrases(chichewa_tkns)\n",
        "w2vmodel = Word2Vec(bigram_transformer[chichewa_tkns], size = 100, min_count = 1, workers = 4)"
      ]
    },
    {
      "cell_type": "code",
      "source": [
        "train_data[0]"
      ],
      "metadata": {
        "colab": {
          "base_uri": "https://localhost:8080/",
          "height": 145
        },
        "id": "TRnBJQlO444Z",
        "outputId": "ccb1fa35-90f7-44aa-df8a-7eb7d2ba1aa2"
      },
      "id": "TRnBJQlO444Z",
      "execution_count": 33,
      "outputs": [
        {
          "output_type": "execute_result",
          "data": {
            "text/plain": [
              "' Mwangonde: Khansala wachinyamata Akamati achinyamata ndi atsogoleri a mawa, ambiri amaganiza kuti izi ndi nkhambakamwa chabe. Koma achinyamata ena, monga Lusubilo Mwangonde, akukwaniritsa akupherezetsa mawuwa osati pongolota kuti adzakhala, koma kutsogolera kumene chifukwa nthawi yawo yakwana. DAILES BANDA adacheza ndi Mwangonde, khansala wachinyama, yemwe akuimira Jumbo Ward mumzinda wa Mzuzu, motere:  Chisale watuluka nkumangidwanso  Sipakala waimitsa Nyumba ya Malamulo  Pa Wenela pasintha zedi Ali ndi masomphenya: Mwangonde Tikudziweni  Ndine Lusubilo Mwangonde, ndili ndi zaka 27 zakubadwa. Ndinabadwa mbanja la ana asanu ndipo ndine wachinayi kubadwa. Ndimachokera mmudzi mwa Mwamalopa, kwa Paramount Chief Kyungu mboma la Karonga. Sindili pabanja pakadalipano.\\n Mbiri ya maphunziro anu ndi yotani? Maphunziro anga a pulaimale ndidachitira kusukula yapulaiveti ya Viphya mumzinda wa Mzuzu ndipo asekondale ndidachitira pa Phwezi Boys mboma la Rumphi. Ndili ndi diploma ya Accounting ndipo pakadalipano ndikupanga digiri komanso Chartered Accounting kusukulu ya Malawi College of Accountancy (MCA).\\n Mudayamba bwanji zandale? Kuyambira ndili wachichepere, zaka 12, ndakhala ndikukhala mumaudindo a utgogoleri. Ichi ndi china mwa zinthu zomwe zidandilimbikitsa kuti ndikhoza kudzapambana pazisankho. Koma chachikulu chomwe chidandichititsa kuti ndilowe ukhansala chidali chifukwa chakuti ndinkafuna kupereka mpata kwa anthu kuti azitha kuyankhula zakukhosi kwawo polimbikitsa demokalase ndi chitukuko.\\n Ntchito mukugwira ndi zomwe munkayembekezera? Eya, ndiponso ndinkayembekezera zambiri.\\n Masomphenya anu ndi otani pandale? Ine ndine munthu wokhulupirira Mulungu ndipo ndili ndi chikhulupiriro choti Iye ndi amene adzandionetsere zomwe ndikuyera kuchita ndi tsogolo langa.\\n Zinthu zina zomwe mumachita ndi chiyani pambali pa ukhansala? Ndikakhala sindikugwira ntchito yaukhansala ndimakhala ndikuchita bizinesi, nthawi zina ndimakhala ndili kusukulu komwe ndikuchita maphuro anga a digiri. Kuonjezera pamenepo ndili ndi bungwe lomwe ndidayambitsa ndi anzanga ena la Centre for Participatory Democracy lomwe limalimbikitsa demokalase.\\n Zomwe mwakwanitsa ndi zotani? Ndathandiza kuti ntchito yopala misewu ya kudera la Moyale itheke. Misewuyi yakhala nthawi yaitali osapalidwa. Ndidathandiziranso kuti ochita malonda ayambe kumanga mashopu anjerwa ndi kusiya kumangira matabwa kapena zigwagwa. Ndidakwanitsanso kukaimirira khonsolo ya Mzuzu ku Nyumba ya Malamulo. Ndaonanso kuti ntchitoyi yandithandiza kusintha momwe ndimaonera zinthu komanso ndimakumana ndi anthu osiyanasiyana omwe amandiphunzitsa zinthu zambiri.\\n'"
            ],
            "application/vnd.google.colaboratory.intrinsic+json": {
              "type": "string"
            }
          },
          "metadata": {},
          "execution_count": 33
        }
      ]
    },
    {
      "cell_type": "code",
      "source": [
        "w2vmodel.wv[\"pulezidenti\"] #This means president\n",
        "w2vmodel.wv.most_similar(\"pulezidenti\", topn=10)\n",
        "#Saulos Chilima - current vice president of Malawi\n",
        "#Nawo_pampando - participate in the chair\n",
        "#Chipanicho - the party\n",
        "#Zamtengatenga - transport\n",
        "#akufuna_kupikisana - he wants to compete\n",
        "#mneneli - speaker\n",
        "#ulamuliro_wa - rule of\n",
        "#chipanichi - party\n",
        "#wachiwiri_kwa - second to\n",
        "#msonkhano_waukulu - general assembly"
      ],
      "metadata": {
        "colab": {
          "base_uri": "https://localhost:8080/"
        },
        "id": "i9Em8xcCqXz0",
        "outputId": "b325d962-a585-4b22-df74-1fa309ffcfd4"
      },
      "id": "i9Em8xcCqXz0",
      "execution_count": 35,
      "outputs": [
        {
          "output_type": "execute_result",
          "data": {
            "text/plain": [
              "[('Saulos_Chilima', 0.9732174277305603),\n",
              " ('nawo_pampando', 0.9731787443161011),\n",
              " ('chipanicho', 0.9722374677658081),\n",
              " ('zamtengatenga', 0.9721649885177612),\n",
              " ('akufuna_kupikisana', 0.9694526195526123),\n",
              " ('mneneli', 0.9682236313819885),\n",
              " ('ulamuliro_wa', 0.9662355184555054),\n",
              " ('chipanichi', 0.965084433555603),\n",
              " ('wachiwiri_kwa', 0.9643409252166748),\n",
              " ('msonkhano_waukulu', 0.9640751481056213)]"
            ]
          },
          "metadata": {},
          "execution_count": 35
        }
      ]
    },
    {
      "cell_type": "markdown",
      "source": [
        "# With NN Embeddings"
      ],
      "metadata": {
        "id": "he6ifuKcqp3X"
      },
      "id": "he6ifuKcqp3X"
    },
    {
      "cell_type": "code",
      "execution_count": null,
      "id": "1882aaf1-7339-407c-a56f-0543bc597df2",
      "metadata": {
        "colab": {
          "base_uri": "https://localhost:8080/"
        },
        "id": "1882aaf1-7339-407c-a56f-0543bc597df2",
        "outputId": "9ba487d9-92cb-41d0-f878-af0fc996e1e3"
      },
      "outputs": [
        {
          "output_type": "stream",
          "name": "stdout",
          "text": [
            "47433\n",
            " Mwangonde: Khansala wachinyamata Akamati achinyamata ndi atsogoleri a mawa, ambiri amaganiza kuti izi ndi nkhambakamwa chabe. Koma achinyamata ena, monga Lusubilo Mwangonde, akukwaniritsa akupherezetsa mawuwa osati pongolota kuti adzakhala, koma kutsogolera kumene chifukwa nthawi yawo yakwana. DAILES BANDA adacheza ndi Mwangonde, khansala wachinyama, yemwe akuimira Jumbo Ward mumzinda wa Mzuzu, motere:  Chisale watuluka nkumangidwanso  Sipakala waimitsa Nyumba ya Malamulo  Pa Wenela pasintha zedi Ali ndi masomphenya: Mwangonde Tikudziweni  Ndine Lusubilo Mwangonde, ndili ndi zaka 27 zakubadwa. Ndinabadwa mbanja la ana asanu ndipo ndine wachinayi kubadwa. Ndimachokera mmudzi mwa Mwamalopa, kwa Paramount Chief Kyungu mboma la Karonga. Sindili pabanja pakadalipano.\n",
            " Mbiri ya maphunziro anu ndi yotani? Maphunziro anga a pulaimale ndidachitira kusukula yapulaiveti ya Viphya mumzinda wa Mzuzu ndipo asekondale ndidachitira pa Phwezi Boys mboma la Rumphi. Ndili ndi diploma ya Accounting ndipo pakadalipano ndikupanga digiri komanso Chartered Accounting kusukulu ya Malawi College of Accountancy (MCA).\n",
            " Mudayamba bwanji zandale? Kuyambira ndili wachichepere, zaka 12, ndakhala ndikukhala mumaudindo a utgogoleri. Ichi ndi china mwa zinthu zomwe zidandilimbikitsa kuti ndikhoza kudzapambana pazisankho. Koma chachikulu chomwe chidandichititsa kuti ndilowe ukhansala chidali chifukwa chakuti ndinkafuna kupereka mpata kwa anthu kuti azitha kuyankhula zakukhosi kwawo polimbikitsa demokalase ndi chitukuko.\n",
            " Ntchito mukugwira ndi zomwe munkayembekezera? Eya, ndiponso ndinkayembekezera zambiri.\n",
            " Masomphenya anu ndi otani pandale? Ine ndine munthu wokhulupirira Mulungu ndipo ndili ndi chikhulupiriro choti Iye ndi amene adzandionetsere zomwe ndikuyera kuchita ndi tsogolo langa.\n",
            " Zinthu zina zomwe mumachita ndi chiyani pambali pa ukhansala? Ndikakhala sindikugwira ntchito yaukhansala ndimakhala ndikuchita bizinesi, nthawi zina ndimakhala ndili kusukulu komwe ndikuchita maphuro anga a digiri. Kuonjezera pamenepo ndili ndi bungwe lomwe ndidayambitsa ndi anzanga ena la Centre for Participatory Democracy lomwe limalimbikitsa demokalase.\n",
            " Zomwe mwakwanitsa ndi zotani? Ndathandiza kuti ntchito yopala misewu ya kudera la Moyale itheke. Misewuyi yakhala nthawi yaitali osapalidwa. Ndidathandiziranso kuti ochita malonda ayambe kumanga mashopu anjerwa ndi kusiya kumangira matabwa kapena zigwagwa. Ndidakwanitsanso kukaimirira khonsolo ya Mzuzu ku Nyumba ya Malamulo. Ndaonanso kuti ntchitoyi yandithandiza kusintha momwe ndimaonera zinthu komanso ndimakumana ndi anthu osiyanasiyana omwe amandiphunzitsa zinthu zambiri.\n",
            "\n",
            "[92, 32, 187, 265, 3928, 92, 661, 32, 8, 155, 108, 3928, 1, 12149, 138, 41, 120, 92, 661, 92, 297, 836, 30, 312, 5, 917, 44, 1873, 9, 515, 7, 86, 9, 392, 25, 32, 3130, 49, 66, 1874, 40, 8, 1947, 19204, 138, 1, 19205, 334, 376, 25, 32, 1, 1948, 2, 8, 930, 3928, 12, 138, 1, 4311, 1014, 456, 26, 138, 59, 230, 3, 9, 19206]\n",
            "909\n"
          ]
        },
        {
          "output_type": "stream",
          "name": "stderr",
          "text": [
            "/usr/local/lib/python3.7/dist-packages/ipykernel_launcher.py:14: DeprecationWarning: `np.float` is a deprecated alias for the builtin `float`. To silence this warning, use `float` by itself. Doing this will not modify any behavior and is safe. If you specifically wanted the numpy scalar type, use `np.float64` here.\n",
            "Deprecated in NumPy 1.20; for more details and guidance: https://numpy.org/devdocs/release/1.20.0-notes.html#deprecations\n",
            "  \n",
            "/usr/local/lib/python3.7/dist-packages/ipykernel_launcher.py:15: DeprecationWarning: `np.float` is a deprecated alias for the builtin `float`. To silence this warning, use `float` by itself. Doing this will not modify any behavior and is safe. If you specifically wanted the numpy scalar type, use `np.float64` here.\n",
            "Deprecated in NumPy 1.20; for more details and guidance: https://numpy.org/devdocs/release/1.20.0-notes.html#deprecations\n",
            "  from ipykernel import kernelapp as app\n",
            "/usr/local/lib/python3.7/dist-packages/ipykernel_launcher.py:16: DeprecationWarning: `np.float` is a deprecated alias for the builtin `float`. To silence this warning, use `float` by itself. Doing this will not modify any behavior and is safe. If you specifically wanted the numpy scalar type, use `np.float64` here.\n",
            "Deprecated in NumPy 1.20; for more details and guidance: https://numpy.org/devdocs/release/1.20.0-notes.html#deprecations\n",
            "  app.launch_new_instance()\n",
            "/usr/local/lib/python3.7/dist-packages/ipykernel_launcher.py:17: DeprecationWarning: `np.float` is a deprecated alias for the builtin `float`. To silence this warning, use `float` by itself. Doing this will not modify any behavior and is safe. If you specifically wanted the numpy scalar type, use `np.float64` here.\n",
            "Deprecated in NumPy 1.20; for more details and guidance: https://numpy.org/devdocs/release/1.20.0-notes.html#deprecations\n"
          ]
        }
      ],
      "source": [
        "train_sentences, test_sentences, y_train, y_test = train_test_split(train_data, train_labels, test_size = .1, stratify = train_labels)\n",
        "tokenizer = Tokenizer()\n",
        "tokenizer.fit_on_texts(train_sentences)\n",
        "x_train = tokenizer.texts_to_sequences(train_sentences)\n",
        "x_test = tokenizer.texts_to_sequences(test_sentences)\n",
        "vocab_size = len(tokenizer.word_index) + 1\n",
        "print(vocab_size)\n",
        "print(train_sentences[0])\n",
        "print(x_train[0])\n",
        "maxLen = max([len(x_train[i]) for i in range(len(x_train))])\n",
        "print(maxLen)\n",
        "x_train = pad_sequences(x_train, padding = 'post', maxlen=maxLen)\n",
        "x_test = pad_sequences(x_test, padding = 'post', maxlen=maxLen)\n",
        "x_train = np.array(x_train, dtype=np.float)\n",
        "x_test = np.array(x_test, dtype=np.float)\n",
        "y_train = np.array(y_train, dtype=np.float)\n",
        "y_test = np.array(y_test, dtype=np.float)"
      ]
    },
    {
      "cell_type": "code",
      "execution_count": null,
      "id": "1cd274df-ca75-41a2-8841-caa691c1571b",
      "metadata": {
        "colab": {
          "base_uri": "https://localhost:8080/"
        },
        "id": "1cd274df-ca75-41a2-8841-caa691c1571b",
        "outputId": "93e25c3c-affb-4102-8b21-1722338bd1fa"
      },
      "outputs": [
        {
          "output_type": "stream",
          "name": "stdout",
          "text": [
            "Model: \"sequential_2\"\n",
            "_________________________________________________________________\n",
            " Layer (type)                Output Shape              Param #   \n",
            "=================================================================\n",
            " embedding (Embedding)       (None, 909, 100)          4743300   \n",
            "                                                                 \n",
            " conv1d (Conv1D)             (None, 905, 128)          64128     \n",
            "                                                                 \n",
            " global_max_pooling1d (Globa  (None, 128)              0         \n",
            " lMaxPooling1D)                                                  \n",
            "                                                                 \n",
            " dense_4 (Dense)             (None, 20)                2580      \n",
            "                                                                 \n",
            " dense_5 (Dense)             (None, 20)                420       \n",
            "                                                                 \n",
            "=================================================================\n",
            "Total params: 4,810,428\n",
            "Trainable params: 4,810,428\n",
            "Non-trainable params: 0\n",
            "_________________________________________________________________\n"
          ]
        }
      ],
      "source": [
        "embedding_dim = 100\n",
        "\n",
        "model = keras.models.Sequential()\n",
        "model.add(keras.layers.Embedding(input_dim = vocab_size, output_dim = embedding_dim, input_length = maxLen))\n",
        "model.add(keras.layers.Conv1D(128, 5, activation='relu'))\n",
        "model.add(keras.layers.GlobalMaxPool1D())\n",
        "model.add(keras.layers.Dense(20, activation = 'relu'))\n",
        "model.add(keras.layers.Dense(20, activation = 'softmax'))\n",
        "model.compile(optimizer = 'adam', loss = 'sparse_categorical_crossentropy', metrics = ['accuracy'])\n",
        "model.summary()"
      ]
    },
    {
      "cell_type": "code",
      "execution_count": null,
      "id": "11822901-ab27-4a0a-a79d-7ad4527b8b3d",
      "metadata": {
        "id": "11822901-ab27-4a0a-a79d-7ad4527b8b3d"
      },
      "outputs": [],
      "source": [
        "model.fit(x_train, y_train, epochs = 30, validation_data = (x_test, y_test))"
      ]
    },
    {
      "cell_type": "code",
      "execution_count": null,
      "id": "4987fe48-6111-4a9b-99c2-eb34591c63fc",
      "metadata": {
        "colab": {
          "base_uri": "https://localhost:8080/"
        },
        "id": "4987fe48-6111-4a9b-99c2-eb34591c63fc",
        "outputId": "a4dd503d-8660-4f7f-d934-96fa88db4ad7"
      },
      "outputs": [
        {
          "output_type": "execute_result",
          "data": {
            "text/plain": [
              "0.5277777910232544"
            ]
          },
          "metadata": {},
          "execution_count": 6
        }
      ],
      "source": [
        "model.evaluate(x_test, y_test, verbose=False)[1]"
      ]
    },
    {
      "cell_type": "markdown",
      "source": [
        "# With TfIdf encodings, 64%"
      ],
      "metadata": {
        "id": "UM-i5Jc1qs4O"
      },
      "id": "UM-i5Jc1qs4O"
    },
    {
      "cell_type": "code",
      "execution_count": null,
      "id": "ad10a84d-a0f2-46d4-94d5-9010155ff521",
      "metadata": {
        "id": "ad10a84d-a0f2-46d4-94d5-9010155ff521",
        "outputId": "60bb185b-04b6-4b94-c4c3-c4bf265fca71"
      },
      "outputs": [
        {
          "data": {
            "text/plain": [
              "(1292, 47229)"
            ]
          },
          "execution_count": 62,
          "metadata": {},
          "output_type": "execute_result"
        }
      ],
      "source": [
        "vectorizer = TfidfVectorizer()\n",
        "x_train_vec = vectorizer.fit_transform(train_sentences)\n",
        "x_test_vec = vectorizer.transform(test_sentences)\n",
        "x_train_vec.shape"
      ]
    },
    {
      "cell_type": "code",
      "execution_count": null,
      "id": "e0ac51f9-d13a-4e83-a966-aa0d27eedd37",
      "metadata": {
        "id": "e0ac51f9-d13a-4e83-a966-aa0d27eedd37"
      },
      "outputs": [],
      "source": [
        "def createVecModel(input_size, denseLayer, activation, dropout):\n",
        "    vecModel = keras.models.Sequential()\n",
        "    vecModel.add(keras.layers.InputLayer(input_size))\n",
        "    vecModel.add(keras.layers.Dense(denseLayer, activation=activation))\n",
        "    vecModel.add(keras.layers.Dropout(dropout))\n",
        "    vecModel.add(keras.layers.Dense(20, activation='softmax'))\n",
        "    vecModel.compile(optimizer = 'adam', loss = 'sparse_categorical_crossentropy', metrics = ['accuracy'])\n",
        "    return vecModel"
      ]
    },
    {
      "cell_type": "code",
      "execution_count": null,
      "id": "a2827dfa-6c8e-430e-8706-20efbc4fd366",
      "metadata": {
        "colab": {
          "base_uri": "https://localhost:8080/"
        },
        "id": "a2827dfa-6c8e-430e-8706-20efbc4fd366",
        "outputId": "f9cafff5-f80f-4077-c23f-ca347bd4ff38"
      },
      "outputs": [
        {
          "output_type": "execute_result",
          "data": {
            "text/plain": [
              "80"
            ]
          },
          "metadata": {},
          "execution_count": 25
        }
      ],
      "source": [
        "params = [[100, 200, 300, 400, 500],\n",
        "          ['elu', 'relu', 'selu', 'tanh'],\n",
        "          [.4, .6, .8, .9]\n",
        "         ]\n",
        "params = itertools.product(*params)\n",
        "params = list(params)\n",
        "len(params)"
      ]
    },
    {
      "cell_type": "code",
      "execution_count": null,
      "id": "229962d9-71f1-445d-93d8-b703720bb03c",
      "metadata": {
        "colab": {
          "base_uri": "https://localhost:8080/",
          "height": 473,
          "referenced_widgets": [
            "4677b729c6ab4237ab4345d8d3c9ada7",
            "6a139dc14b3445ebabc6d9a9f1daf720",
            "e2b6911299d949f38891c4b7afdad721",
            "f826ad9260534c0293145487b1c69d1e",
            "71cd52facb504d3db4909c36390e802a",
            "1f1fa18498e8435c9ddae3a2ad2b15f1",
            "eeb83734567740daa46a3e763c2b6696",
            "27928ed925164dea80c525ae802ee491",
            "97f4a0a2a0514caca90387c176b074a8",
            "1507cfae10274087a967724271e312eb",
            "f2e6b37f070f4b4dbf5569d8e047924e"
          ]
        },
        "id": "229962d9-71f1-445d-93d8-b703720bb03c",
        "outputId": "24ce29ff-8d7c-4631-93eb-f4331539ba94"
      },
      "outputs": [
        {
          "output_type": "display_data",
          "data": {
            "text/plain": [
              "  0%|          | 0/80 [00:00<?, ?it/s]"
            ],
            "application/vnd.jupyter.widget-view+json": {
              "version_major": 2,
              "version_minor": 0,
              "model_id": "4677b729c6ab4237ab4345d8d3c9ada7"
            }
          },
          "metadata": {}
        },
        {
          "output_type": "stream",
          "name": "stdout",
          "text": [
            "Best Params:  (100, 'elu', 0.4)\n",
            "Best Accuracy:  0.6288300901651382\n",
            "Best Params:  (100, 'elu', 0.6)\n",
            "Best Accuracy:  0.6302228569984436\n",
            "Best Params:  (100, 'selu', 0.4)\n",
            "Best Accuracy:  0.6323119699954987\n",
            "Best Params:  (100, 'selu', 0.8)\n",
            "Best Accuracy:  0.6350974887609482\n",
            "Best Params:  (100, 'tanh', 0.4)\n",
            "Best Accuracy:  0.6357938796281815\n",
            "Best Params:  (200, 'elu', 0.6)\n",
            "Best Accuracy:  0.6364902406930923\n",
            "Best Params:  (200, 'relu', 0.4)\n",
            "Best Accuracy:  0.6371866166591644\n",
            "Best Params:  (200, 'selu', 0.4)\n",
            "Best Accuracy:  0.638579398393631\n",
            "Best Params:  (200, 'tanh', 0.4)\n",
            "Best Accuracy:  0.6399721503257751\n",
            "Best Params:  (300, 'elu', 0.6)\n",
            "Best Accuracy:  0.6406685262918472\n",
            "Best Params:  (300, 'selu', 0.8)\n",
            "Best Accuracy:  0.6476323157548904\n",
            "(300, 'selu', 0.8) 0.6476323157548904\n"
          ]
        }
      ],
      "source": [
        "skf = StratifiedKFold(n_splits=4)\n",
        "vectorizer = TfidfVectorizer()\n",
        "best_acc = 0\n",
        "best_params = None\n",
        "for combo in tq.tqdm(params):\n",
        "    denseLayer, activation, dropout = combo\n",
        "    acc = 0\n",
        "    for trainidx, testidx in skf.split(train_data, LabelEncoder().fit_transform(train_labels)):\n",
        "        x_train, y_train = train_data[trainidx], train_labels[trainidx]\n",
        "        x_test, y_test = train_data[testidx], train_labels[testidx]\n",
        "        \n",
        "        x_train_vec = vectorizer.fit_transform(x_train)\n",
        "        x_test_vec = vectorizer.transform(x_test)\n",
        "        \n",
        "        x_train_vec = x_train_vec.toarray()\n",
        "        x_test_vec = x_test_vec.toarray()\n",
        "        y_train = np.array(y_train, dtype='float')\n",
        "        y_test = np.array(y_test, dtype='float')\n",
        "        \n",
        "        vecModel = createVecModel(x_train_vec.shape[1], denseLayer, activation, dropout)\n",
        "        vecModel.fit(x_train_vec, y_train, epochs = 12, verbose = False)\n",
        "        acc += vecModel.evaluate(x_test_vec, y_test, verbose = False)[1]\n",
        "\n",
        "        del vecModel\n",
        "    acc /= 4\n",
        "    \n",
        "    if acc > best_acc:\n",
        "        best_acc = acc\n",
        "        best_params = (denseLayer, activation, dropout)\n",
        "        print(\"Best Params: \", best_params)\n",
        "        print(\"Best Accuracy: \", best_acc)\n",
        "    \n",
        "\n",
        "\n",
        "print(best_params, best_acc)\n",
        "with open(\"best_params_acc.txt\", \"wb\") as file:\n",
        "    pickle.dump((best_params, best_acc), file)"
      ]
    },
    {
      "cell_type": "code",
      "source": [
        "x_train = train_data\n",
        "y_train = train_labels\n",
        "\n",
        "vectorizer = TfidfVectorizer()\n",
        "x_train_vec = vectorizer.fit_transform(x_train)\n",
        "x_train_vec = x_train_vec.toarray()\n",
        "y_train = np.array(y_train, dtype='float')\n",
        "\n",
        "model = createVecModel(x_train_vec.shape[1], 600, 'selu', .9)\n",
        "model.fit(x_train_vec, y_train, epochs=12)"
      ],
      "metadata": {
        "colab": {
          "base_uri": "https://localhost:8080/"
        },
        "id": "qfetm-8Udvhg",
        "outputId": "d954324f-d66d-41fb-ec55-a52f4d844728"
      },
      "id": "qfetm-8Udvhg",
      "execution_count": null,
      "outputs": [
        {
          "output_type": "stream",
          "name": "stdout",
          "text": [
            "Epoch 1/12\n",
            "45/45 [==============================] - 1s 10ms/step - loss: 2.6128 - accuracy: 0.1971\n",
            "Epoch 2/12\n",
            "45/45 [==============================] - 0s 9ms/step - loss: 1.9076 - accuracy: 0.4269\n",
            "Epoch 3/12\n",
            "45/45 [==============================] - 0s 9ms/step - loss: 1.4067 - accuracy: 0.6734\n",
            "Epoch 4/12\n",
            "45/45 [==============================] - 0s 9ms/step - loss: 0.9841 - accuracy: 0.7994\n",
            "Epoch 5/12\n",
            "45/45 [==============================] - 0s 9ms/step - loss: 0.6934 - accuracy: 0.8712\n",
            "Epoch 6/12\n",
            "45/45 [==============================] - 0s 9ms/step - loss: 0.4652 - accuracy: 0.9297\n",
            "Epoch 7/12\n",
            "45/45 [==============================] - 0s 9ms/step - loss: 0.3353 - accuracy: 0.9547\n",
            "Epoch 8/12\n",
            "45/45 [==============================] - 0s 9ms/step - loss: 0.2277 - accuracy: 0.9735\n",
            "Epoch 9/12\n",
            "45/45 [==============================] - 0s 9ms/step - loss: 0.1601 - accuracy: 0.9868\n",
            "Epoch 10/12\n",
            "45/45 [==============================] - 0s 9ms/step - loss: 0.1126 - accuracy: 0.9903\n",
            "Epoch 11/12\n",
            "45/45 [==============================] - 0s 9ms/step - loss: 0.0857 - accuracy: 0.9937\n",
            "Epoch 12/12\n",
            "45/45 [==============================] - 0s 9ms/step - loss: 0.0637 - accuracy: 0.9965\n"
          ]
        },
        {
          "output_type": "execute_result",
          "data": {
            "text/plain": [
              "<keras.callbacks.History at 0x7f2b4516bfd0>"
            ]
          },
          "metadata": {},
          "execution_count": 18
        }
      ]
    },
    {
      "cell_type": "code",
      "source": [
        "test = pd.read_csv(\"Test.csv\")\n",
        "x_test = test[\"Text\"]\n",
        "x_test_vec = vectorizer.transform(x_test)\n",
        "x_test_vec = x_test_vec.toarray()\n",
        "preds = np.argmax(model.predict(x_test_vec), axis=1)\n",
        "preds = [int2Label[pred] for pred in preds]\n",
        "for i in range(len(preds)):\n",
        "  if preds[i] == 'OTHER':\n",
        "    preds[i] = np.random.choice([\"FLOODING\", \"ARTS AND CRAFTS\", \"TRANSPORT\", \"MUSIC\", \"WITCHCRAFT\", \"CULTURE\", \"LOCALCHIEFS\", \"OPINION/ESSAY\"])\n",
        "test[\"Label\"] = preds\n",
        "test[[\"ID\", \"Label\"]].to_csv(\"submission_nn.csv\", index=False)"
      ],
      "metadata": {
        "id": "w1uRY5KvecXC"
      },
      "id": "w1uRY5KvecXC",
      "execution_count": null,
      "outputs": []
    },
    {
      "cell_type": "markdown",
      "source": [
        "# With word2vec"
      ],
      "metadata": {
        "id": "uXCgXIQDqmfO"
      },
      "id": "uXCgXIQDqmfO"
    },
    {
      "cell_type": "code",
      "source": [
        "def vectorize_w2v(s):\n",
        "  vec = 0\n",
        "  n = 0\n",
        "  for token in word_tokenize(s):\n",
        "    try:\n",
        "      vec += w2vmodel.wv[token]\n",
        "      n += 1\n",
        "    except:\n",
        "      pass\n",
        "  return vec / n"
      ],
      "metadata": {
        "id": "tvorl1vAqzJ_"
      },
      "id": "tvorl1vAqzJ_",
      "execution_count": 11,
      "outputs": []
    },
    {
      "cell_type": "code",
      "source": [
        "x_train, x_test, y_train, y_test = train_test_split(train_data, train_labels, test_size = .15, stratify = train_labels)\n",
        "\n",
        "vectorizer = TfidfVectorizer()\n",
        "x_train_vec = vectorizer.fit_transform(x_train).toarray()\n",
        "x_test_vec = vectorizer.transform(x_test).toarray()\n",
        "\n",
        "x_train_w2v = np.array([vectorize_w2v(x) for x in x_train.values])\n",
        "x_test_w2v = np.array([vectorize_w2v(x) for x in x_test.values])\n",
        "y_train = np.array(y_train, dtype='float')\n",
        "y_test = np.array(y_test, dtype='float')\n",
        "\n",
        "x_train_w2v = np.hstack([x_train_vec, x_train_w2v])\n",
        "x_test_w2v = np.hstack([x_test_vec, x_test_w2v])\n"
      ],
      "metadata": {
        "id": "laDMInWTru4w"
      },
      "id": "laDMInWTru4w",
      "execution_count": 26,
      "outputs": []
    },
    {
      "cell_type": "code",
      "source": [
        "x_train_w2v.shape, x_test_w2v.shape"
      ],
      "metadata": {
        "colab": {
          "base_uri": "https://localhost:8080/"
        },
        "id": "J1JyCwRKsHoc",
        "outputId": "aaefbb68-7a0b-43d8-8794-4ce521b73b4f"
      },
      "id": "J1JyCwRKsHoc",
      "execution_count": 27,
      "outputs": [
        {
          "output_type": "execute_result",
          "data": {
            "text/plain": [
              "((1220, 45763), (216, 45763))"
            ]
          },
          "metadata": {},
          "execution_count": 27
        }
      ]
    },
    {
      "cell_type": "code",
      "source": [
        "model = keras.Sequential()\n",
        "model.add(keras.layers.InputLayer(x_train_w2v.shape[1]))\n",
        "model.add(keras.layers.Dense(500, activation='selu'))\n",
        "model.add(keras.layers.Dropout(.5))\n",
        "model.add(keras.layers.Dense(20, activation='softmax'))\n",
        "model.compile(optimizer = 'adam', loss = 'sparse_categorical_crossentropy', metrics = ['accuracy'])\n",
        "model.fit(x_train_w2v, y_train, epochs = 20, validation_data=(x_test_w2v, y_test))"
      ],
      "metadata": {
        "colab": {
          "base_uri": "https://localhost:8080/"
        },
        "id": "1V9De3Xjsgle",
        "outputId": "1828282e-3628-4931-da33-cb4495d1befc"
      },
      "id": "1V9De3Xjsgle",
      "execution_count": 31,
      "outputs": [
        {
          "output_type": "stream",
          "name": "stdout",
          "text": [
            "Epoch 1/20\n",
            "39/39 [==============================] - 1s 15ms/step - loss: 2.4082 - accuracy: 0.2705 - val_loss: 2.0621 - val_accuracy: 0.3704\n",
            "Epoch 2/20\n",
            "39/39 [==============================] - 0s 10ms/step - loss: 1.4781 - accuracy: 0.6221 - val_loss: 1.7360 - val_accuracy: 0.5000\n",
            "Epoch 3/20\n",
            "39/39 [==============================] - 0s 10ms/step - loss: 0.8447 - accuracy: 0.8197 - val_loss: 1.4943 - val_accuracy: 0.5648\n",
            "Epoch 4/20\n",
            "39/39 [==============================] - 0s 10ms/step - loss: 0.4397 - accuracy: 0.9361 - val_loss: 1.3917 - val_accuracy: 0.5880\n",
            "Epoch 5/20\n",
            "39/39 [==============================] - 0s 8ms/step - loss: 0.2114 - accuracy: 0.9852 - val_loss: 1.3483 - val_accuracy: 0.6065\n",
            "Epoch 6/20\n",
            "39/39 [==============================] - 0s 9ms/step - loss: 0.1029 - accuracy: 0.9943 - val_loss: 1.3034 - val_accuracy: 0.6065\n",
            "Epoch 7/20\n",
            "39/39 [==============================] - 0s 8ms/step - loss: 0.0622 - accuracy: 0.9967 - val_loss: 1.3021 - val_accuracy: 0.6204\n",
            "Epoch 8/20\n",
            "39/39 [==============================] - 0s 8ms/step - loss: 0.0420 - accuracy: 0.9975 - val_loss: 1.2931 - val_accuracy: 0.6065\n",
            "Epoch 9/20\n",
            "39/39 [==============================] - 0s 8ms/step - loss: 0.0341 - accuracy: 0.9984 - val_loss: 1.2922 - val_accuracy: 0.6065\n",
            "Epoch 10/20\n",
            "39/39 [==============================] - 0s 7ms/step - loss: 0.0267 - accuracy: 0.9975 - val_loss: 1.2860 - val_accuracy: 0.6111\n",
            "Epoch 11/20\n",
            "39/39 [==============================] - 0s 7ms/step - loss: 0.0244 - accuracy: 0.9967 - val_loss: 1.3057 - val_accuracy: 0.5787\n",
            "Epoch 12/20\n",
            "39/39 [==============================] - 0s 8ms/step - loss: 0.0221 - accuracy: 0.9959 - val_loss: 1.3055 - val_accuracy: 0.6065\n",
            "Epoch 13/20\n",
            "39/39 [==============================] - 0s 7ms/step - loss: 0.0164 - accuracy: 0.9975 - val_loss: 1.3009 - val_accuracy: 0.6065\n",
            "Epoch 14/20\n",
            "39/39 [==============================] - 0s 8ms/step - loss: 0.0156 - accuracy: 0.9984 - val_loss: 1.2928 - val_accuracy: 0.6111\n",
            "Epoch 15/20\n",
            "39/39 [==============================] - 0s 8ms/step - loss: 0.0121 - accuracy: 0.9975 - val_loss: 1.2979 - val_accuracy: 0.6065\n",
            "Epoch 16/20\n",
            "39/39 [==============================] - 0s 8ms/step - loss: 0.0130 - accuracy: 0.9984 - val_loss: 1.3044 - val_accuracy: 0.6111\n",
            "Epoch 17/20\n",
            "39/39 [==============================] - 0s 8ms/step - loss: 0.0158 - accuracy: 0.9959 - val_loss: 1.3412 - val_accuracy: 0.6111\n",
            "Epoch 18/20\n",
            "39/39 [==============================] - 0s 8ms/step - loss: 0.0141 - accuracy: 0.9959 - val_loss: 1.3017 - val_accuracy: 0.6204\n",
            "Epoch 19/20\n",
            "39/39 [==============================] - 0s 9ms/step - loss: 0.0131 - accuracy: 0.9975 - val_loss: 1.3195 - val_accuracy: 0.6065\n",
            "Epoch 20/20\n",
            "39/39 [==============================] - 0s 7ms/step - loss: 0.0117 - accuracy: 0.9975 - val_loss: 1.3578 - val_accuracy: 0.6111\n"
          ]
        },
        {
          "output_type": "execute_result",
          "data": {
            "text/plain": [
              "<keras.callbacks.History at 0x7f39601bd910>"
            ]
          },
          "metadata": {},
          "execution_count": 31
        }
      ]
    }
  ],
  "metadata": {
    "kernelspec": {
      "display_name": "Python 3 (ipykernel)",
      "language": "python",
      "name": "python3"
    },
    "language_info": {
      "codemirror_mode": {
        "name": "ipython",
        "version": 3
      },
      "file_extension": ".py",
      "mimetype": "text/x-python",
      "name": "python",
      "nbconvert_exporter": "python",
      "pygments_lexer": "ipython3",
      "version": "3.8.11"
    },
    "colab": {
      "name": "neural net.ipynb",
      "provenance": [],
      "collapsed_sections": []
    },
    "accelerator": "GPU",
    "widgets": {
      "application/vnd.jupyter.widget-state+json": {
        "4677b729c6ab4237ab4345d8d3c9ada7": {
          "model_module": "@jupyter-widgets/controls",
          "model_name": "HBoxModel",
          "model_module_version": "1.5.0",
          "state": {
            "_dom_classes": [],
            "_model_module": "@jupyter-widgets/controls",
            "_model_module_version": "1.5.0",
            "_model_name": "HBoxModel",
            "_view_count": null,
            "_view_module": "@jupyter-widgets/controls",
            "_view_module_version": "1.5.0",
            "_view_name": "HBoxView",
            "box_style": "",
            "children": [
              "IPY_MODEL_6a139dc14b3445ebabc6d9a9f1daf720",
              "IPY_MODEL_e2b6911299d949f38891c4b7afdad721",
              "IPY_MODEL_f826ad9260534c0293145487b1c69d1e"
            ],
            "layout": "IPY_MODEL_71cd52facb504d3db4909c36390e802a"
          }
        },
        "6a139dc14b3445ebabc6d9a9f1daf720": {
          "model_module": "@jupyter-widgets/controls",
          "model_name": "HTMLModel",
          "model_module_version": "1.5.0",
          "state": {
            "_dom_classes": [],
            "_model_module": "@jupyter-widgets/controls",
            "_model_module_version": "1.5.0",
            "_model_name": "HTMLModel",
            "_view_count": null,
            "_view_module": "@jupyter-widgets/controls",
            "_view_module_version": "1.5.0",
            "_view_name": "HTMLView",
            "description": "",
            "description_tooltip": null,
            "layout": "IPY_MODEL_1f1fa18498e8435c9ddae3a2ad2b15f1",
            "placeholder": "​",
            "style": "IPY_MODEL_eeb83734567740daa46a3e763c2b6696",
            "value": "100%"
          }
        },
        "e2b6911299d949f38891c4b7afdad721": {
          "model_module": "@jupyter-widgets/controls",
          "model_name": "FloatProgressModel",
          "model_module_version": "1.5.0",
          "state": {
            "_dom_classes": [],
            "_model_module": "@jupyter-widgets/controls",
            "_model_module_version": "1.5.0",
            "_model_name": "FloatProgressModel",
            "_view_count": null,
            "_view_module": "@jupyter-widgets/controls",
            "_view_module_version": "1.5.0",
            "_view_name": "ProgressView",
            "bar_style": "success",
            "description": "",
            "description_tooltip": null,
            "layout": "IPY_MODEL_27928ed925164dea80c525ae802ee491",
            "max": 80,
            "min": 0,
            "orientation": "horizontal",
            "style": "IPY_MODEL_97f4a0a2a0514caca90387c176b074a8",
            "value": 80
          }
        },
        "f826ad9260534c0293145487b1c69d1e": {
          "model_module": "@jupyter-widgets/controls",
          "model_name": "HTMLModel",
          "model_module_version": "1.5.0",
          "state": {
            "_dom_classes": [],
            "_model_module": "@jupyter-widgets/controls",
            "_model_module_version": "1.5.0",
            "_model_name": "HTMLModel",
            "_view_count": null,
            "_view_module": "@jupyter-widgets/controls",
            "_view_module_version": "1.5.0",
            "_view_name": "HTMLView",
            "description": "",
            "description_tooltip": null,
            "layout": "IPY_MODEL_1507cfae10274087a967724271e312eb",
            "placeholder": "​",
            "style": "IPY_MODEL_f2e6b37f070f4b4dbf5569d8e047924e",
            "value": " 80/80 [17:08&lt;00:00, 13.73s/it]"
          }
        },
        "71cd52facb504d3db4909c36390e802a": {
          "model_module": "@jupyter-widgets/base",
          "model_name": "LayoutModel",
          "model_module_version": "1.2.0",
          "state": {
            "_model_module": "@jupyter-widgets/base",
            "_model_module_version": "1.2.0",
            "_model_name": "LayoutModel",
            "_view_count": null,
            "_view_module": "@jupyter-widgets/base",
            "_view_module_version": "1.2.0",
            "_view_name": "LayoutView",
            "align_content": null,
            "align_items": null,
            "align_self": null,
            "border": null,
            "bottom": null,
            "display": null,
            "flex": null,
            "flex_flow": null,
            "grid_area": null,
            "grid_auto_columns": null,
            "grid_auto_flow": null,
            "grid_auto_rows": null,
            "grid_column": null,
            "grid_gap": null,
            "grid_row": null,
            "grid_template_areas": null,
            "grid_template_columns": null,
            "grid_template_rows": null,
            "height": null,
            "justify_content": null,
            "justify_items": null,
            "left": null,
            "margin": null,
            "max_height": null,
            "max_width": null,
            "min_height": null,
            "min_width": null,
            "object_fit": null,
            "object_position": null,
            "order": null,
            "overflow": null,
            "overflow_x": null,
            "overflow_y": null,
            "padding": null,
            "right": null,
            "top": null,
            "visibility": null,
            "width": null
          }
        },
        "1f1fa18498e8435c9ddae3a2ad2b15f1": {
          "model_module": "@jupyter-widgets/base",
          "model_name": "LayoutModel",
          "model_module_version": "1.2.0",
          "state": {
            "_model_module": "@jupyter-widgets/base",
            "_model_module_version": "1.2.0",
            "_model_name": "LayoutModel",
            "_view_count": null,
            "_view_module": "@jupyter-widgets/base",
            "_view_module_version": "1.2.0",
            "_view_name": "LayoutView",
            "align_content": null,
            "align_items": null,
            "align_self": null,
            "border": null,
            "bottom": null,
            "display": null,
            "flex": null,
            "flex_flow": null,
            "grid_area": null,
            "grid_auto_columns": null,
            "grid_auto_flow": null,
            "grid_auto_rows": null,
            "grid_column": null,
            "grid_gap": null,
            "grid_row": null,
            "grid_template_areas": null,
            "grid_template_columns": null,
            "grid_template_rows": null,
            "height": null,
            "justify_content": null,
            "justify_items": null,
            "left": null,
            "margin": null,
            "max_height": null,
            "max_width": null,
            "min_height": null,
            "min_width": null,
            "object_fit": null,
            "object_position": null,
            "order": null,
            "overflow": null,
            "overflow_x": null,
            "overflow_y": null,
            "padding": null,
            "right": null,
            "top": null,
            "visibility": null,
            "width": null
          }
        },
        "eeb83734567740daa46a3e763c2b6696": {
          "model_module": "@jupyter-widgets/controls",
          "model_name": "DescriptionStyleModel",
          "model_module_version": "1.5.0",
          "state": {
            "_model_module": "@jupyter-widgets/controls",
            "_model_module_version": "1.5.0",
            "_model_name": "DescriptionStyleModel",
            "_view_count": null,
            "_view_module": "@jupyter-widgets/base",
            "_view_module_version": "1.2.0",
            "_view_name": "StyleView",
            "description_width": ""
          }
        },
        "27928ed925164dea80c525ae802ee491": {
          "model_module": "@jupyter-widgets/base",
          "model_name": "LayoutModel",
          "model_module_version": "1.2.0",
          "state": {
            "_model_module": "@jupyter-widgets/base",
            "_model_module_version": "1.2.0",
            "_model_name": "LayoutModel",
            "_view_count": null,
            "_view_module": "@jupyter-widgets/base",
            "_view_module_version": "1.2.0",
            "_view_name": "LayoutView",
            "align_content": null,
            "align_items": null,
            "align_self": null,
            "border": null,
            "bottom": null,
            "display": null,
            "flex": null,
            "flex_flow": null,
            "grid_area": null,
            "grid_auto_columns": null,
            "grid_auto_flow": null,
            "grid_auto_rows": null,
            "grid_column": null,
            "grid_gap": null,
            "grid_row": null,
            "grid_template_areas": null,
            "grid_template_columns": null,
            "grid_template_rows": null,
            "height": null,
            "justify_content": null,
            "justify_items": null,
            "left": null,
            "margin": null,
            "max_height": null,
            "max_width": null,
            "min_height": null,
            "min_width": null,
            "object_fit": null,
            "object_position": null,
            "order": null,
            "overflow": null,
            "overflow_x": null,
            "overflow_y": null,
            "padding": null,
            "right": null,
            "top": null,
            "visibility": null,
            "width": null
          }
        },
        "97f4a0a2a0514caca90387c176b074a8": {
          "model_module": "@jupyter-widgets/controls",
          "model_name": "ProgressStyleModel",
          "model_module_version": "1.5.0",
          "state": {
            "_model_module": "@jupyter-widgets/controls",
            "_model_module_version": "1.5.0",
            "_model_name": "ProgressStyleModel",
            "_view_count": null,
            "_view_module": "@jupyter-widgets/base",
            "_view_module_version": "1.2.0",
            "_view_name": "StyleView",
            "bar_color": null,
            "description_width": ""
          }
        },
        "1507cfae10274087a967724271e312eb": {
          "model_module": "@jupyter-widgets/base",
          "model_name": "LayoutModel",
          "model_module_version": "1.2.0",
          "state": {
            "_model_module": "@jupyter-widgets/base",
            "_model_module_version": "1.2.0",
            "_model_name": "LayoutModel",
            "_view_count": null,
            "_view_module": "@jupyter-widgets/base",
            "_view_module_version": "1.2.0",
            "_view_name": "LayoutView",
            "align_content": null,
            "align_items": null,
            "align_self": null,
            "border": null,
            "bottom": null,
            "display": null,
            "flex": null,
            "flex_flow": null,
            "grid_area": null,
            "grid_auto_columns": null,
            "grid_auto_flow": null,
            "grid_auto_rows": null,
            "grid_column": null,
            "grid_gap": null,
            "grid_row": null,
            "grid_template_areas": null,
            "grid_template_columns": null,
            "grid_template_rows": null,
            "height": null,
            "justify_content": null,
            "justify_items": null,
            "left": null,
            "margin": null,
            "max_height": null,
            "max_width": null,
            "min_height": null,
            "min_width": null,
            "object_fit": null,
            "object_position": null,
            "order": null,
            "overflow": null,
            "overflow_x": null,
            "overflow_y": null,
            "padding": null,
            "right": null,
            "top": null,
            "visibility": null,
            "width": null
          }
        },
        "f2e6b37f070f4b4dbf5569d8e047924e": {
          "model_module": "@jupyter-widgets/controls",
          "model_name": "DescriptionStyleModel",
          "model_module_version": "1.5.0",
          "state": {
            "_model_module": "@jupyter-widgets/controls",
            "_model_module_version": "1.5.0",
            "_model_name": "DescriptionStyleModel",
            "_view_count": null,
            "_view_module": "@jupyter-widgets/base",
            "_view_module_version": "1.2.0",
            "_view_name": "StyleView",
            "description_width": ""
          }
        }
      }
    }
  },
  "nbformat": 4,
  "nbformat_minor": 5
}