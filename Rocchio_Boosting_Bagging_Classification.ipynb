{
 "cells": [
  {
   "cell_type": "markdown",
   "metadata": {
    "id": "yGQXQMXaVgTO"
   },
   "source": [
    "# Steps to Do\n",
    "1. Remove Stop words (spacy tokenize, check stop words, rejoin sentences as string). Lower case, remove punctuation, (remove digits??). \n",
    "2. Count Vectorizer & Tfidf Transformer, Rocchio.\n",
    "3. K-Fold Training Accuracy, \n",
    "4. Predict Labels and submit on website.\n",
    "5. Also try Oversampling (SMOTE) "
   ]
  },
  {
   "cell_type": "markdown",
   "metadata": {
    "id": "f4kwXbCbm-d8"
   },
   "source": [
    "# Importing Libraries"
   ]
  },
  {
   "cell_type": "code",
   "execution_count": 2,
   "metadata": {
    "id": "XkThKAZ57uEg"
   },
   "outputs": [
    {
     "name": "stdout",
     "output_type": "stream",
     "text": [
      "Collecting spacy\n",
      "  Downloading spacy-3.3.0-cp38-cp38-win_amd64.whl (12.0 MB)\n",
      "Collecting pathy>=0.3.5\n",
      "  Downloading pathy-0.6.1-py3-none-any.whl (42 kB)\n",
      "Requirement already satisfied: requests<3.0.0,>=2.13.0 in d:\\anaconda3\\lib\\site-packages (from spacy) (2.25.1)\n",
      "Requirement already satisfied: numpy>=1.15.0 in d:\\anaconda3\\lib\\site-packages (from spacy) (1.20.1)\n",
      "Collecting preshed<3.1.0,>=3.0.2\n",
      "  Downloading preshed-3.0.6-cp38-cp38-win_amd64.whl (113 kB)\n",
      "Requirement already satisfied: setuptools in d:\\anaconda3\\lib\\site-packages (from spacy) (52.0.0.post20210125)\n",
      "Collecting spacy-loggers<2.0.0,>=1.0.0\n",
      "  Downloading spacy_loggers-1.0.2-py3-none-any.whl (7.2 kB)\n",
      "Collecting wasabi<1.1.0,>=0.9.1\n",
      "  Downloading wasabi-0.9.1-py3-none-any.whl (26 kB)\n",
      "Collecting thinc<8.1.0,>=8.0.14\n",
      "  Downloading thinc-8.0.15-cp38-cp38-win_amd64.whl (1.0 MB)\n",
      "Collecting catalogue<2.1.0,>=2.0.6\n",
      "  Downloading catalogue-2.0.7-py3-none-any.whl (17 kB)\n",
      "Requirement already satisfied: jinja2 in d:\\anaconda3\\lib\\site-packages (from spacy) (2.11.3)\n",
      "Requirement already satisfied: packaging>=20.0 in d:\\anaconda3\\lib\\site-packages (from spacy) (20.9)\n",
      "Collecting srsly<3.0.0,>=2.4.3\n",
      "  Downloading srsly-2.4.3-cp38-cp38-win_amd64.whl (448 kB)\n",
      "Requirement already satisfied: tqdm<5.0.0,>=4.38.0 in d:\\anaconda3\\lib\\site-packages (from spacy) (4.59.0)\n",
      "Collecting cymem<2.1.0,>=2.0.2\n",
      "  Downloading cymem-2.0.6-cp38-cp38-win_amd64.whl (36 kB)\n",
      "Collecting pydantic!=1.8,!=1.8.1,<1.9.0,>=1.7.4\n",
      "  Downloading pydantic-1.8.2-cp38-cp38-win_amd64.whl (2.0 MB)\n",
      "Collecting blis<0.8.0,>=0.4.0\n",
      "  Downloading blis-0.7.7-cp38-cp38-win_amd64.whl (6.6 MB)\n",
      "Collecting langcodes<4.0.0,>=3.2.0\n",
      "  Downloading langcodes-3.3.0-py3-none-any.whl (181 kB)\n",
      "Collecting spacy-legacy<3.1.0,>=3.0.9\n",
      "  Downloading spacy_legacy-3.0.9-py2.py3-none-any.whl (20 kB)\n",
      "Collecting typer<0.5.0,>=0.3.0\n",
      "  Downloading typer-0.4.1-py3-none-any.whl (27 kB)\n",
      "Collecting murmurhash<1.1.0,>=0.28.0\n",
      "  Downloading murmurhash-1.0.7-cp38-cp38-win_amd64.whl (18 kB)\n",
      "Requirement already satisfied: pyparsing>=2.0.2 in d:\\anaconda3\\lib\\site-packages (from packaging>=20.0->spacy) (2.4.7)\n",
      "Collecting smart-open<6.0.0,>=5.0.0\n",
      "  Downloading smart_open-5.2.1-py3-none-any.whl (58 kB)\n",
      "Requirement already satisfied: typing-extensions>=3.7.4.3 in d:\\anaconda3\\lib\\site-packages (from pydantic!=1.8,!=1.8.1,<1.9.0,>=1.7.4->spacy) (3.7.4.3)\n",
      "Requirement already satisfied: chardet<5,>=3.0.2 in d:\\anaconda3\\lib\\site-packages (from requests<3.0.0,>=2.13.0->spacy) (4.0.0)\n",
      "Requirement already satisfied: certifi>=2017.4.17 in d:\\anaconda3\\lib\\site-packages (from requests<3.0.0,>=2.13.0->spacy) (2020.12.5)\n",
      "Requirement already satisfied: urllib3<1.27,>=1.21.1 in d:\\anaconda3\\lib\\site-packages (from requests<3.0.0,>=2.13.0->spacy) (1.26.4)\n",
      "Requirement already satisfied: idna<3,>=2.5 in d:\\anaconda3\\lib\\site-packages (from requests<3.0.0,>=2.13.0->spacy) (2.10)\n",
      "Requirement already satisfied: click<9.0.0,>=7.1.1 in d:\\anaconda3\\lib\\site-packages (from typer<0.5.0,>=0.3.0->spacy) (7.1.2)\n",
      "Requirement already satisfied: MarkupSafe>=0.23 in d:\\anaconda3\\lib\\site-packages (from jinja2->spacy) (1.1.1)\n",
      "Installing collected packages: murmurhash, cymem, catalogue, wasabi, typer, srsly, smart-open, pydantic, preshed, blis, thinc, spacy-loggers, spacy-legacy, pathy, langcodes, spacy\n",
      "Successfully installed blis-0.7.7 catalogue-2.0.7 cymem-2.0.6 langcodes-3.3.0 murmurhash-1.0.7 pathy-0.6.1 preshed-3.0.6 pydantic-1.8.2 smart-open-5.2.1 spacy-3.3.0 spacy-legacy-3.0.9 spacy-loggers-1.0.2 srsly-2.4.3 thinc-8.0.15 typer-0.4.1 wasabi-0.9.1\n"
     ]
    }
   ],
   "source": [
    "#!pip install spacy\n",
    "import pandas as pd\n",
    "import numpy as np\n",
    "import time\n",
    "import re\n",
    "import spacy\n",
    "import random"
   ]
  },
  {
   "cell_type": "code",
   "execution_count": 7,
   "metadata": {},
   "outputs": [
    {
     "name": "stdout",
     "output_type": "stream",
     "text": [
      "Collecting en-core-web-sm==3.3.0\n",
      "  Downloading https://github.com/explosion/spacy-models/releases/download/en_core_web_sm-3.3.0/en_core_web_sm-3.3.0-py3-none-any.whl (12.8 MB)\n",
      "Requirement already satisfied: spacy<3.4.0,>=3.3.0.dev0 in d:\\anaconda3\\lib\\site-packages (from en-core-web-sm==3.3.0) (3.3.0)\n",
      "Requirement already satisfied: wasabi<1.1.0,>=0.9.1 in d:\\anaconda3\\lib\\site-packages (from spacy<3.4.0,>=3.3.0.dev0->en-core-web-sm==3.3.0) (0.9.1)\n",
      "Requirement already satisfied: srsly<3.0.0,>=2.4.3 in d:\\anaconda3\\lib\\site-packages (from spacy<3.4.0,>=3.3.0.dev0->en-core-web-sm==3.3.0) (2.4.3)\n",
      "Requirement already satisfied: catalogue<2.1.0,>=2.0.6 in d:\\anaconda3\\lib\\site-packages (from spacy<3.4.0,>=3.3.0.dev0->en-core-web-sm==3.3.0) (2.0.7)\n",
      "Requirement already satisfied: blis<0.8.0,>=0.4.0 in d:\\anaconda3\\lib\\site-packages (from spacy<3.4.0,>=3.3.0.dev0->en-core-web-sm==3.3.0) (0.7.7)\n",
      "Requirement already satisfied: preshed<3.1.0,>=3.0.2 in d:\\anaconda3\\lib\\site-packages (from spacy<3.4.0,>=3.3.0.dev0->en-core-web-sm==3.3.0) (3.0.6)\n",
      "Requirement already satisfied: langcodes<4.0.0,>=3.2.0 in d:\\anaconda3\\lib\\site-packages (from spacy<3.4.0,>=3.3.0.dev0->en-core-web-sm==3.3.0) (3.3.0)\n",
      "Requirement already satisfied: spacy-loggers<2.0.0,>=1.0.0 in d:\\anaconda3\\lib\\site-packages (from spacy<3.4.0,>=3.3.0.dev0->en-core-web-sm==3.3.0) (1.0.2)\n",
      "Requirement already satisfied: pydantic!=1.8,!=1.8.1,<1.9.0,>=1.7.4 in d:\\anaconda3\\lib\\site-packages (from spacy<3.4.0,>=3.3.0.dev0->en-core-web-sm==3.3.0) (1.8.2)\n",
      "Requirement already satisfied: murmurhash<1.1.0,>=0.28.0 in d:\\anaconda3\\lib\\site-packages (from spacy<3.4.0,>=3.3.0.dev0->en-core-web-sm==3.3.0) (1.0.7)\n",
      "Requirement already satisfied: numpy>=1.15.0 in d:\\anaconda3\\lib\\site-packages (from spacy<3.4.0,>=3.3.0.dev0->en-core-web-sm==3.3.0) (1.20.1)\n",
      "Requirement already satisfied: requests<3.0.0,>=2.13.0 in d:\\anaconda3\\lib\\site-packages (from spacy<3.4.0,>=3.3.0.dev0->en-core-web-sm==3.3.0) (2.25.1)\n",
      "Requirement already satisfied: thinc<8.1.0,>=8.0.14 in d:\\anaconda3\\lib\\site-packages (from spacy<3.4.0,>=3.3.0.dev0->en-core-web-sm==3.3.0) (8.0.15)\n",
      "Requirement already satisfied: typer<0.5.0,>=0.3.0 in d:\\anaconda3\\lib\\site-packages (from spacy<3.4.0,>=3.3.0.dev0->en-core-web-sm==3.3.0) (0.4.1)\n",
      "Requirement already satisfied: spacy-legacy<3.1.0,>=3.0.9 in d:\\anaconda3\\lib\\site-packages (from spacy<3.4.0,>=3.3.0.dev0->en-core-web-sm==3.3.0) (3.0.9)\n",
      "Requirement already satisfied: jinja2 in d:\\anaconda3\\lib\\site-packages (from spacy<3.4.0,>=3.3.0.dev0->en-core-web-sm==3.3.0) (2.11.3)\n",
      "Requirement already satisfied: packaging>=20.0 in d:\\anaconda3\\lib\\site-packages (from spacy<3.4.0,>=3.3.0.dev0->en-core-web-sm==3.3.0) (20.9)\n",
      "Requirement already satisfied: pathy>=0.3.5 in d:\\anaconda3\\lib\\site-packages (from spacy<3.4.0,>=3.3.0.dev0->en-core-web-sm==3.3.0) (0.6.1)\n",
      "Requirement already satisfied: setuptools in d:\\anaconda3\\lib\\site-packages (from spacy<3.4.0,>=3.3.0.dev0->en-core-web-sm==3.3.0) (52.0.0.post20210125)\n",
      "Requirement already satisfied: cymem<2.1.0,>=2.0.2 in d:\\anaconda3\\lib\\site-packages (from spacy<3.4.0,>=3.3.0.dev0->en-core-web-sm==3.3.0) (2.0.6)\n",
      "Requirement already satisfied: tqdm<5.0.0,>=4.38.0 in d:\\anaconda3\\lib\\site-packages (from spacy<3.4.0,>=3.3.0.dev0->en-core-web-sm==3.3.0) (4.59.0)\n",
      "Requirement already satisfied: pyparsing>=2.0.2 in d:\\anaconda3\\lib\\site-packages (from packaging>=20.0->spacy<3.4.0,>=3.3.0.dev0->en-core-web-sm==3.3.0) (2.4.7)\n",
      "Requirement already satisfied: smart-open<6.0.0,>=5.0.0 in d:\\anaconda3\\lib\\site-packages (from pathy>=0.3.5->spacy<3.4.0,>=3.3.0.dev0->en-core-web-sm==3.3.0) (5.2.1)\n",
      "Requirement already satisfied: typing-extensions>=3.7.4.3 in d:\\anaconda3\\lib\\site-packages (from pydantic!=1.8,!=1.8.1,<1.9.0,>=1.7.4->spacy<3.4.0,>=3.3.0.dev0->en-core-web-sm==3.3.0) (3.7.4.3)\n",
      "Requirement already satisfied: urllib3<1.27,>=1.21.1 in d:\\anaconda3\\lib\\site-packages (from requests<3.0.0,>=2.13.0->spacy<3.4.0,>=3.3.0.dev0->en-core-web-sm==3.3.0) (1.26.4)\n",
      "Requirement already satisfied: certifi>=2017.4.17 in d:\\anaconda3\\lib\\site-packages (from requests<3.0.0,>=2.13.0->spacy<3.4.0,>=3.3.0.dev0->en-core-web-sm==3.3.0) (2020.12.5)\n",
      "Requirement already satisfied: idna<3,>=2.5 in d:\\anaconda3\\lib\\site-packages (from requests<3.0.0,>=2.13.0->spacy<3.4.0,>=3.3.0.dev0->en-core-web-sm==3.3.0) (2.10)\n",
      "Requirement already satisfied: chardet<5,>=3.0.2 in d:\\anaconda3\\lib\\site-packages (from requests<3.0.0,>=2.13.0->spacy<3.4.0,>=3.3.0.dev0->en-core-web-sm==3.3.0) (4.0.0)\n",
      "Requirement already satisfied: click<9.0.0,>=7.1.1 in d:\\anaconda3\\lib\\site-packages (from typer<0.5.0,>=0.3.0->spacy<3.4.0,>=3.3.0.dev0->en-core-web-sm==3.3.0) (7.1.2)\n",
      "Requirement already satisfied: MarkupSafe>=0.23 in d:\\anaconda3\\lib\\site-packages (from jinja2->spacy<3.4.0,>=3.3.0.dev0->en-core-web-sm==3.3.0) (1.1.1)\n",
      "Installing collected packages: en-core-web-sm\n",
      "Successfully installed en-core-web-sm-3.3.0\n",
      "[+] Download and installation successful\n",
      "You can now load the package via spacy.load('en_core_web_sm')\n"
     ]
    },
    {
     "name": "stderr",
     "output_type": "stream",
     "text": [
      "2022-05-02 16:40:11.533933: W tensorflow/stream_executor/platform/default/dso_loader.cc:64] Could not load dynamic library 'cudart64_110.dll'; dlerror: cudart64_110.dll not found\n",
      "2022-05-02 16:40:11.534006: I tensorflow/stream_executor/cuda/cudart_stub.cc:29] Ignore above cudart dlerror if you do not have a GPU set up on your machine.\n"
     ]
    }
   ],
   "source": [
    "!python -m spacy download en_core_web_sm"
   ]
  },
  {
   "cell_type": "code",
   "execution_count": 8,
   "metadata": {
    "id": "bfMq0D84m9yn"
   },
   "outputs": [],
   "source": [
    "nlp_spacy = spacy.load('en_core_web_sm')"
   ]
  },
  {
   "cell_type": "code",
   "execution_count": 9,
   "metadata": {
    "colab": {
     "base_uri": "https://localhost:8080/"
    },
    "id": "IUUxM_gbHEwV",
    "outputId": "fa6603b1-105c-4641-b8cc-f4d80dc159ca"
   },
   "outputs": [
    {
     "name": "stdout",
     "output_type": "stream",
     "text": [
      "326\n"
     ]
    }
   ],
   "source": [
    "english_stop_words = nlp_spacy.Defaults.stop_words\n",
    "print(len(english_stop_words))"
   ]
  },
  {
   "cell_type": "code",
   "execution_count": 4,
   "metadata": {
    "colab": {
     "base_uri": "https://localhost:8080/",
     "height": 36
    },
    "id": "Q3y2mK6xl74q",
    "outputId": "5abc79f0-abc5-426f-df76-9a9eb2d4dd97"
   },
   "outputs": [
    {
     "data": {
      "application/vnd.google.colaboratory.intrinsic+json": {
       "type": "string"
      },
      "text/plain": [
       "\"import nltk\\nnltk.download('stopwords')\""
      ]
     },
     "execution_count": 4,
     "metadata": {},
     "output_type": "execute_result"
    }
   ],
   "source": [
    "\"\"\"import nltk\n",
    "nltk.download('stopwords')\"\"\""
   ]
  },
  {
   "cell_type": "code",
   "execution_count": 5,
   "metadata": {
    "colab": {
     "base_uri": "https://localhost:8080/",
     "height": 53
    },
    "id": "p9iikKvLmJ2-",
    "outputId": "10440a6a-2d67-4aea-b300-f4bb5283e8ff"
   },
   "outputs": [
    {
     "data": {
      "application/vnd.google.colaboratory.intrinsic+json": {
       "type": "string"
      },
      "text/plain": [
       "\"from nltk.tokenize import sent_tokenize, word_tokenize\\nfrom nltk.corpus import stopwords\\nenglish_stop_words = stopwords.words('english')\\nprint(english_stop_words)\""
      ]
     },
     "execution_count": 5,
     "metadata": {},
     "output_type": "execute_result"
    }
   ],
   "source": [
    "\"\"\"from nltk.tokenize import sent_tokenize, word_tokenize\n",
    "from nltk.corpus import stopwords\n",
    "english_stop_words = stopwords.words('english')\n",
    "print(english_stop_words)\"\"\"\n"
   ]
  },
  {
   "cell_type": "markdown",
   "metadata": {
    "id": "_8RVBMygnAc3"
   },
   "source": [
    "# Reading Datasets"
   ]
  },
  {
   "cell_type": "code",
   "execution_count": 10,
   "metadata": {
    "colab": {
     "base_uri": "https://localhost:8080/",
     "height": 588
    },
    "id": "7UE8YyK3VOUr",
    "outputId": "a1ebee7f-2831-4fcf-eaba-5b3d542acde1"
   },
   "outputs": [
    {
     "name": "stdout",
     "output_type": "stream",
     "text": [
      "(1436, 3)\n",
      "POLITICS                279\n",
      "SOCIAL                  152\n",
      "RELIGION                147\n",
      "LAW/ORDER               136\n",
      "SOCIAL ISSUES           134\n",
      "HEALTH                  127\n",
      "ECONOMY                  86\n",
      "FARMING                  78\n",
      "SPORTS                   49\n",
      "EDUCATION                43\n",
      "RELATIONSHIPS            39\n",
      "WILDLIFE/ENVIRONMENT     36\n",
      "OPINION/ESSAY            26\n",
      "LOCALCHIEFS              25\n",
      "CULTURE                  23\n",
      "WITCHCRAFT               16\n",
      "MUSIC                    15\n",
      "TRANSPORT                11\n",
      "ARTS AND CRAFTS           7\n",
      "FLOODING                  7\n",
      "Name: Label, dtype: int64\n"
     ]
    },
    {
     "data": {
      "text/html": [
       "<div>\n",
       "<style scoped>\n",
       "    .dataframe tbody tr th:only-of-type {\n",
       "        vertical-align: middle;\n",
       "    }\n",
       "\n",
       "    .dataframe tbody tr th {\n",
       "        vertical-align: top;\n",
       "    }\n",
       "\n",
       "    .dataframe thead th {\n",
       "        text-align: right;\n",
       "    }\n",
       "</style>\n",
       "<table border=\"1\" class=\"dataframe\">\n",
       "  <thead>\n",
       "    <tr style=\"text-align: right;\">\n",
       "      <th></th>\n",
       "      <th>ID</th>\n",
       "      <th>Text</th>\n",
       "      <th>Label</th>\n",
       "    </tr>\n",
       "  </thead>\n",
       "  <tbody>\n",
       "    <tr>\n",
       "      <th>0</th>\n",
       "      <td>ID_AASHwXxg</td>\n",
       "      <td>Mwangonde: Khansala wachinyamata Akamati achi...</td>\n",
       "      <td>POLITICS</td>\n",
       "    </tr>\n",
       "    <tr>\n",
       "      <th>1</th>\n",
       "      <td>ID_AGoFySzn</td>\n",
       "      <td>MCP siidakhutire ndi kalembera Chipani cha Ma...</td>\n",
       "      <td>POLITICS</td>\n",
       "    </tr>\n",
       "    <tr>\n",
       "      <th>2</th>\n",
       "      <td>ID_AGrrkBGP</td>\n",
       "      <td>Bungwe la MANEPO Lapempha Boma Liganizire Anth...</td>\n",
       "      <td>HEALTH</td>\n",
       "    </tr>\n",
       "    <tr>\n",
       "      <th>3</th>\n",
       "      <td>ID_AIJeigeG</td>\n",
       "      <td>Ndale zogawanitsa miyambo zanyanya Si zachile...</td>\n",
       "      <td>POLITICS</td>\n",
       "    </tr>\n",
       "    <tr>\n",
       "      <th>4</th>\n",
       "      <td>ID_APMprMbV</td>\n",
       "      <td>Nanga wapolisi ataphofomoka? Masiku ano sichi...</td>\n",
       "      <td>LAW/ORDER</td>\n",
       "    </tr>\n",
       "  </tbody>\n",
       "</table>\n",
       "</div>"
      ],
      "text/plain": [
       "            ID                                               Text      Label\n",
       "0  ID_AASHwXxg   Mwangonde: Khansala wachinyamata Akamati achi...   POLITICS\n",
       "1  ID_AGoFySzn   MCP siidakhutire ndi kalembera Chipani cha Ma...   POLITICS\n",
       "2  ID_AGrrkBGP  Bungwe la MANEPO Lapempha Boma Liganizire Anth...     HEALTH\n",
       "3  ID_AIJeigeG   Ndale zogawanitsa miyambo zanyanya Si zachile...   POLITICS\n",
       "4  ID_APMprMbV   Nanga wapolisi ataphofomoka? Masiku ano sichi...  LAW/ORDER"
      ]
     },
     "execution_count": 10,
     "metadata": {},
     "output_type": "execute_result"
    }
   ],
   "source": [
    "#train_df = pd.read_csv(\"/content/drive/MyDrive/CS 505 Project/Train.csv\")\n",
    "train_df = pd.read_csv('Train.csv')\n",
    "print(train_df.shape)\n",
    "print(train_df.Label.value_counts())\n",
    "train_df.head()"
   ]
  },
  {
   "cell_type": "code",
   "execution_count": 11,
   "metadata": {
    "colab": {
     "base_uri": "https://localhost:8080/",
     "height": 223
    },
    "id": "tH_LxpZWYvJs",
    "outputId": "b3dbfeb8-df2c-4e2a-f9fa-9de38e4df51d"
   },
   "outputs": [
    {
     "name": "stdout",
     "output_type": "stream",
     "text": [
      "(620, 2)\n"
     ]
    },
    {
     "data": {
      "text/html": [
       "<div>\n",
       "<style scoped>\n",
       "    .dataframe tbody tr th:only-of-type {\n",
       "        vertical-align: middle;\n",
       "    }\n",
       "\n",
       "    .dataframe tbody tr th {\n",
       "        vertical-align: top;\n",
       "    }\n",
       "\n",
       "    .dataframe thead th {\n",
       "        text-align: right;\n",
       "    }\n",
       "</style>\n",
       "<table border=\"1\" class=\"dataframe\">\n",
       "  <thead>\n",
       "    <tr style=\"text-align: right;\">\n",
       "      <th></th>\n",
       "      <th>ID</th>\n",
       "      <th>Text</th>\n",
       "    </tr>\n",
       "  </thead>\n",
       "  <tbody>\n",
       "    <tr>\n",
       "      <th>0</th>\n",
       "      <td>ID_ADHEtjTi</td>\n",
       "      <td>Abambo odzikhweza akuchuluka Kafukufuku wa ap...</td>\n",
       "    </tr>\n",
       "    <tr>\n",
       "      <th>1</th>\n",
       "      <td>ID_AHfJktdQ</td>\n",
       "      <td>Ambuye Ziyaye Ayamikira Aphunzitsi a Tilitonse...</td>\n",
       "    </tr>\n",
       "    <tr>\n",
       "      <th>2</th>\n",
       "      <td>ID_AUJIHpZr</td>\n",
       "      <td>Anatcheleza: Akundiopseza a gogo wanga Akundi...</td>\n",
       "    </tr>\n",
       "    <tr>\n",
       "      <th>3</th>\n",
       "      <td>ID_AUKYBbIM</td>\n",
       "      <td>Ulova wafika posauzana Adatenga digiri ya uph...</td>\n",
       "    </tr>\n",
       "    <tr>\n",
       "      <th>4</th>\n",
       "      <td>ID_AZnsVPEi</td>\n",
       "      <td>Dzombe kukoma, koma Kuyambira makedzana, pant...</td>\n",
       "    </tr>\n",
       "  </tbody>\n",
       "</table>\n",
       "</div>"
      ],
      "text/plain": [
       "            ID                                               Text\n",
       "0  ID_ADHEtjTi   Abambo odzikhweza akuchuluka Kafukufuku wa ap...\n",
       "1  ID_AHfJktdQ  Ambuye Ziyaye Ayamikira Aphunzitsi a Tilitonse...\n",
       "2  ID_AUJIHpZr   Anatcheleza: Akundiopseza a gogo wanga Akundi...\n",
       "3  ID_AUKYBbIM   Ulova wafika posauzana Adatenga digiri ya uph...\n",
       "4  ID_AZnsVPEi   Dzombe kukoma, koma Kuyambira makedzana, pant..."
      ]
     },
     "execution_count": 11,
     "metadata": {},
     "output_type": "execute_result"
    }
   ],
   "source": [
    "#test_df = pd.read_csv(\"/content/drive/MyDrive/CS 505 Project/Test.csv\")\n",
    "test_df = pd.read_csv('Test.csv')\n",
    "print(test_df.shape)\n",
    "test_df.head()"
   ]
  },
  {
   "cell_type": "code",
   "execution_count": 12,
   "metadata": {
    "colab": {
     "base_uri": "https://localhost:8080/",
     "height": 223
    },
    "id": "d-eIdVHXYvNN",
    "outputId": "fd094de6-7490-4556-90a5-0760b6167a19"
   },
   "outputs": [
    {
     "name": "stdout",
     "output_type": "stream",
     "text": [
      "(1000, 3)\n"
     ]
    },
    {
     "data": {
      "text/html": [
       "<div>\n",
       "<style scoped>\n",
       "    .dataframe tbody tr th:only-of-type {\n",
       "        vertical-align: middle;\n",
       "    }\n",
       "\n",
       "    .dataframe tbody tr th {\n",
       "        vertical-align: top;\n",
       "    }\n",
       "\n",
       "    .dataframe thead th {\n",
       "        text-align: right;\n",
       "    }\n",
       "</style>\n",
       "<table border=\"1\" class=\"dataframe\">\n",
       "  <thead>\n",
       "    <tr style=\"text-align: right;\">\n",
       "      <th></th>\n",
       "      <th>Number</th>\n",
       "      <th>Chichewa</th>\n",
       "      <th>in English</th>\n",
       "    </tr>\n",
       "  </thead>\n",
       "  <tbody>\n",
       "    <tr>\n",
       "      <th>0</th>\n",
       "      <td>1</td>\n",
       "      <td>monga</td>\n",
       "      <td>as</td>\n",
       "    </tr>\n",
       "    <tr>\n",
       "      <th>1</th>\n",
       "      <td>2</td>\n",
       "      <td>ine</td>\n",
       "      <td>I</td>\n",
       "    </tr>\n",
       "    <tr>\n",
       "      <th>2</th>\n",
       "      <td>3</td>\n",
       "      <td>wake</td>\n",
       "      <td>his</td>\n",
       "    </tr>\n",
       "    <tr>\n",
       "      <th>3</th>\n",
       "      <td>4</td>\n",
       "      <td>kuti</td>\n",
       "      <td>that</td>\n",
       "    </tr>\n",
       "    <tr>\n",
       "      <th>4</th>\n",
       "      <td>5</td>\n",
       "      <td>iye</td>\n",
       "      <td>he</td>\n",
       "    </tr>\n",
       "  </tbody>\n",
       "</table>\n",
       "</div>"
      ],
      "text/plain": [
       "   Number Chichewa in English\n",
       "0       1    monga         as\n",
       "1       2      ine          I\n",
       "2       3     wake        his\n",
       "3       4     kuti       that\n",
       "4       5      iye         he"
      ]
     },
     "execution_count": 12,
     "metadata": {},
     "output_type": "execute_result"
    }
   ],
   "source": [
    "#stop_df = pd.read_csv(\"/content/drive/MyDrive/CS 505 Project/stopwords.csv\")\n",
    "stop_df = pd.read_csv('stopwords.csv')\n",
    "print(stop_df.shape)\n",
    "stop_df.head()"
   ]
  },
  {
   "cell_type": "code",
   "execution_count": 8,
   "metadata": {
    "id": "Kl_9OjD_v6xo"
   },
   "outputs": [],
   "source": []
  },
  {
   "cell_type": "markdown",
   "metadata": {
    "id": "ZatXKifRnAXs"
   },
   "source": [
    "# Pre-processing"
   ]
  },
  {
   "cell_type": "code",
   "execution_count": 13,
   "metadata": {
    "id": "_wiYaCiNZQJj"
   },
   "outputs": [],
   "source": [
    "chichewa_stop_words = dict(zip(stop_df[\"Chichewa\"], stop_df[\"in English\"]))"
   ]
  },
  {
   "cell_type": "code",
   "execution_count": 14,
   "metadata": {
    "colab": {
     "base_uri": "https://localhost:8080/"
    },
    "id": "m3yyU_csZbiC",
    "outputId": "27dfd234-3171-436f-c2ab-247e90748fc5"
   },
   "outputs": [
    {
     "data": {
      "text/plain": [
       "[('unit', 'unit'),\n",
       " ('m’ma', 'century'),\n",
       " ('wakale', 'old'),\n",
       " ('malonda', 'trade'),\n",
       " ('led', 'led')]"
      ]
     },
     "execution_count": 14,
     "metadata": {},
     "output_type": "execute_result"
    }
   ],
   "source": [
    "random.sample(list(chichewa_stop_words.items()),5)"
   ]
  },
  {
   "cell_type": "code",
   "execution_count": 15,
   "metadata": {
    "id": "Nqv8L0F1Zr3C"
   },
   "outputs": [],
   "source": [
    "# Lower Cased, keep only ASCII characters, tokenized, remove punctuation, remove stop words, removed digits\n",
    "\n",
    "def preprocess(text):\n",
    "  #print(\"Original\",text)\n",
    "\n",
    "  text_2 = text.lower()\n",
    "\n",
    "  # keep only ascii characters\n",
    "  text_3 = re.sub(r\"[^a-zA-ZÀ-ÿ]\", \" \", text_2)\n",
    "\n",
    "  #print(\"ASCII,LOWER-\",text_3)\n",
    "\n",
    "  spacy_object = nlp_spacy(text_3)\n",
    "  sentences = list(spacy_object.sents) \n",
    "  tokens = []\n",
    "  for sentence in sentences:\n",
    "    for token in sentence:\n",
    "      if not(token.is_punct): #and token.isdigit()):\n",
    "        if token.text in chichewa_stop_words.keys():\n",
    "          #print(\"Dictionary used\")\n",
    "          if not (chichewa_stop_words[token.text] in english_stop_words):  #is_stop:\n",
    "            #tk = token.text.lower()\n",
    "            #tokens.append(tk)\n",
    "            tokens.append(token.text)  \n",
    "          #else:\n",
    "            #print(\"Stop Word Removed\",token.text,\"--\",chichewa_stop_words[token.text])\n",
    "        else:\n",
    "          #tk = token.text.lower()\n",
    "          #tokens.append(tk)\n",
    "          tokens.append(token.text)\n",
    "\n",
    "  tokenized = \" \".join(tokens)\n",
    "  result = ''.join([i for i in tokenized if not i.isdigit()])\n",
    "  \n",
    "  #print(\"\\nFINAL\")\n",
    "  #print(\" \".join(tokens))\n",
    "  #print(\"\\n\")\n",
    "  \n",
    "  return result"
   ]
  },
  {
   "cell_type": "code",
   "execution_count": 16,
   "metadata": {
    "colab": {
     "base_uri": "https://localhost:8080/",
     "height": 424
    },
    "id": "ukemOstKZsU2",
    "outputId": "9631fac1-7e5e-401e-d474-abe7e2cea9df"
   },
   "outputs": [
    {
     "data": {
      "text/html": [
       "<div>\n",
       "<style scoped>\n",
       "    .dataframe tbody tr th:only-of-type {\n",
       "        vertical-align: middle;\n",
       "    }\n",
       "\n",
       "    .dataframe tbody tr th {\n",
       "        vertical-align: top;\n",
       "    }\n",
       "\n",
       "    .dataframe thead th {\n",
       "        text-align: right;\n",
       "    }\n",
       "</style>\n",
       "<table border=\"1\" class=\"dataframe\">\n",
       "  <thead>\n",
       "    <tr style=\"text-align: right;\">\n",
       "      <th></th>\n",
       "      <th>ID</th>\n",
       "      <th>Text</th>\n",
       "      <th>Label</th>\n",
       "    </tr>\n",
       "  </thead>\n",
       "  <tbody>\n",
       "    <tr>\n",
       "      <th>0</th>\n",
       "      <td>ID_AASHwXxg</td>\n",
       "      <td>mwangonde   khansala wachinyamata akamati ac...</td>\n",
       "      <td>POLITICS</td>\n",
       "    </tr>\n",
       "    <tr>\n",
       "      <th>1</th>\n",
       "      <td>ID_AGoFySzn</td>\n",
       "      <td>mcp siidakhutire kalembera chipani cha malaw...</td>\n",
       "      <td>POLITICS</td>\n",
       "    </tr>\n",
       "    <tr>\n",
       "      <th>2</th>\n",
       "      <td>ID_AGrrkBGP</td>\n",
       "      <td>bungwe la manepo lapempha boma liganizire anth...</td>\n",
       "      <td>HEALTH</td>\n",
       "    </tr>\n",
       "    <tr>\n",
       "      <th>3</th>\n",
       "      <td>ID_AIJeigeG</td>\n",
       "      <td>ndale zogawanitsa miyambo zanyanya si zachil...</td>\n",
       "      <td>POLITICS</td>\n",
       "    </tr>\n",
       "    <tr>\n",
       "      <th>4</th>\n",
       "      <td>ID_APMprMbV</td>\n",
       "      <td>nanga wapolisi ataphofomoka   masiku ano sic...</td>\n",
       "      <td>LAW/ORDER</td>\n",
       "    </tr>\n",
       "    <tr>\n",
       "      <th>...</th>\n",
       "      <td>...</td>\n",
       "      <td>...</td>\n",
       "      <td>...</td>\n",
       "    </tr>\n",
       "    <tr>\n",
       "      <th>1431</th>\n",
       "      <td>ID_zmTmmEio</td>\n",
       "      <td>eni minibus ati ali ufulu wokweza mitengo mwa ...</td>\n",
       "      <td>TRANSPORT</td>\n",
       "    </tr>\n",
       "    <tr>\n",
       "      <th>1432</th>\n",
       "      <td>ID_znOlIaGQ</td>\n",
       "      <td>kachali apepesa   kulankhula motumbwa kuthe ...</td>\n",
       "      <td>POLITICS</td>\n",
       "    </tr>\n",
       "    <tr>\n",
       "      <th>1433</th>\n",
       "      <td>ID_znracTjN</td>\n",
       "      <td>mawu supports non fiction writers the malawi...</td>\n",
       "      <td>EDUCATION</td>\n",
       "    </tr>\n",
       "    <tr>\n",
       "      <th>1434</th>\n",
       "      <td>ID_ztdsmmva</td>\n",
       "      <td>tame mwawa   phwete ndiye kudya kwake sewero...</td>\n",
       "      <td>SOCIAL ISSUES</td>\n",
       "    </tr>\n",
       "    <tr>\n",
       "      <th>1435</th>\n",
       "      <td>ID_zteydTpN</td>\n",
       "      <td>pac iunguza boma la chifedulo nthumwi zomwe ...</td>\n",
       "      <td>POLITICS</td>\n",
       "    </tr>\n",
       "  </tbody>\n",
       "</table>\n",
       "<p>1436 rows × 3 columns</p>\n",
       "</div>"
      ],
      "text/plain": [
       "               ID                                               Text  \\\n",
       "0     ID_AASHwXxg    mwangonde   khansala wachinyamata akamati ac...   \n",
       "1     ID_AGoFySzn    mcp siidakhutire kalembera chipani cha malaw...   \n",
       "2     ID_AGrrkBGP  bungwe la manepo lapempha boma liganizire anth...   \n",
       "3     ID_AIJeigeG    ndale zogawanitsa miyambo zanyanya si zachil...   \n",
       "4     ID_APMprMbV    nanga wapolisi ataphofomoka   masiku ano sic...   \n",
       "...           ...                                                ...   \n",
       "1431  ID_zmTmmEio  eni minibus ati ali ufulu wokweza mitengo mwa ...   \n",
       "1432  ID_znOlIaGQ    kachali apepesa   kulankhula motumbwa kuthe ...   \n",
       "1433  ID_znracTjN    mawu supports non fiction writers the malawi...   \n",
       "1434  ID_ztdsmmva    tame mwawa   phwete ndiye kudya kwake sewero...   \n",
       "1435  ID_zteydTpN    pac iunguza boma la chifedulo nthumwi zomwe ...   \n",
       "\n",
       "              Label  \n",
       "0          POLITICS  \n",
       "1          POLITICS  \n",
       "2            HEALTH  \n",
       "3          POLITICS  \n",
       "4         LAW/ORDER  \n",
       "...             ...  \n",
       "1431      TRANSPORT  \n",
       "1432       POLITICS  \n",
       "1433      EDUCATION  \n",
       "1434  SOCIAL ISSUES  \n",
       "1435       POLITICS  \n",
       "\n",
       "[1436 rows x 3 columns]"
      ]
     },
     "execution_count": 16,
     "metadata": {},
     "output_type": "execute_result"
    }
   ],
   "source": [
    "train_df_2 = train_df.copy()\n",
    "train_df_2.Text = train_df.Text.apply(preprocess)\n",
    "train_df_2"
   ]
  },
  {
   "cell_type": "code",
   "execution_count": 17,
   "metadata": {
    "colab": {
     "base_uri": "https://localhost:8080/",
     "height": 424
    },
    "id": "fttIQ2yTZsVp",
    "outputId": "3cbc9c1c-c7ee-49d4-9de4-0d78b8e60a3f"
   },
   "outputs": [
    {
     "data": {
      "text/html": [
       "<div>\n",
       "<style scoped>\n",
       "    .dataframe tbody tr th:only-of-type {\n",
       "        vertical-align: middle;\n",
       "    }\n",
       "\n",
       "    .dataframe tbody tr th {\n",
       "        vertical-align: top;\n",
       "    }\n",
       "\n",
       "    .dataframe thead th {\n",
       "        text-align: right;\n",
       "    }\n",
       "</style>\n",
       "<table border=\"1\" class=\"dataframe\">\n",
       "  <thead>\n",
       "    <tr style=\"text-align: right;\">\n",
       "      <th></th>\n",
       "      <th>ID</th>\n",
       "      <th>Text</th>\n",
       "    </tr>\n",
       "  </thead>\n",
       "  <tbody>\n",
       "    <tr>\n",
       "      <th>0</th>\n",
       "      <td>ID_ADHEtjTi</td>\n",
       "      <td>abambo odzikhweza akuchuluka kafukufuku wa a...</td>\n",
       "    </tr>\n",
       "    <tr>\n",
       "      <th>1</th>\n",
       "      <td>ID_AHfJktdQ</td>\n",
       "      <td>ambuye ziyaye ayamikira aphunzitsi tilitonse a...</td>\n",
       "    </tr>\n",
       "    <tr>\n",
       "      <th>2</th>\n",
       "      <td>ID_AUJIHpZr</td>\n",
       "      <td>anatcheleza   akundiopseza gogo akundiopseza...</td>\n",
       "    </tr>\n",
       "    <tr>\n",
       "      <th>3</th>\n",
       "      <td>ID_AUKYBbIM</td>\n",
       "      <td>ulova wafika posauzana adatenga digiri ya up...</td>\n",
       "    </tr>\n",
       "    <tr>\n",
       "      <th>4</th>\n",
       "      <td>ID_AZnsVPEi</td>\n",
       "      <td>dzombe kukoma   kuyambira makedzana   pantha...</td>\n",
       "    </tr>\n",
       "    <tr>\n",
       "      <th>...</th>\n",
       "      <td>...</td>\n",
       "      <td>...</td>\n",
       "    </tr>\n",
       "    <tr>\n",
       "      <th>615</th>\n",
       "      <td>ID_zdpOUWyJ</td>\n",
       "      <td>kanyongolo wapempha oyimira milandu atsate mal...</td>\n",
       "    </tr>\n",
       "    <tr>\n",
       "      <th>616</th>\n",
       "      <td>ID_zhnOomuu</td>\n",
       "      <td>amandimenya   zikomo gogo    mtsikana wa zaka ...</td>\n",
       "    </tr>\n",
       "    <tr>\n",
       "      <th>617</th>\n",
       "      <td>ID_zmWHvBJb</td>\n",
       "      <td>apolisi athotha gulu la myp asilikali     gu...</td>\n",
       "    </tr>\n",
       "    <tr>\n",
       "      <th>618</th>\n",
       "      <td>ID_zphjdFIb</td>\n",
       "      <td>mwambo wa ukwati wa chitonga mtundu wina uli...</td>\n",
       "    </tr>\n",
       "    <tr>\n",
       "      <th>619</th>\n",
       "      <td>ID_ztdtrNxt</td>\n",
       "      <td>mwapasa autsa mapiri pali kusamvana pakati a...</td>\n",
       "    </tr>\n",
       "  </tbody>\n",
       "</table>\n",
       "<p>620 rows × 2 columns</p>\n",
       "</div>"
      ],
      "text/plain": [
       "              ID                                               Text\n",
       "0    ID_ADHEtjTi    abambo odzikhweza akuchuluka kafukufuku wa a...\n",
       "1    ID_AHfJktdQ  ambuye ziyaye ayamikira aphunzitsi tilitonse a...\n",
       "2    ID_AUJIHpZr    anatcheleza   akundiopseza gogo akundiopseza...\n",
       "3    ID_AUKYBbIM    ulova wafika posauzana adatenga digiri ya up...\n",
       "4    ID_AZnsVPEi    dzombe kukoma   kuyambira makedzana   pantha...\n",
       "..           ...                                                ...\n",
       "615  ID_zdpOUWyJ  kanyongolo wapempha oyimira milandu atsate mal...\n",
       "616  ID_zhnOomuu  amandimenya   zikomo gogo    mtsikana wa zaka ...\n",
       "617  ID_zmWHvBJb    apolisi athotha gulu la myp asilikali     gu...\n",
       "618  ID_zphjdFIb    mwambo wa ukwati wa chitonga mtundu wina uli...\n",
       "619  ID_ztdtrNxt    mwapasa autsa mapiri pali kusamvana pakati a...\n",
       "\n",
       "[620 rows x 2 columns]"
      ]
     },
     "execution_count": 17,
     "metadata": {},
     "output_type": "execute_result"
    }
   ],
   "source": [
    "test_df_2 = test_df.copy()\n",
    "test_df_2.Text = test_df.Text.apply(preprocess)\n",
    "test_df_2"
   ]
  },
  {
   "cell_type": "markdown",
   "metadata": {
    "id": "y4Is1A1hu7u3"
   },
   "source": [
    "# Rocchio (Website Score:- 0.6387) \n",
    "0.6419"
   ]
  },
  {
   "cell_type": "code",
   "execution_count": 18,
   "metadata": {
    "id": "1GWfeeE_u9GW"
   },
   "outputs": [],
   "source": [
    "from sklearn.neighbors import NearestCentroid\n",
    "from sklearn.pipeline import Pipeline\n",
    "from sklearn import metrics\n",
    "from sklearn.feature_extraction.text import CountVectorizer\n",
    "from sklearn.feature_extraction.text import TfidfTransformer"
   ]
  },
  {
   "cell_type": "code",
   "execution_count": 19,
   "metadata": {
    "colab": {
     "base_uri": "https://localhost:8080/"
    },
    "id": "lYarPn8xvEbo",
    "outputId": "f70eb73c-38cc-4965-8d1e-1772fd383bab"
   },
   "outputs": [
    {
     "name": "stdout",
     "output_type": "stream",
     "text": [
      "(1436,) (620,) (1436,)\n"
     ]
    }
   ],
   "source": [
    "X_train = train_df_2.Text\n",
    "X_test = test_df_2.Text\n",
    "y_train = train_df_2.Label\n",
    "print(X_train.shape,X_test.shape,y_train.shape)"
   ]
  },
  {
   "cell_type": "code",
   "execution_count": 20,
   "metadata": {
    "colab": {
     "base_uri": "https://localhost:8080/"
    },
    "id": "-jNDSzz_vEqQ",
    "outputId": "7565e5e1-47cc-4860-ee19-536fd2ac95d9"
   },
   "outputs": [
    {
     "data": {
      "text/plain": [
       "Pipeline(steps=[('vect', CountVectorizer()), ('tfidf', TfidfTransformer()),\n",
       "                ('clf', NearestCentroid())])"
      ]
     },
     "execution_count": 20,
     "metadata": {},
     "output_type": "execute_result"
    }
   ],
   "source": [
    "text_clf = Pipeline([('vect', CountVectorizer()),\n",
    "                     ('tfidf', TfidfTransformer()),\n",
    "                     ('clf', NearestCentroid()),\n",
    "                     ])\n",
    "text_clf.fit(X_train, y_train)\n",
    "#predicted = text_clf.predict(X_test)\n",
    "#print(metrics.classification_report(y_test, predicted))\n",
    "#print(predicted)"
   ]
  },
  {
   "cell_type": "code",
   "execution_count": 21,
   "metadata": {
    "id": "HwmCRogCyMqh"
   },
   "outputs": [],
   "source": [
    "#sample_df = pd.read_csv(\"/content/drive/MyDrive/CS 505 Project/SampleSubmission.csv\")\n",
    "sample_df = pd.read_csv('SampleSubmission.csv')"
   ]
  },
  {
   "cell_type": "code",
   "execution_count": 22,
   "metadata": {
    "colab": {
     "base_uri": "https://localhost:8080/",
     "height": 424
    },
    "id": "9AU3KX6gyh6I",
    "outputId": "befaa82f-3d86-431c-ba28-c2f343722e33"
   },
   "outputs": [
    {
     "data": {
      "text/html": [
       "<div>\n",
       "<style scoped>\n",
       "    .dataframe tbody tr th:only-of-type {\n",
       "        vertical-align: middle;\n",
       "    }\n",
       "\n",
       "    .dataframe tbody tr th {\n",
       "        vertical-align: top;\n",
       "    }\n",
       "\n",
       "    .dataframe thead th {\n",
       "        text-align: right;\n",
       "    }\n",
       "</style>\n",
       "<table border=\"1\" class=\"dataframe\">\n",
       "  <thead>\n",
       "    <tr style=\"text-align: right;\">\n",
       "      <th></th>\n",
       "      <th>ID</th>\n",
       "      <th>Label</th>\n",
       "    </tr>\n",
       "  </thead>\n",
       "  <tbody>\n",
       "    <tr>\n",
       "      <th>0</th>\n",
       "      <td>ID_sQaPRMWO</td>\n",
       "      <td>0</td>\n",
       "    </tr>\n",
       "    <tr>\n",
       "      <th>1</th>\n",
       "      <td>ID_TanclvfR</td>\n",
       "      <td>0</td>\n",
       "    </tr>\n",
       "    <tr>\n",
       "      <th>2</th>\n",
       "      <td>ID_CNbveyvk</td>\n",
       "      <td>0</td>\n",
       "    </tr>\n",
       "    <tr>\n",
       "      <th>3</th>\n",
       "      <td>ID_MclKMhyP</td>\n",
       "      <td>0</td>\n",
       "    </tr>\n",
       "    <tr>\n",
       "      <th>4</th>\n",
       "      <td>ID_rNrmXOGD</td>\n",
       "      <td>0</td>\n",
       "    </tr>\n",
       "    <tr>\n",
       "      <th>...</th>\n",
       "      <td>...</td>\n",
       "      <td>...</td>\n",
       "    </tr>\n",
       "    <tr>\n",
       "      <th>615</th>\n",
       "      <td>ID_AHfJktdQ</td>\n",
       "      <td>0</td>\n",
       "    </tr>\n",
       "    <tr>\n",
       "      <th>616</th>\n",
       "      <td>ID_AUJIHpZr</td>\n",
       "      <td>0</td>\n",
       "    </tr>\n",
       "    <tr>\n",
       "      <th>617</th>\n",
       "      <td>ID_JhRAELrS</td>\n",
       "      <td>0</td>\n",
       "    </tr>\n",
       "    <tr>\n",
       "      <th>618</th>\n",
       "      <td>ID_QWVGFbvJ</td>\n",
       "      <td>0</td>\n",
       "    </tr>\n",
       "    <tr>\n",
       "      <th>619</th>\n",
       "      <td>ID_azbVcAzy</td>\n",
       "      <td>0</td>\n",
       "    </tr>\n",
       "  </tbody>\n",
       "</table>\n",
       "<p>620 rows × 2 columns</p>\n",
       "</div>"
      ],
      "text/plain": [
       "              ID  Label\n",
       "0    ID_sQaPRMWO      0\n",
       "1    ID_TanclvfR      0\n",
       "2    ID_CNbveyvk      0\n",
       "3    ID_MclKMhyP      0\n",
       "4    ID_rNrmXOGD      0\n",
       "..           ...    ...\n",
       "615  ID_AHfJktdQ      0\n",
       "616  ID_AUJIHpZr      0\n",
       "617  ID_JhRAELrS      0\n",
       "618  ID_QWVGFbvJ      0\n",
       "619  ID_azbVcAzy      0\n",
       "\n",
       "[620 rows x 2 columns]"
      ]
     },
     "execution_count": 22,
     "metadata": {},
     "output_type": "execute_result"
    }
   ],
   "source": [
    "sample_df"
   ]
  },
  {
   "cell_type": "code",
   "execution_count": 23,
   "metadata": {
    "id": "PmWKW9MdwYLF"
   },
   "outputs": [],
   "source": [
    "submission_dict = {\"ID\":[],\"Label\":[]}"
   ]
  },
  {
   "cell_type": "code",
   "execution_count": 24,
   "metadata": {
    "id": "XPXOWi0Iwenv"
   },
   "outputs": [],
   "source": [
    "for i in sample_df.ID:\n",
    "  submission_dict[\"ID\"].append(i) #(test_df_2.loc[i,\"ID\"])\n",
    "  text = test_df_2.loc[test_df_2['ID'] == i,\"Text\"].values[0]\n",
    "  #print(text)\n",
    "  input = [text]\n",
    "  pred = text_clf.predict(input)\n",
    "  submission_dict[\"Label\"].append(pred.item())\n",
    "submission_df = pd.DataFrame(submission_dict)"
   ]
  },
  {
   "cell_type": "code",
   "execution_count": 25,
   "metadata": {
    "colab": {
     "base_uri": "https://localhost:8080/",
     "height": 424
    },
    "id": "NkzvgTkHwxiy",
    "outputId": "709927bd-208f-446e-8e57-95eba8e93b57"
   },
   "outputs": [
    {
     "data": {
      "text/html": [
       "<div>\n",
       "<style scoped>\n",
       "    .dataframe tbody tr th:only-of-type {\n",
       "        vertical-align: middle;\n",
       "    }\n",
       "\n",
       "    .dataframe tbody tr th {\n",
       "        vertical-align: top;\n",
       "    }\n",
       "\n",
       "    .dataframe thead th {\n",
       "        text-align: right;\n",
       "    }\n",
       "</style>\n",
       "<table border=\"1\" class=\"dataframe\">\n",
       "  <thead>\n",
       "    <tr style=\"text-align: right;\">\n",
       "      <th></th>\n",
       "      <th>ID</th>\n",
       "      <th>Label</th>\n",
       "    </tr>\n",
       "  </thead>\n",
       "  <tbody>\n",
       "    <tr>\n",
       "      <th>0</th>\n",
       "      <td>ID_sQaPRMWO</td>\n",
       "      <td>LAW/ORDER</td>\n",
       "    </tr>\n",
       "    <tr>\n",
       "      <th>1</th>\n",
       "      <td>ID_TanclvfR</td>\n",
       "      <td>SOCIAL</td>\n",
       "    </tr>\n",
       "    <tr>\n",
       "      <th>2</th>\n",
       "      <td>ID_CNbveyvk</td>\n",
       "      <td>SOCIAL ISSUES</td>\n",
       "    </tr>\n",
       "    <tr>\n",
       "      <th>3</th>\n",
       "      <td>ID_MclKMhyP</td>\n",
       "      <td>SOCIAL ISSUES</td>\n",
       "    </tr>\n",
       "    <tr>\n",
       "      <th>4</th>\n",
       "      <td>ID_rNrmXOGD</td>\n",
       "      <td>ECONOMY</td>\n",
       "    </tr>\n",
       "    <tr>\n",
       "      <th>...</th>\n",
       "      <td>...</td>\n",
       "      <td>...</td>\n",
       "    </tr>\n",
       "    <tr>\n",
       "      <th>615</th>\n",
       "      <td>ID_AHfJktdQ</td>\n",
       "      <td>RELIGION</td>\n",
       "    </tr>\n",
       "    <tr>\n",
       "      <th>616</th>\n",
       "      <td>ID_AUJIHpZr</td>\n",
       "      <td>RELATIONSHIPS</td>\n",
       "    </tr>\n",
       "    <tr>\n",
       "      <th>617</th>\n",
       "      <td>ID_JhRAELrS</td>\n",
       "      <td>POLITICS</td>\n",
       "    </tr>\n",
       "    <tr>\n",
       "      <th>618</th>\n",
       "      <td>ID_QWVGFbvJ</td>\n",
       "      <td>EDUCATION</td>\n",
       "    </tr>\n",
       "    <tr>\n",
       "      <th>619</th>\n",
       "      <td>ID_azbVcAzy</td>\n",
       "      <td>POLITICS</td>\n",
       "    </tr>\n",
       "  </tbody>\n",
       "</table>\n",
       "<p>620 rows × 2 columns</p>\n",
       "</div>"
      ],
      "text/plain": [
       "              ID          Label\n",
       "0    ID_sQaPRMWO      LAW/ORDER\n",
       "1    ID_TanclvfR         SOCIAL\n",
       "2    ID_CNbveyvk  SOCIAL ISSUES\n",
       "3    ID_MclKMhyP  SOCIAL ISSUES\n",
       "4    ID_rNrmXOGD        ECONOMY\n",
       "..           ...            ...\n",
       "615  ID_AHfJktdQ       RELIGION\n",
       "616  ID_AUJIHpZr  RELATIONSHIPS\n",
       "617  ID_JhRAELrS       POLITICS\n",
       "618  ID_QWVGFbvJ      EDUCATION\n",
       "619  ID_azbVcAzy       POLITICS\n",
       "\n",
       "[620 rows x 2 columns]"
      ]
     },
     "execution_count": 25,
     "metadata": {},
     "output_type": "execute_result"
    }
   ],
   "source": [
    "submission_df"
   ]
  },
  {
   "cell_type": "code",
   "execution_count": 26,
   "metadata": {
    "id": "1vQTJk5wzSVE"
   },
   "outputs": [],
   "source": [
    "#submission_df.to_csv(\"/content/drive/MyDrive/CS 505 Project/Rocchio_Predicted_Submission.csv\",index=False)\n",
    "submission_df.to_csv('Rocchio_Predicted_Submission.csv', index = False)\n"
   ]
  },
  {
   "cell_type": "code",
   "execution_count": 27,
   "metadata": {},
   "outputs": [
    {
     "data": {
      "text/html": [
       "<div>\n",
       "<style scoped>\n",
       "    .dataframe tbody tr th:only-of-type {\n",
       "        vertical-align: middle;\n",
       "    }\n",
       "\n",
       "    .dataframe tbody tr th {\n",
       "        vertical-align: top;\n",
       "    }\n",
       "\n",
       "    .dataframe thead th {\n",
       "        text-align: right;\n",
       "    }\n",
       "</style>\n",
       "<table border=\"1\" class=\"dataframe\">\n",
       "  <thead>\n",
       "    <tr style=\"text-align: right;\">\n",
       "      <th></th>\n",
       "      <th>ID</th>\n",
       "      <th>Text</th>\n",
       "      <th>SGD</th>\n",
       "      <th>MultiNB</th>\n",
       "      <th>Logistic Regression</th>\n",
       "      <th>KNN</th>\n",
       "      <th>SVM</th>\n",
       "      <th>Neural Network</th>\n",
       "      <th>Rocchio</th>\n",
       "    </tr>\n",
       "  </thead>\n",
       "  <tbody>\n",
       "    <tr>\n",
       "      <th>0</th>\n",
       "      <td>ID_ADHEtjTi</td>\n",
       "      <td>Abambo odzikhweza akuchuluka Kafukufuku wa ap...</td>\n",
       "      <td>SOCIAL ISSUES</td>\n",
       "      <td>SOCIAL ISSUES</td>\n",
       "      <td>SOCIAL ISSUES</td>\n",
       "      <td>RELIGION</td>\n",
       "      <td>SOCIAL ISSUES</td>\n",
       "      <td>SOCIAL ISSUES</td>\n",
       "      <td>LAW/ORDER</td>\n",
       "    </tr>\n",
       "    <tr>\n",
       "      <th>1</th>\n",
       "      <td>ID_AHfJktdQ</td>\n",
       "      <td>Ambuye Ziyaye Ayamikira Aphunzitsi a Tilitonse...</td>\n",
       "      <td>RELIGION</td>\n",
       "      <td>RELIGION</td>\n",
       "      <td>RELIGION</td>\n",
       "      <td>RELIGION</td>\n",
       "      <td>RELIGION</td>\n",
       "      <td>RELIGION</td>\n",
       "      <td>SOCIAL</td>\n",
       "    </tr>\n",
       "    <tr>\n",
       "      <th>2</th>\n",
       "      <td>ID_AUJIHpZr</td>\n",
       "      <td>Anatcheleza: Akundiopseza a gogo wanga Akundi...</td>\n",
       "      <td>RELATIONSHIPS</td>\n",
       "      <td>RELATIONSHIPS</td>\n",
       "      <td>RELATIONSHIPS</td>\n",
       "      <td>RELATIONSHIPS</td>\n",
       "      <td>RELATIONSHIPS</td>\n",
       "      <td>RELATIONSHIPS</td>\n",
       "      <td>SOCIAL ISSUES</td>\n",
       "    </tr>\n",
       "    <tr>\n",
       "      <th>3</th>\n",
       "      <td>ID_AUKYBbIM</td>\n",
       "      <td>Ulova wafika posauzana Adatenga digiri ya uph...</td>\n",
       "      <td>POLITICS</td>\n",
       "      <td>LAW/ORDER</td>\n",
       "      <td>SOCIAL ISSUES</td>\n",
       "      <td>POLITICS</td>\n",
       "      <td>SOCIAL ISSUES</td>\n",
       "      <td>SOCIAL ISSUES</td>\n",
       "      <td>SOCIAL ISSUES</td>\n",
       "    </tr>\n",
       "    <tr>\n",
       "      <th>4</th>\n",
       "      <td>ID_AZnsVPEi</td>\n",
       "      <td>Dzombe kukoma, koma Kuyambira makedzana, pant...</td>\n",
       "      <td>HEALTH</td>\n",
       "      <td>HEALTH</td>\n",
       "      <td>HEALTH</td>\n",
       "      <td>EDUCATION</td>\n",
       "      <td>HEALTH</td>\n",
       "      <td>SOCIAL ISSUES</td>\n",
       "      <td>ECONOMY</td>\n",
       "    </tr>\n",
       "  </tbody>\n",
       "</table>\n",
       "</div>"
      ],
      "text/plain": [
       "            ID                                               Text  \\\n",
       "0  ID_ADHEtjTi   Abambo odzikhweza akuchuluka Kafukufuku wa ap...   \n",
       "1  ID_AHfJktdQ  Ambuye Ziyaye Ayamikira Aphunzitsi a Tilitonse...   \n",
       "2  ID_AUJIHpZr   Anatcheleza: Akundiopseza a gogo wanga Akundi...   \n",
       "3  ID_AUKYBbIM   Ulova wafika posauzana Adatenga digiri ya uph...   \n",
       "4  ID_AZnsVPEi   Dzombe kukoma, koma Kuyambira makedzana, pant...   \n",
       "\n",
       "             SGD        MultiNB Logistic Regression            KNN  \\\n",
       "0  SOCIAL ISSUES  SOCIAL ISSUES       SOCIAL ISSUES       RELIGION   \n",
       "1       RELIGION       RELIGION            RELIGION       RELIGION   \n",
       "2  RELATIONSHIPS  RELATIONSHIPS       RELATIONSHIPS  RELATIONSHIPS   \n",
       "3       POLITICS      LAW/ORDER       SOCIAL ISSUES       POLITICS   \n",
       "4         HEALTH         HEALTH              HEALTH      EDUCATION   \n",
       "\n",
       "             SVM Neural Network        Rocchio  \n",
       "0  SOCIAL ISSUES  SOCIAL ISSUES      LAW/ORDER  \n",
       "1       RELIGION       RELIGION         SOCIAL  \n",
       "2  RELATIONSHIPS  RELATIONSHIPS  SOCIAL ISSUES  \n",
       "3  SOCIAL ISSUES  SOCIAL ISSUES  SOCIAL ISSUES  \n",
       "4         HEALTH  SOCIAL ISSUES        ECONOMY  "
      ]
     },
     "execution_count": 27,
     "metadata": {},
     "output_type": "execute_result"
    }
   ],
   "source": [
    "combiner = pd.read_csv(\"combiner.csv\")\n",
    "combiner['Rocchio'] = submission_df['Label']\n",
    "combiner.to_csv('combiner.csv', index = False)\n",
    "combiner.head()"
   ]
  },
  {
   "cell_type": "markdown",
   "metadata": {
    "id": "OoOSFwEQ0b62"
   },
   "source": [
    "# Boosting (Website Score:- 0.5645) "
   ]
  },
  {
   "cell_type": "code",
   "execution_count": 28,
   "metadata": {
    "id": "Dp00RqgwF2Je"
   },
   "outputs": [],
   "source": [
    "from sklearn.ensemble import GradientBoostingClassifier"
   ]
  },
  {
   "cell_type": "code",
   "execution_count": 29,
   "metadata": {
    "colab": {
     "base_uri": "https://localhost:8080/"
    },
    "id": "71tcJjJlF2Jk",
    "outputId": "f1c8fcdb-3a45-4a95-e07f-4d37ad980198"
   },
   "outputs": [
    {
     "data": {
      "text/plain": [
       "Pipeline(steps=[('vect', CountVectorizer()), ('tfidf', TfidfTransformer()),\n",
       "                ('clf', GradientBoostingClassifier())])"
      ]
     },
     "execution_count": 29,
     "metadata": {},
     "output_type": "execute_result"
    }
   ],
   "source": [
    "text_clf = Pipeline([('vect', CountVectorizer()),\n",
    "                     ('tfidf', TfidfTransformer()),\n",
    "                     ('clf', GradientBoostingClassifier(n_estimators=100)),\n",
    "                     ])\n",
    "text_clf.fit(X_train, y_train)"
   ]
  },
  {
   "cell_type": "code",
   "execution_count": 30,
   "metadata": {
    "id": "EObE_5xHF2Jk"
   },
   "outputs": [],
   "source": [
    "submission_dict = {\"ID\":[],\"Label\":[]}"
   ]
  },
  {
   "cell_type": "code",
   "execution_count": 31,
   "metadata": {
    "id": "3iqOtb9hF2Jk"
   },
   "outputs": [],
   "source": [
    "for i in sample_df.ID:\n",
    "  submission_dict[\"ID\"].append(i) #(test_df_2.loc[i,\"ID\"])\n",
    "  text = test_df_2.loc[test_df_2['ID'] == i,\"Text\"].values[0]\n",
    "  #print(text)\n",
    "  input = [text]\n",
    "  pred = text_clf.predict(input)\n",
    "  submission_dict[\"Label\"].append(pred.item())\n",
    "submission_df = pd.DataFrame(submission_dict)"
   ]
  },
  {
   "cell_type": "code",
   "execution_count": 32,
   "metadata": {
    "colab": {
     "base_uri": "https://localhost:8080/",
     "height": 424
    },
    "id": "kJV8LEnVF2Jk",
    "outputId": "ecc48d9e-4af5-4492-c709-4008ba6d9d08"
   },
   "outputs": [
    {
     "data": {
      "text/html": [
       "<div>\n",
       "<style scoped>\n",
       "    .dataframe tbody tr th:only-of-type {\n",
       "        vertical-align: middle;\n",
       "    }\n",
       "\n",
       "    .dataframe tbody tr th {\n",
       "        vertical-align: top;\n",
       "    }\n",
       "\n",
       "    .dataframe thead th {\n",
       "        text-align: right;\n",
       "    }\n",
       "</style>\n",
       "<table border=\"1\" class=\"dataframe\">\n",
       "  <thead>\n",
       "    <tr style=\"text-align: right;\">\n",
       "      <th></th>\n",
       "      <th>ID</th>\n",
       "      <th>Label</th>\n",
       "    </tr>\n",
       "  </thead>\n",
       "  <tbody>\n",
       "    <tr>\n",
       "      <th>0</th>\n",
       "      <td>ID_sQaPRMWO</td>\n",
       "      <td>LAW/ORDER</td>\n",
       "    </tr>\n",
       "    <tr>\n",
       "      <th>1</th>\n",
       "      <td>ID_TanclvfR</td>\n",
       "      <td>SOCIAL</td>\n",
       "    </tr>\n",
       "    <tr>\n",
       "      <th>2</th>\n",
       "      <td>ID_CNbveyvk</td>\n",
       "      <td>POLITICS</td>\n",
       "    </tr>\n",
       "    <tr>\n",
       "      <th>3</th>\n",
       "      <td>ID_MclKMhyP</td>\n",
       "      <td>SOCIAL ISSUES</td>\n",
       "    </tr>\n",
       "    <tr>\n",
       "      <th>4</th>\n",
       "      <td>ID_rNrmXOGD</td>\n",
       "      <td>CULTURE</td>\n",
       "    </tr>\n",
       "    <tr>\n",
       "      <th>...</th>\n",
       "      <td>...</td>\n",
       "      <td>...</td>\n",
       "    </tr>\n",
       "    <tr>\n",
       "      <th>615</th>\n",
       "      <td>ID_AHfJktdQ</td>\n",
       "      <td>RELIGION</td>\n",
       "    </tr>\n",
       "    <tr>\n",
       "      <th>616</th>\n",
       "      <td>ID_AUJIHpZr</td>\n",
       "      <td>SOCIAL ISSUES</td>\n",
       "    </tr>\n",
       "    <tr>\n",
       "      <th>617</th>\n",
       "      <td>ID_JhRAELrS</td>\n",
       "      <td>ECONOMY</td>\n",
       "    </tr>\n",
       "    <tr>\n",
       "      <th>618</th>\n",
       "      <td>ID_QWVGFbvJ</td>\n",
       "      <td>EDUCATION</td>\n",
       "    </tr>\n",
       "    <tr>\n",
       "      <th>619</th>\n",
       "      <td>ID_azbVcAzy</td>\n",
       "      <td>POLITICS</td>\n",
       "    </tr>\n",
       "  </tbody>\n",
       "</table>\n",
       "<p>620 rows × 2 columns</p>\n",
       "</div>"
      ],
      "text/plain": [
       "              ID          Label\n",
       "0    ID_sQaPRMWO      LAW/ORDER\n",
       "1    ID_TanclvfR         SOCIAL\n",
       "2    ID_CNbveyvk       POLITICS\n",
       "3    ID_MclKMhyP  SOCIAL ISSUES\n",
       "4    ID_rNrmXOGD        CULTURE\n",
       "..           ...            ...\n",
       "615  ID_AHfJktdQ       RELIGION\n",
       "616  ID_AUJIHpZr  SOCIAL ISSUES\n",
       "617  ID_JhRAELrS        ECONOMY\n",
       "618  ID_QWVGFbvJ      EDUCATION\n",
       "619  ID_azbVcAzy       POLITICS\n",
       "\n",
       "[620 rows x 2 columns]"
      ]
     },
     "execution_count": 32,
     "metadata": {},
     "output_type": "execute_result"
    }
   ],
   "source": [
    "submission_df"
   ]
  },
  {
   "cell_type": "code",
   "execution_count": 33,
   "metadata": {
    "id": "TrilPA5DF2Jl"
   },
   "outputs": [],
   "source": [
    "#submission_df.to_csv(\"/content/drive/MyDrive/CS 505 Project/Boosting_Predicted_Submission.csv\",index=False)\n",
    "submission_df.to_csv('Boosting_Predicted_Submission.csv', index = False)"
   ]
  },
  {
   "cell_type": "code",
   "execution_count": 34,
   "metadata": {
    "id": "IBn1CRE6FUxN"
   },
   "outputs": [
    {
     "data": {
      "text/html": [
       "<div>\n",
       "<style scoped>\n",
       "    .dataframe tbody tr th:only-of-type {\n",
       "        vertical-align: middle;\n",
       "    }\n",
       "\n",
       "    .dataframe tbody tr th {\n",
       "        vertical-align: top;\n",
       "    }\n",
       "\n",
       "    .dataframe thead th {\n",
       "        text-align: right;\n",
       "    }\n",
       "</style>\n",
       "<table border=\"1\" class=\"dataframe\">\n",
       "  <thead>\n",
       "    <tr style=\"text-align: right;\">\n",
       "      <th></th>\n",
       "      <th>ID</th>\n",
       "      <th>Text</th>\n",
       "      <th>SGD</th>\n",
       "      <th>MultiNB</th>\n",
       "      <th>Logistic Regression</th>\n",
       "      <th>KNN</th>\n",
       "      <th>SVM</th>\n",
       "      <th>Neural Network</th>\n",
       "      <th>Rocchio</th>\n",
       "      <th>Boosting</th>\n",
       "    </tr>\n",
       "  </thead>\n",
       "  <tbody>\n",
       "    <tr>\n",
       "      <th>0</th>\n",
       "      <td>ID_ADHEtjTi</td>\n",
       "      <td>Abambo odzikhweza akuchuluka Kafukufuku wa ap...</td>\n",
       "      <td>SOCIAL ISSUES</td>\n",
       "      <td>SOCIAL ISSUES</td>\n",
       "      <td>SOCIAL ISSUES</td>\n",
       "      <td>RELIGION</td>\n",
       "      <td>SOCIAL ISSUES</td>\n",
       "      <td>SOCIAL ISSUES</td>\n",
       "      <td>LAW/ORDER</td>\n",
       "      <td>LAW/ORDER</td>\n",
       "    </tr>\n",
       "    <tr>\n",
       "      <th>1</th>\n",
       "      <td>ID_AHfJktdQ</td>\n",
       "      <td>Ambuye Ziyaye Ayamikira Aphunzitsi a Tilitonse...</td>\n",
       "      <td>RELIGION</td>\n",
       "      <td>RELIGION</td>\n",
       "      <td>RELIGION</td>\n",
       "      <td>RELIGION</td>\n",
       "      <td>RELIGION</td>\n",
       "      <td>RELIGION</td>\n",
       "      <td>SOCIAL</td>\n",
       "      <td>SOCIAL</td>\n",
       "    </tr>\n",
       "    <tr>\n",
       "      <th>2</th>\n",
       "      <td>ID_AUJIHpZr</td>\n",
       "      <td>Anatcheleza: Akundiopseza a gogo wanga Akundi...</td>\n",
       "      <td>RELATIONSHIPS</td>\n",
       "      <td>RELATIONSHIPS</td>\n",
       "      <td>RELATIONSHIPS</td>\n",
       "      <td>RELATIONSHIPS</td>\n",
       "      <td>RELATIONSHIPS</td>\n",
       "      <td>RELATIONSHIPS</td>\n",
       "      <td>SOCIAL ISSUES</td>\n",
       "      <td>POLITICS</td>\n",
       "    </tr>\n",
       "    <tr>\n",
       "      <th>3</th>\n",
       "      <td>ID_AUKYBbIM</td>\n",
       "      <td>Ulova wafika posauzana Adatenga digiri ya uph...</td>\n",
       "      <td>POLITICS</td>\n",
       "      <td>LAW/ORDER</td>\n",
       "      <td>SOCIAL ISSUES</td>\n",
       "      <td>POLITICS</td>\n",
       "      <td>SOCIAL ISSUES</td>\n",
       "      <td>SOCIAL ISSUES</td>\n",
       "      <td>SOCIAL ISSUES</td>\n",
       "      <td>SOCIAL ISSUES</td>\n",
       "    </tr>\n",
       "    <tr>\n",
       "      <th>4</th>\n",
       "      <td>ID_AZnsVPEi</td>\n",
       "      <td>Dzombe kukoma, koma Kuyambira makedzana, pant...</td>\n",
       "      <td>HEALTH</td>\n",
       "      <td>HEALTH</td>\n",
       "      <td>HEALTH</td>\n",
       "      <td>EDUCATION</td>\n",
       "      <td>HEALTH</td>\n",
       "      <td>SOCIAL ISSUES</td>\n",
       "      <td>ECONOMY</td>\n",
       "      <td>CULTURE</td>\n",
       "    </tr>\n",
       "  </tbody>\n",
       "</table>\n",
       "</div>"
      ],
      "text/plain": [
       "            ID                                               Text  \\\n",
       "0  ID_ADHEtjTi   Abambo odzikhweza akuchuluka Kafukufuku wa ap...   \n",
       "1  ID_AHfJktdQ  Ambuye Ziyaye Ayamikira Aphunzitsi a Tilitonse...   \n",
       "2  ID_AUJIHpZr   Anatcheleza: Akundiopseza a gogo wanga Akundi...   \n",
       "3  ID_AUKYBbIM   Ulova wafika posauzana Adatenga digiri ya uph...   \n",
       "4  ID_AZnsVPEi   Dzombe kukoma, koma Kuyambira makedzana, pant...   \n",
       "\n",
       "             SGD        MultiNB Logistic Regression            KNN  \\\n",
       "0  SOCIAL ISSUES  SOCIAL ISSUES       SOCIAL ISSUES       RELIGION   \n",
       "1       RELIGION       RELIGION            RELIGION       RELIGION   \n",
       "2  RELATIONSHIPS  RELATIONSHIPS       RELATIONSHIPS  RELATIONSHIPS   \n",
       "3       POLITICS      LAW/ORDER       SOCIAL ISSUES       POLITICS   \n",
       "4         HEALTH         HEALTH              HEALTH      EDUCATION   \n",
       "\n",
       "             SVM Neural Network        Rocchio       Boosting  \n",
       "0  SOCIAL ISSUES  SOCIAL ISSUES      LAW/ORDER      LAW/ORDER  \n",
       "1       RELIGION       RELIGION         SOCIAL         SOCIAL  \n",
       "2  RELATIONSHIPS  RELATIONSHIPS  SOCIAL ISSUES       POLITICS  \n",
       "3  SOCIAL ISSUES  SOCIAL ISSUES  SOCIAL ISSUES  SOCIAL ISSUES  \n",
       "4         HEALTH  SOCIAL ISSUES        ECONOMY        CULTURE  "
      ]
     },
     "execution_count": 34,
     "metadata": {},
     "output_type": "execute_result"
    }
   ],
   "source": [
    "combiner = pd.read_csv(\"combiner.csv\")\n",
    "combiner['Boosting'] = submission_df['Label']\n",
    "combiner.to_csv('combiner.csv', index = False)\n",
    "combiner.head()"
   ]
  },
  {
   "cell_type": "markdown",
   "metadata": {
    "id": "qVxCQpS1GQSv"
   },
   "source": [
    "# Bagging (Website Score:- 0.5871)"
   ]
  },
  {
   "cell_type": "code",
   "execution_count": 35,
   "metadata": {
    "id": "yswE3R9xGQSx"
   },
   "outputs": [],
   "source": [
    "from sklearn.ensemble import BaggingClassifier\n",
    "from sklearn.neighbors import KNeighborsClassifier"
   ]
  },
  {
   "cell_type": "code",
   "execution_count": 36,
   "metadata": {
    "colab": {
     "base_uri": "https://localhost:8080/"
    },
    "id": "m5eJYYl7GQSx",
    "outputId": "c8da40ec-a182-4cf2-8289-a695348af348"
   },
   "outputs": [
    {
     "data": {
      "text/plain": [
       "Pipeline(steps=[('vect', CountVectorizer()), ('tfidf', TfidfTransformer()),\n",
       "                ('clf',\n",
       "                 BaggingClassifier(base_estimator=KNeighborsClassifier()))])"
      ]
     },
     "execution_count": 36,
     "metadata": {},
     "output_type": "execute_result"
    }
   ],
   "source": [
    "text_clf = Pipeline([('vect', CountVectorizer()),\n",
    "                     ('tfidf', TfidfTransformer()),\n",
    "                     ('clf', BaggingClassifier(KNeighborsClassifier())),\n",
    "                     ])\n",
    "text_clf.fit(X_train, y_train)"
   ]
  },
  {
   "cell_type": "code",
   "execution_count": 37,
   "metadata": {
    "id": "ro0Y553VGQSy"
   },
   "outputs": [],
   "source": [
    "submission_dict = {\"ID\":[],\"Label\":[]}"
   ]
  },
  {
   "cell_type": "code",
   "execution_count": 38,
   "metadata": {
    "id": "OQFNmrhMGQSy"
   },
   "outputs": [],
   "source": [
    "for i in sample_df.ID:\n",
    "  submission_dict[\"ID\"].append(i) #(test_df_2.loc[i,\"ID\"])\n",
    "  text = test_df_2.loc[test_df_2['ID'] == i,\"Text\"].values[0]\n",
    "  #print(text)\n",
    "  input = [text]\n",
    "  pred = text_clf.predict(input)\n",
    "  submission_dict[\"Label\"].append(pred.item())\n",
    "submission_df = pd.DataFrame(submission_dict)"
   ]
  },
  {
   "cell_type": "code",
   "execution_count": 39,
   "metadata": {
    "colab": {
     "base_uri": "https://localhost:8080/",
     "height": 424
    },
    "id": "k2LFDrp_GQSy",
    "outputId": "56b490bf-480e-4575-dbf3-8ea1176acb26"
   },
   "outputs": [
    {
     "data": {
      "text/html": [
       "<div>\n",
       "<style scoped>\n",
       "    .dataframe tbody tr th:only-of-type {\n",
       "        vertical-align: middle;\n",
       "    }\n",
       "\n",
       "    .dataframe tbody tr th {\n",
       "        vertical-align: top;\n",
       "    }\n",
       "\n",
       "    .dataframe thead th {\n",
       "        text-align: right;\n",
       "    }\n",
       "</style>\n",
       "<table border=\"1\" class=\"dataframe\">\n",
       "  <thead>\n",
       "    <tr style=\"text-align: right;\">\n",
       "      <th></th>\n",
       "      <th>ID</th>\n",
       "      <th>Label</th>\n",
       "    </tr>\n",
       "  </thead>\n",
       "  <tbody>\n",
       "    <tr>\n",
       "      <th>0</th>\n",
       "      <td>ID_sQaPRMWO</td>\n",
       "      <td>LAW/ORDER</td>\n",
       "    </tr>\n",
       "    <tr>\n",
       "      <th>1</th>\n",
       "      <td>ID_TanclvfR</td>\n",
       "      <td>RELIGION</td>\n",
       "    </tr>\n",
       "    <tr>\n",
       "      <th>2</th>\n",
       "      <td>ID_CNbveyvk</td>\n",
       "      <td>SOCIAL ISSUES</td>\n",
       "    </tr>\n",
       "    <tr>\n",
       "      <th>3</th>\n",
       "      <td>ID_MclKMhyP</td>\n",
       "      <td>SOCIAL ISSUES</td>\n",
       "    </tr>\n",
       "    <tr>\n",
       "      <th>4</th>\n",
       "      <td>ID_rNrmXOGD</td>\n",
       "      <td>ECONOMY</td>\n",
       "    </tr>\n",
       "    <tr>\n",
       "      <th>...</th>\n",
       "      <td>...</td>\n",
       "      <td>...</td>\n",
       "    </tr>\n",
       "    <tr>\n",
       "      <th>615</th>\n",
       "      <td>ID_AHfJktdQ</td>\n",
       "      <td>RELIGION</td>\n",
       "    </tr>\n",
       "    <tr>\n",
       "      <th>616</th>\n",
       "      <td>ID_AUJIHpZr</td>\n",
       "      <td>RELATIONSHIPS</td>\n",
       "    </tr>\n",
       "    <tr>\n",
       "      <th>617</th>\n",
       "      <td>ID_JhRAELrS</td>\n",
       "      <td>POLITICS</td>\n",
       "    </tr>\n",
       "    <tr>\n",
       "      <th>618</th>\n",
       "      <td>ID_QWVGFbvJ</td>\n",
       "      <td>EDUCATION</td>\n",
       "    </tr>\n",
       "    <tr>\n",
       "      <th>619</th>\n",
       "      <td>ID_azbVcAzy</td>\n",
       "      <td>POLITICS</td>\n",
       "    </tr>\n",
       "  </tbody>\n",
       "</table>\n",
       "<p>620 rows × 2 columns</p>\n",
       "</div>"
      ],
      "text/plain": [
       "              ID          Label\n",
       "0    ID_sQaPRMWO      LAW/ORDER\n",
       "1    ID_TanclvfR       RELIGION\n",
       "2    ID_CNbveyvk  SOCIAL ISSUES\n",
       "3    ID_MclKMhyP  SOCIAL ISSUES\n",
       "4    ID_rNrmXOGD        ECONOMY\n",
       "..           ...            ...\n",
       "615  ID_AHfJktdQ       RELIGION\n",
       "616  ID_AUJIHpZr  RELATIONSHIPS\n",
       "617  ID_JhRAELrS       POLITICS\n",
       "618  ID_QWVGFbvJ      EDUCATION\n",
       "619  ID_azbVcAzy       POLITICS\n",
       "\n",
       "[620 rows x 2 columns]"
      ]
     },
     "execution_count": 39,
     "metadata": {},
     "output_type": "execute_result"
    }
   ],
   "source": [
    "submission_df"
   ]
  },
  {
   "cell_type": "code",
   "execution_count": 40,
   "metadata": {
    "id": "rKu8BUxlGQSy"
   },
   "outputs": [],
   "source": [
    "#submission_df.to_csv(\"/content/drive/MyDrive/CS 505 Project/Bagging_Predicted_Submission.csv\",index=False)\n",
    "submission_df.to_csv('Baggin_Predicted_Submission.csv')"
   ]
  },
  {
   "cell_type": "code",
   "execution_count": 41,
   "metadata": {},
   "outputs": [
    {
     "data": {
      "text/html": [
       "<div>\n",
       "<style scoped>\n",
       "    .dataframe tbody tr th:only-of-type {\n",
       "        vertical-align: middle;\n",
       "    }\n",
       "\n",
       "    .dataframe tbody tr th {\n",
       "        vertical-align: top;\n",
       "    }\n",
       "\n",
       "    .dataframe thead th {\n",
       "        text-align: right;\n",
       "    }\n",
       "</style>\n",
       "<table border=\"1\" class=\"dataframe\">\n",
       "  <thead>\n",
       "    <tr style=\"text-align: right;\">\n",
       "      <th></th>\n",
       "      <th>ID</th>\n",
       "      <th>Text</th>\n",
       "      <th>SGD</th>\n",
       "      <th>MultiNB</th>\n",
       "      <th>Logistic Regression</th>\n",
       "      <th>KNN</th>\n",
       "      <th>SVM</th>\n",
       "      <th>Neural Network</th>\n",
       "      <th>Rocchio</th>\n",
       "      <th>Boosting</th>\n",
       "      <th>Bagging</th>\n",
       "    </tr>\n",
       "  </thead>\n",
       "  <tbody>\n",
       "    <tr>\n",
       "      <th>0</th>\n",
       "      <td>ID_ADHEtjTi</td>\n",
       "      <td>Abambo odzikhweza akuchuluka Kafukufuku wa ap...</td>\n",
       "      <td>SOCIAL ISSUES</td>\n",
       "      <td>SOCIAL ISSUES</td>\n",
       "      <td>SOCIAL ISSUES</td>\n",
       "      <td>RELIGION</td>\n",
       "      <td>SOCIAL ISSUES</td>\n",
       "      <td>SOCIAL ISSUES</td>\n",
       "      <td>LAW/ORDER</td>\n",
       "      <td>LAW/ORDER</td>\n",
       "      <td>LAW/ORDER</td>\n",
       "    </tr>\n",
       "    <tr>\n",
       "      <th>1</th>\n",
       "      <td>ID_AHfJktdQ</td>\n",
       "      <td>Ambuye Ziyaye Ayamikira Aphunzitsi a Tilitonse...</td>\n",
       "      <td>RELIGION</td>\n",
       "      <td>RELIGION</td>\n",
       "      <td>RELIGION</td>\n",
       "      <td>RELIGION</td>\n",
       "      <td>RELIGION</td>\n",
       "      <td>RELIGION</td>\n",
       "      <td>SOCIAL</td>\n",
       "      <td>SOCIAL</td>\n",
       "      <td>RELIGION</td>\n",
       "    </tr>\n",
       "    <tr>\n",
       "      <th>2</th>\n",
       "      <td>ID_AUJIHpZr</td>\n",
       "      <td>Anatcheleza: Akundiopseza a gogo wanga Akundi...</td>\n",
       "      <td>RELATIONSHIPS</td>\n",
       "      <td>RELATIONSHIPS</td>\n",
       "      <td>RELATIONSHIPS</td>\n",
       "      <td>RELATIONSHIPS</td>\n",
       "      <td>RELATIONSHIPS</td>\n",
       "      <td>RELATIONSHIPS</td>\n",
       "      <td>SOCIAL ISSUES</td>\n",
       "      <td>POLITICS</td>\n",
       "      <td>SOCIAL ISSUES</td>\n",
       "    </tr>\n",
       "    <tr>\n",
       "      <th>3</th>\n",
       "      <td>ID_AUKYBbIM</td>\n",
       "      <td>Ulova wafika posauzana Adatenga digiri ya uph...</td>\n",
       "      <td>POLITICS</td>\n",
       "      <td>LAW/ORDER</td>\n",
       "      <td>SOCIAL ISSUES</td>\n",
       "      <td>POLITICS</td>\n",
       "      <td>SOCIAL ISSUES</td>\n",
       "      <td>SOCIAL ISSUES</td>\n",
       "      <td>SOCIAL ISSUES</td>\n",
       "      <td>SOCIAL ISSUES</td>\n",
       "      <td>SOCIAL ISSUES</td>\n",
       "    </tr>\n",
       "    <tr>\n",
       "      <th>4</th>\n",
       "      <td>ID_AZnsVPEi</td>\n",
       "      <td>Dzombe kukoma, koma Kuyambira makedzana, pant...</td>\n",
       "      <td>HEALTH</td>\n",
       "      <td>HEALTH</td>\n",
       "      <td>HEALTH</td>\n",
       "      <td>EDUCATION</td>\n",
       "      <td>HEALTH</td>\n",
       "      <td>SOCIAL ISSUES</td>\n",
       "      <td>ECONOMY</td>\n",
       "      <td>CULTURE</td>\n",
       "      <td>ECONOMY</td>\n",
       "    </tr>\n",
       "  </tbody>\n",
       "</table>\n",
       "</div>"
      ],
      "text/plain": [
       "            ID                                               Text  \\\n",
       "0  ID_ADHEtjTi   Abambo odzikhweza akuchuluka Kafukufuku wa ap...   \n",
       "1  ID_AHfJktdQ  Ambuye Ziyaye Ayamikira Aphunzitsi a Tilitonse...   \n",
       "2  ID_AUJIHpZr   Anatcheleza: Akundiopseza a gogo wanga Akundi...   \n",
       "3  ID_AUKYBbIM   Ulova wafika posauzana Adatenga digiri ya uph...   \n",
       "4  ID_AZnsVPEi   Dzombe kukoma, koma Kuyambira makedzana, pant...   \n",
       "\n",
       "             SGD        MultiNB Logistic Regression            KNN  \\\n",
       "0  SOCIAL ISSUES  SOCIAL ISSUES       SOCIAL ISSUES       RELIGION   \n",
       "1       RELIGION       RELIGION            RELIGION       RELIGION   \n",
       "2  RELATIONSHIPS  RELATIONSHIPS       RELATIONSHIPS  RELATIONSHIPS   \n",
       "3       POLITICS      LAW/ORDER       SOCIAL ISSUES       POLITICS   \n",
       "4         HEALTH         HEALTH              HEALTH      EDUCATION   \n",
       "\n",
       "             SVM Neural Network        Rocchio       Boosting        Bagging  \n",
       "0  SOCIAL ISSUES  SOCIAL ISSUES      LAW/ORDER      LAW/ORDER      LAW/ORDER  \n",
       "1       RELIGION       RELIGION         SOCIAL         SOCIAL       RELIGION  \n",
       "2  RELATIONSHIPS  RELATIONSHIPS  SOCIAL ISSUES       POLITICS  SOCIAL ISSUES  \n",
       "3  SOCIAL ISSUES  SOCIAL ISSUES  SOCIAL ISSUES  SOCIAL ISSUES  SOCIAL ISSUES  \n",
       "4         HEALTH  SOCIAL ISSUES        ECONOMY        CULTURE        ECONOMY  "
      ]
     },
     "execution_count": 41,
     "metadata": {},
     "output_type": "execute_result"
    }
   ],
   "source": [
    "combiner = pd.read_csv(\"combiner.csv\")\n",
    "combiner['Bagging'] = submission_df['Label']\n",
    "combiner.to_csv('combiner.csv', index = False)\n",
    "combiner.head()"
   ]
  },
  {
   "cell_type": "code",
   "execution_count": null,
   "metadata": {},
   "outputs": [],
   "source": []
  }
 ],
 "metadata": {
  "colab": {
   "collapsed_sections": [],
   "name": "Rocchio_Boosting_Bagging_Classification.ipynb",
   "provenance": []
  },
  "kernelspec": {
   "display_name": "Python 3",
   "language": "python",
   "name": "python3"
  },
  "language_info": {
   "codemirror_mode": {
    "name": "ipython",
    "version": 3
   },
   "file_extension": ".py",
   "mimetype": "text/x-python",
   "name": "python",
   "nbconvert_exporter": "python",
   "pygments_lexer": "ipython3",
   "version": "3.8.8"
  }
 },
 "nbformat": 4,
 "nbformat_minor": 1
}
