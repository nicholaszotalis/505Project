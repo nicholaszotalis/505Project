{
 "cells": [
  {
   "cell_type": "code",
   "execution_count": 87,
   "id": "2d1c37c7-5413-4528-a5f4-79c008e0298c",
   "metadata": {},
   "outputs": [],
   "source": [
    "import requests\n",
    "from bs4 import BeautifulSoup\n",
    "import tqdm.notebook as tq\n",
    "import pickle"
   ]
  },
  {
   "cell_type": "code",
   "execution_count": 86,
   "id": "dd67719d-e33d-4d97-bbab-d13175eede58",
   "metadata": {},
   "outputs": [
    {
     "data": {
      "application/vnd.jupyter.widget-view+json": {
       "model_id": "6ca270069dc7444da7cdb344b2743b1a",
       "version_major": 2,
       "version_minor": 0
      },
      "text/plain": [
       "  0%|          | 0/78 [00:00<?, ?it/s]"
      ]
     },
     "metadata": {},
     "output_type": "display_data"
    },
    {
     "data": {
      "text/plain": [
       "1548"
      ]
     },
     "execution_count": 86,
     "metadata": {},
     "output_type": "execute_result"
    }
   ],
   "source": [
    "articleLinks = []\n",
    "for i in tq.tqdm(range(1, 79)):\n",
    "    home = requests.get(\"https://www.mwnation.com/section/chichewa/page/\" + str(i) + \"/\").text\n",
    "    soup = BeautifulSoup(home, 'html.parser')\n",
    "    articleClasses = [str(x) for x in soup.find_all('article') if 'Chichewa' in str(x) or 'Nkhani' in str(x)]\n",
    "    for articleClass in articleClasses:\n",
    "        hrefStart = articleClass.index(\"https\")\n",
    "        hrefEnd = articleClass.index('\"', hrefStart)\n",
    "        articleLinks.append(articleClass[hrefStart : hrefEnd])\n",
    "len(articleLinks)"
   ]
  },
  {
   "cell_type": "code",
   "execution_count": 88,
   "id": "84c28f34-f8f7-4b17-8dd2-f694af77aeef",
   "metadata": {},
   "outputs": [],
   "source": [
    "with open(\"articleLinks.txt\", \"wb\") as file:\n",
    "    pickle.dump(articleLinks, file)"
   ]
  },
  {
   "cell_type": "code",
   "execution_count": 106,
   "id": "3a01e84d-f386-4289-9c98-f90dd2256215",
   "metadata": {},
   "outputs": [
    {
     "data": {
      "application/vnd.jupyter.widget-view+json": {
       "model_id": "8eeb8343eb714f158c51d7d81acdb0a4",
       "version_major": 2,
       "version_minor": 0
      },
      "text/plain": [
       "  0%|          | 0/1544 [00:00<?, ?it/s]"
      ]
     },
     "metadata": {},
     "output_type": "display_data"
    },
    {
     "data": {
      "text/plain": [
       "1544"
      ]
     },
     "execution_count": 106,
     "metadata": {},
     "output_type": "execute_result"
    }
   ],
   "source": [
    "articles = []\n",
    "for articleLink in tq.tqdm(set(articleLinks)):\n",
    "    try:\n",
    "        article = requests.get(articleLink).text\n",
    "        soup = BeautifulSoup(article)\n",
    "        text = \" \".join([str(x)[3:-4] for x in soup.find_all('p') if 'https' not in str(x) and 'Rights Reserved' not in str(x)])\n",
    "        articles.append(text)\n",
    "    except:\n",
    "        pass\n",
    "len(articles)"
   ]
  },
  {
   "cell_type": "code",
   "execution_count": 107,
   "id": "08429787-57df-459a-a7a9-d5315ea235fe",
   "metadata": {},
   "outputs": [],
   "source": [
    "with open(\"nationArticleText.txt\", \"wb\") as file:\n",
    "    pickle.dump(articles, file)"
   ]
  }
 ],
 "metadata": {
  "kernelspec": {
   "display_name": "Python 3 (ipykernel)",
   "language": "python",
   "name": "python3"
  },
  "language_info": {
   "codemirror_mode": {
    "name": "ipython",
    "version": 3
   },
   "file_extension": ".py",
   "mimetype": "text/x-python",
   "name": "python",
   "nbconvert_exporter": "python",
   "pygments_lexer": "ipython3",
   "version": "3.8.11"
  }
 },
 "nbformat": 4,
 "nbformat_minor": 5
}
