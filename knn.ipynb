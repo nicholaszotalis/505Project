{
 "cells": [
  {
   "cell_type": "markdown",
   "id": "aee1394d",
   "metadata": {},
   "source": [
    "## KNN Model 57.7% Accuracy"
   ]
  },
  {
   "cell_type": "code",
   "execution_count": 9,
   "id": "f7c3ff9f",
   "metadata": {},
   "outputs": [
    {
     "name": "stderr",
     "output_type": "stream",
     "text": [
      "[nltk_data] Downloading package punkt to /Users/ktyser/nltk_data...\n",
      "[nltk_data]   Package punkt is already up-to-date!\n",
      "[nltk_data] Downloading package wordnet to /Users/ktyser/nltk_data...\n",
      "[nltk_data]   Package wordnet is already up-to-date!\n"
     ]
    },
    {
     "data": {
      "text/plain": [
       "True"
      ]
     },
     "execution_count": 9,
     "metadata": {},
     "output_type": "execute_result"
    }
   ],
   "source": [
    "from sklearn.pipeline import Pipeline\n",
    "from sklearn.feature_extraction.text import TfidfVectorizer\n",
    "from sklearn.preprocessing import FunctionTransformer\n",
    "from sklearn.neighbors import KNeighborsClassifier\n",
    "from sklearn.model_selection import cross_val_score\n",
    "\n",
    "from nltk import word_tokenize\n",
    "from time import time\n",
    "import pandas as pd\n",
    "import re\n",
    "import numpy as np\n",
    "import gensim\n",
    "import string\n",
    "import nltk\n",
    "nltk.download('punkt')\n",
    "nltk.download('wordnet')"
   ]
  },
  {
   "cell_type": "code",
   "execution_count": 2,
   "id": "d9bbaaed",
   "metadata": {},
   "outputs": [
    {
     "data": {
      "text/html": [
       "<div>\n",
       "<style scoped>\n",
       "    .dataframe tbody tr th:only-of-type {\n",
       "        vertical-align: middle;\n",
       "    }\n",
       "\n",
       "    .dataframe tbody tr th {\n",
       "        vertical-align: top;\n",
       "    }\n",
       "\n",
       "    .dataframe thead th {\n",
       "        text-align: right;\n",
       "    }\n",
       "</style>\n",
       "<table border=\"1\" class=\"dataframe\">\n",
       "  <thead>\n",
       "    <tr style=\"text-align: right;\">\n",
       "      <th></th>\n",
       "      <th>ID</th>\n",
       "      <th>Text</th>\n",
       "      <th>Label</th>\n",
       "    </tr>\n",
       "  </thead>\n",
       "  <tbody>\n",
       "    <tr>\n",
       "      <th>1404</th>\n",
       "      <td>ID_yvwqJbEc</td>\n",
       "      <td>boma lati dongosolo la zachuma lithandza kupez...</td>\n",
       "      <td>ECONOMY</td>\n",
       "    </tr>\n",
       "    <tr>\n",
       "      <th>893</th>\n",
       "      <td>ID_hVShUCbO</td>\n",
       "      <td>tambala wameza chimanga kusadabuzika kwa chi...</td>\n",
       "      <td>POLITICS</td>\n",
       "    </tr>\n",
       "    <tr>\n",
       "      <th>526</th>\n",
       "      <td>ID_TVpUSKhx</td>\n",
       "      <td>kudzula mpeni wofunikira kwa butchala popha ...</td>\n",
       "      <td>SOCIAL ISSUES</td>\n",
       "    </tr>\n",
       "    <tr>\n",
       "      <th>723</th>\n",
       "      <td>ID_bLnPPikX</td>\n",
       "      <td>adzudzula kampani ya enviro consult kamba koch...</td>\n",
       "      <td>SOCIAL</td>\n",
       "    </tr>\n",
       "    <tr>\n",
       "      <th>759</th>\n",
       "      <td>ID_cUtBVlcH</td>\n",
       "      <td>ogwira ntchito ku chipatala cha zomba akupitil...</td>\n",
       "      <td>SOCIAL</td>\n",
       "    </tr>\n",
       "  </tbody>\n",
       "</table>\n",
       "</div>"
      ],
      "text/plain": [
       "               ID                                               Text  \\\n",
       "1404  ID_yvwqJbEc  boma lati dongosolo la zachuma lithandza kupez...   \n",
       "893   ID_hVShUCbO    tambala wameza chimanga kusadabuzika kwa chi...   \n",
       "526   ID_TVpUSKhx    kudzula mpeni wofunikira kwa butchala popha ...   \n",
       "723   ID_bLnPPikX  adzudzula kampani ya enviro consult kamba koch...   \n",
       "759   ID_cUtBVlcH  ogwira ntchito ku chipatala cha zomba akupitil...   \n",
       "\n",
       "              Label  \n",
       "1404        ECONOMY  \n",
       "893        POLITICS  \n",
       "526   SOCIAL ISSUES  \n",
       "723          SOCIAL  \n",
       "759          SOCIAL  "
      ]
     },
     "execution_count": 2,
     "metadata": {},
     "output_type": "execute_result"
    }
   ],
   "source": [
    "train = pd.read_csv(\"Train-no-stopwords.csv\")\n",
    "train.sample(5)"
   ]
  },
  {
   "cell_type": "code",
   "execution_count": 3,
   "id": "26a1b292",
   "metadata": {},
   "outputs": [
    {
     "data": {
      "text/html": [
       "<div>\n",
       "<style scoped>\n",
       "    .dataframe tbody tr th:only-of-type {\n",
       "        vertical-align: middle;\n",
       "    }\n",
       "\n",
       "    .dataframe tbody tr th {\n",
       "        vertical-align: top;\n",
       "    }\n",
       "\n",
       "    .dataframe thead th {\n",
       "        text-align: right;\n",
       "    }\n",
       "</style>\n",
       "<table border=\"1\" class=\"dataframe\">\n",
       "  <thead>\n",
       "    <tr style=\"text-align: right;\">\n",
       "      <th></th>\n",
       "      <th>ID</th>\n",
       "      <th>Text</th>\n",
       "    </tr>\n",
       "  </thead>\n",
       "  <tbody>\n",
       "    <tr>\n",
       "      <th>168</th>\n",
       "      <td>ID_NDYxFjoN</td>\n",
       "      <td>Malawi ali pamotoKapito Mkulu wa bungwe loona...</td>\n",
       "    </tr>\n",
       "    <tr>\n",
       "      <th>60</th>\n",
       "      <td>ID_EqkeMLWS</td>\n",
       "      <td>Gogo wa zaka 99 asimbanji? Kwa ambiri, zoti m...</td>\n",
       "    </tr>\n",
       "    <tr>\n",
       "      <th>369</th>\n",
       "      <td>ID_fTVMsJSG</td>\n",
       "      <td>Msungwana Wafa Atangededwa ndi Mwala ku Dansi ...</td>\n",
       "    </tr>\n",
       "    <tr>\n",
       "      <th>469</th>\n",
       "      <td>ID_nyAesysa</td>\n",
       "      <td>Mabungwe apereke nzeru pamkangano wa nyanja K...</td>\n",
       "    </tr>\n",
       "    <tr>\n",
       "      <th>230</th>\n",
       "      <td>ID_SkRPoSoE</td>\n",
       "      <td>Pulogalamu ya ECRP yatha Pulogalamu yophunzit...</td>\n",
       "    </tr>\n",
       "  </tbody>\n",
       "</table>\n",
       "</div>"
      ],
      "text/plain": [
       "              ID                                               Text\n",
       "168  ID_NDYxFjoN   Malawi ali pamotoKapito Mkulu wa bungwe loona...\n",
       "60   ID_EqkeMLWS   Gogo wa zaka 99 asimbanji? Kwa ambiri, zoti m...\n",
       "369  ID_fTVMsJSG  Msungwana Wafa Atangededwa ndi Mwala ku Dansi ...\n",
       "469  ID_nyAesysa   Mabungwe apereke nzeru pamkangano wa nyanja K...\n",
       "230  ID_SkRPoSoE   Pulogalamu ya ECRP yatha Pulogalamu yophunzit..."
      ]
     },
     "execution_count": 3,
     "metadata": {},
     "output_type": "execute_result"
    }
   ],
   "source": [
    "test = pd.read_csv(\"Test.csv\")\n",
    "test.sample(5)"
   ]
  },
  {
   "cell_type": "code",
   "execution_count": 4,
   "id": "3af575c7",
   "metadata": {},
   "outputs": [],
   "source": [
    "punctuations = string.punctuation + \"’¶•@°©®™\""
   ]
  },
  {
   "cell_type": "code",
   "execution_count": 5,
   "id": "177a81cb",
   "metadata": {},
   "outputs": [],
   "source": [
    "def preprocess_text(text):\n",
    "    \"\"\"\n",
    "    @param text string\n",
    "    @return text string\n",
    "    \n",
    "    This function preprocess a given raw text by normalizing it to lowercase removing the stop words,\n",
    "    punctuations and lemmatization\n",
    "    \"\"\"\n",
    "        \n",
    "    #string to lowercase\n",
    "    txt = text.lower()\n",
    "    \n",
    "    # keep only ascii characters\n",
    "    txt = re.sub(r\"[^a-zA-ZÀ-ÿ]\", \" \", txt)\n",
    "    \n",
    "    # punctuation removal and map it to space\n",
    "    translator = str.maketrans(punctuations, \" \"*len(punctuations))\n",
    "    s = txt.translate(translator)\n",
    "    \n",
    "    # remove digits \n",
    "    no_digits = ''.join([i for i in s if not i.isdigit()])\n",
    "    cleaner = \" \".join(no_digits.split())\n",
    "    \n",
    "    # tokenize words and removing stop words \n",
    "    word_tokens = word_tokenize(cleaner)\n",
    "    filtered_sentence = [w for w in word_tokens if len(w)>2 ]\n",
    "    filtered_sentence = \" \".join(filtered_sentence)\n",
    "    \n",
    "    return filtered_sentence"
   ]
  },
  {
   "cell_type": "code",
   "execution_count": 7,
   "id": "4ca8ed32",
   "metadata": {},
   "outputs": [],
   "source": [
    "train['clean_text'] = train.Text.apply(preprocess_text)\n",
    "test['clean_text'] = test.Text.apply(preprocess_text)"
   ]
  },
  {
   "cell_type": "code",
   "execution_count": 8,
   "id": "5cc480da",
   "metadata": {},
   "outputs": [
    {
     "data": {
      "text/html": [
       "<div>\n",
       "<style scoped>\n",
       "    .dataframe tbody tr th:only-of-type {\n",
       "        vertical-align: middle;\n",
       "    }\n",
       "\n",
       "    .dataframe tbody tr th {\n",
       "        vertical-align: top;\n",
       "    }\n",
       "\n",
       "    .dataframe thead th {\n",
       "        text-align: right;\n",
       "    }\n",
       "</style>\n",
       "<table border=\"1\" class=\"dataframe\">\n",
       "  <thead>\n",
       "    <tr style=\"text-align: right;\">\n",
       "      <th></th>\n",
       "      <th>ID</th>\n",
       "      <th>Text</th>\n",
       "      <th>Label</th>\n",
       "      <th>clean_text</th>\n",
       "    </tr>\n",
       "  </thead>\n",
       "  <tbody>\n",
       "    <tr>\n",
       "      <th>1039</th>\n",
       "      <td>ID_mzUtQMiT</td>\n",
       "      <td>ambwandira msilikali ku salima apolisi chiga...</td>\n",
       "      <td>SOCIAL ISSUES</td>\n",
       "      <td>ambwandira msilikali salima apolisi chigawo ch...</td>\n",
       "    </tr>\n",
       "    <tr>\n",
       "      <th>461</th>\n",
       "      <td>ID_RpsAAjdq</td>\n",
       "      <td>kulumana ofunika kulandira chakudya kusankha...</td>\n",
       "      <td>ECONOMY</td>\n",
       "      <td>kulumana ofunika kulandira chakudya kusankha o...</td>\n",
       "    </tr>\n",
       "    <tr>\n",
       "      <th>1012</th>\n",
       "      <td>ID_mAsNFIeK</td>\n",
       "      <td>mphekesera zizunza ku mangochi zina ukamva k...</td>\n",
       "      <td>SOCIAL ISSUES</td>\n",
       "      <td>mphekesera zizunza mangochi zina ukamva kamba ...</td>\n",
       "    </tr>\n",
       "    <tr>\n",
       "      <th>1279</th>\n",
       "      <td>ID_ujFvdNCX</td>\n",
       "      <td>papa wasankha mamembala atsopano sukulu ya uka...</td>\n",
       "      <td>EDUCATION</td>\n",
       "      <td>papa wasankha mamembala atsopano sukulu ukache...</td>\n",
       "    </tr>\n",
       "    <tr>\n",
       "      <th>393</th>\n",
       "      <td>ID_PLSOyJqq</td>\n",
       "      <td>kusowa kwa magazi mankhwala ku qech odwala k...</td>\n",
       "      <td>HEALTH</td>\n",
       "      <td>kusowa kwa magazi mankhwala qech odwala kuchip...</td>\n",
       "    </tr>\n",
       "  </tbody>\n",
       "</table>\n",
       "</div>"
      ],
      "text/plain": [
       "               ID                                               Text  \\\n",
       "1039  ID_mzUtQMiT    ambwandira msilikali ku salima apolisi chiga...   \n",
       "461   ID_RpsAAjdq    kulumana ofunika kulandira chakudya kusankha...   \n",
       "1012  ID_mAsNFIeK    mphekesera zizunza ku mangochi zina ukamva k...   \n",
       "1279  ID_ujFvdNCX  papa wasankha mamembala atsopano sukulu ya uka...   \n",
       "393   ID_PLSOyJqq    kusowa kwa magazi mankhwala ku qech odwala k...   \n",
       "\n",
       "              Label                                         clean_text  \n",
       "1039  SOCIAL ISSUES  ambwandira msilikali salima apolisi chigawo ch...  \n",
       "461         ECONOMY  kulumana ofunika kulandira chakudya kusankha o...  \n",
       "1012  SOCIAL ISSUES  mphekesera zizunza mangochi zina ukamva kamba ...  \n",
       "1279      EDUCATION  papa wasankha mamembala atsopano sukulu ukache...  \n",
       "393          HEALTH  kusowa kwa magazi mankhwala qech odwala kuchip...  "
      ]
     },
     "execution_count": 8,
     "metadata": {},
     "output_type": "execute_result"
    }
   ],
   "source": [
    "train.sample(5)"
   ]
  },
  {
   "cell_type": "code",
   "execution_count": 11,
   "id": "ddf826ac",
   "metadata": {},
   "outputs": [],
   "source": [
    "from sklearn.feature_extraction.text import CountVectorizer, TfidfTransformer\n",
    "\n",
    "pipeline = Pipeline(\n",
    "    [\n",
    "        (\"vect\", CountVectorizer()),\n",
    "        (\"tfidf\", TfidfTransformer()),\n",
    "        (\"classifier\", KNeighborsClassifier()),\n",
    "    ]\n",
    ")"
   ]
  },
  {
   "cell_type": "code",
   "execution_count": 12,
   "id": "f5d59d9e",
   "metadata": {},
   "outputs": [
    {
     "name": "stdout",
     "output_type": "stream",
     "text": [
      "[0.57291667 0.54006969 0.59930314 0.54703833 0.55749129]\n"
     ]
    }
   ],
   "source": [
    "scores = cross_val_score(pipeline, train['clean_text'], train['Label'], cv=5, scoring='precision_micro')\n",
    "print(scores)"
   ]
  },
  {
   "cell_type": "code",
   "execution_count": 13,
   "id": "1b007610",
   "metadata": {},
   "outputs": [
    {
     "name": "stdout",
     "output_type": "stream",
     "text": [
      "Final score is 0.5633638211382113\n"
     ]
    }
   ],
   "source": [
    "print(f\"Final score is {scores.mean()}\")"
   ]
  },
  {
   "cell_type": "code",
   "execution_count": 14,
   "id": "ed01c434",
   "metadata": {},
   "outputs": [],
   "source": [
    "pipeline.fit( train['clean_text'], train['Label'])\n",
    "test.loc[:,\"Label\"] = pipeline.predict(test['Text'])"
   ]
  },
  {
   "cell_type": "code",
   "execution_count": 15,
   "id": "d02ff3e0",
   "metadata": {
    "scrolled": true
   },
   "outputs": [
    {
     "data": {
      "text/html": [
       "<div>\n",
       "<style scoped>\n",
       "    .dataframe tbody tr th:only-of-type {\n",
       "        vertical-align: middle;\n",
       "    }\n",
       "\n",
       "    .dataframe tbody tr th {\n",
       "        vertical-align: top;\n",
       "    }\n",
       "\n",
       "    .dataframe thead th {\n",
       "        text-align: right;\n",
       "    }\n",
       "</style>\n",
       "<table border=\"1\" class=\"dataframe\">\n",
       "  <thead>\n",
       "    <tr style=\"text-align: right;\">\n",
       "      <th></th>\n",
       "      <th>ID</th>\n",
       "      <th>Label</th>\n",
       "    </tr>\n",
       "  </thead>\n",
       "  <tbody>\n",
       "    <tr>\n",
       "      <th>0</th>\n",
       "      <td>ID_ADHEtjTi</td>\n",
       "      <td>RELIGION</td>\n",
       "    </tr>\n",
       "    <tr>\n",
       "      <th>1</th>\n",
       "      <td>ID_AHfJktdQ</td>\n",
       "      <td>RELIGION</td>\n",
       "    </tr>\n",
       "    <tr>\n",
       "      <th>2</th>\n",
       "      <td>ID_AUJIHpZr</td>\n",
       "      <td>RELATIONSHIPS</td>\n",
       "    </tr>\n",
       "    <tr>\n",
       "      <th>3</th>\n",
       "      <td>ID_AUKYBbIM</td>\n",
       "      <td>POLITICS</td>\n",
       "    </tr>\n",
       "    <tr>\n",
       "      <th>4</th>\n",
       "      <td>ID_AZnsVPEi</td>\n",
       "      <td>EDUCATION</td>\n",
       "    </tr>\n",
       "    <tr>\n",
       "      <th>...</th>\n",
       "      <td>...</td>\n",
       "      <td>...</td>\n",
       "    </tr>\n",
       "    <tr>\n",
       "      <th>615</th>\n",
       "      <td>ID_zdpOUWyJ</td>\n",
       "      <td>POLITICS</td>\n",
       "    </tr>\n",
       "    <tr>\n",
       "      <th>616</th>\n",
       "      <td>ID_zhnOomuu</td>\n",
       "      <td>RELATIONSHIPS</td>\n",
       "    </tr>\n",
       "    <tr>\n",
       "      <th>617</th>\n",
       "      <td>ID_zmWHvBJb</td>\n",
       "      <td>LAW/ORDER</td>\n",
       "    </tr>\n",
       "    <tr>\n",
       "      <th>618</th>\n",
       "      <td>ID_zphjdFIb</td>\n",
       "      <td>RELATIONSHIPS</td>\n",
       "    </tr>\n",
       "    <tr>\n",
       "      <th>619</th>\n",
       "      <td>ID_ztdtrNxt</td>\n",
       "      <td>POLITICS</td>\n",
       "    </tr>\n",
       "  </tbody>\n",
       "</table>\n",
       "<p>620 rows × 2 columns</p>\n",
       "</div>"
      ],
      "text/plain": [
       "              ID          Label\n",
       "0    ID_ADHEtjTi       RELIGION\n",
       "1    ID_AHfJktdQ       RELIGION\n",
       "2    ID_AUJIHpZr  RELATIONSHIPS\n",
       "3    ID_AUKYBbIM       POLITICS\n",
       "4    ID_AZnsVPEi      EDUCATION\n",
       "..           ...            ...\n",
       "615  ID_zdpOUWyJ       POLITICS\n",
       "616  ID_zhnOomuu  RELATIONSHIPS\n",
       "617  ID_zmWHvBJb      LAW/ORDER\n",
       "618  ID_zphjdFIb  RELATIONSHIPS\n",
       "619  ID_ztdtrNxt       POLITICS\n",
       "\n",
       "[620 rows x 2 columns]"
      ]
     },
     "execution_count": 15,
     "metadata": {},
     "output_type": "execute_result"
    }
   ],
   "source": [
    "test[['ID','Label']]"
   ]
  },
  {
   "cell_type": "code",
   "execution_count": 16,
   "id": "af28e910",
   "metadata": {},
   "outputs": [],
   "source": [
    "#test[['ID','Label']].to_csv(\"submission.csv\", index=False) "
   ]
  },
  {
   "cell_type": "markdown",
   "id": "b5282928",
   "metadata": {},
   "source": [
    "#### Submitted to website and got accuracy of 57.7%"
   ]
  }
 ],
 "metadata": {
  "kernelspec": {
   "display_name": "Python 3 (ipykernel)",
   "language": "python",
   "name": "python3"
  },
  "language_info": {
   "codemirror_mode": {
    "name": "ipython",
    "version": 3
   },
   "file_extension": ".py",
   "mimetype": "text/x-python",
   "name": "python",
   "nbconvert_exporter": "python",
   "pygments_lexer": "ipython3",
   "version": "3.8.8"
  }
 },
 "nbformat": 4,
 "nbformat_minor": 5
}
