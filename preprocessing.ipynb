{
 "cells": [
  {
   "cell_type": "code",
   "execution_count": 1,
   "id": "6f95ef4a-a2af-43d7-ace9-850a9dbdb118",
   "metadata": {},
   "outputs": [],
   "source": [
    "import spacy\n",
    "import pandas as pd"
   ]
  },
  {
   "cell_type": "code",
   "execution_count": 2,
   "id": "7bb4b296-6439-4c7d-836b-f9e3c7e10bd3",
   "metadata": {},
   "outputs": [
    {
     "data": {
      "text/html": [
       "<div>\n",
       "<style scoped>\n",
       "    .dataframe tbody tr th:only-of-type {\n",
       "        vertical-align: middle;\n",
       "    }\n",
       "\n",
       "    .dataframe tbody tr th {\n",
       "        vertical-align: top;\n",
       "    }\n",
       "\n",
       "    .dataframe thead th {\n",
       "        text-align: right;\n",
       "    }\n",
       "</style>\n",
       "<table border=\"1\" class=\"dataframe\">\n",
       "  <thead>\n",
       "    <tr style=\"text-align: right;\">\n",
       "      <th></th>\n",
       "      <th>ID</th>\n",
       "      <th>Text</th>\n",
       "      <th>Label</th>\n",
       "    </tr>\n",
       "  </thead>\n",
       "  <tbody>\n",
       "    <tr>\n",
       "      <th>0</th>\n",
       "      <td>ID_AASHwXxg</td>\n",
       "      <td>Mwangonde: Khansala wachinyamata Akamati achi...</td>\n",
       "      <td>POLITICS</td>\n",
       "    </tr>\n",
       "    <tr>\n",
       "      <th>1</th>\n",
       "      <td>ID_AGoFySzn</td>\n",
       "      <td>MCP siidakhutire ndi kalembera Chipani cha Ma...</td>\n",
       "      <td>POLITICS</td>\n",
       "    </tr>\n",
       "    <tr>\n",
       "      <th>2</th>\n",
       "      <td>ID_AGrrkBGP</td>\n",
       "      <td>Bungwe la MANEPO Lapempha Boma Liganizire Anth...</td>\n",
       "      <td>HEALTH</td>\n",
       "    </tr>\n",
       "    <tr>\n",
       "      <th>3</th>\n",
       "      <td>ID_AIJeigeG</td>\n",
       "      <td>Ndale zogawanitsa miyambo zanyanya Si zachile...</td>\n",
       "      <td>POLITICS</td>\n",
       "    </tr>\n",
       "    <tr>\n",
       "      <th>4</th>\n",
       "      <td>ID_APMprMbV</td>\n",
       "      <td>Nanga wapolisi ataphofomoka? Masiku ano sichi...</td>\n",
       "      <td>LAW/ORDER</td>\n",
       "    </tr>\n",
       "    <tr>\n",
       "      <th>...</th>\n",
       "      <td>...</td>\n",
       "      <td>...</td>\n",
       "      <td>...</td>\n",
       "    </tr>\n",
       "    <tr>\n",
       "      <th>1431</th>\n",
       "      <td>ID_zmTmmEio</td>\n",
       "      <td>Eni Minibus Ati Ali ndi Ufulu Wokweza Mitengo ...</td>\n",
       "      <td>TRANSPORT</td>\n",
       "    </tr>\n",
       "    <tr>\n",
       "      <th>1432</th>\n",
       "      <td>ID_znOlIaGQ</td>\n",
       "      <td>Kachali apepesa: Kulankhula motumbwa kuthe An...</td>\n",
       "      <td>POLITICS</td>\n",
       "    </tr>\n",
       "    <tr>\n",
       "      <th>1433</th>\n",
       "      <td>ID_znracTjN</td>\n",
       "      <td>Mawu supports non-fiction writers The Malawi ...</td>\n",
       "      <td>EDUCATION</td>\n",
       "    </tr>\n",
       "    <tr>\n",
       "      <th>1434</th>\n",
       "      <td>ID_ztdsmmva</td>\n",
       "      <td>Tame Mwawa: Phwete ndiye kudya kwake Sewero l...</td>\n",
       "      <td>SOCIAL ISSUES</td>\n",
       "    </tr>\n",
       "    <tr>\n",
       "      <th>1435</th>\n",
       "      <td>ID_zteydTpN</td>\n",
       "      <td>PAC iunguza za boma la chifedulo Nthumwi zomw...</td>\n",
       "      <td>POLITICS</td>\n",
       "    </tr>\n",
       "  </tbody>\n",
       "</table>\n",
       "<p>1436 rows × 3 columns</p>\n",
       "</div>"
      ],
      "text/plain": [
       "               ID                                               Text  \\\n",
       "0     ID_AASHwXxg   Mwangonde: Khansala wachinyamata Akamati achi...   \n",
       "1     ID_AGoFySzn   MCP siidakhutire ndi kalembera Chipani cha Ma...   \n",
       "2     ID_AGrrkBGP  Bungwe la MANEPO Lapempha Boma Liganizire Anth...   \n",
       "3     ID_AIJeigeG   Ndale zogawanitsa miyambo zanyanya Si zachile...   \n",
       "4     ID_APMprMbV   Nanga wapolisi ataphofomoka? Masiku ano sichi...   \n",
       "...           ...                                                ...   \n",
       "1431  ID_zmTmmEio  Eni Minibus Ati Ali ndi Ufulu Wokweza Mitengo ...   \n",
       "1432  ID_znOlIaGQ   Kachali apepesa: Kulankhula motumbwa kuthe An...   \n",
       "1433  ID_znracTjN   Mawu supports non-fiction writers The Malawi ...   \n",
       "1434  ID_ztdsmmva   Tame Mwawa: Phwete ndiye kudya kwake Sewero l...   \n",
       "1435  ID_zteydTpN   PAC iunguza za boma la chifedulo Nthumwi zomw...   \n",
       "\n",
       "              Label  \n",
       "0          POLITICS  \n",
       "1          POLITICS  \n",
       "2            HEALTH  \n",
       "3          POLITICS  \n",
       "4         LAW/ORDER  \n",
       "...             ...  \n",
       "1431      TRANSPORT  \n",
       "1432       POLITICS  \n",
       "1433      EDUCATION  \n",
       "1434  SOCIAL ISSUES  \n",
       "1435       POLITICS  \n",
       "\n",
       "[1436 rows x 3 columns]"
      ]
     },
     "execution_count": 2,
     "metadata": {},
     "output_type": "execute_result"
    }
   ],
   "source": [
    "train_data = pd.read_csv(\"Train.csv\")\n",
    "train_data"
   ]
  },
  {
   "cell_type": "code",
   "execution_count": 5,
   "id": "08fcc334-2d41-4d32-b664-fa9137a0f083",
   "metadata": {},
   "outputs": [
    {
     "data": {
      "text/plain": [
       "POLITICS                0.194290\n",
       "SOCIAL                  0.105850\n",
       "RELIGION                0.102368\n",
       "LAW/ORDER               0.094708\n",
       "SOCIAL ISSUES           0.093315\n",
       "HEALTH                  0.088440\n",
       "ECONOMY                 0.059889\n",
       "FARMING                 0.054318\n",
       "SPORTS                  0.034123\n",
       "EDUCATION               0.029944\n",
       "RELATIONSHIPS           0.027159\n",
       "WILDLIFE/ENVIRONMENT    0.025070\n",
       "OPINION/ESSAY           0.018106\n",
       "LOCALCHIEFS             0.017409\n",
       "CULTURE                 0.016017\n",
       "WITCHCRAFT              0.011142\n",
       "MUSIC                   0.010446\n",
       "TRANSPORT               0.007660\n",
       "ARTS AND CRAFTS         0.004875\n",
       "FLOODING                0.004875\n",
       "Name: Label, dtype: float64"
      ]
     },
     "execution_count": 5,
     "metadata": {},
     "output_type": "execute_result"
    }
   ],
   "source": [
    "train_data[\"Label\"].value_counts() / len(train_data)"
   ]
  },
  {
   "cell_type": "code",
   "execution_count": null,
   "id": "47cd8013-c82e-4ff4-8a59-c3a8412f4f33",
   "metadata": {},
   "outputs": [],
   "source": []
  }
 ],
 "metadata": {
  "kernelspec": {
   "display_name": "Python 3 (ipykernel)",
   "language": "python",
   "name": "python3"
  },
  "language_info": {
   "codemirror_mode": {
    "name": "ipython",
    "version": 3
   },
   "file_extension": ".py",
   "mimetype": "text/x-python",
   "name": "python",
   "nbconvert_exporter": "python",
   "pygments_lexer": "ipython3",
   "version": "3.8.11"
  }
 },
 "nbformat": 4,
 "nbformat_minor": 5
}
