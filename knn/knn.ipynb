{
 "cells": [
  {
   "cell_type": "markdown",
   "id": "aee1394d",
   "metadata": {},
   "source": [
    "## KNN Model 57.7% Accuracy"
   ]
  },
  {
   "cell_type": "code",
   "execution_count": 1,
   "id": "f7c3ff9f",
   "metadata": {},
   "outputs": [
    {
     "name": "stderr",
     "output_type": "stream",
     "text": [
      "[nltk_data] Downloading package punkt to /Users/ktyser/nltk_data...\n",
      "[nltk_data]   Package punkt is already up-to-date!\n",
      "[nltk_data] Downloading package wordnet to /Users/ktyser/nltk_data...\n",
      "[nltk_data]   Package wordnet is already up-to-date!\n"
     ]
    },
    {
     "data": {
      "text/plain": [
       "True"
      ]
     },
     "execution_count": 1,
     "metadata": {},
     "output_type": "execute_result"
    }
   ],
   "source": [
    "from sklearn.pipeline import Pipeline\n",
    "from sklearn.feature_extraction.text import TfidfVectorizer\n",
    "from sklearn.preprocessing import FunctionTransformer\n",
    "from sklearn.neighbors import KNeighborsClassifier\n",
    "from sklearn.model_selection import cross_val_score\n",
    "\n",
    "from nltk import word_tokenize\n",
    "from time import time\n",
    "import pandas as pd\n",
    "import re\n",
    "import numpy as np\n",
    "import gensim\n",
    "import string\n",
    "import nltk\n",
    "nltk.download('punkt')\n",
    "nltk.download('wordnet')"
   ]
  },
  {
   "cell_type": "code",
   "execution_count": 2,
   "id": "d9bbaaed",
   "metadata": {},
   "outputs": [
    {
     "data": {
      "text/html": [
       "<div>\n",
       "<style scoped>\n",
       "    .dataframe tbody tr th:only-of-type {\n",
       "        vertical-align: middle;\n",
       "    }\n",
       "\n",
       "    .dataframe tbody tr th {\n",
       "        vertical-align: top;\n",
       "    }\n",
       "\n",
       "    .dataframe thead th {\n",
       "        text-align: right;\n",
       "    }\n",
       "</style>\n",
       "<table border=\"1\" class=\"dataframe\">\n",
       "  <thead>\n",
       "    <tr style=\"text-align: right;\">\n",
       "      <th></th>\n",
       "      <th>ID</th>\n",
       "      <th>Text</th>\n",
       "      <th>Label</th>\n",
       "    </tr>\n",
       "  </thead>\n",
       "  <tbody>\n",
       "    <tr>\n",
       "      <th>545</th>\n",
       "      <td>ID_UBOLNVpY</td>\n",
       "      <td>papa wasankha episkopi watsopano mdziko la zam...</td>\n",
       "      <td>POLITICS</td>\n",
       "    </tr>\n",
       "    <tr>\n",
       "      <th>1156</th>\n",
       "      <td>ID_rRdPFWiq</td>\n",
       "      <td>chilima akhazikitsa utm ku blantyre wachiwir...</td>\n",
       "      <td>POLITICS</td>\n",
       "    </tr>\n",
       "    <tr>\n",
       "      <th>1174</th>\n",
       "      <td>ID_rppBoGTW</td>\n",
       "      <td>aletsa zionetsero ku nkhata bay gulu la omwe...</td>\n",
       "      <td>POLITICS</td>\n",
       "    </tr>\n",
       "    <tr>\n",
       "      <th>263</th>\n",
       "      <td>ID_JgJAOkcP</td>\n",
       "      <td>kafukufuku wa cashgate sadayankhe mabungwe o...</td>\n",
       "      <td>LAW/ORDER</td>\n",
       "    </tr>\n",
       "    <tr>\n",
       "      <th>1415</th>\n",
       "      <td>ID_zIhIOWoW</td>\n",
       "      <td>achotsa mavenda popanda ziwawa ku lilongwe k...</td>\n",
       "      <td>ECONOMY</td>\n",
       "    </tr>\n",
       "  </tbody>\n",
       "</table>\n",
       "</div>"
      ],
      "text/plain": [
       "               ID                                               Text  \\\n",
       "545   ID_UBOLNVpY  papa wasankha episkopi watsopano mdziko la zam...   \n",
       "1156  ID_rRdPFWiq    chilima akhazikitsa utm ku blantyre wachiwir...   \n",
       "1174  ID_rppBoGTW    aletsa zionetsero ku nkhata bay gulu la omwe...   \n",
       "263   ID_JgJAOkcP    kafukufuku wa cashgate sadayankhe mabungwe o...   \n",
       "1415  ID_zIhIOWoW    achotsa mavenda popanda ziwawa ku lilongwe k...   \n",
       "\n",
       "          Label  \n",
       "545    POLITICS  \n",
       "1156   POLITICS  \n",
       "1174   POLITICS  \n",
       "263   LAW/ORDER  \n",
       "1415    ECONOMY  "
      ]
     },
     "execution_count": 2,
     "metadata": {},
     "output_type": "execute_result"
    }
   ],
   "source": [
    "train = pd.read_csv(\"Train-no-stopwords.csv\")\n",
    "train.sample(5)"
   ]
  },
  {
   "cell_type": "code",
   "execution_count": 3,
   "id": "26a1b292",
   "metadata": {},
   "outputs": [
    {
     "data": {
      "text/html": [
       "<div>\n",
       "<style scoped>\n",
       "    .dataframe tbody tr th:only-of-type {\n",
       "        vertical-align: middle;\n",
       "    }\n",
       "\n",
       "    .dataframe tbody tr th {\n",
       "        vertical-align: top;\n",
       "    }\n",
       "\n",
       "    .dataframe thead th {\n",
       "        text-align: right;\n",
       "    }\n",
       "</style>\n",
       "<table border=\"1\" class=\"dataframe\">\n",
       "  <thead>\n",
       "    <tr style=\"text-align: right;\">\n",
       "      <th></th>\n",
       "      <th>ID</th>\n",
       "      <th>Text</th>\n",
       "    </tr>\n",
       "  </thead>\n",
       "  <tbody>\n",
       "    <tr>\n",
       "      <th>204</th>\n",
       "      <td>ID_PtjshlCW</td>\n",
       "      <td>Superior Boxing Yakonza Nkhonya Yapamwamba Bun...</td>\n",
       "    </tr>\n",
       "    <tr>\n",
       "      <th>2</th>\n",
       "      <td>ID_AUJIHpZr</td>\n",
       "      <td>Anatcheleza: Akundiopseza a gogo wanga Akundi...</td>\n",
       "    </tr>\n",
       "    <tr>\n",
       "      <th>194</th>\n",
       "      <td>ID_OhTcDpdl</td>\n",
       "      <td>Za pasipoti ya Gaba sizikumveka Sabatayi yakh...</td>\n",
       "    </tr>\n",
       "    <tr>\n",
       "      <th>20</th>\n",
       "      <td>ID_BYTupytC</td>\n",
       "      <td>ECM Yapereka Ndondomeko Zatsopano za Mapempher...</td>\n",
       "    </tr>\n",
       "    <tr>\n",
       "      <th>230</th>\n",
       "      <td>ID_SkRPoSoE</td>\n",
       "      <td>Pulogalamu ya ECRP yatha Pulogalamu yophunzit...</td>\n",
       "    </tr>\n",
       "  </tbody>\n",
       "</table>\n",
       "</div>"
      ],
      "text/plain": [
       "              ID                                               Text\n",
       "204  ID_PtjshlCW  Superior Boxing Yakonza Nkhonya Yapamwamba Bun...\n",
       "2    ID_AUJIHpZr   Anatcheleza: Akundiopseza a gogo wanga Akundi...\n",
       "194  ID_OhTcDpdl   Za pasipoti ya Gaba sizikumveka Sabatayi yakh...\n",
       "20   ID_BYTupytC  ECM Yapereka Ndondomeko Zatsopano za Mapempher...\n",
       "230  ID_SkRPoSoE   Pulogalamu ya ECRP yatha Pulogalamu yophunzit..."
      ]
     },
     "execution_count": 3,
     "metadata": {},
     "output_type": "execute_result"
    }
   ],
   "source": [
    "test = pd.read_csv(\"Test.csv\")\n",
    "test.sample(5)"
   ]
  },
  {
   "cell_type": "code",
   "execution_count": 4,
   "id": "3af575c7",
   "metadata": {},
   "outputs": [],
   "source": [
    "punctuations = string.punctuation + \"’¶•@°©®™\""
   ]
  },
  {
   "cell_type": "code",
   "execution_count": 5,
   "id": "177a81cb",
   "metadata": {},
   "outputs": [],
   "source": [
    "def preprocess_text(text):\n",
    "    \"\"\"\n",
    "    @param text string\n",
    "    @return text string\n",
    "    \n",
    "    This function preprocess a given raw text by normalizing it to lowercase removing the stop words,\n",
    "    punctuations and lemmatization\n",
    "    \"\"\"\n",
    "        \n",
    "    #string to lowercase\n",
    "    txt = text.lower()\n",
    "    \n",
    "    # keep only ascii characters\n",
    "    txt = re.sub(r\"[^a-zA-ZÀ-ÿ]\", \" \", txt)\n",
    "    \n",
    "    # punctuation removal and map it to space\n",
    "    translator = str.maketrans(punctuations, \" \"*len(punctuations))\n",
    "    s = txt.translate(translator)\n",
    "    \n",
    "    # remove digits \n",
    "    no_digits = ''.join([i for i in s if not i.isdigit()])\n",
    "    cleaner = \" \".join(no_digits.split())\n",
    "    \n",
    "    # tokenize words and removing stop words \n",
    "    word_tokens = word_tokenize(cleaner)\n",
    "    filtered_sentence = [w for w in word_tokens if len(w)>2 ]\n",
    "    filtered_sentence = \" \".join(filtered_sentence)\n",
    "    \n",
    "    return filtered_sentence"
   ]
  },
  {
   "cell_type": "code",
   "execution_count": 6,
   "id": "4ca8ed32",
   "metadata": {},
   "outputs": [],
   "source": [
    "# preprocessing the text\n",
    "train['clean_text'] = train.Text.apply(preprocess_text)\n",
    "test['clean_text'] = test.Text.apply(preprocess_text)"
   ]
  },
  {
   "cell_type": "code",
   "execution_count": 7,
   "id": "5cc480da",
   "metadata": {},
   "outputs": [
    {
     "data": {
      "text/html": [
       "<div>\n",
       "<style scoped>\n",
       "    .dataframe tbody tr th:only-of-type {\n",
       "        vertical-align: middle;\n",
       "    }\n",
       "\n",
       "    .dataframe tbody tr th {\n",
       "        vertical-align: top;\n",
       "    }\n",
       "\n",
       "    .dataframe thead th {\n",
       "        text-align: right;\n",
       "    }\n",
       "</style>\n",
       "<table border=\"1\" class=\"dataframe\">\n",
       "  <thead>\n",
       "    <tr style=\"text-align: right;\">\n",
       "      <th></th>\n",
       "      <th>ID</th>\n",
       "      <th>Text</th>\n",
       "      <th>Label</th>\n",
       "      <th>clean_text</th>\n",
       "    </tr>\n",
       "  </thead>\n",
       "  <tbody>\n",
       "    <tr>\n",
       "      <th>37</th>\n",
       "      <td>ID_BxXcyHsk</td>\n",
       "      <td>mafumu ku zambia akulowerera kwa mkanda   ch...</td>\n",
       "      <td>POLITICS</td>\n",
       "      <td>mafumu zambia akulowerera kwa mkanda chisale w...</td>\n",
       "    </tr>\n",
       "    <tr>\n",
       "      <th>1413</th>\n",
       "      <td>ID_zEqcsLPA</td>\n",
       "      <td>mutharika asankha nduna pangotha maola sipik...</td>\n",
       "      <td>POLITICS</td>\n",
       "      <td>mutharika asankha nduna pangotha maola sipikal...</td>\n",
       "    </tr>\n",
       "    <tr>\n",
       "      <th>1318</th>\n",
       "      <td>ID_vzswgDcX</td>\n",
       "      <td>covid-19 yakolera chiwerengero cha amalawi a...</td>\n",
       "      <td>HEALTH</td>\n",
       "      <td>covid yakolera chiwerengero cha amalawi amene ...</td>\n",
       "    </tr>\n",
       "    <tr>\n",
       "      <th>667</th>\n",
       "      <td>ID_ZNamCvoS</td>\n",
       "      <td>akayidi atsopano adziyezedwa coronavirus mps n...</td>\n",
       "      <td>HEALTH</td>\n",
       "      <td>akayidi atsopano adziyezedwa coronavirus mps n...</td>\n",
       "    </tr>\n",
       "    <tr>\n",
       "      <th>1097</th>\n",
       "      <td>ID_pMEOQLAq</td>\n",
       "      <td>mabungwe athotha galu wakuda ku mj mboma la ...</td>\n",
       "      <td>FARMING</td>\n",
       "      <td>mabungwe athotha galu wakuda mboma mulanje omw...</td>\n",
       "    </tr>\n",
       "  </tbody>\n",
       "</table>\n",
       "</div>"
      ],
      "text/plain": [
       "               ID                                               Text  \\\n",
       "37    ID_BxXcyHsk    mafumu ku zambia akulowerera kwa mkanda   ch...   \n",
       "1413  ID_zEqcsLPA    mutharika asankha nduna pangotha maola sipik...   \n",
       "1318  ID_vzswgDcX    covid-19 yakolera chiwerengero cha amalawi a...   \n",
       "667   ID_ZNamCvoS  akayidi atsopano adziyezedwa coronavirus mps n...   \n",
       "1097  ID_pMEOQLAq    mabungwe athotha galu wakuda ku mj mboma la ...   \n",
       "\n",
       "         Label                                         clean_text  \n",
       "37    POLITICS  mafumu zambia akulowerera kwa mkanda chisale w...  \n",
       "1413  POLITICS  mutharika asankha nduna pangotha maola sipikal...  \n",
       "1318    HEALTH  covid yakolera chiwerengero cha amalawi amene ...  \n",
       "667     HEALTH  akayidi atsopano adziyezedwa coronavirus mps n...  \n",
       "1097   FARMING  mabungwe athotha galu wakuda mboma mulanje omw...  "
      ]
     },
     "execution_count": 7,
     "metadata": {},
     "output_type": "execute_result"
    }
   ],
   "source": [
    "train.sample(5)"
   ]
  },
  {
   "cell_type": "code",
   "execution_count": 8,
   "id": "ddf826ac",
   "metadata": {},
   "outputs": [],
   "source": [
    "# creating the pipeline\n",
    "from sklearn.feature_extraction.text import CountVectorizer, TfidfTransformer\n",
    "\n",
    "pipeline = Pipeline(\n",
    "    [\n",
    "        (\"vect\", CountVectorizer()),\n",
    "        (\"tfidf\", TfidfTransformer()),\n",
    "        (\"classifier\", KNeighborsClassifier()),\n",
    "    ]\n",
    ")"
   ]
  },
  {
   "cell_type": "code",
   "execution_count": 9,
   "id": "f5d59d9e",
   "metadata": {},
   "outputs": [
    {
     "name": "stdout",
     "output_type": "stream",
     "text": [
      "[0.57291667 0.54006969 0.59930314 0.54703833 0.55749129]\n"
     ]
    }
   ],
   "source": [
    "# evaluating model\n",
    "scores = cross_val_score(pipeline, train['clean_text'], train['Label'], cv=5, scoring='precision_micro')\n",
    "print(scores)"
   ]
  },
  {
   "cell_type": "code",
   "execution_count": 10,
   "id": "1b007610",
   "metadata": {},
   "outputs": [
    {
     "name": "stdout",
     "output_type": "stream",
     "text": [
      "Final score is 0.5633638211382113\n"
     ]
    }
   ],
   "source": [
    "print(f\"Final score is {scores.mean()}\")"
   ]
  },
  {
   "cell_type": "code",
   "execution_count": 11,
   "id": "ed01c434",
   "metadata": {},
   "outputs": [],
   "source": [
    "# making predictions\n",
    "pipeline.fit( train['clean_text'], train['Label'])\n",
    "test.loc[:,\"Label\"] = pipeline.predict(test['Text'])"
   ]
  },
  {
   "cell_type": "code",
   "execution_count": 12,
   "id": "d02ff3e0",
   "metadata": {
    "scrolled": true
   },
   "outputs": [
    {
     "data": {
      "text/html": [
       "<div>\n",
       "<style scoped>\n",
       "    .dataframe tbody tr th:only-of-type {\n",
       "        vertical-align: middle;\n",
       "    }\n",
       "\n",
       "    .dataframe tbody tr th {\n",
       "        vertical-align: top;\n",
       "    }\n",
       "\n",
       "    .dataframe thead th {\n",
       "        text-align: right;\n",
       "    }\n",
       "</style>\n",
       "<table border=\"1\" class=\"dataframe\">\n",
       "  <thead>\n",
       "    <tr style=\"text-align: right;\">\n",
       "      <th></th>\n",
       "      <th>ID</th>\n",
       "      <th>Label</th>\n",
       "    </tr>\n",
       "  </thead>\n",
       "  <tbody>\n",
       "    <tr>\n",
       "      <th>0</th>\n",
       "      <td>ID_ADHEtjTi</td>\n",
       "      <td>RELIGION</td>\n",
       "    </tr>\n",
       "    <tr>\n",
       "      <th>1</th>\n",
       "      <td>ID_AHfJktdQ</td>\n",
       "      <td>RELIGION</td>\n",
       "    </tr>\n",
       "    <tr>\n",
       "      <th>2</th>\n",
       "      <td>ID_AUJIHpZr</td>\n",
       "      <td>RELATIONSHIPS</td>\n",
       "    </tr>\n",
       "    <tr>\n",
       "      <th>3</th>\n",
       "      <td>ID_AUKYBbIM</td>\n",
       "      <td>POLITICS</td>\n",
       "    </tr>\n",
       "    <tr>\n",
       "      <th>4</th>\n",
       "      <td>ID_AZnsVPEi</td>\n",
       "      <td>EDUCATION</td>\n",
       "    </tr>\n",
       "    <tr>\n",
       "      <th>...</th>\n",
       "      <td>...</td>\n",
       "      <td>...</td>\n",
       "    </tr>\n",
       "    <tr>\n",
       "      <th>615</th>\n",
       "      <td>ID_zdpOUWyJ</td>\n",
       "      <td>POLITICS</td>\n",
       "    </tr>\n",
       "    <tr>\n",
       "      <th>616</th>\n",
       "      <td>ID_zhnOomuu</td>\n",
       "      <td>RELATIONSHIPS</td>\n",
       "    </tr>\n",
       "    <tr>\n",
       "      <th>617</th>\n",
       "      <td>ID_zmWHvBJb</td>\n",
       "      <td>LAW/ORDER</td>\n",
       "    </tr>\n",
       "    <tr>\n",
       "      <th>618</th>\n",
       "      <td>ID_zphjdFIb</td>\n",
       "      <td>RELATIONSHIPS</td>\n",
       "    </tr>\n",
       "    <tr>\n",
       "      <th>619</th>\n",
       "      <td>ID_ztdtrNxt</td>\n",
       "      <td>POLITICS</td>\n",
       "    </tr>\n",
       "  </tbody>\n",
       "</table>\n",
       "<p>620 rows × 2 columns</p>\n",
       "</div>"
      ],
      "text/plain": [
       "              ID          Label\n",
       "0    ID_ADHEtjTi       RELIGION\n",
       "1    ID_AHfJktdQ       RELIGION\n",
       "2    ID_AUJIHpZr  RELATIONSHIPS\n",
       "3    ID_AUKYBbIM       POLITICS\n",
       "4    ID_AZnsVPEi      EDUCATION\n",
       "..           ...            ...\n",
       "615  ID_zdpOUWyJ       POLITICS\n",
       "616  ID_zhnOomuu  RELATIONSHIPS\n",
       "617  ID_zmWHvBJb      LAW/ORDER\n",
       "618  ID_zphjdFIb  RELATIONSHIPS\n",
       "619  ID_ztdtrNxt       POLITICS\n",
       "\n",
       "[620 rows x 2 columns]"
      ]
     },
     "execution_count": 12,
     "metadata": {},
     "output_type": "execute_result"
    }
   ],
   "source": [
    "test[['ID','Label']]"
   ]
  },
  {
   "cell_type": "code",
   "execution_count": 13,
   "id": "af28e910",
   "metadata": {},
   "outputs": [],
   "source": [
    "#test[['ID','Label']].to_csv(\"submission.csv\", index=False) "
   ]
  },
  {
   "cell_type": "code",
   "execution_count": 14,
   "id": "faf2cb88",
   "metadata": {},
   "outputs": [
    {
     "data": {
      "text/html": [
       "<div>\n",
       "<style scoped>\n",
       "    .dataframe tbody tr th:only-of-type {\n",
       "        vertical-align: middle;\n",
       "    }\n",
       "\n",
       "    .dataframe tbody tr th {\n",
       "        vertical-align: top;\n",
       "    }\n",
       "\n",
       "    .dataframe thead th {\n",
       "        text-align: right;\n",
       "    }\n",
       "</style>\n",
       "<table border=\"1\" class=\"dataframe\">\n",
       "  <thead>\n",
       "    <tr style=\"text-align: right;\">\n",
       "      <th></th>\n",
       "      <th>ID</th>\n",
       "      <th>Text</th>\n",
       "      <th>SGD</th>\n",
       "      <th>MultiNB</th>\n",
       "      <th>Logistic Regression</th>\n",
       "      <th>KNN</th>\n",
       "    </tr>\n",
       "  </thead>\n",
       "  <tbody>\n",
       "    <tr>\n",
       "      <th>0</th>\n",
       "      <td>ID_ADHEtjTi</td>\n",
       "      <td>Abambo odzikhweza akuchuluka Kafukufuku wa ap...</td>\n",
       "      <td>SOCIAL ISSUES</td>\n",
       "      <td>SOCIAL ISSUES</td>\n",
       "      <td>SOCIAL ISSUES</td>\n",
       "      <td>RELIGION</td>\n",
       "    </tr>\n",
       "    <tr>\n",
       "      <th>1</th>\n",
       "      <td>ID_AHfJktdQ</td>\n",
       "      <td>Ambuye Ziyaye Ayamikira Aphunzitsi a Tilitonse...</td>\n",
       "      <td>RELIGION</td>\n",
       "      <td>RELIGION</td>\n",
       "      <td>RELIGION</td>\n",
       "      <td>RELIGION</td>\n",
       "    </tr>\n",
       "    <tr>\n",
       "      <th>2</th>\n",
       "      <td>ID_AUJIHpZr</td>\n",
       "      <td>Anatcheleza: Akundiopseza a gogo wanga Akundi...</td>\n",
       "      <td>RELATIONSHIPS</td>\n",
       "      <td>RELATIONSHIPS</td>\n",
       "      <td>RELATIONSHIPS</td>\n",
       "      <td>RELATIONSHIPS</td>\n",
       "    </tr>\n",
       "    <tr>\n",
       "      <th>3</th>\n",
       "      <td>ID_AUKYBbIM</td>\n",
       "      <td>Ulova wafika posauzana Adatenga digiri ya uph...</td>\n",
       "      <td>POLITICS</td>\n",
       "      <td>LAW/ORDER</td>\n",
       "      <td>SOCIAL ISSUES</td>\n",
       "      <td>POLITICS</td>\n",
       "    </tr>\n",
       "    <tr>\n",
       "      <th>4</th>\n",
       "      <td>ID_AZnsVPEi</td>\n",
       "      <td>Dzombe kukoma, koma Kuyambira makedzana, pant...</td>\n",
       "      <td>HEALTH</td>\n",
       "      <td>HEALTH</td>\n",
       "      <td>HEALTH</td>\n",
       "      <td>EDUCATION</td>\n",
       "    </tr>\n",
       "  </tbody>\n",
       "</table>\n",
       "</div>"
      ],
      "text/plain": [
       "            ID                                               Text  \\\n",
       "0  ID_ADHEtjTi   Abambo odzikhweza akuchuluka Kafukufuku wa ap...   \n",
       "1  ID_AHfJktdQ  Ambuye Ziyaye Ayamikira Aphunzitsi a Tilitonse...   \n",
       "2  ID_AUJIHpZr   Anatcheleza: Akundiopseza a gogo wanga Akundi...   \n",
       "3  ID_AUKYBbIM   Ulova wafika posauzana Adatenga digiri ya uph...   \n",
       "4  ID_AZnsVPEi   Dzombe kukoma, koma Kuyambira makedzana, pant...   \n",
       "\n",
       "             SGD        MultiNB Logistic Regression            KNN  \n",
       "0  SOCIAL ISSUES  SOCIAL ISSUES       SOCIAL ISSUES       RELIGION  \n",
       "1       RELIGION       RELIGION            RELIGION       RELIGION  \n",
       "2  RELATIONSHIPS  RELATIONSHIPS       RELATIONSHIPS  RELATIONSHIPS  \n",
       "3       POLITICS      LAW/ORDER       SOCIAL ISSUES       POLITICS  \n",
       "4         HEALTH         HEALTH              HEALTH      EDUCATION  "
      ]
     },
     "execution_count": 14,
     "metadata": {},
     "output_type": "execute_result"
    }
   ],
   "source": [
    "combiner = pd.read_csv(\"combiner.csv\")\n",
    "combiner['KNN'] = test['Label']\n",
    "combiner.to_csv('combiner.csv',index=False)\n",
    "combiner.head()"
   ]
  },
  {
   "cell_type": "markdown",
   "id": "b5282928",
   "metadata": {},
   "source": [
    "#### Submitted to website and got accuracy of 57.7%"
   ]
  }
 ],
 "metadata": {
  "kernelspec": {
   "display_name": "Python 3 (ipykernel)",
   "language": "python",
   "name": "python3"
  },
  "language_info": {
   "codemirror_mode": {
    "name": "ipython",
    "version": 3
   },
   "file_extension": ".py",
   "mimetype": "text/x-python",
   "name": "python",
   "nbconvert_exporter": "python",
   "pygments_lexer": "ipython3",
   "version": "3.8.8"
  }
 },
 "nbformat": 4,
 "nbformat_minor": 5
}
