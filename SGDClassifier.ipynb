{
 "cells": [
  {
   "cell_type": "code",
   "execution_count": 1,
   "id": "470da1e3",
   "metadata": {},
   "outputs": [
    {
     "name": "stderr",
     "output_type": "stream",
     "text": [
      "[nltk_data] Downloading package wordnet to\n",
      "[nltk_data]     C:\\Users\\minhc\\AppData\\Roaming\\nltk_data...\n",
      "[nltk_data]   Package wordnet is already up-to-date!\n",
      "[nltk_data] Downloading package omw-1.4 to\n",
      "[nltk_data]     C:\\Users\\minhc\\AppData\\Roaming\\nltk_data...\n",
      "[nltk_data]   Package omw-1.4 is already up-to-date!\n"
     ]
    },
    {
     "data": {
      "text/plain": [
       "True"
      ]
     },
     "execution_count": 1,
     "metadata": {},
     "output_type": "execute_result"
    }
   ],
   "source": [
    "import matplotlib.pyplot as plt\n",
    "from sklearn.pipeline import Pipeline\n",
    "from sklearn.feature_extraction.text import TfidfVectorizer\n",
    "from sklearn.preprocessing import FunctionTransformer, LabelEncoder\n",
    "from sklearn.linear_model import SGDClassifier\n",
    "from sklearn.metrics import accuracy_score\n",
    "from sklearn.model_selection import cross_val_score, train_test_split\n",
    "from collections import Counter\n",
    "import imblearn\n",
    "from imblearn.over_sampling import SMOTE,RandomOverSampler\n",
    "\n",
    "from nltk import word_tokenize\n",
    "from nltk.stem import WordNetLemmatizer\n",
    "from time import time\n",
    "import pandas as pd\n",
    "import re\n",
    "import numpy as np\n",
    "import nltk\n",
    "nltk.download('wordnet')\n",
    "nltk.download('omw-1.4')"
   ]
  },
  {
   "cell_type": "code",
   "execution_count": 2,
   "id": "014f6cfe",
   "metadata": {},
   "outputs": [
    {
     "data": {
      "text/html": [
       "<div>\n",
       "<style scoped>\n",
       "    .dataframe tbody tr th:only-of-type {\n",
       "        vertical-align: middle;\n",
       "    }\n",
       "\n",
       "    .dataframe tbody tr th {\n",
       "        vertical-align: top;\n",
       "    }\n",
       "\n",
       "    .dataframe thead th {\n",
       "        text-align: right;\n",
       "    }\n",
       "</style>\n",
       "<table border=\"1\" class=\"dataframe\">\n",
       "  <thead>\n",
       "    <tr style=\"text-align: right;\">\n",
       "      <th></th>\n",
       "      <th>ID</th>\n",
       "      <th>Text</th>\n",
       "      <th>Label</th>\n",
       "    </tr>\n",
       "  </thead>\n",
       "  <tbody>\n",
       "    <tr>\n",
       "      <th>1413</th>\n",
       "      <td>ID_zEqcsLPA</td>\n",
       "      <td>Mutharika asankha nduna Pangotha maola sipika...</td>\n",
       "      <td>POLITICS</td>\n",
       "    </tr>\n",
       "    <tr>\n",
       "      <th>1393</th>\n",
       "      <td>ID_ydgaxsDF</td>\n",
       "      <td>Kulimbana ndi alaliki Ndidakhala pa Wenela ts...</td>\n",
       "      <td>RELIGION</td>\n",
       "    </tr>\n",
       "    <tr>\n",
       "      <th>667</th>\n",
       "      <td>ID_ZNamCvoS</td>\n",
       "      <td>Akayidi Atsopano Adziyezedwa Coronavirus-MPS N...</td>\n",
       "      <td>HEALTH</td>\n",
       "    </tr>\n",
       "    <tr>\n",
       "      <th>590</th>\n",
       "      <td>ID_VxGQuOxk</td>\n",
       "      <td>Radio Maria Itsekera Nyengo ya Mariatona Wolem...</td>\n",
       "      <td>RELIGION</td>\n",
       "    </tr>\n",
       "    <tr>\n",
       "      <th>30</th>\n",
       "      <td>ID_BesFEpeJ</td>\n",
       "      <td>Tinkaimba limodzi kwaya Mdalitso suoneka paku...</td>\n",
       "      <td>SOCIAL ISSUES</td>\n",
       "    </tr>\n",
       "  </tbody>\n",
       "</table>\n",
       "</div>"
      ],
      "text/plain": [
       "               ID                                               Text  \\\n",
       "1413  ID_zEqcsLPA   Mutharika asankha nduna Pangotha maola sipika...   \n",
       "1393  ID_ydgaxsDF   Kulimbana ndi alaliki Ndidakhala pa Wenela ts...   \n",
       "667   ID_ZNamCvoS  Akayidi Atsopano Adziyezedwa Coronavirus-MPS N...   \n",
       "590   ID_VxGQuOxk  Radio Maria Itsekera Nyengo ya Mariatona Wolem...   \n",
       "30    ID_BesFEpeJ   Tinkaimba limodzi kwaya Mdalitso suoneka paku...   \n",
       "\n",
       "              Label  \n",
       "1413       POLITICS  \n",
       "1393       RELIGION  \n",
       "667          HEALTH  \n",
       "590        RELIGION  \n",
       "30    SOCIAL ISSUES  "
      ]
     },
     "execution_count": 2,
     "metadata": {},
     "output_type": "execute_result"
    }
   ],
   "source": [
    "train = pd.read_csv(\"Train.csv\")\n",
    "train.sample(5)"
   ]
  },
  {
   "cell_type": "code",
   "execution_count": 3,
   "id": "084b15fb",
   "metadata": {},
   "outputs": [
    {
     "data": {
      "text/html": [
       "<div>\n",
       "<style scoped>\n",
       "    .dataframe tbody tr th:only-of-type {\n",
       "        vertical-align: middle;\n",
       "    }\n",
       "\n",
       "    .dataframe tbody tr th {\n",
       "        vertical-align: top;\n",
       "    }\n",
       "\n",
       "    .dataframe thead th {\n",
       "        text-align: right;\n",
       "    }\n",
       "</style>\n",
       "<table border=\"1\" class=\"dataframe\">\n",
       "  <thead>\n",
       "    <tr style=\"text-align: right;\">\n",
       "      <th></th>\n",
       "      <th>ID</th>\n",
       "      <th>Text</th>\n",
       "      <th>Label</th>\n",
       "    </tr>\n",
       "  </thead>\n",
       "  <tbody>\n",
       "    <tr>\n",
       "      <th>1117</th>\n",
       "      <td>ID_pnMsdnVA</td>\n",
       "      <td>lamulo latsopano la zipani alikambirana lino...</td>\n",
       "      <td>POLITICS</td>\n",
       "    </tr>\n",
       "    <tr>\n",
       "      <th>1414</th>\n",
       "      <td>ID_zHBsAcgx</td>\n",
       "      <td>dpp yalonjeza kampeni ya bata chipani cha demo...</td>\n",
       "      <td>POLITICS</td>\n",
       "    </tr>\n",
       "    <tr>\n",
       "      <th>140</th>\n",
       "      <td>ID_FXJDGOak</td>\n",
       "      <td>zipani zikufuna machawi chisankho zipani zan...</td>\n",
       "      <td>POLITICS</td>\n",
       "    </tr>\n",
       "    <tr>\n",
       "      <th>45</th>\n",
       "      <td>ID_COPLUDra</td>\n",
       "      <td>msoliza kayuni share spoils   chisale watulu...</td>\n",
       "      <td>SOCIAL ISSUES</td>\n",
       "    </tr>\n",
       "    <tr>\n",
       "      <th>127</th>\n",
       "      <td>ID_EtUHjqWm</td>\n",
       "      <td>mwana wa zaka 13 mavuto osakata ikakuona lit...</td>\n",
       "      <td>SOCIAL ISSUES</td>\n",
       "    </tr>\n",
       "  </tbody>\n",
       "</table>\n",
       "</div>"
      ],
      "text/plain": [
       "               ID                                               Text  \\\n",
       "1117  ID_pnMsdnVA    lamulo latsopano la zipani alikambirana lino...   \n",
       "1414  ID_zHBsAcgx  dpp yalonjeza kampeni ya bata chipani cha demo...   \n",
       "140   ID_FXJDGOak    zipani zikufuna machawi chisankho zipani zan...   \n",
       "45    ID_COPLUDra    msoliza kayuni share spoils   chisale watulu...   \n",
       "127   ID_EtUHjqWm    mwana wa zaka 13 mavuto osakata ikakuona lit...   \n",
       "\n",
       "              Label  \n",
       "1117       POLITICS  \n",
       "1414       POLITICS  \n",
       "140        POLITICS  \n",
       "45    SOCIAL ISSUES  \n",
       "127   SOCIAL ISSUES  "
      ]
     },
     "execution_count": 3,
     "metadata": {},
     "output_type": "execute_result"
    }
   ],
   "source": [
    "train_no_stop = pd.read_csv(\"Train-no-stopwords.csv\")\n",
    "train_no_stop.sample(5)"
   ]
  },
  {
   "cell_type": "code",
   "execution_count": 4,
   "id": "2bf941ae",
   "metadata": {},
   "outputs": [
    {
     "data": {
      "text/html": [
       "<div>\n",
       "<style scoped>\n",
       "    .dataframe tbody tr th:only-of-type {\n",
       "        vertical-align: middle;\n",
       "    }\n",
       "\n",
       "    .dataframe tbody tr th {\n",
       "        vertical-align: top;\n",
       "    }\n",
       "\n",
       "    .dataframe thead th {\n",
       "        text-align: right;\n",
       "    }\n",
       "</style>\n",
       "<table border=\"1\" class=\"dataframe\">\n",
       "  <thead>\n",
       "    <tr style=\"text-align: right;\">\n",
       "      <th></th>\n",
       "      <th>ID</th>\n",
       "      <th>Text</th>\n",
       "    </tr>\n",
       "  </thead>\n",
       "  <tbody>\n",
       "    <tr>\n",
       "      <th>443</th>\n",
       "      <td>ID_mKaODodw</td>\n",
       "      <td>Adzudzula MEC Katswiri wa ndale wa sukulu yau...</td>\n",
       "    </tr>\n",
       "    <tr>\n",
       "      <th>130</th>\n",
       "      <td>ID_JqVQfLOR</td>\n",
       "      <td>Mabungwe ati boma likonze zinthu mu 2015 Kuph...</td>\n",
       "    </tr>\n",
       "    <tr>\n",
       "      <th>188</th>\n",
       "      <td>ID_OSqLregQ</td>\n",
       "      <td>Adzudzula Admarc Mafumu ndi alimi ena mzigawo...</td>\n",
       "    </tr>\n",
       "    <tr>\n",
       "      <th>435</th>\n",
       "      <td>ID_lPYiWTXw</td>\n",
       "      <td>Taphulanji mzaka 52? Anthu komanso atsogoleri...</td>\n",
       "    </tr>\n",
       "    <tr>\n",
       "      <th>504</th>\n",
       "      <td>ID_rIkPdtZy</td>\n",
       "      <td>Za mafumu mmatuni ndi mmizinda Kalata yangayi...</td>\n",
       "    </tr>\n",
       "  </tbody>\n",
       "</table>\n",
       "</div>"
      ],
      "text/plain": [
       "              ID                                               Text\n",
       "443  ID_mKaODodw   Adzudzula MEC Katswiri wa ndale wa sukulu yau...\n",
       "130  ID_JqVQfLOR   Mabungwe ati boma likonze zinthu mu 2015 Kuph...\n",
       "188  ID_OSqLregQ   Adzudzula Admarc Mafumu ndi alimi ena mzigawo...\n",
       "435  ID_lPYiWTXw   Taphulanji mzaka 52? Anthu komanso atsogoleri...\n",
       "504  ID_rIkPdtZy   Za mafumu mmatuni ndi mmizinda Kalata yangayi..."
      ]
     },
     "execution_count": 4,
     "metadata": {},
     "output_type": "execute_result"
    }
   ],
   "source": [
    "test = pd.read_csv(\"Test.csv\")\n",
    "test.sample(5)"
   ]
  },
  {
   "cell_type": "code",
   "execution_count": 5,
   "id": "81bbdba9",
   "metadata": {},
   "outputs": [],
   "source": [
    "wordnet = WordNetLemmatizer()\n",
    "\n",
    "def preprocess(text):\n",
    "    text = re.sub('[^a-zA-Z]', ' ', text)\n",
    "    text = text.lower()\n",
    "    text = text.split()\n",
    "    text = [wordnet.lemmatize(word) for word in text]\n",
    "    text = ' '.join(text)\n",
    "    return text"
   ]
  },
  {
   "cell_type": "code",
   "execution_count": 6,
   "id": "35341ece",
   "metadata": {},
   "outputs": [
    {
     "name": "stdout",
     "output_type": "stream",
     "text": [
      "            ID                                               Text      Label\n",
      "0  ID_AASHwXxg  mwangonde khansala wachinyamata akamati achiny...   POLITICS\n",
      "1  ID_AGoFySzn  mcp siidakhutire ndi kalembera chipani cha mal...   POLITICS\n",
      "2  ID_AGrrkBGP  bungwe la manepo lapempha boma liganizire anth...     HEALTH\n",
      "3  ID_AIJeigeG  ndale zogawanitsa miyambo zanyanya si zachilen...   POLITICS\n",
      "4  ID_APMprMbV  nanga wapolisi ataphofomoka masiku ano sichikh...  LAW/ORDER\n",
      "            ID                                               Text      Label\n",
      "0  ID_AASHwXxg  mwangonde khansala wachinyamata akamati achiny...   POLITICS\n",
      "1  ID_AGoFySzn  mcp siidakhutire kalembera chipani cha malawi ...   POLITICS\n",
      "2  ID_AGrrkBGP  bungwe la manepo lapempha boma liganizire achi...     HEALTH\n",
      "3  ID_AIJeigeG  ndale zogawanitsa miyambo zanyanya si zachilen...   POLITICS\n",
      "4  ID_APMprMbV  nanga wapolisi ataphofomoka masiku ano sichikh...  LAW/ORDER\n",
      "            ID                                               Text\n",
      "0  ID_ADHEtjTi  abambo odzikhweza akuchuluka kafukufuku wa apo...\n",
      "1  ID_AHfJktdQ  ambuye ziyaye ayamikira aphunzitsi a tilitonse...\n",
      "2  ID_AUJIHpZr  anatcheleza akundiopseza a gogo wanga akundiop...\n",
      "3  ID_AUKYBbIM  ulova wafika posauzana adatenga digiri ya uphu...\n",
      "4  ID_AZnsVPEi  dzombe kukoma koma kuyambira makedzana panthaw...\n"
     ]
    }
   ],
   "source": [
    "train['Text'] = train['Text'].apply(preprocess)\n",
    "train_no_stop['Text'] = train_no_stop['Text'].apply(preprocess)\n",
    "test['Text'] = test['Text'].apply(preprocess)\n",
    "print(train.head())\n",
    "print(train_no_stop.head())\n",
    "print(test.head())\n"
   ]
  },
  {
   "cell_type": "markdown",
   "id": "62382a07",
   "metadata": {},
   "source": [
    "### With stop words ###"
   ]
  },
  {
   "cell_type": "code",
   "execution_count": 7,
   "id": "81f47dc3",
   "metadata": {},
   "outputs": [
    {
     "name": "stdout",
     "output_type": "stream",
     "text": [
      "(1436, 49582)\n",
      "(620, 49582)\n"
     ]
    }
   ],
   "source": [
    "vectorizer = TfidfVectorizer()\n",
    "X = vectorizer.fit_transform(train['Text']).toarray()\n",
    "training = pd.DataFrame(X, columns=vectorizer.get_feature_names())\n",
    "print(training.shape)\n",
    "\n",
    "X_test = vectorizer.transform(test['Text']).toarray()\n",
    "test_new = pd.DataFrame(X_test, columns=vectorizer.get_feature_names())\n",
    "print(test_new.shape)"
   ]
  },
  {
   "cell_type": "code",
   "execution_count": 8,
   "id": "bfbd9142",
   "metadata": {},
   "outputs": [],
   "source": [
    "X = training\n",
    "y = train['Label']\n",
    "label_encoder = LabelEncoder()\n",
    "y_label = label_encoder.fit_transform(y)\n",
    "smote = SMOTE()\n"
   ]
  },
  {
   "cell_type": "code",
   "execution_count": 9,
   "id": "7cfbbc12",
   "metadata": {},
   "outputs": [],
   "source": [
    "X, y_label = smote.fit_resample(X, y_label)"
   ]
  },
  {
   "cell_type": "code",
   "execution_count": 10,
   "id": "a8263cda",
   "metadata": {},
   "outputs": [
    {
     "name": "stdout",
     "output_type": "stream",
     "text": [
      "Train Accuracy Score: 0.9990043807248108\n",
      "Test Accuracy Score: 0.96415770609319\n"
     ]
    }
   ],
   "source": [
    "X_train, X_test, y_train, y_test = train_test_split(X, y_label, test_size = 0.1, random_state = 42)\n",
    "\n",
    "sgd = SGDClassifier(loss='hinge', max_iter = 20)\n",
    "sgd.fit(X_train, y_train)\n",
    "\n",
    "predictions = sgd.predict(X_test)\n",
    "print(\"Train Accuracy Score:\", sgd.score(X_train, y_train))\n",
    "print(\"Test Accuracy Score:\", accuracy_score(y_test, predictions))"
   ]
  },
  {
   "cell_type": "code",
   "execution_count": 11,
   "id": "a3fd850a",
   "metadata": {},
   "outputs": [],
   "source": [
    "test.loc[:,\"Label\"] = label_encoder.inverse_transform(sgd.predict(test_new))\n",
    "test[['ID','Label']].to_csv(\"SGD_with_StopWords_submission.csv\", index=False) "
   ]
  },
  {
   "cell_type": "markdown",
   "id": "4496bacd",
   "metadata": {},
   "source": [
    "### Score on website: 0.632258064516129 ###"
   ]
  },
  {
   "cell_type": "markdown",
   "id": "e7ab43d9",
   "metadata": {},
   "source": [
    "### Without stop words ###"
   ]
  },
  {
   "cell_type": "code",
   "execution_count": 9,
   "id": "bd31f402",
   "metadata": {},
   "outputs": [
    {
     "name": "stdout",
     "output_type": "stream",
     "text": [
      "(1436, 49515)\n",
      "(620, 49515)\n"
     ]
    }
   ],
   "source": [
    "vectorizer = TfidfVectorizer()\n",
    "X_no_stop = vectorizer.fit_transform(train_no_stop['Text']).toarray()\n",
    "training_no_stop = pd.DataFrame(X_no_stop, columns=vectorizer.get_feature_names())\n",
    "print(training_no_stop.shape)\n",
    "\n",
    "X_test = vectorizer.transform(test['Text']).toarray()\n",
    "test_new = pd.DataFrame(X_test, columns=vectorizer.get_feature_names())\n",
    "print(test_new.shape)\n",
    "\n",
    "X_no_stop = training_no_stop\n",
    "y = train['Label']\n",
    "\n",
    "label_encoder = LabelEncoder()\n",
    "y_label = label_encoder.fit_transform(y)\n",
    "smote = SMOTE()"
   ]
  },
  {
   "cell_type": "code",
   "execution_count": 10,
   "id": "bafe6ee8",
   "metadata": {},
   "outputs": [],
   "source": [
    "X, y_label = smote.fit_resample(X_no_stop, y_label)"
   ]
  },
  {
   "cell_type": "code",
   "execution_count": 11,
   "id": "e3642b84",
   "metadata": {},
   "outputs": [
    {
     "name": "stdout",
     "output_type": "stream",
     "text": [
      "Train Accuracy Score: 0.9986061330147352\n",
      "Test Accuracy Score: 0.967741935483871\n"
     ]
    }
   ],
   "source": [
    "X_train, X_test, y_train, y_test = train_test_split(X, y_label, test_size = 0.1, random_state = 42)\n",
    "\n",
    "sgd = SGDClassifier(loss='hinge', max_iter = 20)\n",
    "sgd.fit(X_train, y_train)\n",
    "\n",
    "predictions = sgd.predict(X_test)\n",
    "print(\"Train Accuracy Score:\", sgd.score(X_train, y_train))\n",
    "print(\"Test Accuracy Score:\", accuracy_score(y_test, predictions))"
   ]
  },
  {
   "cell_type": "code",
   "execution_count": 12,
   "id": "a8122847",
   "metadata": {},
   "outputs": [],
   "source": [
    "test.loc[:,\"Label\"] = label_encoder.inverse_transform(sgd.predict(test_new))\n",
    "test[['ID','Label']].to_csv(\"SGD_without_StopWords_submission.csv\", index=False) "
   ]
  },
  {
   "cell_type": "markdown",
   "id": "96b3ca48",
   "metadata": {},
   "source": [
    "### Score on website: 0.6161290322580645 ###"
   ]
  },
  {
   "cell_type": "code",
   "execution_count": 34,
   "id": "f48582e1",
   "metadata": {},
   "outputs": [],
   "source": [
    "combiner = pd.read_csv(\"combiner.csv\")\n",
    "combiner['SGD'] = test['Label']\n",
    "combiner.to_csv('combiner.csv', index = False)"
   ]
  },
  {
   "cell_type": "code",
   "execution_count": 35,
   "id": "342ab40e",
   "metadata": {},
   "outputs": [
    {
     "data": {
      "text/html": [
       "<div>\n",
       "<style scoped>\n",
       "    .dataframe tbody tr th:only-of-type {\n",
       "        vertical-align: middle;\n",
       "    }\n",
       "\n",
       "    .dataframe tbody tr th {\n",
       "        vertical-align: top;\n",
       "    }\n",
       "\n",
       "    .dataframe thead th {\n",
       "        text-align: right;\n",
       "    }\n",
       "</style>\n",
       "<table border=\"1\" class=\"dataframe\">\n",
       "  <thead>\n",
       "    <tr style=\"text-align: right;\">\n",
       "      <th></th>\n",
       "      <th>ID</th>\n",
       "      <th>Text</th>\n",
       "      <th>SGD</th>\n",
       "    </tr>\n",
       "  </thead>\n",
       "  <tbody>\n",
       "    <tr>\n",
       "      <th>0</th>\n",
       "      <td>ID_ADHEtjTi</td>\n",
       "      <td>Abambo odzikhweza akuchuluka Kafukufuku wa ap...</td>\n",
       "      <td>SOCIAL ISSUES</td>\n",
       "    </tr>\n",
       "    <tr>\n",
       "      <th>1</th>\n",
       "      <td>ID_AHfJktdQ</td>\n",
       "      <td>Ambuye Ziyaye Ayamikira Aphunzitsi a Tilitonse...</td>\n",
       "      <td>RELIGION</td>\n",
       "    </tr>\n",
       "    <tr>\n",
       "      <th>2</th>\n",
       "      <td>ID_AUJIHpZr</td>\n",
       "      <td>Anatcheleza: Akundiopseza a gogo wanga Akundi...</td>\n",
       "      <td>RELATIONSHIPS</td>\n",
       "    </tr>\n",
       "    <tr>\n",
       "      <th>3</th>\n",
       "      <td>ID_AUKYBbIM</td>\n",
       "      <td>Ulova wafika posauzana Adatenga digiri ya uph...</td>\n",
       "      <td>POLITICS</td>\n",
       "    </tr>\n",
       "    <tr>\n",
       "      <th>4</th>\n",
       "      <td>ID_AZnsVPEi</td>\n",
       "      <td>Dzombe kukoma, koma Kuyambira makedzana, pant...</td>\n",
       "      <td>HEALTH</td>\n",
       "    </tr>\n",
       "  </tbody>\n",
       "</table>\n",
       "</div>"
      ],
      "text/plain": [
       "            ID                                               Text  \\\n",
       "0  ID_ADHEtjTi   Abambo odzikhweza akuchuluka Kafukufuku wa ap...   \n",
       "1  ID_AHfJktdQ  Ambuye Ziyaye Ayamikira Aphunzitsi a Tilitonse...   \n",
       "2  ID_AUJIHpZr   Anatcheleza: Akundiopseza a gogo wanga Akundi...   \n",
       "3  ID_AUKYBbIM   Ulova wafika posauzana Adatenga digiri ya uph...   \n",
       "4  ID_AZnsVPEi   Dzombe kukoma, koma Kuyambira makedzana, pant...   \n",
       "\n",
       "             SGD  \n",
       "0  SOCIAL ISSUES  \n",
       "1       RELIGION  \n",
       "2  RELATIONSHIPS  \n",
       "3       POLITICS  \n",
       "4         HEALTH  "
      ]
     },
     "execution_count": 35,
     "metadata": {},
     "output_type": "execute_result"
    }
   ],
   "source": [
    "combiner.head()"
   ]
  },
  {
   "cell_type": "code",
   "execution_count": null,
   "id": "bc7d53e2",
   "metadata": {},
   "outputs": [],
   "source": []
  }
 ],
 "metadata": {
  "kernelspec": {
   "display_name": "Python 3",
   "language": "python",
   "name": "python3"
  },
  "language_info": {
   "codemirror_mode": {
    "name": "ipython",
    "version": 3
   },
   "file_extension": ".py",
   "mimetype": "text/x-python",
   "name": "python",
   "nbconvert_exporter": "python",
   "pygments_lexer": "ipython3",
   "version": "3.8.8"
  }
 },
 "nbformat": 4,
 "nbformat_minor": 5
}
