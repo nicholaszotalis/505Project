{
 "cells": [
  {
   "cell_type": "code",
   "execution_count": 41,
   "metadata": {
    "id": "YQlita-mq_qc"
   },
   "outputs": [],
   "source": [
    "from gensim.models.fasttext import FastText \n",
    "import matplotlib.pyplot as plt\n",
    "from sklearn.pipeline import  FeatureUnion, Pipeline\n",
    "from sklearn.feature_extraction.text import TfidfVectorizer\n",
    "from sklearn.preprocessing import FunctionTransformer\n",
    "from sklearn.linear_model import LogisticRegression\n",
    "from sklearn.model_selection import cross_val_score, StratifiedKFold, cross_val_predict\n",
    "from sklearn.metrics import classification_report\n",
    "\n",
    "import pandas as pd\n",
    "import re\n",
    "import numpy as np\n",
    "import gensim"
   ]
  },
  {
   "cell_type": "code",
   "execution_count": 13,
   "metadata": {},
   "outputs": [
    {
     "name": "stdout",
     "output_type": "stream",
     "text": [
      "Collecting gensim==3.6.0\n",
      "  Downloading gensim-3.6.0.tar.gz (23.1 MB)\n",
      "\u001b[K     |████████████████████████████████| 23.1 MB 11.8 MB/s eta 0:00:01\n",
      "\u001b[?25hRequirement already satisfied: numpy>=1.11.3 in /Users/ktyser/opt/anaconda3/lib/python3.8/site-packages (from gensim==3.6.0) (1.20.3)\n",
      "Requirement already satisfied: scipy>=0.18.1 in /Users/ktyser/opt/anaconda3/lib/python3.8/site-packages (from gensim==3.6.0) (1.7.1)\n",
      "Requirement already satisfied: six>=1.5.0 in /Users/ktyser/opt/anaconda3/lib/python3.8/site-packages (from gensim==3.6.0) (1.16.0)\n",
      "Requirement already satisfied: smart_open>=1.2.1 in /Users/ktyser/opt/anaconda3/lib/python3.8/site-packages (from gensim==3.6.0) (5.2.1)\n",
      "Building wheels for collected packages: gensim\n",
      "  Building wheel for gensim (setup.py) ... \u001b[?25ldone\n",
      "\u001b[?25h  Created wheel for gensim: filename=gensim-3.6.0-cp38-cp38-macosx_10_9_x86_64.whl size=23493029 sha256=25b57e041f034b0cdc7e2f400ab69cb62f811bd7104077522b5afe11e27dbf3e\n",
      "  Stored in directory: /Users/ktyser/Library/Caches/pip/wheels/d6/5b/91/658efb08f9d790987e1ef3795e62e129868afb0fde409baac5\n",
      "Successfully built gensim\n",
      "Installing collected packages: gensim\n",
      "  Attempting uninstall: gensim\n",
      "    Found existing installation: gensim 4.0.1\n",
      "    Uninstalling gensim-4.0.1:\n",
      "      Successfully uninstalled gensim-4.0.1\n",
      "Successfully installed gensim-3.6.0\n"
     ]
    }
   ],
   "source": [
    "#!pip install gensim==3.6.0"
   ]
  },
  {
   "cell_type": "code",
   "execution_count": 2,
   "metadata": {
    "colab": {
     "base_uri": "https://localhost:8080/",
     "height": 206
    },
    "id": "68KcoqNcx4XK",
    "outputId": "e680919e-12ae-49e8-aa0f-e1e4db6ded5a"
   },
   "outputs": [
    {
     "data": {
      "text/html": [
       "<div>\n",
       "<style scoped>\n",
       "    .dataframe tbody tr th:only-of-type {\n",
       "        vertical-align: middle;\n",
       "    }\n",
       "\n",
       "    .dataframe tbody tr th {\n",
       "        vertical-align: top;\n",
       "    }\n",
       "\n",
       "    .dataframe thead th {\n",
       "        text-align: right;\n",
       "    }\n",
       "</style>\n",
       "<table border=\"1\" class=\"dataframe\">\n",
       "  <thead>\n",
       "    <tr style=\"text-align: right;\">\n",
       "      <th></th>\n",
       "      <th>ID</th>\n",
       "      <th>Text</th>\n",
       "      <th>Label</th>\n",
       "    </tr>\n",
       "  </thead>\n",
       "  <tbody>\n",
       "    <tr>\n",
       "      <th>383</th>\n",
       "      <td>ID_OovlfDsa</td>\n",
       "      <td>Amayi Ozembetsa Mankhwala Ozunguza Bongo Apats...</td>\n",
       "      <td>LAW/ORDER</td>\n",
       "    </tr>\n",
       "    <tr>\n",
       "      <th>566</th>\n",
       "      <td>ID_UxhjvJCs</td>\n",
       "      <td>HRDC Yachita Ziwonetsero Zokwiya ndi Kusankhid...</td>\n",
       "      <td>POLITICS</td>\n",
       "    </tr>\n",
       "    <tr>\n",
       "      <th>858</th>\n",
       "      <td>ID_fcYSPfnp</td>\n",
       "      <td>Kusanthula chaka cha ulamuliro wa JB Pamene d...</td>\n",
       "      <td>POLITICS</td>\n",
       "    </tr>\n",
       "    <tr>\n",
       "      <th>1100</th>\n",
       "      <td>ID_pPLWlAov</td>\n",
       "      <td>Parishi ya Kausi Ichita Chaka cha Nkhoswe Yake...</td>\n",
       "      <td>RELIGION</td>\n",
       "    </tr>\n",
       "    <tr>\n",
       "      <th>655</th>\n",
       "      <td>ID_YqtxKtNT</td>\n",
       "      <td>Kodi Idrissa Walesi akutani mu Mozambique? Mu...</td>\n",
       "      <td>SOCIAL ISSUES</td>\n",
       "    </tr>\n",
       "  </tbody>\n",
       "</table>\n",
       "</div>"
      ],
      "text/plain": [
       "               ID                                               Text  \\\n",
       "383   ID_OovlfDsa  Amayi Ozembetsa Mankhwala Ozunguza Bongo Apats...   \n",
       "566   ID_UxhjvJCs  HRDC Yachita Ziwonetsero Zokwiya ndi Kusankhid...   \n",
       "858   ID_fcYSPfnp   Kusanthula chaka cha ulamuliro wa JB Pamene d...   \n",
       "1100  ID_pPLWlAov  Parishi ya Kausi Ichita Chaka cha Nkhoswe Yake...   \n",
       "655   ID_YqtxKtNT   Kodi Idrissa Walesi akutani mu Mozambique? Mu...   \n",
       "\n",
       "              Label  \n",
       "383       LAW/ORDER  \n",
       "566        POLITICS  \n",
       "858        POLITICS  \n",
       "1100       RELIGION  \n",
       "655   SOCIAL ISSUES  "
      ]
     },
     "execution_count": 2,
     "metadata": {},
     "output_type": "execute_result"
    }
   ],
   "source": [
    "training_set = pd.read_csv(\"Train.csv\")\n",
    "training_set.sample(5)"
   ]
  },
  {
   "cell_type": "code",
   "execution_count": 3,
   "metadata": {
    "colab": {
     "base_uri": "https://localhost:8080/"
    },
    "id": "t1i0gu6DVgn6",
    "outputId": "6c8f9387-6305-4871-cb9e-814fbdcc7e31"
   },
   "outputs": [
    {
     "name": "stdout",
     "output_type": "stream",
     "text": [
      "<class 'pandas.core.frame.DataFrame'>\n",
      "RangeIndex: 1436 entries, 0 to 1435\n",
      "Data columns (total 3 columns):\n",
      " #   Column  Non-Null Count  Dtype \n",
      "---  ------  --------------  ----- \n",
      " 0   ID      1436 non-null   object\n",
      " 1   Text    1436 non-null   object\n",
      " 2   Label   1436 non-null   object\n",
      "dtypes: object(3)\n",
      "memory usage: 33.8+ KB\n"
     ]
    }
   ],
   "source": [
    "training_set.info()"
   ]
  },
  {
   "cell_type": "code",
   "execution_count": 4,
   "metadata": {
    "colab": {
     "base_uri": "https://localhost:8080/",
     "height": 206
    },
    "id": "daEkQFAvx4XL",
    "outputId": "f5511a73-d7a1-4d19-bb43-a13245dc2ccb"
   },
   "outputs": [
    {
     "data": {
      "text/html": [
       "<div>\n",
       "<style scoped>\n",
       "    .dataframe tbody tr th:only-of-type {\n",
       "        vertical-align: middle;\n",
       "    }\n",
       "\n",
       "    .dataframe tbody tr th {\n",
       "        vertical-align: top;\n",
       "    }\n",
       "\n",
       "    .dataframe thead th {\n",
       "        text-align: right;\n",
       "    }\n",
       "</style>\n",
       "<table border=\"1\" class=\"dataframe\">\n",
       "  <thead>\n",
       "    <tr style=\"text-align: right;\">\n",
       "      <th></th>\n",
       "      <th>ID</th>\n",
       "      <th>Text</th>\n",
       "    </tr>\n",
       "  </thead>\n",
       "  <tbody>\n",
       "    <tr>\n",
       "      <th>186</th>\n",
       "      <td>ID_OSdWloXg</td>\n",
       "      <td>Mvula Iwononga Nyumba za Chipatala cha Pirimit...</td>\n",
       "    </tr>\n",
       "    <tr>\n",
       "      <th>491</th>\n",
       "      <td>ID_pqokbYlh</td>\n",
       "      <td>K10 000 kwa ophunzitsa kumidzi Aphunzitsi aku...</td>\n",
       "    </tr>\n",
       "    <tr>\n",
       "      <th>244</th>\n",
       "      <td>ID_UdCMVMtC</td>\n",
       "      <td>Akumanga mvula ndani? Tsikulo pa Wenela padal...</td>\n",
       "    </tr>\n",
       "    <tr>\n",
       "      <th>106</th>\n",
       "      <td>ID_IOaQZPeL</td>\n",
       "      <td>Mfumu Ilipira 50 Sauzande Kaamba Kochitira Umb...</td>\n",
       "    </tr>\n",
       "    <tr>\n",
       "      <th>32</th>\n",
       "      <td>ID_CWcVYAQq</td>\n",
       "      <td>Five Questions for Minister of Transport and ...</td>\n",
       "    </tr>\n",
       "  </tbody>\n",
       "</table>\n",
       "</div>"
      ],
      "text/plain": [
       "              ID                                               Text\n",
       "186  ID_OSdWloXg  Mvula Iwononga Nyumba za Chipatala cha Pirimit...\n",
       "491  ID_pqokbYlh   K10 000 kwa ophunzitsa kumidzi Aphunzitsi aku...\n",
       "244  ID_UdCMVMtC   Akumanga mvula ndani? Tsikulo pa Wenela padal...\n",
       "106  ID_IOaQZPeL  Mfumu Ilipira 50 Sauzande Kaamba Kochitira Umb...\n",
       "32   ID_CWcVYAQq   Five Questions for Minister of Transport and ..."
      ]
     },
     "execution_count": 4,
     "metadata": {},
     "output_type": "execute_result"
    }
   ],
   "source": [
    "test_set = pd.read_csv(\"Test.csv\")\n",
    "test_set.sample(5)"
   ]
  },
  {
   "cell_type": "code",
   "execution_count": 5,
   "metadata": {
    "colab": {
     "base_uri": "https://localhost:8080/",
     "height": 504
    },
    "id": "QQW3sB-Yx4XM",
    "outputId": "9e5fe4c4-4110-4615-d15c-9e61aa29afb8"
   },
   "outputs": [
    {
     "data": {
      "text/plain": [
       "Text(0.5, 1.0, 'Classes distribution')"
      ]
     },
     "execution_count": 5,
     "metadata": {},
     "output_type": "execute_result"
    },
    {
     "data": {
      "image/png": "[encoded data removed]",
      "text/plain": [
       "<Figure size 864x432 with 1 Axes>"
      ]
     },
     "metadata": {
      "needs_background": "light"
     },
     "output_type": "display_data"
    }
   ],
   "source": [
    "training_set.Label.value_counts().plot.bar(figsize=(12, 6))\n",
    "plt.title('Classes distribution')"
   ]
  },
  {
   "cell_type": "code",
   "execution_count": 6,
   "metadata": {
    "id": "yMrgTHEu10Ho"
   },
   "outputs": [],
   "source": [
    "def preprocess_text(doc):\n",
    "    # remove punctuation signs and multiple spaces\n",
    "    regex_punc = re.compile('[%s]'%re.escape('.,!?'))\n",
    "    doc = re.sub( regex_punc, ' ',doc)\n",
    "    doc = doc.strip().lower() \n",
    "    regex_seq_spaces = re.compile(' {2,}')\n",
    "    doc = re.sub( regex_seq_spaces, ' ',doc)\n",
    "    return doc"
   ]
  },
  {
   "cell_type": "code",
   "execution_count": 7,
   "metadata": {
    "colab": {
     "base_uri": "https://localhost:8080/"
    },
    "id": "RT6HF4vG9eYI",
    "outputId": "c6fc2a3c-abaa-4d4e-d556-8912b47924a5"
   },
   "outputs": [
    {
     "name": "stdout",
     "output_type": "stream",
     "text": [
      "RAW text before preprocessing :\n",
      "\n",
      " Mayi wamalonda avulazidwa ku bt Titha Masamba, wa zaka 31, akumva ululu wadzaoneni. Kuti ayende akuyenera agwirire ndodo; sangagone chafufumimba koma chammbali kapena chagada; moyo wamtendere watha.\n",
      " Akuti adamuphera tsogolo lake: Masamba kumva ululu kunyumba kwake Akuti izitu zili chonchi chifukwa cha bala lomwe lili pabondo lake la kumanja lomwe lidasokedwa kuchipatala pambuyo pokhapidwa ndi chikwanje.\n",
      "  Chisale watuluka nkumangidwanso  Sipakala waimitsa Nyumba ya Malamulo  Pa Wenela pasintha zedi Ulendo wa mayiyu wokagulitsa mandasi pa 7 July ndi womwe udabweretsa mavutowa pomwe anthu ena, omwe akuwaganizira kuti ogwira ntchito kukhonsolo ya mzinda wa Blantyre (city rangers) amene adamuchita chiwembu pomulanda malonda ake komanso kumuvulaza ndi chikwanje.\n",
      " Masamba akuti atangomwalira amuna ake mu 2007, iye adayamba geni yogulitsa mandasi kuti azisamalira banja lake la ana awiri. Malo amene amagulitsira malonda akewo akuti ndi ku Cold Storage pafupi ndi Kamuzu Stadium mumzindawu.\n",
      " Monga mwa nthawi zonse, patsiku la ngozilo, adauyatsa ulendo wokapha makwacha. Pafupi ndi Cold Storage pali njanje ndiye ndidaika malonda anga chapafupi ndi msewu womwe umadutsa pamwamba pa njajeyo kuti ndikataye madzi ndisadalowere ku Cold Storage, adatero Masamba.\n",
      " Pamene ndimati ndikatenge malondawo, ndidangoona galimoto ya City, yoyera ndipo mmbalimu idali ya sefa. Idadzaima pafupi ndi pomwe padali mandasiwo ndipo adali mgalimotomo adatsika natenga beseni la mandasilo. Ena adandigwira ndipo ndidawauza kuti angotenga mandasiwo asalimbane nane koma zidakanika.\n",
      " Mayiyu, yemwe akukhala ku Makhetha mumzindawu, akuti anthuwo adamubudulira malondawo ndipo mosakhalitsa zodabwitsa zidamuchitikira.\n",
      " Mmodzi adatulutsa chikwanje ndipo adandikhapa nacho pabondopa. Kaamba ka ululu kuchokera apo sindikumbukanso chomwe chidachitika ndipo ndidangozindikira ndili pabedi kuchipatala ku Queens cha mma 4 koloko madzulo, adatero.\n",
      " Iye akuti adazindikiranso kuti K4 500 yomwe adamanga pansalu yake palibe.\n",
      " Idali ndalama yomwe ndimati ndiwatumizire agogo anga ku Dedza. Agogowa amadaliranso ine akafuna thandizo, adatero iye.\n",
      " Chichitikireni cha izi, mayiyu akungobuula ndi ululu kunyumba kwake. Geni sangachitenso, moyo tsopano wasanduka wovuta.\n",
      " Mneneri wa khonsolo ya Blantyre Anthony Kasunda akuti wangomva za nkhaniyi koma akufufuza kaye ngatidi adali antchito awo amene adachitira chipongwe mayiyu.\n",
      " Ndikudabwa chifuma malo amene mayiwa akukamba ife sitifikako. Ndiye zikundidabwitsa kuti zatheka bwanji kuti mayiwa avulazidwe ndi anthu amene akuti ndi akhonsolo ya Blantyre, adatero Kasunda, amene akuganiza kuti mwina angakhale anthu ena omwe achita izi.\n",
      " Pamene Kasunda akufufuza, moyo wa Masamba uli pachiswe chifukwa ana ake akudalira iye kuti asake chakudya cha tsiku ndi tsiku komanso zofunikira kusukulu.\n",
      " Andiphera tsogolo. Tikadya ndiye kuti ndachita geni. Nawo mpamba udathera kuchipatala. Chochita chikundisowa, adalira mayiyu pocheza naye kunyumba kwake.\n",
      "\n",
      "\n",
      "-------------------------------\n",
      "\n",
      "Processed text after preprocessing :\n",
      "\n",
      "mayi wamalonda avulazidwa ku bt titha masamba wa zaka 31 akumva ululu wadzaoneni kuti ayende akuyenera agwirire ndodo; sangagone chafufumimba koma chammbali kapena chagada; moyo wamtendere watha \n",
      " akuti adamuphera tsogolo lake: masamba kumva ululu kunyumba kwake akuti izitu zili chonchi chifukwa cha bala lomwe lili pabondo lake la kumanja lomwe lidasokedwa kuchipatala pambuyo pokhapidwa ndi chikwanje \n",
      " chisale watuluka nkumangidwanso sipakala waimitsa nyumba ya malamulo pa wenela pasintha zedi ulendo wa mayiyu wokagulitsa mandasi pa 7 july ndi womwe udabweretsa mavutowa pomwe anthu ena omwe akuwaganizira kuti ogwira ntchito kukhonsolo ya mzinda wa blantyre (city rangers) amene adamuchita chiwembu pomulanda malonda ake komanso kumuvulaza ndi chikwanje \n",
      " masamba akuti atangomwalira amuna ake mu 2007 iye adayamba geni yogulitsa mandasi kuti azisamalira banja lake la ana awiri malo amene amagulitsira malonda akewo akuti ndi ku cold storage pafupi ndi kamuzu stadium mumzindawu \n",
      " monga mwa nthawi zonse patsiku la ngozilo adauyatsa ulendo wokapha makwacha pafupi ndi cold storage pali njanje ndiye ndidaika malonda anga chapafupi ndi msewu womwe umadutsa pamwamba pa njajeyo kuti ndikataye madzi ndisadalowere ku cold storage adatero masamba \n",
      " pamene ndimati ndikatenge malondawo ndidangoona galimoto ya city yoyera ndipo mmbalimu idali ya sefa idadzaima pafupi ndi pomwe padali mandasiwo ndipo adali mgalimotomo adatsika natenga beseni la mandasilo ena adandigwira ndipo ndidawauza kuti angotenga mandasiwo asalimbane nane koma zidakanika \n",
      " mayiyu yemwe akukhala ku makhetha mumzindawu akuti anthuwo adamubudulira malondawo ndipo mosakhalitsa zodabwitsa zidamuchitikira \n",
      " mmodzi adatulutsa chikwanje ndipo adandikhapa nacho pabondopa kaamba ka ululu kuchokera apo sindikumbukanso chomwe chidachitika ndipo ndidangozindikira ndili pabedi kuchipatala ku queens cha mma 4 koloko madzulo adatero \n",
      " iye akuti adazindikiranso kuti k4 500 yomwe adamanga pansalu yake palibe \n",
      " idali ndalama yomwe ndimati ndiwatumizire agogo anga ku dedza agogowa amadaliranso ine akafuna thandizo adatero iye \n",
      " chichitikireni cha izi mayiyu akungobuula ndi ululu kunyumba kwake geni sangachitenso moyo tsopano wasanduka wovuta \n",
      " mneneri wa khonsolo ya blantyre anthony kasunda akuti wangomva za nkhaniyi koma akufufuza kaye ngatidi adali antchito awo amene adachitira chipongwe mayiyu \n",
      " ndikudabwa chifuma malo amene mayiwa akukamba ife sitifikako ndiye zikundidabwitsa kuti zatheka bwanji kuti mayiwa avulazidwe ndi anthu amene akuti ndi akhonsolo ya blantyre adatero kasunda amene akuganiza kuti mwina angakhale anthu ena omwe achita izi \n",
      " pamene kasunda akufufuza moyo wa masamba uli pachiswe chifukwa ana ake akudalira iye kuti asake chakudya cha tsiku ndi tsiku komanso zofunikira kusukulu \n",
      " andiphera tsogolo tikadya ndiye kuti ndachita geni nawo mpamba udathera kuchipatala chochita chikundisowa adalira mayiyu pocheza naye kunyumba kwake\n"
     ]
    }
   ],
   "source": [
    "# testing function\n",
    "sample_text = training_set.Text[7]\n",
    "print(\"RAW text before preprocessing :\\n\")\n",
    "print(sample_text)\n",
    "print(\"\\n-------------------------------\\n\")\n",
    "print(\"Processed text after preprocessing :\\n\")\n",
    "print(preprocess_text(sample_text))"
   ]
  },
  {
   "cell_type": "code",
   "execution_count": 8,
   "metadata": {
    "id": "DsjtpJCp9d91"
   },
   "outputs": [],
   "source": [
    "# Applying the preprocessing function to all the data\n",
    "training_set['text'] = training_set.Text.apply(lambda x: [i for i in preprocess_text(x).split() if len(i) > 1])\n",
    "test_set['text'] = test_set.Text.apply(lambda x: [i for i in preprocess_text(x).split() if len(i) > 1])"
   ]
  },
  {
   "cell_type": "code",
   "execution_count": 21,
   "metadata": {
    "colab": {
     "base_uri": "https://localhost:8080/"
    },
    "id": "f3YQDaSex4XM",
    "outputId": "747b7558-b09a-4327-d557-44055c7f6b3f"
   },
   "outputs": [
    {
     "name": "stdout",
     "output_type": "stream",
     "text": [
      "CPU times: user 15min 57s, sys: 3.19 s, total: 16min\n",
      "Wall time: 1min 38s\n"
     ]
    }
   ],
   "source": [
    "%%time\n",
    "model = FastText(training_set.text.to_list() + test_set.text.to_list() , vector_size=60, window=30, min_count=1, workers=12, epochs=20, sg=1, bucket=400_000)\n",
    "model.save('ft.model')"
   ]
  },
  {
   "cell_type": "code",
   "execution_count": 22,
   "metadata": {
    "colab": {
     "base_uri": "https://localhost:8080/"
    },
    "id": "oS701SCYGHOx",
    "outputId": "7ef072d9-51f7-44df-b16c-bd2869cf80f7"
   },
   "outputs": [
    {
     "name": "stdout",
     "output_type": "stream",
     "text": [
      "[-1.1344559  -0.05896131  0.10070355 -1.150928   -0.80239326 -0.9610367\n",
      "  0.8016022  -0.06940264 -0.3817841   0.59534043  0.72112375  0.3565281\n",
      "  0.34366888 -0.7625204   0.20328753 -0.54765856  1.2764324  -0.55679107\n",
      " -1.1622101   0.46273798  0.87525547 -1.3746036  -0.08134372  0.36066857\n",
      "  0.09062533  0.9188185  -0.76268137  0.45951357  1.9029156   0.793038\n",
      " -0.20951737  0.7927655   1.0101088   0.2526336  -0.8748075  -0.19197136\n",
      " -0.35172042  0.5456543   0.32466117  0.49213445  0.9249611   0.42308444\n",
      "  0.51993734  0.7997143   0.41424572 -0.8538886   0.24801542 -0.4759442\n",
      " -0.3412909  -0.31946895  0.31422886  0.25350598  0.65463537  0.648164\n",
      "  0.29386535  1.6037717   0.02594591  0.7831965   0.7295738  -0.33062547]\n"
     ]
    },
    {
     "data": {
      "text/plain": [
       "(60,)"
      ]
     },
     "execution_count": 22,
     "metadata": {},
     "output_type": "execute_result"
    }
   ],
   "source": [
    "# get a word embedding vector for an example word\n",
    "print(model.wv.get_vector(\"happy\"))\n",
    "model.wv.get_vector(\"happy\").shape"
   ]
  },
  {
   "cell_type": "markdown",
   "metadata": {
    "id": "1EsNw6GfFjzB"
   },
   "source": [
    "Function generates average representation of a given text into a vector because the model above only transforms one unigram to a vector. "
   ]
  },
  {
   "cell_type": "code",
   "execution_count": 23,
   "metadata": {
    "id": "W86ifjangiUd"
   },
   "outputs": [],
   "source": [
    "def word_averaging(wv, words):\n",
    "    mean = np.zeros((wv.vector_size,))\n",
    "    \n",
    "    for word in words:\n",
    "        mean += wv.get_vector(word)\n",
    "\n",
    "    mean = gensim.matutils.unitvec(mean)\n",
    "    return mean"
   ]
  },
  {
   "cell_type": "code",
   "execution_count": 24,
   "metadata": {
    "colab": {
     "base_uri": "https://localhost:8080/"
    },
    "id": "PuLCc8vfGEJm",
    "outputId": "03560a77-541c-4569-c7ad-1ad7250228fd"
   },
   "outputs": [
    {
     "data": {
      "text/plain": [
       "array([-0.42901575, -0.15721782, -0.09832981, -0.15174854,  0.04038237,\n",
       "       -0.12917622,  0.06548765,  0.0152512 ,  0.15458459,  0.20261953,\n",
       "        0.17487602, -0.02050153, -0.01141026, -0.0684574 ,  0.05092847,\n",
       "        0.18801742,  0.02274622,  0.11765056, -0.06166138,  0.12922386,\n",
       "       -0.16007561,  0.03954301, -0.05663066, -0.07642238, -0.22853368,\n",
       "        0.00861114, -0.1521249 , -0.02808724,  0.01806685,  0.06818171,\n",
       "       -0.11411308,  0.23352581, -0.08035794, -0.05699651, -0.00969199,\n",
       "       -0.01927954,  0.00904784,  0.03047667,  0.19532001,  0.03199489,\n",
       "       -0.18076315,  0.03687976,  0.15122112,  0.16156547, -0.091726  ,\n",
       "       -0.17004855,  0.06112872,  0.07224401, -0.1880949 ,  0.14552904,\n",
       "        0.07561383,  0.20159188, -0.0343817 , -0.1776177 , -0.05845145,\n",
       "        0.10364227, -0.15071329,  0.10062381,  0.03133141,  0.11767174])"
      ]
     },
     "execution_count": 24,
     "metadata": {},
     "output_type": "execute_result"
    }
   ],
   "source": [
    "# testing function\n",
    "word_averaging(model.wv, [\"i\", \"like\", \"meat\"])"
   ]
  },
  {
   "cell_type": "code",
   "execution_count": 29,
   "metadata": {
    "colab": {
     "base_uri": "https://localhost:8080/"
    },
    "id": "d9Bgp-DzgiWy",
    "outputId": "2ee8b002-d013-446f-dfaf-7566ad820dd2"
   },
   "outputs": [],
   "source": [
    "# create a union of 3 features combined between fasttext representation and tfidf \n",
    "union = FeatureUnion([\n",
    "    (\"char15\", TfidfVectorizer(ngram_range =(1,5), analyzer='char_wb',stop_words=['ndi'],max_df = 0.2 ,min_df = 0.0 , \n",
    "                             max_features = 10000)),\n",
    "    (\"word12\", TfidfVectorizer(ngram_range =(1,2), stop_words=['ndi'], max_df = 0.15 ,min_df = 0.01 ,\n",
    "                             max_features = 5000)), \n",
    "    ('fast_vec', FunctionTransformer(lambda df: df.apply(lambda x: word_averaging(model.wv,[i for i in preprocess_text(x).split() if len(i) > 1])).tolist(),\n",
    "                                              validate=False))\n",
    "  ])"
   ]
  },
  {
   "cell_type": "markdown",
   "metadata": {
    "id": "4RPu4rq4HNvH"
   },
   "source": [
    "Training model"
   ]
  },
  {
   "cell_type": "code",
   "execution_count": 30,
   "metadata": {
    "colab": {
     "base_uri": "https://localhost:8080/"
    },
    "id": "L03StsKLHC_v",
    "outputId": "f8dc9c0f-65e3-4e12-bec5-12ef1449fb7c",
    "scrolled": false
   },
   "outputs": [
    {
     "name": "stdout",
     "output_type": "stream",
     "text": [
      "CPU times: user 96 µs, sys: 1 µs, total: 97 µs\n",
      "Wall time: 100 µs\n"
     ]
    }
   ],
   "source": [
    "%%time\n",
    "pipe = Pipeline([\n",
    "    ('feats', union),\n",
    "    ('clf', LogisticRegression(C = 5, solver = 'liblinear', class_weight='balanced'))\n",
    "])"
   ]
  },
  {
   "cell_type": "markdown",
   "metadata": {},
   "source": [
    "Classification report and confusion matrix"
   ]
  },
  {
   "cell_type": "code",
   "execution_count": 43,
   "metadata": {
    "scrolled": true
   },
   "outputs": [
    {
     "name": "stdout",
     "output_type": "stream",
     "text": [
      "                      precision    recall  f1-score   support\n",
      "\n",
      "     ARTS AND CRAFTS       0.40      0.29      0.33         7\n",
      "             CULTURE       0.40      0.35      0.37        23\n",
      "             ECONOMY       0.41      0.41      0.41        86\n",
      "           EDUCATION       0.77      0.79      0.78        43\n",
      "             FARMING       0.78      0.90      0.83        78\n",
      "            FLOODING       0.71      0.71      0.71         7\n",
      "              HEALTH       0.73      0.72      0.73       127\n",
      "           LAW/ORDER       0.60      0.65      0.63       136\n",
      "         LOCALCHIEFS       0.50      0.60      0.55        25\n",
      "               MUSIC       0.67      0.53      0.59        15\n",
      "       OPINION/ESSAY       0.00      0.00      0.00        26\n",
      "            POLITICS       0.76      0.77      0.76       279\n",
      "       RELATIONSHIPS       0.86      0.97      0.92        39\n",
      "            RELIGION       0.69      0.75      0.72       147\n",
      "              SOCIAL       0.57      0.49      0.53       152\n",
      "       SOCIAL ISSUES       0.53      0.60      0.56       134\n",
      "              SPORTS       0.77      0.88      0.82        49\n",
      "           TRANSPORT       0.25      0.27      0.26        11\n",
      "WILDLIFE/ENVIRONMENT       0.82      0.50      0.62        36\n",
      "          WITCHCRAFT       0.25      0.06      0.10        16\n",
      "\n",
      "            accuracy                           0.65      1436\n",
      "           macro avg       0.57      0.56      0.56      1436\n",
      "        weighted avg       0.64      0.65      0.65      1436\n",
      "\n"
     ]
    }
   ],
   "source": [
    "predicted = cross_val_predict(pipe, training_set['Text'], training_set['Label'], cv=5)\n",
    "print(classification_report(training_set['Label'], predicted))"
   ]
  },
  {
   "cell_type": "markdown",
   "metadata": {},
   "source": [
    "Reporting 5 fold cv f1 score and accuracy"
   ]
  },
  {
   "cell_type": "code",
   "execution_count": 37,
   "metadata": {
    "colab": {
     "base_uri": "https://localhost:8080/"
    },
    "id": "Q_Ed702YHnXX",
    "outputId": "af9878d3-0c61-4112-b1bc-7f226d3487db",
    "scrolled": true
   },
   "outputs": [
    {
     "name": "stdout",
     "output_type": "stream",
     "text": [
      "[0.61557166 0.61960671 0.64983826 0.66004403 0.65209181] \n",
      " mean:0.639 std :0.018\n",
      "[0.62847222 0.63414634 0.66202091 0.67595819 0.65853659] \n",
      " mean:0.652 std :0.018\n"
     ]
    }
   ],
   "source": [
    "f1 = cross_val_score(pipe, training_set['Text'], training_set['Label'], cv=StratifiedKFold(5, shuffle=True, random_state=777),scoring='f1_weighted')\n",
    "print(f1,'\\n mean:{:.3f} std :{:.3f}'.format(f1.mean(),f1.std()))\n",
    "\n",
    "acc = cross_val_score(pipe, training_set['Text'], training_set['Label'], cv=StratifiedKFold(5, shuffle=True, random_state=777),scoring='accuracy')\n",
    "print(acc,'\\n mean:{:.3f} std :{:.3f}'.format(acc.mean(),acc.std()))\n"
   ]
  },
  {
   "cell_type": "markdown",
   "metadata": {},
   "source": [
    "Making preds on test set"
   ]
  },
  {
   "cell_type": "code",
   "execution_count": 32,
   "metadata": {
    "id": "Ng1z_RkhgpJP"
   },
   "outputs": [],
   "source": [
    "pipe.fit( training_set['Text'], training_set['Label'])\n",
    "\n",
    "test_set.loc[:,\"Label\"] = pipe.predict(test_set['Text'])"
   ]
  },
  {
   "cell_type": "code",
   "execution_count": 33,
   "metadata": {
    "colab": {
     "base_uri": "https://localhost:8080/",
     "height": 423
    },
    "id": "JeM9BgFagpOG",
    "outputId": "d0106bdc-bd14-4c71-f163-4b804fa7006f"
   },
   "outputs": [
    {
     "data": {
      "text/html": [
       "<div>\n",
       "<style scoped>\n",
       "    .dataframe tbody tr th:only-of-type {\n",
       "        vertical-align: middle;\n",
       "    }\n",
       "\n",
       "    .dataframe tbody tr th {\n",
       "        vertical-align: top;\n",
       "    }\n",
       "\n",
       "    .dataframe thead th {\n",
       "        text-align: right;\n",
       "    }\n",
       "</style>\n",
       "<table border=\"1\" class=\"dataframe\">\n",
       "  <thead>\n",
       "    <tr style=\"text-align: right;\">\n",
       "      <th></th>\n",
       "      <th>ID</th>\n",
       "      <th>Label</th>\n",
       "    </tr>\n",
       "  </thead>\n",
       "  <tbody>\n",
       "    <tr>\n",
       "      <th>0</th>\n",
       "      <td>ID_ADHEtjTi</td>\n",
       "      <td>SOCIAL ISSUES</td>\n",
       "    </tr>\n",
       "    <tr>\n",
       "      <th>1</th>\n",
       "      <td>ID_AHfJktdQ</td>\n",
       "      <td>RELIGION</td>\n",
       "    </tr>\n",
       "    <tr>\n",
       "      <th>2</th>\n",
       "      <td>ID_AUJIHpZr</td>\n",
       "      <td>RELATIONSHIPS</td>\n",
       "    </tr>\n",
       "    <tr>\n",
       "      <th>3</th>\n",
       "      <td>ID_AUKYBbIM</td>\n",
       "      <td>SOCIAL ISSUES</td>\n",
       "    </tr>\n",
       "    <tr>\n",
       "      <th>4</th>\n",
       "      <td>ID_AZnsVPEi</td>\n",
       "      <td>HEALTH</td>\n",
       "    </tr>\n",
       "    <tr>\n",
       "      <th>...</th>\n",
       "      <td>...</td>\n",
       "      <td>...</td>\n",
       "    </tr>\n",
       "    <tr>\n",
       "      <th>615</th>\n",
       "      <td>ID_zdpOUWyJ</td>\n",
       "      <td>LAW/ORDER</td>\n",
       "    </tr>\n",
       "    <tr>\n",
       "      <th>616</th>\n",
       "      <td>ID_zhnOomuu</td>\n",
       "      <td>RELATIONSHIPS</td>\n",
       "    </tr>\n",
       "    <tr>\n",
       "      <th>617</th>\n",
       "      <td>ID_zmWHvBJb</td>\n",
       "      <td>LAW/ORDER</td>\n",
       "    </tr>\n",
       "    <tr>\n",
       "      <th>618</th>\n",
       "      <td>ID_zphjdFIb</td>\n",
       "      <td>CULTURE</td>\n",
       "    </tr>\n",
       "    <tr>\n",
       "      <th>619</th>\n",
       "      <td>ID_ztdtrNxt</td>\n",
       "      <td>POLITICS</td>\n",
       "    </tr>\n",
       "  </tbody>\n",
       "</table>\n",
       "<p>620 rows × 2 columns</p>\n",
       "</div>"
      ],
      "text/plain": [
       "              ID          Label\n",
       "0    ID_ADHEtjTi  SOCIAL ISSUES\n",
       "1    ID_AHfJktdQ       RELIGION\n",
       "2    ID_AUJIHpZr  RELATIONSHIPS\n",
       "3    ID_AUKYBbIM  SOCIAL ISSUES\n",
       "4    ID_AZnsVPEi         HEALTH\n",
       "..           ...            ...\n",
       "615  ID_zdpOUWyJ      LAW/ORDER\n",
       "616  ID_zhnOomuu  RELATIONSHIPS\n",
       "617  ID_zmWHvBJb      LAW/ORDER\n",
       "618  ID_zphjdFIb        CULTURE\n",
       "619  ID_ztdtrNxt       POLITICS\n",
       "\n",
       "[620 rows x 2 columns]"
      ]
     },
     "execution_count": 33,
     "metadata": {},
     "output_type": "execute_result"
    }
   ],
   "source": [
    "test_set[['ID','Label']]"
   ]
  },
  {
   "cell_type": "code",
   "execution_count": 61,
   "metadata": {
    "id": "njOgIoS-yhlS"
   },
   "outputs": [],
   "source": [
    "# extract to csv\n",
    "#test_set[['ID','Label']].to_csv(\"submission.csv\",index=False) "
   ]
  }
 ],
 "metadata": {
  "colab": {
   "collapsed_sections": [],
   "name": "simple_model_ipynb_.ipynb",
   "provenance": []
  },
  "kernelspec": {
   "display_name": "Python 3 (ipykernel)",
   "language": "python",
   "name": "python3"
  },
  "language_info": {
   "codemirror_mode": {
    "name": "ipython",
    "version": 3
   },
   "file_extension": ".py",
   "mimetype": "text/x-python",
   "name": "python",
   "nbconvert_exporter": "python",
   "pygments_lexer": "ipython3",
   "version": "3.8.8"
  }
 },
 "nbformat": 4,
 "nbformat_minor": 1
}
