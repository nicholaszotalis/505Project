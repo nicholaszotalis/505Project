{
 "cells": [
  {
   "cell_type": "code",
   "execution_count": 52,
   "metadata": {
    "id": "YQlita-mq_qc"
   },
   "outputs": [],
   "source": [
    "import matplotlib.pyplot as plt\n",
    "from sklearn.pipeline import Pipeline\n",
    "from sklearn.feature_extraction.text import TfidfVectorizer\n",
    "from sklearn.preprocessing import FunctionTransformer\n",
    "from sklearn.linear_model import LogisticRegression\n",
    "from sklearn.model_selection import cross_val_score\n",
    "from collections import Counter\n",
    "\n",
    "from nltk import word_tokenize\n",
    "from time import time\n",
    "import pandas as pd\n",
    "import re\n",
    "import numpy as np\n",
    "import gensim\n",
    "import string"
   ]
  },
  {
   "cell_type": "code",
   "execution_count": 43,
   "metadata": {},
   "outputs": [
    {
     "name": "stderr",
     "output_type": "stream",
     "text": [
      "[nltk_data] Downloading package punkt to /Users/ktyser/nltk_data...\n",
      "[nltk_data]   Package punkt is already up-to-date!\n",
      "[nltk_data] Downloading package wordnet to /Users/ktyser/nltk_data...\n",
      "[nltk_data]   Package wordnet is already up-to-date!\n"
     ]
    },
    {
     "data": {
      "text/plain": [
       "True"
      ]
     },
     "execution_count": 43,
     "metadata": {},
     "output_type": "execute_result"
    }
   ],
   "source": [
    "import nltk\n",
    "nltk.download('punkt')\n",
    "nltk.download('wordnet')"
   ]
  },
  {
   "cell_type": "code",
   "execution_count": 44,
   "metadata": {
    "colab": {
     "base_uri": "https://localhost:8080/",
     "height": 206
    },
    "id": "68KcoqNcx4XK",
    "outputId": "e680919e-12ae-49e8-aa0f-e1e4db6ded5a"
   },
   "outputs": [
    {
     "data": {
      "text/html": [
       "<div>\n",
       "<style scoped>\n",
       "    .dataframe tbody tr th:only-of-type {\n",
       "        vertical-align: middle;\n",
       "    }\n",
       "\n",
       "    .dataframe tbody tr th {\n",
       "        vertical-align: top;\n",
       "    }\n",
       "\n",
       "    .dataframe thead th {\n",
       "        text-align: right;\n",
       "    }\n",
       "</style>\n",
       "<table border=\"1\" class=\"dataframe\">\n",
       "  <thead>\n",
       "    <tr style=\"text-align: right;\">\n",
       "      <th></th>\n",
       "      <th>ID</th>\n",
       "      <th>Text</th>\n",
       "      <th>Label</th>\n",
       "    </tr>\n",
       "  </thead>\n",
       "  <tbody>\n",
       "    <tr>\n",
       "      <th>72</th>\n",
       "      <td>ID_DFyFIiZt</td>\n",
       "      <td>Ambuye Ziyaye Apempha Achinyamata Amasuke Posa...</td>\n",
       "      <td>RELIGION</td>\n",
       "    </tr>\n",
       "    <tr>\n",
       "      <th>159</th>\n",
       "      <td>ID_GOSzgJdo</td>\n",
       "      <td>Amukwenya ponena  olumala kuti agalu Banja li...</td>\n",
       "      <td>LAW/ORDER</td>\n",
       "    </tr>\n",
       "    <tr>\n",
       "      <th>916</th>\n",
       "      <td>ID_iEixECkL</td>\n",
       "      <td>Papa Wapempha Akhristu Kukhala a Chikhulupirir...</td>\n",
       "      <td>RELIGION</td>\n",
       "    </tr>\n",
       "    <tr>\n",
       "      <th>966</th>\n",
       "      <td>ID_jpraLflT</td>\n",
       "      <td>Njengunje pothana ndi matenda a khansa Muli n...</td>\n",
       "      <td>HEALTH</td>\n",
       "    </tr>\n",
       "    <tr>\n",
       "      <th>127</th>\n",
       "      <td>ID_EtUHjqWm</td>\n",
       "      <td>Mwana wa zaka 13, mavuto osakata Ikakuona lit...</td>\n",
       "      <td>SOCIAL ISSUES</td>\n",
       "    </tr>\n",
       "  </tbody>\n",
       "</table>\n",
       "</div>"
      ],
      "text/plain": [
       "              ID                                               Text  \\\n",
       "72   ID_DFyFIiZt  Ambuye Ziyaye Apempha Achinyamata Amasuke Posa...   \n",
       "159  ID_GOSzgJdo   Amukwenya ponena  olumala kuti agalu Banja li...   \n",
       "916  ID_iEixECkL  Papa Wapempha Akhristu Kukhala a Chikhulupirir...   \n",
       "966  ID_jpraLflT   Njengunje pothana ndi matenda a khansa Muli n...   \n",
       "127  ID_EtUHjqWm   Mwana wa zaka 13, mavuto osakata Ikakuona lit...   \n",
       "\n",
       "             Label  \n",
       "72        RELIGION  \n",
       "159      LAW/ORDER  \n",
       "916       RELIGION  \n",
       "966         HEALTH  \n",
       "127  SOCIAL ISSUES  "
      ]
     },
     "execution_count": 44,
     "metadata": {},
     "output_type": "execute_result"
    }
   ],
   "source": [
    "training_set = pd.read_csv(\"Train.csv\")\n",
    "training_set.sample(5)"
   ]
  },
  {
   "cell_type": "code",
   "execution_count": 45,
   "metadata": {
    "colab": {
     "base_uri": "https://localhost:8080/"
    },
    "id": "t1i0gu6DVgn6",
    "outputId": "6c8f9387-6305-4871-cb9e-814fbdcc7e31"
   },
   "outputs": [
    {
     "name": "stdout",
     "output_type": "stream",
     "text": [
      "<class 'pandas.core.frame.DataFrame'>\n",
      "RangeIndex: 1436 entries, 0 to 1435\n",
      "Data columns (total 3 columns):\n",
      " #   Column  Non-Null Count  Dtype \n",
      "---  ------  --------------  ----- \n",
      " 0   ID      1436 non-null   object\n",
      " 1   Text    1436 non-null   object\n",
      " 2   Label   1436 non-null   object\n",
      "dtypes: object(3)\n",
      "memory usage: 33.8+ KB\n"
     ]
    }
   ],
   "source": [
    "training_set.info()"
   ]
  },
  {
   "cell_type": "code",
   "execution_count": 46,
   "metadata": {
    "colab": {
     "base_uri": "https://localhost:8080/",
     "height": 206
    },
    "id": "daEkQFAvx4XL",
    "outputId": "f5511a73-d7a1-4d19-bb43-a13245dc2ccb"
   },
   "outputs": [
    {
     "data": {
      "text/html": [
       "<div>\n",
       "<style scoped>\n",
       "    .dataframe tbody tr th:only-of-type {\n",
       "        vertical-align: middle;\n",
       "    }\n",
       "\n",
       "    .dataframe tbody tr th {\n",
       "        vertical-align: top;\n",
       "    }\n",
       "\n",
       "    .dataframe thead th {\n",
       "        text-align: right;\n",
       "    }\n",
       "</style>\n",
       "<table border=\"1\" class=\"dataframe\">\n",
       "  <thead>\n",
       "    <tr style=\"text-align: right;\">\n",
       "      <th></th>\n",
       "      <th>ID</th>\n",
       "      <th>Text</th>\n",
       "    </tr>\n",
       "  </thead>\n",
       "  <tbody>\n",
       "    <tr>\n",
       "      <th>358</th>\n",
       "      <td>ID_eaTqdPbI</td>\n",
       "      <td>Mwaulambia alowa mmanda lero Adali ndi nzeru:...</td>\n",
       "    </tr>\n",
       "    <tr>\n",
       "      <th>79</th>\n",
       "      <td>ID_GPkkKBXb</td>\n",
       "      <td>Ambuye Msusa Apempha Akhristu Achulutse Mapemp...</td>\n",
       "    </tr>\n",
       "    <tr>\n",
       "      <th>233</th>\n",
       "      <td>ID_SzZkVkrs</td>\n",
       "      <td>A Chiwembu Abera Munthu 2 Million Kwacha Wolem...</td>\n",
       "    </tr>\n",
       "    <tr>\n",
       "      <th>270</th>\n",
       "      <td>ID_WmVIvpKr</td>\n",
       "      <td>Kuli ziii! za mapulaimale Pamene ntchito ya k...</td>\n",
       "    </tr>\n",
       "    <tr>\n",
       "      <th>45</th>\n",
       "      <td>ID_DfbhJMQN</td>\n",
       "      <td>La Nina wachita katondo Mmene mitambo ya mvul...</td>\n",
       "    </tr>\n",
       "  </tbody>\n",
       "</table>\n",
       "</div>"
      ],
      "text/plain": [
       "              ID                                               Text\n",
       "358  ID_eaTqdPbI   Mwaulambia alowa mmanda lero Adali ndi nzeru:...\n",
       "79   ID_GPkkKBXb  Ambuye Msusa Apempha Akhristu Achulutse Mapemp...\n",
       "233  ID_SzZkVkrs  A Chiwembu Abera Munthu 2 Million Kwacha Wolem...\n",
       "270  ID_WmVIvpKr   Kuli ziii! za mapulaimale Pamene ntchito ya k...\n",
       "45   ID_DfbhJMQN   La Nina wachita katondo Mmene mitambo ya mvul..."
      ]
     },
     "execution_count": 46,
     "metadata": {},
     "output_type": "execute_result"
    }
   ],
   "source": [
    "test_set = pd.read_csv(\"Test.csv\")\n",
    "test_set.sample(5)"
   ]
  },
  {
   "cell_type": "code",
   "execution_count": 6,
   "metadata": {
    "colab": {
     "base_uri": "https://localhost:8080/",
     "height": 504
    },
    "id": "QQW3sB-Yx4XM",
    "outputId": "9e5fe4c4-4110-4615-d15c-9e61aa29afb8"
   },
   "outputs": [
    {
     "data": {
      "text/plain": [
       "Text(0.5, 1.0, 'Classes distribution')"
      ]
     },
     "execution_count": 6,
     "metadata": {},
     "output_type": "execute_result"
    },
    {
     "data": {
      "image/png": "[encoded data removed]",
      "text/plain": [
       "<Figure size 864x432 with 1 Axes>"
      ]
     },
     "metadata": {
      "needs_background": "light"
     },
     "output_type": "display_data"
    }
   ],
   "source": [
    "training_set.Label.value_counts().plot.bar(figsize=(12, 6))\n",
    "plt.title('Classes distribution')"
   ]
  },
  {
   "cell_type": "code",
   "execution_count": 47,
   "metadata": {},
   "outputs": [],
   "source": [
    "punctuations = string.punctuation + \"’¶•@°©®™\""
   ]
  },
  {
   "cell_type": "code",
   "execution_count": 48,
   "metadata": {
    "id": "yMrgTHEu10Ho"
   },
   "outputs": [],
   "source": [
    "def preprocess_text(text):\n",
    "    \"\"\"\n",
    "    @param text string\n",
    "    @return text string\n",
    "    \n",
    "    This function preprocess a given raw text by normalizing it to lowercase removing the stop words,\n",
    "    punctuations and lemmatization\n",
    "    \"\"\"\n",
    "        \n",
    "    #string to lowercase\n",
    "    txt = text.lower()\n",
    "    \n",
    "    # keep only ascii characters\n",
    "    txt = re.sub(r\"[^a-zA-ZÀ-ÿ]\", \" \", txt)\n",
    "    \n",
    "    # punctuation removal and map it to space\n",
    "    translator = str.maketrans(punctuations, \" \"*len(punctuations))\n",
    "    s = txt.translate(translator)\n",
    "    \n",
    "    # remove digits \n",
    "    no_digits = ''.join([i for i in s if not i.isdigit()])\n",
    "    cleaner = \" \".join(no_digits.split())\n",
    "    \n",
    "    # tokenize words and removing stop words \n",
    "    word_tokens = word_tokenize(cleaner)\n",
    "    filtered_sentence = [w for w in word_tokens if len(w)>2 ]\n",
    "    filtered_sentence = \" \".join(filtered_sentence)\n",
    "    \n",
    "    return filtered_sentence"
   ]
  },
  {
   "cell_type": "code",
   "execution_count": 49,
   "metadata": {
    "colab": {
     "base_uri": "https://localhost:8080/"
    },
    "id": "RT6HF4vG9eYI",
    "outputId": "c6fc2a3c-abaa-4d4e-d556-8912b47924a5",
    "scrolled": true
   },
   "outputs": [
    {
     "name": "stdout",
     "output_type": "stream",
     "text": [
      "RAW text before preprocessing :\n",
      "\n",
      " Mayi wamalonda avulazidwa ku bt Titha Masamba, wa zaka 31, akumva ululu wadzaoneni. Kuti ayende akuyenera agwirire ndodo; sangagone chafufumimba koma chammbali kapena chagada; moyo wamtendere watha.\n",
      " Akuti adamuphera tsogolo lake: Masamba kumva ululu kunyumba kwake Akuti izitu zili chonchi chifukwa cha bala lomwe lili pabondo lake la kumanja lomwe lidasokedwa kuchipatala pambuyo pokhapidwa ndi chikwanje.\n",
      "  Chisale watuluka nkumangidwanso  Sipakala waimitsa Nyumba ya Malamulo  Pa Wenela pasintha zedi Ulendo wa mayiyu wokagulitsa mandasi pa 7 July ndi womwe udabweretsa mavutowa pomwe anthu ena, omwe akuwaganizira kuti ogwira ntchito kukhonsolo ya mzinda wa Blantyre (city rangers) amene adamuchita chiwembu pomulanda malonda ake komanso kumuvulaza ndi chikwanje.\n",
      " Masamba akuti atangomwalira amuna ake mu 2007, iye adayamba geni yogulitsa mandasi kuti azisamalira banja lake la ana awiri. Malo amene amagulitsira malonda akewo akuti ndi ku Cold Storage pafupi ndi Kamuzu Stadium mumzindawu.\n",
      " Monga mwa nthawi zonse, patsiku la ngozilo, adauyatsa ulendo wokapha makwacha. Pafupi ndi Cold Storage pali njanje ndiye ndidaika malonda anga chapafupi ndi msewu womwe umadutsa pamwamba pa njajeyo kuti ndikataye madzi ndisadalowere ku Cold Storage, adatero Masamba.\n",
      " Pamene ndimati ndikatenge malondawo, ndidangoona galimoto ya City, yoyera ndipo mmbalimu idali ya sefa. Idadzaima pafupi ndi pomwe padali mandasiwo ndipo adali mgalimotomo adatsika natenga beseni la mandasilo. Ena adandigwira ndipo ndidawauza kuti angotenga mandasiwo asalimbane nane koma zidakanika.\n",
      " Mayiyu, yemwe akukhala ku Makhetha mumzindawu, akuti anthuwo adamubudulira malondawo ndipo mosakhalitsa zodabwitsa zidamuchitikira.\n",
      " Mmodzi adatulutsa chikwanje ndipo adandikhapa nacho pabondopa. Kaamba ka ululu kuchokera apo sindikumbukanso chomwe chidachitika ndipo ndidangozindikira ndili pabedi kuchipatala ku Queens cha mma 4 koloko madzulo, adatero.\n",
      " Iye akuti adazindikiranso kuti K4 500 yomwe adamanga pansalu yake palibe.\n",
      " Idali ndalama yomwe ndimati ndiwatumizire agogo anga ku Dedza. Agogowa amadaliranso ine akafuna thandizo, adatero iye.\n",
      " Chichitikireni cha izi, mayiyu akungobuula ndi ululu kunyumba kwake. Geni sangachitenso, moyo tsopano wasanduka wovuta.\n",
      " Mneneri wa khonsolo ya Blantyre Anthony Kasunda akuti wangomva za nkhaniyi koma akufufuza kaye ngatidi adali antchito awo amene adachitira chipongwe mayiyu.\n",
      " Ndikudabwa chifuma malo amene mayiwa akukamba ife sitifikako. Ndiye zikundidabwitsa kuti zatheka bwanji kuti mayiwa avulazidwe ndi anthu amene akuti ndi akhonsolo ya Blantyre, adatero Kasunda, amene akuganiza kuti mwina angakhale anthu ena omwe achita izi.\n",
      " Pamene Kasunda akufufuza, moyo wa Masamba uli pachiswe chifukwa ana ake akudalira iye kuti asake chakudya cha tsiku ndi tsiku komanso zofunikira kusukulu.\n",
      " Andiphera tsogolo. Tikadya ndiye kuti ndachita geni. Nawo mpamba udathera kuchipatala. Chochita chikundisowa, adalira mayiyu pocheza naye kunyumba kwake.\n",
      "\n",
      "\n",
      "-------------------------------\n",
      "\n",
      "Processed text after preprocessing :\n",
      "\n",
      "mayi wamalonda avulazidwa titha masamba zaka akumva ululu wadzaoneni kuti ayende akuyenera agwirire ndodo sangagone chafufumimba koma chammbali kapena chagada moyo wamtendere watha akuti adamuphera tsogolo lake masamba kumva ululu kunyumba kwake akuti izitu zili chonchi chifukwa cha bala lomwe lili pabondo lake kumanja lomwe lidasokedwa kuchipatala pambuyo pokhapidwa ndi chikwanje chisale watuluka nkumangidwanso sipakala waimitsa nyumba malamulo wenela pasintha zedi ulendo mayiyu wokagulitsa mandasi july ndi womwe udabweretsa mavutowa pomwe anthu ena omwe akuwaganizira kuti ogwira ntchito kukhonsolo mzinda blantyre city rangers amene adamuchita chiwembu pomulanda malonda ake komanso kumuvulaza ndi chikwanje masamba akuti atangomwalira amuna ake iye adayamba geni yogulitsa mandasi kuti azisamalira banja lake ana awiri malo amene amagulitsira malonda akewo akuti ndi cold storage pafupi ndi kamuzu stadium mumzindawu monga mwa nthawi zonse patsiku ngozilo adauyatsa ulendo wokapha makwacha pafupi ndi cold storage pali njanje ndiye ndidaika malonda anga chapafupi ndi msewu womwe umadutsa pamwamba njajeyo kuti ndikataye madzi ndisadalowere cold storage adatero masamba pamene ndimati ndikatenge malondawo ndidangoona galimoto city yoyera ndipo mmbalimu idali sefa idadzaima pafupi ndi pomwe padali mandasiwo ndipo adali mgalimotomo adatsika natenga beseni mandasilo ena adandigwira ndipo ndidawauza kuti angotenga mandasiwo asalimbane nane koma zidakanika mayiyu yemwe akukhala makhetha mumzindawu akuti anthuwo adamubudulira malondawo ndipo mosakhalitsa zodabwitsa zidamuchitikira mmodzi adatulutsa chikwanje ndipo adandikhapa nacho pabondopa kaamba ululu kuchokera apo sindikumbukanso chomwe chidachitika ndipo ndidangozindikira ndili pabedi kuchipatala queens cha mma koloko madzulo adatero iye akuti adazindikiranso kuti yomwe adamanga pansalu yake palibe idali ndalama yomwe ndimati ndiwatumizire agogo anga dedza agogowa amadaliranso ine akafuna thandizo adatero iye chichitikireni cha izi mayiyu akungobuula ndi ululu kunyumba kwake geni sangachitenso moyo tsopano wasanduka wovuta mneneri khonsolo blantyre anthony kasunda akuti wangomva nkhaniyi koma akufufuza kaye ngatidi adali antchito awo amene adachitira chipongwe mayiyu ndikudabwa chifuma malo amene mayiwa akukamba ife sitifikako ndiye zikundidabwitsa kuti zatheka bwanji kuti mayiwa avulazidwe ndi anthu amene akuti ndi akhonsolo blantyre adatero kasunda amene akuganiza kuti mwina angakhale anthu ena omwe achita izi pamene kasunda akufufuza moyo masamba uli pachiswe chifukwa ana ake akudalira iye kuti asake chakudya cha tsiku ndi tsiku komanso zofunikira kusukulu andiphera tsogolo tikadya ndiye kuti ndachita geni nawo mpamba udathera kuchipatala chochita chikundisowa adalira mayiyu pocheza naye kunyumba kwake\n"
     ]
    }
   ],
   "source": [
    "# testing function\n",
    "sample_text = training_set.Text[7]\n",
    "print(\"RAW text before preprocessing :\\n\")\n",
    "print(sample_text)\n",
    "print(\"\\n-------------------------------\\n\")\n",
    "print(\"Processed text after preprocessing :\\n\")\n",
    "print(preprocess_text(sample_text))"
   ]
  },
  {
   "cell_type": "code",
   "execution_count": 50,
   "metadata": {
    "id": "DsjtpJCp9d91"
   },
   "outputs": [],
   "source": [
    "# Applying the preprocessing function through all the data\n",
    "training_set['clean_text'] = training_set.Text.apply(preprocess_text)\n",
    "test_set['clean_text'] = test_set.Text.apply(preprocess_text)"
   ]
  },
  {
   "cell_type": "code",
   "execution_count": 68,
   "metadata": {},
   "outputs": [
    {
     "data": {
      "text/plain": [
       "<AxesSubplot:xlabel='Word'>"
      ]
     },
     "execution_count": 68,
     "metadata": {},
     "output_type": "execute_result"
    },
    {
     "data": {
      "image/png": "[encoded data removed]",
      "text/plain": [
       "<Figure size 1152x720 with 1 Axes>"
      ]
     },
     "metadata": {
      "needs_background": "light"
     },
     "output_type": "display_data"
    }
   ],
   "source": [
    "rslt = pd.DataFrame(Counter(\" \".join(training_set[\"clean_text\"]).split()).most_common(15),\n",
    "                    columns=['Word', 'Frequency']).set_index('Word')\n",
    "\n",
    "rslt.plot.bar(rot=0, figsize=(16,10), width=0.8)"
   ]
  },
  {
   "cell_type": "code",
   "execution_count": 54,
   "metadata": {},
   "outputs": [],
   "source": [
    "training_set['clean_text'] = training_set['clean_text'].str.replace('ndi', '').replace('kuti', '')\n",
    "test_set['clean_text'] = test_set['clean_text'].str.replace('ndi', '').replace('kuti', '')"
   ]
  },
  {
   "cell_type": "code",
   "execution_count": 55,
   "metadata": {},
   "outputs": [
    {
     "data": {
      "text/html": [
       "<div>\n",
       "<style scoped>\n",
       "    .dataframe tbody tr th:only-of-type {\n",
       "        vertical-align: middle;\n",
       "    }\n",
       "\n",
       "    .dataframe tbody tr th {\n",
       "        vertical-align: top;\n",
       "    }\n",
       "\n",
       "    .dataframe thead th {\n",
       "        text-align: right;\n",
       "    }\n",
       "</style>\n",
       "<table border=\"1\" class=\"dataframe\">\n",
       "  <thead>\n",
       "    <tr style=\"text-align: right;\">\n",
       "      <th></th>\n",
       "      <th>ID</th>\n",
       "      <th>Text</th>\n",
       "      <th>Label</th>\n",
       "      <th>clean_text</th>\n",
       "    </tr>\n",
       "  </thead>\n",
       "  <tbody>\n",
       "    <tr>\n",
       "      <th>403</th>\n",
       "      <td>ID_PWLZfOrU</td>\n",
       "      <td>Aphungu apane boma posakaza chuma Pamene aphu...</td>\n",
       "      <td>POLITICS</td>\n",
       "      <td>aphungu apane boma posakaza chuma pamene aphun...</td>\n",
       "    </tr>\n",
       "    <tr>\n",
       "      <th>570</th>\n",
       "      <td>ID_VDWMzMgI</td>\n",
       "      <td>Kodi malubino tilowere kuti? Kodi tilowere ku...</td>\n",
       "      <td>LAW/ORDER</td>\n",
       "      <td>kodi malubino tilowere kuti kodi tilowere kuti...</td>\n",
       "    </tr>\n",
       "    <tr>\n",
       "      <th>1041</th>\n",
       "      <td>ID_nAkOThqP</td>\n",
       "      <td>Papa Wapempha Abambo Akhale Olimba pa Chikhris...</td>\n",
       "      <td>RELIGION</td>\n",
       "      <td>papa wapempha abambo akhale olimba chikhristu ...</td>\n",
       "    </tr>\n",
       "    <tr>\n",
       "      <th>586</th>\n",
       "      <td>ID_VqVEqfnF</td>\n",
       "      <td>Akhristu 100 Alandira Ulimbitso ku Parish ya M...</td>\n",
       "      <td>RELIGION</td>\n",
       "      <td>akhristu alara ulimbitso parish mpiri wolemba ...</td>\n",
       "    </tr>\n",
       "    <tr>\n",
       "      <th>1040</th>\n",
       "      <td>ID_nAiGatgJ</td>\n",
       "      <td>Anatchezera Sakuthandiza Agogo,  Pa Wenela pa...</td>\n",
       "      <td>RELATIONSHIPS</td>\n",
       "      <td>anatchezera sakuthaza agogo wenela pasintha ze...</td>\n",
       "    </tr>\n",
       "  </tbody>\n",
       "</table>\n",
       "</div>"
      ],
      "text/plain": [
       "               ID                                               Text  \\\n",
       "403   ID_PWLZfOrU   Aphungu apane boma posakaza chuma Pamene aphu...   \n",
       "570   ID_VDWMzMgI   Kodi malubino tilowere kuti? Kodi tilowere ku...   \n",
       "1041  ID_nAkOThqP  Papa Wapempha Abambo Akhale Olimba pa Chikhris...   \n",
       "586   ID_VqVEqfnF  Akhristu 100 Alandira Ulimbitso ku Parish ya M...   \n",
       "1040  ID_nAiGatgJ   Anatchezera Sakuthandiza Agogo,  Pa Wenela pa...   \n",
       "\n",
       "              Label                                         clean_text  \n",
       "403        POLITICS  aphungu apane boma posakaza chuma pamene aphun...  \n",
       "570       LAW/ORDER  kodi malubino tilowere kuti kodi tilowere kuti...  \n",
       "1041       RELIGION  papa wapempha abambo akhale olimba chikhristu ...  \n",
       "586        RELIGION  akhristu alara ulimbitso parish mpiri wolemba ...  \n",
       "1040  RELATIONSHIPS  anatchezera sakuthaza agogo wenela pasintha ze...  "
      ]
     },
     "execution_count": 55,
     "metadata": {},
     "output_type": "execute_result"
    }
   ],
   "source": [
    "training_set.sample(5)"
   ]
  },
  {
   "cell_type": "code",
   "execution_count": 56,
   "metadata": {},
   "outputs": [],
   "source": [
    "from sklearn.feature_extraction.text import CountVectorizer, TfidfTransformer\n",
    "\n",
    "pipeline = Pipeline(\n",
    "    [\n",
    "        (\"vect\", CountVectorizer()),\n",
    "        (\"tfidf\", TfidfTransformer()),\n",
    "        (\"classifier\", LogisticRegression()),\n",
    "    ]\n",
    ")"
   ]
  },
  {
   "cell_type": "code",
   "execution_count": 57,
   "metadata": {},
   "outputs": [],
   "source": [
    "parameters = {\n",
    "   'classifier__penalty' : ['l1', 'l2'],\n",
    "   'classifier__C' : np.logspace(-4, 4, 20),\n",
    "   'classifier__solver' : ['liblinear']\n",
    "}"
   ]
  },
  {
   "cell_type": "code",
   "execution_count": 58,
   "metadata": {},
   "outputs": [],
   "source": [
    "from sklearn.model_selection import GridSearchCV\n",
    "from pprint import pprint\n",
    "\n",
    "grid_search = GridSearchCV(pipeline, parameters, n_jobs=-1, verbose=1)"
   ]
  },
  {
   "cell_type": "code",
   "execution_count": 59,
   "metadata": {
    "scrolled": true
   },
   "outputs": [
    {
     "name": "stdout",
     "output_type": "stream",
     "text": [
      "Performing grid search...\n",
      "pipeline: ['vect', 'tfidf', 'classifier']\n",
      "parameters:\n",
      "{'classifier__C': array([1.00000000e-04, 2.63665090e-04, 6.95192796e-04, 1.83298071e-03,\n",
      "       4.83293024e-03, 1.27427499e-02, 3.35981829e-02, 8.85866790e-02,\n",
      "       2.33572147e-01, 6.15848211e-01, 1.62377674e+00, 4.28133240e+00,\n",
      "       1.12883789e+01, 2.97635144e+01, 7.84759970e+01, 2.06913808e+02,\n",
      "       5.45559478e+02, 1.43844989e+03, 3.79269019e+03, 1.00000000e+04]),\n",
      " 'classifier__penalty': ['l1', 'l2'],\n",
      " 'classifier__solver': ['liblinear']}\n",
      "Fitting 5 folds for each of 40 candidates, totalling 200 fits\n",
      "done in 76.296s\n",
      "\n",
      "Best score: 0.646\n",
      "Best parameters set:\n",
      "\tclassifier__C: 545.5594781168514\n",
      "\tclassifier__penalty: 'l2'\n",
      "\tclassifier__solver: 'liblinear'\n"
     ]
    }
   ],
   "source": [
    "print(\"Performing grid search...\")\n",
    "print(\"pipeline:\", [name for name, _ in pipeline.steps])\n",
    "print(\"parameters:\")\n",
    "pprint(parameters)\n",
    "t0 = time()\n",
    "grid_search.fit(training_set['clean_text'], training_set['Label'])\n",
    "print(\"done in %0.3fs\" % (time() - t0))\n",
    "print()\n",
    "\n",
    "print(\"Best score: %0.3f\" % grid_search.best_score_)\n",
    "print(\"Best parameters set:\")\n",
    "best_parameters = grid_search.best_estimator_.get_params()\n",
    "for param_name in sorted(parameters.keys()):\n",
    "    print(\"\\t%s: %r\" % (param_name, best_parameters[param_name]))"
   ]
  },
  {
   "cell_type": "code",
   "execution_count": 60,
   "metadata": {},
   "outputs": [
    {
     "name": "stdout",
     "output_type": "stream",
     "text": [
      "CPU times: user 118 µs, sys: 49 µs, total: 167 µs\n",
      "Wall time: 175 µs\n"
     ]
    }
   ],
   "source": [
    "%%time\n",
    "pipeline = Pipeline(\n",
    "    [\n",
    "        (\"vect\", CountVectorizer()),\n",
    "        (\"tfidf\", TfidfTransformer()),\n",
    "        (\"classifier\", LogisticRegression(C=545.5594781168514, solver='liblinear', penalty='l2')),\n",
    "    ]\n",
    ")"
   ]
  },
  {
   "cell_type": "code",
   "execution_count": 61,
   "metadata": {},
   "outputs": [
    {
     "name": "stdout",
     "output_type": "stream",
     "text": [
      "[0.62847222 0.63414634 0.67247387 0.64808362 0.64808362]\n"
     ]
    }
   ],
   "source": [
    "scores = cross_val_score(pipeline, training_set['clean_text'], training_set['Label'], cv=5, scoring='precision_micro')\n",
    "print(scores)"
   ]
  },
  {
   "cell_type": "code",
   "execution_count": 62,
   "metadata": {},
   "outputs": [
    {
     "name": "stdout",
     "output_type": "stream",
     "text": [
      "Final score is 0.646251935733643\n"
     ]
    }
   ],
   "source": [
    "print(f\"Final score is {scores.mean()}\")"
   ]
  },
  {
   "cell_type": "code",
   "execution_count": 63,
   "metadata": {},
   "outputs": [],
   "source": [
    "pipeline.fit( training_set['clean_text'], training_set['Label'])\n",
    "test_set.loc[:,\"Label\"] = pipeline.predict(test_set['Text'])"
   ]
  },
  {
   "cell_type": "code",
   "execution_count": 64,
   "metadata": {},
   "outputs": [
    {
     "data": {
      "text/html": [
       "<div>\n",
       "<style scoped>\n",
       "    .dataframe tbody tr th:only-of-type {\n",
       "        vertical-align: middle;\n",
       "    }\n",
       "\n",
       "    .dataframe tbody tr th {\n",
       "        vertical-align: top;\n",
       "    }\n",
       "\n",
       "    .dataframe thead th {\n",
       "        text-align: right;\n",
       "    }\n",
       "</style>\n",
       "<table border=\"1\" class=\"dataframe\">\n",
       "  <thead>\n",
       "    <tr style=\"text-align: right;\">\n",
       "      <th></th>\n",
       "      <th>ID</th>\n",
       "      <th>Label</th>\n",
       "    </tr>\n",
       "  </thead>\n",
       "  <tbody>\n",
       "    <tr>\n",
       "      <th>0</th>\n",
       "      <td>ID_ADHEtjTi</td>\n",
       "      <td>SOCIAL ISSUES</td>\n",
       "    </tr>\n",
       "    <tr>\n",
       "      <th>1</th>\n",
       "      <td>ID_AHfJktdQ</td>\n",
       "      <td>RELIGION</td>\n",
       "    </tr>\n",
       "    <tr>\n",
       "      <th>2</th>\n",
       "      <td>ID_AUJIHpZr</td>\n",
       "      <td>RELATIONSHIPS</td>\n",
       "    </tr>\n",
       "    <tr>\n",
       "      <th>3</th>\n",
       "      <td>ID_AUKYBbIM</td>\n",
       "      <td>SOCIAL ISSUES</td>\n",
       "    </tr>\n",
       "    <tr>\n",
       "      <th>4</th>\n",
       "      <td>ID_AZnsVPEi</td>\n",
       "      <td>HEALTH</td>\n",
       "    </tr>\n",
       "    <tr>\n",
       "      <th>...</th>\n",
       "      <td>...</td>\n",
       "      <td>...</td>\n",
       "    </tr>\n",
       "    <tr>\n",
       "      <th>615</th>\n",
       "      <td>ID_zdpOUWyJ</td>\n",
       "      <td>LAW/ORDER</td>\n",
       "    </tr>\n",
       "    <tr>\n",
       "      <th>616</th>\n",
       "      <td>ID_zhnOomuu</td>\n",
       "      <td>RELATIONSHIPS</td>\n",
       "    </tr>\n",
       "    <tr>\n",
       "      <th>617</th>\n",
       "      <td>ID_zmWHvBJb</td>\n",
       "      <td>LAW/ORDER</td>\n",
       "    </tr>\n",
       "    <tr>\n",
       "      <th>618</th>\n",
       "      <td>ID_zphjdFIb</td>\n",
       "      <td>SOCIAL ISSUES</td>\n",
       "    </tr>\n",
       "    <tr>\n",
       "      <th>619</th>\n",
       "      <td>ID_ztdtrNxt</td>\n",
       "      <td>POLITICS</td>\n",
       "    </tr>\n",
       "  </tbody>\n",
       "</table>\n",
       "<p>620 rows × 2 columns</p>\n",
       "</div>"
      ],
      "text/plain": [
       "              ID          Label\n",
       "0    ID_ADHEtjTi  SOCIAL ISSUES\n",
       "1    ID_AHfJktdQ       RELIGION\n",
       "2    ID_AUJIHpZr  RELATIONSHIPS\n",
       "3    ID_AUKYBbIM  SOCIAL ISSUES\n",
       "4    ID_AZnsVPEi         HEALTH\n",
       "..           ...            ...\n",
       "615  ID_zdpOUWyJ      LAW/ORDER\n",
       "616  ID_zhnOomuu  RELATIONSHIPS\n",
       "617  ID_zmWHvBJb      LAW/ORDER\n",
       "618  ID_zphjdFIb  SOCIAL ISSUES\n",
       "619  ID_ztdtrNxt       POLITICS\n",
       "\n",
       "[620 rows x 2 columns]"
      ]
     },
     "execution_count": 64,
     "metadata": {},
     "output_type": "execute_result"
    }
   ],
   "source": [
    "test_set[['ID','Label']]"
   ]
  },
  {
   "cell_type": "code",
   "execution_count": 67,
   "metadata": {},
   "outputs": [],
   "source": [
    "#test_set[['ID','Label']].to_csv(\"submission.csv\", index=False) "
   ]
  }
 ],
 "metadata": {
  "colab": {
   "collapsed_sections": [],
   "name": "simple_model_ipynb_.ipynb",
   "provenance": []
  },
  "kernelspec": {
   "display_name": "Python 3 (ipykernel)",
   "language": "python",
   "name": "python3"
  },
  "language_info": {
   "codemirror_mode": {
    "name": "ipython",
    "version": 3
   },
   "file_extension": ".py",
   "mimetype": "text/x-python",
   "name": "python",
   "nbconvert_exporter": "python",
   "pygments_lexer": "ipython3",
   "version": "3.8.8"
  }
 },
 "nbformat": 4,
 "nbformat_minor": 1
}
