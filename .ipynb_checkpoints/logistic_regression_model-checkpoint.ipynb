{
 "cells": [
  {
   "cell_type": "markdown",
   "metadata": {},
   "source": [
    "## Logistic Regression Model 66.77% Accuracy on Website"
   ]
  },
  {
   "cell_type": "code",
   "execution_count": 2,
   "metadata": {
    "executionInfo": {
     "elapsed": 3968,
     "status": "ok",
     "timestamp": 1650854796108,
     "user": {
      "displayName": "Sichao Yu",
      "userId": "10512068069317437381"
     },
     "user_tz": 240
    },
    "id": "YQlita-mq_qc"
   },
   "outputs": [],
   "source": [
    "import matplotlib.pyplot as plt\n",
    "from sklearn.pipeline import Pipeline\n",
    "from sklearn.feature_extraction.text import TfidfVectorizer\n",
    "from sklearn.preprocessing import FunctionTransformer\n",
    "from sklearn.linear_model import LogisticRegression\n",
    "from sklearn.model_selection import cross_val_score\n",
    "from collections import Counter\n",
    "import imblearn\n",
    "from imblearn.over_sampling import SMOTE,RandomOverSampler\n",
    "\n",
    "from nltk import word_tokenize\n",
    "from time import time\n",
    "import pandas as pd\n",
    "import re\n",
    "import numpy as np\n",
    "import gensim\n",
    "import string"
   ]
  },
  {
   "cell_type": "code",
   "execution_count": 3,
   "metadata": {
    "colab": {
     "base_uri": "https://localhost:8080/"
    },
    "executionInfo": {
     "elapsed": 1703,
     "status": "ok",
     "timestamp": 1650854798032,
     "user": {
      "displayName": "Sichao Yu",
      "userId": "10512068069317437381"
     },
     "user_tz": 240
    },
    "id": "hoqE2N0al8fB",
    "outputId": "96c7ba00-5cf5-4b34-d425-435219ce5e31"
   },
   "outputs": [
    {
     "name": "stderr",
     "output_type": "stream",
     "text": [
      "[nltk_data] Downloading package punkt to /Users/ktyser/nltk_data...\n",
      "[nltk_data]   Package punkt is already up-to-date!\n",
      "[nltk_data] Downloading package wordnet to /Users/ktyser/nltk_data...\n",
      "[nltk_data]   Package wordnet is already up-to-date!\n"
     ]
    },
    {
     "data": {
      "text/plain": [
       "True"
      ]
     },
     "execution_count": 3,
     "metadata": {},
     "output_type": "execute_result"
    }
   ],
   "source": [
    "import nltk\n",
    "nltk.download('punkt')\n",
    "nltk.download('wordnet')"
   ]
  },
  {
   "cell_type": "code",
   "execution_count": 4,
   "metadata": {
    "colab": {
     "base_uri": "https://localhost:8080/",
     "height": 206
    },
    "executionInfo": {
     "elapsed": 809,
     "status": "ok",
     "timestamp": 1650854799491,
     "user": {
      "displayName": "Sichao Yu",
      "userId": "10512068069317437381"
     },
     "user_tz": 240
    },
    "id": "68KcoqNcx4XK",
    "outputId": "1f07c021-95bb-47f3-a811-ead3405296d7"
   },
   "outputs": [
    {
     "data": {
      "text/html": [
       "<div>\n",
       "<style scoped>\n",
       "    .dataframe tbody tr th:only-of-type {\n",
       "        vertical-align: middle;\n",
       "    }\n",
       "\n",
       "    .dataframe tbody tr th {\n",
       "        vertical-align: top;\n",
       "    }\n",
       "\n",
       "    .dataframe thead th {\n",
       "        text-align: right;\n",
       "    }\n",
       "</style>\n",
       "<table border=\"1\" class=\"dataframe\">\n",
       "  <thead>\n",
       "    <tr style=\"text-align: right;\">\n",
       "      <th></th>\n",
       "      <th>ID</th>\n",
       "      <th>Text</th>\n",
       "      <th>Label</th>\n",
       "    </tr>\n",
       "  </thead>\n",
       "  <tbody>\n",
       "    <tr>\n",
       "      <th>675</th>\n",
       "      <td>ID_ZYCBFGwP</td>\n",
       "      <td>Kalembera wa nzika wayamba Boma, kupyolera mn...</td>\n",
       "      <td>POLITICS</td>\n",
       "    </tr>\n",
       "    <tr>\n",
       "      <th>919</th>\n",
       "      <td>ID_iJTcbEbN</td>\n",
       "      <td>Akulimbana ndi Edzi Pothandiza kuti uthenga w...</td>\n",
       "      <td>HEALTH</td>\n",
       "    </tr>\n",
       "    <tr>\n",
       "      <th>1364</th>\n",
       "      <td>ID_xYSlPKjK</td>\n",
       "      <td>Atatu Apezeka ndi Coronavirus Mdziko Muno Anth...</td>\n",
       "      <td>SOCIAL</td>\n",
       "    </tr>\n",
       "    <tr>\n",
       "      <th>1149</th>\n",
       "      <td>ID_qvVfecZg</td>\n",
       "      <td>Akupitilira Kukumana Ndi Zokhoma Kamba ka Ngoz...</td>\n",
       "      <td>WILDLIFE/ENVIRONMENT</td>\n",
       "    </tr>\n",
       "    <tr>\n",
       "      <th>464</th>\n",
       "      <td>ID_RsLmZTZD</td>\n",
       "      <td>ACB idayamba kale kufufuza Chaponda Nthambi y...</td>\n",
       "      <td>POLITICS</td>\n",
       "    </tr>\n",
       "  </tbody>\n",
       "</table>\n",
       "</div>"
      ],
      "text/plain": [
       "               ID                                               Text  \\\n",
       "675   ID_ZYCBFGwP   Kalembera wa nzika wayamba Boma, kupyolera mn...   \n",
       "919   ID_iJTcbEbN   Akulimbana ndi Edzi Pothandiza kuti uthenga w...   \n",
       "1364  ID_xYSlPKjK  Atatu Apezeka ndi Coronavirus Mdziko Muno Anth...   \n",
       "1149  ID_qvVfecZg  Akupitilira Kukumana Ndi Zokhoma Kamba ka Ngoz...   \n",
       "464   ID_RsLmZTZD   ACB idayamba kale kufufuza Chaponda Nthambi y...   \n",
       "\n",
       "                     Label  \n",
       "675               POLITICS  \n",
       "919                 HEALTH  \n",
       "1364                SOCIAL  \n",
       "1149  WILDLIFE/ENVIRONMENT  \n",
       "464               POLITICS  "
      ]
     },
     "execution_count": 4,
     "metadata": {},
     "output_type": "execute_result"
    }
   ],
   "source": [
    "train = pd.read_csv(\"Train.csv\")\n",
    "train.sample(5)"
   ]
  },
  {
   "cell_type": "code",
   "execution_count": 5,
   "metadata": {
    "colab": {
     "base_uri": "https://localhost:8080/"
    },
    "executionInfo": {
     "elapsed": 143,
     "status": "ok",
     "timestamp": 1650854802062,
     "user": {
      "displayName": "Sichao Yu",
      "userId": "10512068069317437381"
     },
     "user_tz": 240
    },
    "id": "t1i0gu6DVgn6",
    "outputId": "4aa05b54-b783-4755-c8aa-efc532dd2b2b"
   },
   "outputs": [
    {
     "name": "stdout",
     "output_type": "stream",
     "text": [
      "<class 'pandas.core.frame.DataFrame'>\n",
      "RangeIndex: 1436 entries, 0 to 1435\n",
      "Data columns (total 3 columns):\n",
      " #   Column  Non-Null Count  Dtype \n",
      "---  ------  --------------  ----- \n",
      " 0   ID      1436 non-null   object\n",
      " 1   Text    1436 non-null   object\n",
      " 2   Label   1436 non-null   object\n",
      "dtypes: object(3)\n",
      "memory usage: 33.8+ KB\n"
     ]
    }
   ],
   "source": [
    "train.info()"
   ]
  },
  {
   "cell_type": "code",
   "execution_count": 6,
   "metadata": {
    "colab": {
     "base_uri": "https://localhost:8080/",
     "height": 206
    },
    "executionInfo": {
     "elapsed": 772,
     "status": "ok",
     "timestamp": 1650854804462,
     "user": {
      "displayName": "Sichao Yu",
      "userId": "10512068069317437381"
     },
     "user_tz": 240
    },
    "id": "daEkQFAvx4XL",
    "outputId": "8a56db2b-652d-4701-d434-20162296810a"
   },
   "outputs": [
    {
     "data": {
      "text/html": [
       "<div>\n",
       "<style scoped>\n",
       "    .dataframe tbody tr th:only-of-type {\n",
       "        vertical-align: middle;\n",
       "    }\n",
       "\n",
       "    .dataframe tbody tr th {\n",
       "        vertical-align: top;\n",
       "    }\n",
       "\n",
       "    .dataframe thead th {\n",
       "        text-align: right;\n",
       "    }\n",
       "</style>\n",
       "<table border=\"1\" class=\"dataframe\">\n",
       "  <thead>\n",
       "    <tr style=\"text-align: right;\">\n",
       "      <th></th>\n",
       "      <th>ID</th>\n",
       "      <th>Text</th>\n",
       "    </tr>\n",
       "  </thead>\n",
       "  <tbody>\n",
       "    <tr>\n",
       "      <th>313</th>\n",
       "      <td>ID_aqhjMwnV</td>\n",
       "      <td>Mai Banda wati Mafumu asalowe ndale Mafumu en...</td>\n",
       "    </tr>\n",
       "    <tr>\n",
       "      <th>290</th>\n",
       "      <td>ID_YteIqBhn</td>\n",
       "      <td>Zaka 14 kaamba kovulaza mkazi wake Juliyasi D...</td>\n",
       "    </tr>\n",
       "    <tr>\n",
       "      <th>166</th>\n",
       "      <td>ID_MyAxzbte</td>\n",
       "      <td>Ngambi strikes twice in Platinums win Flames ...</td>\n",
       "    </tr>\n",
       "    <tr>\n",
       "      <th>586</th>\n",
       "      <td>ID_xLIFGqXt</td>\n",
       "      <td>Ntchito ilipo Zilikoliko mawa lino kubwalo la...</td>\n",
       "    </tr>\n",
       "    <tr>\n",
       "      <th>131</th>\n",
       "      <td>ID_JsKlqGQU</td>\n",
       "      <td>Phoya amyula maliro aweni, apepesa Achewa Mko...</td>\n",
       "    </tr>\n",
       "  </tbody>\n",
       "</table>\n",
       "</div>"
      ],
      "text/plain": [
       "              ID                                               Text\n",
       "313  ID_aqhjMwnV   Mai Banda wati Mafumu asalowe ndale Mafumu en...\n",
       "290  ID_YteIqBhn   Zaka 14 kaamba kovulaza mkazi wake Juliyasi D...\n",
       "166  ID_MyAxzbte   Ngambi strikes twice in Platinums win Flames ...\n",
       "586  ID_xLIFGqXt   Ntchito ilipo Zilikoliko mawa lino kubwalo la...\n",
       "131  ID_JsKlqGQU   Phoya amyula maliro aweni, apepesa Achewa Mko..."
      ]
     },
     "execution_count": 6,
     "metadata": {},
     "output_type": "execute_result"
    }
   ],
   "source": [
    "test = pd.read_csv(\"Test.csv\")\n",
    "test.sample(5)"
   ]
  },
  {
   "cell_type": "code",
   "execution_count": 7,
   "metadata": {
    "colab": {
     "base_uri": "https://localhost:8080/",
     "height": 522
    },
    "executionInfo": {
     "elapsed": 571,
     "status": "ok",
     "timestamp": 1650854809026,
     "user": {
      "displayName": "Sichao Yu",
      "userId": "10512068069317437381"
     },
     "user_tz": 240
    },
    "id": "QQW3sB-Yx4XM",
    "outputId": "1cc5a42f-9a04-413d-9df3-08ae5faf4d9e"
   },
   "outputs": [
    {
     "data": {
      "text/plain": [
       "Text(0.5, 1.0, 'Classes distribution')"
      ]
     },
     "execution_count": 7,
     "metadata": {},
     "output_type": "execute_result"
    },
    {
     "data": {
      "image/png": "[encoded data removed]",
      "text/plain": [
       "<Figure size 864x432 with 1 Axes>"
      ]
     },
     "metadata": {
      "needs_background": "light"
     },
     "output_type": "display_data"
    }
   ],
   "source": [
    "train.Label.value_counts().plot.bar(figsize=(12, 6))\n",
    "plt.title('Classes distribution')"
   ]
  },
  {
   "cell_type": "code",
   "execution_count": 8,
   "metadata": {
    "executionInfo": {
     "elapsed": 140,
     "status": "ok",
     "timestamp": 1650854812526,
     "user": {
      "displayName": "Sichao Yu",
      "userId": "10512068069317437381"
     },
     "user_tz": 240
    },
    "id": "lepSZGgyl8fE"
   },
   "outputs": [],
   "source": [
    "punctuations = string.punctuation + \"’¶•@°©®™\""
   ]
  },
  {
   "cell_type": "code",
   "execution_count": 9,
   "metadata": {
    "executionInfo": {
     "elapsed": 3,
     "status": "ok",
     "timestamp": 1650854813100,
     "user": {
      "displayName": "Sichao Yu",
      "userId": "10512068069317437381"
     },
     "user_tz": 240
    },
    "id": "yMrgTHEu10Ho"
   },
   "outputs": [],
   "source": [
    "def preprocess_text(text):\n",
    "    \n",
    "    #string to lowercase\n",
    "    txt = text.lower()\n",
    "    \n",
    "    # keep only ascii characters\n",
    "    txt = re.sub(r\"[^a-zA-ZÀ-ÿ]\", \" \", txt)\n",
    "    \n",
    "    # punctuation removal and map it to space\n",
    "    translator = str.maketrans(punctuations, \" \"*len(punctuations))\n",
    "    s = txt.translate(translator)\n",
    "    \n",
    "    # remove digits \n",
    "    no_digits = ''.join([i for i in s if not i.isdigit()])\n",
    "    cleaner = \" \".join(no_digits.split())\n",
    "    \n",
    "    # tokenize words and removing stop words \n",
    "    word_tokens = word_tokenize(cleaner)\n",
    "    filtered_sentence = [w for w in word_tokens if len(w)>2 ]\n",
    "    filtered_sentence = \" \".join(filtered_sentence)\n",
    "    \n",
    "    return filtered_sentence"
   ]
  },
  {
   "cell_type": "code",
   "execution_count": 10,
   "metadata": {
    "executionInfo": {
     "elapsed": 3691,
     "status": "ok",
     "timestamp": 1650854821725,
     "user": {
      "displayName": "Sichao Yu",
      "userId": "10512068069317437381"
     },
     "user_tz": 240
    },
    "id": "DsjtpJCp9d91"
   },
   "outputs": [],
   "source": [
    "# Applying the preprocessing function through all the data\n",
    "train['clean_text'] = train.Text.apply(preprocess_text)\n",
    "test['clean_text'] = test.Text.apply(preprocess_text)"
   ]
  },
  {
   "cell_type": "code",
   "execution_count": 11,
   "metadata": {
    "colab": {
     "base_uri": "https://localhost:8080/",
     "height": 623
    },
    "executionInfo": {
     "elapsed": 475,
     "status": "ok",
     "timestamp": 1650854822634,
     "user": {
      "displayName": "Sichao Yu",
      "userId": "10512068069317437381"
     },
     "user_tz": 240
    },
    "id": "RNvqx1Tbl8fH",
    "outputId": "0f89b227-e4aa-4034-d23f-4d3f66781766"
   },
   "outputs": [
    {
     "data": {
      "text/plain": [
       "<AxesSubplot:xlabel='Word'>"
      ]
     },
     "execution_count": 11,
     "metadata": {},
     "output_type": "execute_result"
    },
    {
     "data": {
      "image/png": "[encoded data removed]",
      "text/plain": [
       "<Figure size 1152x720 with 1 Axes>"
      ]
     },
     "metadata": {
      "needs_background": "light"
     },
     "output_type": "display_data"
    }
   ],
   "source": [
    "rslt = pd.DataFrame(Counter(\" \".join(train[\"clean_text\"]).split()).most_common(15),\n",
    "                    columns=['Word', 'Frequency']).set_index('Word')\n",
    "\n",
    "rslt.plot.bar(rot=0, figsize=(16,10), width=0.8)"
   ]
  },
  {
   "cell_type": "code",
   "execution_count": 12,
   "metadata": {
    "executionInfo": {
     "elapsed": 140,
     "status": "ok",
     "timestamp": 1650854824895,
     "user": {
      "displayName": "Sichao Yu",
      "userId": "10512068069317437381"
     },
     "user_tz": 240
    },
    "id": "sCGi8tPql8fI"
   },
   "outputs": [],
   "source": [
    "train['clean_text'] = train['clean_text'].str.replace('ndi', '').replace('kuti', '')\n",
    "test['clean_text'] = test['clean_text'].str.replace('ndi', '').replace('kuti', '')"
   ]
  },
  {
   "cell_type": "code",
   "execution_count": 13,
   "metadata": {
    "colab": {
     "base_uri": "https://localhost:8080/",
     "height": 206
    },
    "executionInfo": {
     "elapsed": 164,
     "status": "ok",
     "timestamp": 1650854825886,
     "user": {
      "displayName": "Sichao Yu",
      "userId": "10512068069317437381"
     },
     "user_tz": 240
    },
    "id": "YKghEh0tl8fI",
    "outputId": "728a0e78-b811-4b48-8f3a-fd0a6ab33153"
   },
   "outputs": [
    {
     "data": {
      "text/html": [
       "<div>\n",
       "<style scoped>\n",
       "    .dataframe tbody tr th:only-of-type {\n",
       "        vertical-align: middle;\n",
       "    }\n",
       "\n",
       "    .dataframe tbody tr th {\n",
       "        vertical-align: top;\n",
       "    }\n",
       "\n",
       "    .dataframe thead th {\n",
       "        text-align: right;\n",
       "    }\n",
       "</style>\n",
       "<table border=\"1\" class=\"dataframe\">\n",
       "  <thead>\n",
       "    <tr style=\"text-align: right;\">\n",
       "      <th></th>\n",
       "      <th>ID</th>\n",
       "      <th>Text</th>\n",
       "      <th>Label</th>\n",
       "      <th>clean_text</th>\n",
       "    </tr>\n",
       "  </thead>\n",
       "  <tbody>\n",
       "    <tr>\n",
       "      <th>118</th>\n",
       "      <td>ID_EfGZwAZK</td>\n",
       "      <td>Mulanje yadya wani pa chitukuko Boma la Mulan...</td>\n",
       "      <td>ECONOMY</td>\n",
       "      <td>mulanje yadya wani chitukuko boma mulanje lady...</td>\n",
       "    </tr>\n",
       "    <tr>\n",
       "      <th>1050</th>\n",
       "      <td>ID_nUIUhvSg</td>\n",
       "      <td>Phungu Wakale Akagwira Ukayidi Chifukwa Cha Ka...</td>\n",
       "      <td>LAW/ORDER</td>\n",
       "      <td>phungu wakale akagwira ukayidi chifukwa cha ka...</td>\n",
       "    </tr>\n",
       "    <tr>\n",
       "      <th>625</th>\n",
       "      <td>ID_XhHBDEiu</td>\n",
       "      <td>Munthu Woyamba Wafa ndi COVID 19 ku Botswana D...</td>\n",
       "      <td>HEALTH</td>\n",
       "      <td>munthu woyamba wafa  covid botswana dziko bots...</td>\n",
       "    </tr>\n",
       "    <tr>\n",
       "      <th>88</th>\n",
       "      <td>ID_DYhtAaKY</td>\n",
       "      <td>Papa Wakhazikitsa Chaka cha Faustina pa Kalend...</td>\n",
       "      <td>RELIGION</td>\n",
       "      <td>papa wakhazikitsa chaka cha faustina kalendala...</td>\n",
       "    </tr>\n",
       "    <tr>\n",
       "      <th>1330</th>\n",
       "      <td>ID_wTaoXreb</td>\n",
       "      <td>Tauni ya Mangochi Idakali ndi Misewu ya Fumbi ...</td>\n",
       "      <td>POLITICS</td>\n",
       "      <td>tauni mangochi idakali  misewu fumbi wolemba t...</td>\n",
       "    </tr>\n",
       "  </tbody>\n",
       "</table>\n",
       "</div>"
      ],
      "text/plain": [
       "               ID                                               Text  \\\n",
       "118   ID_EfGZwAZK   Mulanje yadya wani pa chitukuko Boma la Mulan...   \n",
       "1050  ID_nUIUhvSg  Phungu Wakale Akagwira Ukayidi Chifukwa Cha Ka...   \n",
       "625   ID_XhHBDEiu  Munthu Woyamba Wafa ndi COVID 19 ku Botswana D...   \n",
       "88    ID_DYhtAaKY  Papa Wakhazikitsa Chaka cha Faustina pa Kalend...   \n",
       "1330  ID_wTaoXreb  Tauni ya Mangochi Idakali ndi Misewu ya Fumbi ...   \n",
       "\n",
       "          Label                                         clean_text  \n",
       "118     ECONOMY  mulanje yadya wani chitukuko boma mulanje lady...  \n",
       "1050  LAW/ORDER  phungu wakale akagwira ukayidi chifukwa cha ka...  \n",
       "625      HEALTH  munthu woyamba wafa  covid botswana dziko bots...  \n",
       "88     RELIGION  papa wakhazikitsa chaka cha faustina kalendala...  \n",
       "1330   POLITICS  tauni mangochi idakali  misewu fumbi wolemba t...  "
      ]
     },
     "execution_count": 13,
     "metadata": {},
     "output_type": "execute_result"
    }
   ],
   "source": [
    "train.sample(5)"
   ]
  },
  {
   "cell_type": "markdown",
   "metadata": {
    "id": "wfxLV4BWmaTR"
   },
   "source": [
    "## Grid Search"
   ]
  },
  {
   "cell_type": "code",
   "execution_count": 14,
   "metadata": {
    "executionInfo": {
     "elapsed": 159,
     "status": "ok",
     "timestamp": 1650854828448,
     "user": {
      "displayName": "Sichao Yu",
      "userId": "10512068069317437381"
     },
     "user_tz": 240
    },
    "id": "PiIpe4FBl8fI"
   },
   "outputs": [],
   "source": [
    "from sklearn.feature_extraction.text import CountVectorizer, TfidfTransformer\n",
    "\n",
    "pipeline = Pipeline(\n",
    "    [\n",
    "        (\"vect\", CountVectorizer()),\n",
    "        (\"tfidf\", TfidfTransformer()),\n",
    "        (\"classifier\", LogisticRegression()),\n",
    "    ]\n",
    ")"
   ]
  },
  {
   "cell_type": "code",
   "execution_count": 15,
   "metadata": {
    "id": "l4mIYTZhl8fJ"
   },
   "outputs": [],
   "source": [
    "parameters = {\n",
    "   'classifier__penalty' : ['l1', 'l2'],\n",
    "   'classifier__C' : np.logspace(-4, 4, 20),\n",
    "   'classifier__solver' : ['liblinear']\n",
    "}"
   ]
  },
  {
   "cell_type": "code",
   "execution_count": 16,
   "metadata": {
    "id": "LyFkeSV5l8fJ"
   },
   "outputs": [],
   "source": [
    "from sklearn.model_selection import GridSearchCV\n",
    "from pprint import pprint\n",
    "\n",
    "grid_search = GridSearchCV(pipeline, parameters, n_jobs=-1, verbose=1)"
   ]
  },
  {
   "cell_type": "code",
   "execution_count": 17,
   "metadata": {
    "id": "F2Pcve3hl8fJ",
    "outputId": "d9f90bcc-b6c6-4f71-b1f8-2995c6e05674",
    "scrolled": true
   },
   "outputs": [
    {
     "name": "stdout",
     "output_type": "stream",
     "text": [
      "Performing grid search...\n",
      "pipeline: ['vect', 'tfidf', 'classifier']\n",
      "parameters:\n",
      "{'classifier__C': array([1.00000000e-04, 2.63665090e-04, 6.95192796e-04, 1.83298071e-03,\n",
      "       4.83293024e-03, 1.27427499e-02, 3.35981829e-02, 8.85866790e-02,\n",
      "       2.33572147e-01, 6.15848211e-01, 1.62377674e+00, 4.28133240e+00,\n",
      "       1.12883789e+01, 2.97635144e+01, 7.84759970e+01, 2.06913808e+02,\n",
      "       5.45559478e+02, 1.43844989e+03, 3.79269019e+03, 1.00000000e+04]),\n",
      " 'classifier__penalty': ['l1', 'l2'],\n",
      " 'classifier__solver': ['liblinear']}\n",
      "Fitting 5 folds for each of 40 candidates, totalling 200 fits\n",
      "done in 72.432s\n",
      "\n",
      "Best score: 0.646\n",
      "Best parameters set:\n",
      "\tclassifier__C: 545.5594781168514\n",
      "\tclassifier__penalty: 'l2'\n",
      "\tclassifier__solver: 'liblinear'\n"
     ]
    }
   ],
   "source": [
    "print(\"Performing grid search...\")\n",
    "print(\"pipeline:\", [name for name, _ in pipeline.steps])\n",
    "print(\"parameters:\")\n",
    "pprint(parameters)\n",
    "t0 = time()\n",
    "grid_search.fit(train['clean_text'], train['Label'])\n",
    "print(\"done in %0.3fs\" % (time() - t0))\n",
    "print()\n",
    "\n",
    "print(\"Best score: %0.3f\" % grid_search.best_score_)\n",
    "print(\"Best parameters set:\")\n",
    "best_parameters = grid_search.best_estimator_.get_params()\n",
    "for param_name in sorted(parameters.keys()):\n",
    "    print(\"\\t%s: %r\" % (param_name, best_parameters[param_name]))"
   ]
  },
  {
   "cell_type": "markdown",
   "metadata": {
    "id": "5MprYcmVmgSw"
   },
   "source": [
    "## Without Oversampling"
   ]
  },
  {
   "cell_type": "code",
   "execution_count": 18,
   "metadata": {
    "colab": {
     "base_uri": "https://localhost:8080/"
    },
    "executionInfo": {
     "elapsed": 164,
     "status": "ok",
     "timestamp": 1650854849178,
     "user": {
      "displayName": "Sichao Yu",
      "userId": "10512068069317437381"
     },
     "user_tz": 240
    },
    "id": "wHRPPso-l8fK",
    "outputId": "ae8a4f3e-8495-48e7-845b-d4d7147823bb"
   },
   "outputs": [],
   "source": [
    "pipeline = Pipeline(\n",
    "    [\n",
    "        (\"vect\", CountVectorizer()),\n",
    "        (\"tfidf\", TfidfTransformer()),\n",
    "        (\"classifier\", LogisticRegression(C=545.5594781168514, solver='liblinear', penalty='l2')),\n",
    "    ]\n",
    ")"
   ]
  },
  {
   "cell_type": "code",
   "execution_count": 19,
   "metadata": {
    "id": "9xOnC18ml8fK",
    "outputId": "58e2726f-e029-4c86-a955-b76656a1dce2"
   },
   "outputs": [
    {
     "name": "stdout",
     "output_type": "stream",
     "text": [
      "[0.62847222 0.63414634 0.67247387 0.64808362 0.64808362]\n"
     ]
    }
   ],
   "source": [
    "scores = cross_val_score(pipeline, train['clean_text'], train['Label'], cv=5, scoring='precision_micro')\n",
    "print(scores)"
   ]
  },
  {
   "cell_type": "code",
   "execution_count": 20,
   "metadata": {
    "id": "KfElTteSl8fK",
    "outputId": "18db18eb-5b92-49e5-a1f4-324b65eaf307"
   },
   "outputs": [
    {
     "name": "stdout",
     "output_type": "stream",
     "text": [
      "Final score is 0.646251935733643\n"
     ]
    }
   ],
   "source": [
    "print(f\"Final score is {scores.mean()}\")"
   ]
  },
  {
   "cell_type": "markdown",
   "metadata": {
    "id": "cS6Jofvom7eW"
   },
   "source": [
    "## With Oversampling"
   ]
  },
  {
   "cell_type": "code",
   "execution_count": 21,
   "metadata": {
    "colab": {
     "base_uri": "https://localhost:8080/"
    },
    "executionInfo": {
     "elapsed": 145,
     "status": "ok",
     "timestamp": 1650854909559,
     "user": {
      "displayName": "Sichao Yu",
      "userId": "10512068069317437381"
     },
     "user_tz": 240
    },
    "id": "o_30b4-Sm9lc",
    "outputId": "8a237391-18c8-4de2-c6ea-6a20558d872f"
   },
   "outputs": [],
   "source": [
    "pipeline = imblearn.pipeline.Pipeline(\n",
    "    [\n",
    "        (\"vect\", CountVectorizer()),\n",
    "        (\"tfidf\", TfidfTransformer()),\n",
    "        ('ros', RandomOverSampler()),\n",
    "        ('oversampler', SMOTE()),\n",
    "        (\"classifier\", LogisticRegression(C=1.623776739188721, solver='liblinear', penalty='l2')),\n",
    "    ]\n",
    ")"
   ]
  },
  {
   "cell_type": "code",
   "execution_count": 22,
   "metadata": {
    "colab": {
     "base_uri": "https://localhost:8080/"
    },
    "executionInfo": {
     "elapsed": 18192,
     "status": "ok",
     "timestamp": 1650854929313,
     "user": {
      "displayName": "Sichao Yu",
      "userId": "10512068069317437381"
     },
     "user_tz": 240
    },
    "id": "GBX17gZynCDu",
    "outputId": "6a6bfd71-c5c6-4a8c-ee3a-a4a5d33eb5c2"
   },
   "outputs": [
    {
     "name": "stdout",
     "output_type": "stream",
     "text": [
      "[0.62847222 0.6445993  0.68989547 0.65505226 0.64111498]\n"
     ]
    }
   ],
   "source": [
    "scores = cross_val_score(pipeline, train['clean_text'], train['Label'], cv=5, scoring='precision_micro')\n",
    "print(scores)"
   ]
  },
  {
   "cell_type": "code",
   "execution_count": 23,
   "metadata": {
    "colab": {
     "base_uri": "https://localhost:8080/"
    },
    "executionInfo": {
     "elapsed": 14,
     "status": "ok",
     "timestamp": 1650854929313,
     "user": {
      "displayName": "Sichao Yu",
      "userId": "10512068069317437381"
     },
     "user_tz": 240
    },
    "id": "e5QVfBGInFtE",
    "outputId": "d811ff82-e3ca-459c-a147-257f38d9972c"
   },
   "outputs": [
    {
     "name": "stdout",
     "output_type": "stream",
     "text": [
      "Final score is 0.6518268486256291\n"
     ]
    }
   ],
   "source": [
    "print(f\"Final score is {scores.mean()}\")"
   ]
  },
  {
   "cell_type": "markdown",
   "metadata": {
    "id": "pMniFs8WnGfJ"
   },
   "source": [
    "## Predict test data"
   ]
  },
  {
   "cell_type": "code",
   "execution_count": 24,
   "metadata": {
    "executionInfo": {
     "elapsed": 5130,
     "status": "ok",
     "timestamp": 1650854970929,
     "user": {
      "displayName": "Sichao Yu",
      "userId": "10512068069317437381"
     },
     "user_tz": 240
    },
    "id": "F9pCnk46l8fK"
   },
   "outputs": [],
   "source": [
    "pipeline.fit( train['clean_text'], train['Label'])\n",
    "test.loc[:,\"Label\"] = pipeline.predict(test['Text'])"
   ]
  },
  {
   "cell_type": "code",
   "execution_count": 25,
   "metadata": {
    "colab": {
     "base_uri": "https://localhost:8080/",
     "height": 423
    },
    "executionInfo": {
     "elapsed": 191,
     "status": "ok",
     "timestamp": 1650854975408,
     "user": {
      "displayName": "Sichao Yu",
      "userId": "10512068069317437381"
     },
     "user_tz": 240
    },
    "id": "VqvglM51l8fL",
    "outputId": "1cac99b7-ad7b-4504-f266-1162af37e10a"
   },
   "outputs": [
    {
     "data": {
      "text/html": [
       "<div>\n",
       "<style scoped>\n",
       "    .dataframe tbody tr th:only-of-type {\n",
       "        vertical-align: middle;\n",
       "    }\n",
       "\n",
       "    .dataframe tbody tr th {\n",
       "        vertical-align: top;\n",
       "    }\n",
       "\n",
       "    .dataframe thead th {\n",
       "        text-align: right;\n",
       "    }\n",
       "</style>\n",
       "<table border=\"1\" class=\"dataframe\">\n",
       "  <thead>\n",
       "    <tr style=\"text-align: right;\">\n",
       "      <th></th>\n",
       "      <th>ID</th>\n",
       "      <th>Label</th>\n",
       "    </tr>\n",
       "  </thead>\n",
       "  <tbody>\n",
       "    <tr>\n",
       "      <th>0</th>\n",
       "      <td>ID_ADHEtjTi</td>\n",
       "      <td>SOCIAL ISSUES</td>\n",
       "    </tr>\n",
       "    <tr>\n",
       "      <th>1</th>\n",
       "      <td>ID_AHfJktdQ</td>\n",
       "      <td>RELIGION</td>\n",
       "    </tr>\n",
       "    <tr>\n",
       "      <th>2</th>\n",
       "      <td>ID_AUJIHpZr</td>\n",
       "      <td>RELATIONSHIPS</td>\n",
       "    </tr>\n",
       "    <tr>\n",
       "      <th>3</th>\n",
       "      <td>ID_AUKYBbIM</td>\n",
       "      <td>SOCIAL ISSUES</td>\n",
       "    </tr>\n",
       "    <tr>\n",
       "      <th>4</th>\n",
       "      <td>ID_AZnsVPEi</td>\n",
       "      <td>HEALTH</td>\n",
       "    </tr>\n",
       "    <tr>\n",
       "      <th>...</th>\n",
       "      <td>...</td>\n",
       "      <td>...</td>\n",
       "    </tr>\n",
       "    <tr>\n",
       "      <th>615</th>\n",
       "      <td>ID_zdpOUWyJ</td>\n",
       "      <td>LAW/ORDER</td>\n",
       "    </tr>\n",
       "    <tr>\n",
       "      <th>616</th>\n",
       "      <td>ID_zhnOomuu</td>\n",
       "      <td>RELATIONSHIPS</td>\n",
       "    </tr>\n",
       "    <tr>\n",
       "      <th>617</th>\n",
       "      <td>ID_zmWHvBJb</td>\n",
       "      <td>LAW/ORDER</td>\n",
       "    </tr>\n",
       "    <tr>\n",
       "      <th>618</th>\n",
       "      <td>ID_zphjdFIb</td>\n",
       "      <td>SOCIAL ISSUES</td>\n",
       "    </tr>\n",
       "    <tr>\n",
       "      <th>619</th>\n",
       "      <td>ID_ztdtrNxt</td>\n",
       "      <td>POLITICS</td>\n",
       "    </tr>\n",
       "  </tbody>\n",
       "</table>\n",
       "<p>620 rows × 2 columns</p>\n",
       "</div>"
      ],
      "text/plain": [
       "              ID          Label\n",
       "0    ID_ADHEtjTi  SOCIAL ISSUES\n",
       "1    ID_AHfJktdQ       RELIGION\n",
       "2    ID_AUJIHpZr  RELATIONSHIPS\n",
       "3    ID_AUKYBbIM  SOCIAL ISSUES\n",
       "4    ID_AZnsVPEi         HEALTH\n",
       "..           ...            ...\n",
       "615  ID_zdpOUWyJ      LAW/ORDER\n",
       "616  ID_zhnOomuu  RELATIONSHIPS\n",
       "617  ID_zmWHvBJb      LAW/ORDER\n",
       "618  ID_zphjdFIb  SOCIAL ISSUES\n",
       "619  ID_ztdtrNxt       POLITICS\n",
       "\n",
       "[620 rows x 2 columns]"
      ]
     },
     "execution_count": 25,
     "metadata": {},
     "output_type": "execute_result"
    }
   ],
   "source": [
    "test[['ID','Label']]"
   ]
  },
  {
   "cell_type": "code",
   "execution_count": 26,
   "metadata": {
    "executionInfo": {
     "elapsed": 577,
     "status": "ok",
     "timestamp": 1650854980752,
     "user": {
      "displayName": "Sichao Yu",
      "userId": "10512068069317437381"
     },
     "user_tz": 240
    },
    "id": "Poj5M4hWl8fL"
   },
   "outputs": [],
   "source": [
    "test[['ID','Label']].to_csv(\"submission.csv\", index=False) "
   ]
  },
  {
   "cell_type": "code",
   "execution_count": 27,
   "metadata": {},
   "outputs": [
    {
     "data": {
      "text/html": [
       "<div>\n",
       "<style scoped>\n",
       "    .dataframe tbody tr th:only-of-type {\n",
       "        vertical-align: middle;\n",
       "    }\n",
       "\n",
       "    .dataframe tbody tr th {\n",
       "        vertical-align: top;\n",
       "    }\n",
       "\n",
       "    .dataframe thead th {\n",
       "        text-align: right;\n",
       "    }\n",
       "</style>\n",
       "<table border=\"1\" class=\"dataframe\">\n",
       "  <thead>\n",
       "    <tr style=\"text-align: right;\">\n",
       "      <th></th>\n",
       "      <th>ID</th>\n",
       "      <th>Text</th>\n",
       "      <th>SGD</th>\n",
       "      <th>MultiNB</th>\n",
       "      <th>Logistic Regression</th>\n",
       "    </tr>\n",
       "  </thead>\n",
       "  <tbody>\n",
       "    <tr>\n",
       "      <th>0</th>\n",
       "      <td>ID_ADHEtjTi</td>\n",
       "      <td>Abambo odzikhweza akuchuluka Kafukufuku wa ap...</td>\n",
       "      <td>SOCIAL ISSUES</td>\n",
       "      <td>SOCIAL ISSUES</td>\n",
       "      <td>SOCIAL ISSUES</td>\n",
       "    </tr>\n",
       "    <tr>\n",
       "      <th>1</th>\n",
       "      <td>ID_AHfJktdQ</td>\n",
       "      <td>Ambuye Ziyaye Ayamikira Aphunzitsi a Tilitonse...</td>\n",
       "      <td>RELIGION</td>\n",
       "      <td>RELIGION</td>\n",
       "      <td>RELIGION</td>\n",
       "    </tr>\n",
       "    <tr>\n",
       "      <th>2</th>\n",
       "      <td>ID_AUJIHpZr</td>\n",
       "      <td>Anatcheleza: Akundiopseza a gogo wanga Akundi...</td>\n",
       "      <td>RELATIONSHIPS</td>\n",
       "      <td>RELATIONSHIPS</td>\n",
       "      <td>RELATIONSHIPS</td>\n",
       "    </tr>\n",
       "    <tr>\n",
       "      <th>3</th>\n",
       "      <td>ID_AUKYBbIM</td>\n",
       "      <td>Ulova wafika posauzana Adatenga digiri ya uph...</td>\n",
       "      <td>POLITICS</td>\n",
       "      <td>LAW/ORDER</td>\n",
       "      <td>SOCIAL ISSUES</td>\n",
       "    </tr>\n",
       "    <tr>\n",
       "      <th>4</th>\n",
       "      <td>ID_AZnsVPEi</td>\n",
       "      <td>Dzombe kukoma, koma Kuyambira makedzana, pant...</td>\n",
       "      <td>HEALTH</td>\n",
       "      <td>HEALTH</td>\n",
       "      <td>HEALTH</td>\n",
       "    </tr>\n",
       "  </tbody>\n",
       "</table>\n",
       "</div>"
      ],
      "text/plain": [
       "            ID                                               Text  \\\n",
       "0  ID_ADHEtjTi   Abambo odzikhweza akuchuluka Kafukufuku wa ap...   \n",
       "1  ID_AHfJktdQ  Ambuye Ziyaye Ayamikira Aphunzitsi a Tilitonse...   \n",
       "2  ID_AUJIHpZr   Anatcheleza: Akundiopseza a gogo wanga Akundi...   \n",
       "3  ID_AUKYBbIM   Ulova wafika posauzana Adatenga digiri ya uph...   \n",
       "4  ID_AZnsVPEi   Dzombe kukoma, koma Kuyambira makedzana, pant...   \n",
       "\n",
       "             SGD        MultiNB Logistic Regression  \n",
       "0  SOCIAL ISSUES  SOCIAL ISSUES       SOCIAL ISSUES  \n",
       "1       RELIGION       RELIGION            RELIGION  \n",
       "2  RELATIONSHIPS  RELATIONSHIPS       RELATIONSHIPS  \n",
       "3       POLITICS      LAW/ORDER       SOCIAL ISSUES  \n",
       "4         HEALTH         HEALTH              HEALTH  "
      ]
     },
     "execution_count": 27,
     "metadata": {},
     "output_type": "execute_result"
    }
   ],
   "source": [
    "combiner = pd.read_csv(\"combiner.csv\")\n",
    "combiner['Logistic Regression'] = test['Label']\n",
    "combiner.to_csv('combiner.csv',index=False)\n",
    "combiner.head()\n"
   ]
  }
 ],
 "metadata": {
  "colab": {
   "collapsed_sections": [],
   "name": "logistic_regression_model.ipynb",
   "provenance": []
  },
  "kernelspec": {
   "display_name": "Python 3 (ipykernel)",
   "language": "python",
   "name": "python3"
  },
  "language_info": {
   "codemirror_mode": {
    "name": "ipython",
    "version": 3
   },
   "file_extension": ".py",
   "mimetype": "text/x-python",
   "name": "python",
   "nbconvert_exporter": "python",
   "pygments_lexer": "ipython3",
   "version": "3.8.8"
  }
 },
 "nbformat": 4,
 "nbformat_minor": 1
}
