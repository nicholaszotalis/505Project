{
 "cells": [
  {
   "cell_type": "markdown",
   "id": "cea5bc90",
   "metadata": {},
   "source": [
    "## Linear SVM Model w/ SMOTE 63.87% Accuracy on Website"
   ]
  },
  {
   "cell_type": "code",
   "execution_count": 1,
   "id": "5e17b59c",
   "metadata": {},
   "outputs": [
    {
     "name": "stderr",
     "output_type": "stream",
     "text": [
      "[nltk_data] Downloading package punkt to /Users/ktyser/nltk_data...\n",
      "[nltk_data]   Package punkt is already up-to-date!\n",
      "[nltk_data] Downloading package wordnet to /Users/ktyser/nltk_data...\n",
      "[nltk_data]   Package wordnet is already up-to-date!\n"
     ]
    },
    {
     "data": {
      "text/plain": [
       "True"
      ]
     },
     "execution_count": 1,
     "metadata": {},
     "output_type": "execute_result"
    }
   ],
   "source": [
    "from sklearn.pipeline import Pipeline\n",
    "from sklearn.feature_extraction.text import TfidfVectorizer\n",
    "from sklearn.feature_extraction.text import CountVectorizer, TfidfTransformer\n",
    "from sklearn.preprocessing import FunctionTransformer\n",
    "from sklearn import svm\n",
    "from sklearn.model_selection import cross_val_score\n",
    "import pandas as pd\n",
    "import imblearn\n",
    "from imblearn.over_sampling import SMOTE,RandomOverSampler\n",
    "\n",
    "from nltk import word_tokenize\n",
    "from time import time\n",
    "import pandas as pd\n",
    "import re\n",
    "import numpy as np\n",
    "import gensim\n",
    "import string\n",
    "import nltk\n",
    "nltk.download('punkt')\n",
    "nltk.download('wordnet')"
   ]
  },
  {
   "cell_type": "code",
   "execution_count": 2,
   "id": "66b88f0b",
   "metadata": {},
   "outputs": [],
   "source": [
    "train = pd.read_csv(\"Train-no-stopwords.csv\")\n",
    "test = pd.read_csv(\"Test.csv\")"
   ]
  },
  {
   "cell_type": "code",
   "execution_count": 3,
   "id": "06b4f07e",
   "metadata": {},
   "outputs": [],
   "source": [
    "punctuations = string.punctuation + \"’¶•@°©®™\"\n",
    "\n",
    "def preprocess_text(text):   \n",
    "    #string to lowercase\n",
    "    txt = text.lower()\n",
    "    \n",
    "    # keep only ascii characters\n",
    "    txt = re.sub(r\"[^a-zA-ZÀ-ÿ]\", \" \", txt)\n",
    "    \n",
    "    # punctuation removal and map it to space\n",
    "    translator = str.maketrans(punctuations, \" \"*len(punctuations))\n",
    "    s = txt.translate(translator)\n",
    "    \n",
    "    # remove digits \n",
    "    no_digits = ''.join([i for i in s if not i.isdigit()])\n",
    "    cleaner = \" \".join(no_digits.split())\n",
    "    \n",
    "    # tokenize words and removing stop words \n",
    "    word_tokens = word_tokenize(cleaner)\n",
    "    filtered_sentence = [w for w in word_tokens if len(w)>2 ]\n",
    "    filtered_sentence = \" \".join(filtered_sentence)\n",
    "    \n",
    "    return filtered_sentence"
   ]
  },
  {
   "cell_type": "code",
   "execution_count": 4,
   "id": "1048eb13",
   "metadata": {},
   "outputs": [],
   "source": [
    "# preprocessing the text\n",
    "train['clean_text'] = train.Text.apply(preprocess_text)\n",
    "test['clean_text'] = test.Text.apply(preprocess_text)"
   ]
  },
  {
   "cell_type": "code",
   "execution_count": 5,
   "id": "03266d2c",
   "metadata": {},
   "outputs": [],
   "source": [
    "# defining pipelines\n",
    "pipeline = Pipeline(\n",
    "    [\n",
    "        (\"vect\", CountVectorizer()),\n",
    "        (\"tfidf\", TfidfTransformer()),\n",
    "        (\"classifier\", svm.SVC()),\n",
    "    ]\n",
    ")\n",
    "\n",
    "pipeline2 = Pipeline(\n",
    "    [\n",
    "        (\"vect\", CountVectorizer()),\n",
    "        (\"tfidf\", TfidfTransformer()),\n",
    "        (\"classifier\", svm.LinearSVC()),\n",
    "    ]\n",
    ")"
   ]
  },
  {
   "cell_type": "code",
   "execution_count": 6,
   "id": "83153374",
   "metadata": {},
   "outputs": [
    {
     "name": "stdout",
     "output_type": "stream",
     "text": [
      "[0.55208333 0.57142857 0.63414634 0.55052265 0.51567944]\n",
      "[0.63194444 0.6271777  0.67595819 0.66202091 0.65156794]\n"
     ]
    }
   ],
   "source": [
    "# evaluating models\n",
    "scores = cross_val_score(pipeline, train['clean_text'], train['Label'], cv=5, scoring='precision_micro')\n",
    "print(scores)\n",
    "scores2 = cross_val_score(pipeline2, train['clean_text'], train['Label'], cv=5, scoring='precision_micro')\n",
    "print(scores2)"
   ]
  },
  {
   "cell_type": "code",
   "execution_count": 7,
   "id": "4ec7f810",
   "metadata": {
    "scrolled": true
   },
   "outputs": [
    {
     "name": "stdout",
     "output_type": "stream",
     "text": [
      "Final score is 0.5647720673635307\n",
      "Final score is 0.6497338366240806\n"
     ]
    }
   ],
   "source": [
    "print(f\"Final score is {scores.mean()}\")\n",
    "print(f\"Final score is {scores2.mean()}\")"
   ]
  },
  {
   "cell_type": "code",
   "execution_count": 8,
   "id": "feb89a1b",
   "metadata": {},
   "outputs": [],
   "source": [
    "# trying SMOTE sampling\n",
    "pipeline = imblearn.pipeline.Pipeline(\n",
    "    [\n",
    "        (\"vect\", CountVectorizer()),\n",
    "        (\"tfidf\", TfidfTransformer()),\n",
    "        ('ros', RandomOverSampler()),\n",
    "        ('oversampler', SMOTE()),\n",
    "        (\"classifier\", svm.LinearSVC()),\n",
    "    ]\n",
    ")"
   ]
  },
  {
   "cell_type": "code",
   "execution_count": 9,
   "id": "73872379",
   "metadata": {},
   "outputs": [
    {
     "name": "stdout",
     "output_type": "stream",
     "text": [
      "[0.63888889 0.63763066 0.67595819 0.65156794 0.6445993 ]\n"
     ]
    }
   ],
   "source": [
    "scores = cross_val_score(pipeline, train['clean_text'], train['Label'], cv=5, scoring='precision_micro')\n",
    "print(scores)"
   ]
  },
  {
   "cell_type": "code",
   "execution_count": 10,
   "id": "e14c17e5",
   "metadata": {},
   "outputs": [
    {
     "name": "stdout",
     "output_type": "stream",
     "text": [
      "Final score is 0.6497289972899729\n"
     ]
    }
   ],
   "source": [
    "print(f\"Final score is {scores.mean()}\")\n"
   ]
  },
  {
   "cell_type": "code",
   "execution_count": 11,
   "id": "7fd6bef3",
   "metadata": {},
   "outputs": [],
   "source": [
    "# making predictions with the best model\n",
    "pipeline.fit( train['clean_text'], train['Label'])\n",
    "test.loc[:,\"Label\"] = pipeline.predict(test['Text'])"
   ]
  },
  {
   "cell_type": "code",
   "execution_count": 12,
   "id": "38ecac95",
   "metadata": {},
   "outputs": [
    {
     "data": {
      "text/html": [
       "<div>\n",
       "<style scoped>\n",
       "    .dataframe tbody tr th:only-of-type {\n",
       "        vertical-align: middle;\n",
       "    }\n",
       "\n",
       "    .dataframe tbody tr th {\n",
       "        vertical-align: top;\n",
       "    }\n",
       "\n",
       "    .dataframe thead th {\n",
       "        text-align: right;\n",
       "    }\n",
       "</style>\n",
       "<table border=\"1\" class=\"dataframe\">\n",
       "  <thead>\n",
       "    <tr style=\"text-align: right;\">\n",
       "      <th></th>\n",
       "      <th>ID</th>\n",
       "      <th>Label</th>\n",
       "    </tr>\n",
       "  </thead>\n",
       "  <tbody>\n",
       "    <tr>\n",
       "      <th>0</th>\n",
       "      <td>ID_ADHEtjTi</td>\n",
       "      <td>SOCIAL ISSUES</td>\n",
       "    </tr>\n",
       "    <tr>\n",
       "      <th>1</th>\n",
       "      <td>ID_AHfJktdQ</td>\n",
       "      <td>RELIGION</td>\n",
       "    </tr>\n",
       "    <tr>\n",
       "      <th>2</th>\n",
       "      <td>ID_AUJIHpZr</td>\n",
       "      <td>RELATIONSHIPS</td>\n",
       "    </tr>\n",
       "    <tr>\n",
       "      <th>3</th>\n",
       "      <td>ID_AUKYBbIM</td>\n",
       "      <td>SOCIAL ISSUES</td>\n",
       "    </tr>\n",
       "    <tr>\n",
       "      <th>4</th>\n",
       "      <td>ID_AZnsVPEi</td>\n",
       "      <td>HEALTH</td>\n",
       "    </tr>\n",
       "    <tr>\n",
       "      <th>...</th>\n",
       "      <td>...</td>\n",
       "      <td>...</td>\n",
       "    </tr>\n",
       "    <tr>\n",
       "      <th>615</th>\n",
       "      <td>ID_zdpOUWyJ</td>\n",
       "      <td>LAW/ORDER</td>\n",
       "    </tr>\n",
       "    <tr>\n",
       "      <th>616</th>\n",
       "      <td>ID_zhnOomuu</td>\n",
       "      <td>RELATIONSHIPS</td>\n",
       "    </tr>\n",
       "    <tr>\n",
       "      <th>617</th>\n",
       "      <td>ID_zmWHvBJb</td>\n",
       "      <td>LAW/ORDER</td>\n",
       "    </tr>\n",
       "    <tr>\n",
       "      <th>618</th>\n",
       "      <td>ID_zphjdFIb</td>\n",
       "      <td>SOCIAL ISSUES</td>\n",
       "    </tr>\n",
       "    <tr>\n",
       "      <th>619</th>\n",
       "      <td>ID_ztdtrNxt</td>\n",
       "      <td>POLITICS</td>\n",
       "    </tr>\n",
       "  </tbody>\n",
       "</table>\n",
       "<p>620 rows × 2 columns</p>\n",
       "</div>"
      ],
      "text/plain": [
       "              ID          Label\n",
       "0    ID_ADHEtjTi  SOCIAL ISSUES\n",
       "1    ID_AHfJktdQ       RELIGION\n",
       "2    ID_AUJIHpZr  RELATIONSHIPS\n",
       "3    ID_AUKYBbIM  SOCIAL ISSUES\n",
       "4    ID_AZnsVPEi         HEALTH\n",
       "..           ...            ...\n",
       "615  ID_zdpOUWyJ      LAW/ORDER\n",
       "616  ID_zhnOomuu  RELATIONSHIPS\n",
       "617  ID_zmWHvBJb      LAW/ORDER\n",
       "618  ID_zphjdFIb  SOCIAL ISSUES\n",
       "619  ID_ztdtrNxt       POLITICS\n",
       "\n",
       "[620 rows x 2 columns]"
      ]
     },
     "execution_count": 12,
     "metadata": {},
     "output_type": "execute_result"
    }
   ],
   "source": [
    "test[['ID','Label']]"
   ]
  },
  {
   "cell_type": "code",
   "execution_count": 13,
   "id": "f812229a",
   "metadata": {},
   "outputs": [],
   "source": [
    "#test[['ID','Label']].to_csv(\"submission.csv\", index=False) "
   ]
  },
  {
   "cell_type": "code",
   "execution_count": 14,
   "id": "33bb3402",
   "metadata": {},
   "outputs": [
    {
     "data": {
      "text/html": [
       "<div>\n",
       "<style scoped>\n",
       "    .dataframe tbody tr th:only-of-type {\n",
       "        vertical-align: middle;\n",
       "    }\n",
       "\n",
       "    .dataframe tbody tr th {\n",
       "        vertical-align: top;\n",
       "    }\n",
       "\n",
       "    .dataframe thead th {\n",
       "        text-align: right;\n",
       "    }\n",
       "</style>\n",
       "<table border=\"1\" class=\"dataframe\">\n",
       "  <thead>\n",
       "    <tr style=\"text-align: right;\">\n",
       "      <th></th>\n",
       "      <th>ID</th>\n",
       "      <th>Text</th>\n",
       "      <th>SGD</th>\n",
       "      <th>MultiNB</th>\n",
       "      <th>Logistic Regression</th>\n",
       "      <th>KNN</th>\n",
       "      <th>SVM</th>\n",
       "    </tr>\n",
       "  </thead>\n",
       "  <tbody>\n",
       "    <tr>\n",
       "      <th>0</th>\n",
       "      <td>ID_ADHEtjTi</td>\n",
       "      <td>Abambo odzikhweza akuchuluka Kafukufuku wa ap...</td>\n",
       "      <td>SOCIAL ISSUES</td>\n",
       "      <td>SOCIAL ISSUES</td>\n",
       "      <td>SOCIAL ISSUES</td>\n",
       "      <td>RELIGION</td>\n",
       "      <td>SOCIAL ISSUES</td>\n",
       "    </tr>\n",
       "    <tr>\n",
       "      <th>1</th>\n",
       "      <td>ID_AHfJktdQ</td>\n",
       "      <td>Ambuye Ziyaye Ayamikira Aphunzitsi a Tilitonse...</td>\n",
       "      <td>RELIGION</td>\n",
       "      <td>RELIGION</td>\n",
       "      <td>RELIGION</td>\n",
       "      <td>RELIGION</td>\n",
       "      <td>RELIGION</td>\n",
       "    </tr>\n",
       "    <tr>\n",
       "      <th>2</th>\n",
       "      <td>ID_AUJIHpZr</td>\n",
       "      <td>Anatcheleza: Akundiopseza a gogo wanga Akundi...</td>\n",
       "      <td>RELATIONSHIPS</td>\n",
       "      <td>RELATIONSHIPS</td>\n",
       "      <td>RELATIONSHIPS</td>\n",
       "      <td>RELATIONSHIPS</td>\n",
       "      <td>RELATIONSHIPS</td>\n",
       "    </tr>\n",
       "    <tr>\n",
       "      <th>3</th>\n",
       "      <td>ID_AUKYBbIM</td>\n",
       "      <td>Ulova wafika posauzana Adatenga digiri ya uph...</td>\n",
       "      <td>POLITICS</td>\n",
       "      <td>LAW/ORDER</td>\n",
       "      <td>SOCIAL ISSUES</td>\n",
       "      <td>POLITICS</td>\n",
       "      <td>SOCIAL ISSUES</td>\n",
       "    </tr>\n",
       "    <tr>\n",
       "      <th>4</th>\n",
       "      <td>ID_AZnsVPEi</td>\n",
       "      <td>Dzombe kukoma, koma Kuyambira makedzana, pant...</td>\n",
       "      <td>HEALTH</td>\n",
       "      <td>HEALTH</td>\n",
       "      <td>HEALTH</td>\n",
       "      <td>EDUCATION</td>\n",
       "      <td>HEALTH</td>\n",
       "    </tr>\n",
       "  </tbody>\n",
       "</table>\n",
       "</div>"
      ],
      "text/plain": [
       "            ID                                               Text  \\\n",
       "0  ID_ADHEtjTi   Abambo odzikhweza akuchuluka Kafukufuku wa ap...   \n",
       "1  ID_AHfJktdQ  Ambuye Ziyaye Ayamikira Aphunzitsi a Tilitonse...   \n",
       "2  ID_AUJIHpZr   Anatcheleza: Akundiopseza a gogo wanga Akundi...   \n",
       "3  ID_AUKYBbIM   Ulova wafika posauzana Adatenga digiri ya uph...   \n",
       "4  ID_AZnsVPEi   Dzombe kukoma, koma Kuyambira makedzana, pant...   \n",
       "\n",
       "             SGD        MultiNB Logistic Regression            KNN  \\\n",
       "0  SOCIAL ISSUES  SOCIAL ISSUES       SOCIAL ISSUES       RELIGION   \n",
       "1       RELIGION       RELIGION            RELIGION       RELIGION   \n",
       "2  RELATIONSHIPS  RELATIONSHIPS       RELATIONSHIPS  RELATIONSHIPS   \n",
       "3       POLITICS      LAW/ORDER       SOCIAL ISSUES       POLITICS   \n",
       "4         HEALTH         HEALTH              HEALTH      EDUCATION   \n",
       "\n",
       "             SVM  \n",
       "0  SOCIAL ISSUES  \n",
       "1       RELIGION  \n",
       "2  RELATIONSHIPS  \n",
       "3  SOCIAL ISSUES  \n",
       "4         HEALTH  "
      ]
     },
     "execution_count": 14,
     "metadata": {},
     "output_type": "execute_result"
    }
   ],
   "source": [
    "combiner = pd.read_csv(\"combiner.csv\")\n",
    "combiner['SVM'] = test['Label']\n",
    "combiner.to_csv('combiner.csv',index=False)\n",
    "combiner.head()"
   ]
  }
 ],
 "metadata": {
  "kernelspec": {
   "display_name": "Python 3 (ipykernel)",
   "language": "python",
   "name": "python3"
  },
  "language_info": {
   "codemirror_mode": {
    "name": "ipython",
    "version": 3
   },
   "file_extension": ".py",
   "mimetype": "text/x-python",
   "name": "python",
   "nbconvert_exporter": "python",
   "pygments_lexer": "ipython3",
   "version": "3.8.8"
  }
 },
 "nbformat": 4,
 "nbformat_minor": 5
}
