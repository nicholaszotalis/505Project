{
 "cells": [
  {
   "cell_type": "code",
   "execution_count": 24,
   "metadata": {
    "id": "YQlita-mq_qc"
   },
   "outputs": [],
   "source": [
    "import matplotlib.pyplot as plt\n",
    "from sklearn.pipeline import Pipeline\n",
    "from sklearn.feature_extraction.text import TfidfVectorizer\n",
    "from sklearn.preprocessing import FunctionTransformer\n",
    "from sklearn.ensemble import RandomForestClassifier\n",
    "from sklearn.tree import DecisionTreeClassifier\n",
    "from sklearn.model_selection import cross_val_score\n",
    "from collections import Counter\n",
    "import imblearn\n",
    "from imblearn.over_sampling import SMOTE,RandomOverSampler\n",
    "from sklearn.model_selection import train_test_split, StratifiedKFold\n",
    "from sklearn.metrics import accuracy_score\n",
    "\n",
    "from nltk import word_tokenize\n",
    "from time import time\n",
    "import pandas as pd\n",
    "import re\n",
    "import numpy as np\n",
    "import gensim\n",
    "import string\n",
    "from gensim.models import Word2Vec, Phrases"
   ]
  },
  {
   "cell_type": "code",
   "execution_count": 4,
   "metadata": {
    "colab": {
     "base_uri": "https://localhost:8080/"
    },
    "id": "hoqE2N0al8fB",
    "outputId": "a3463ba8-d30c-4604-cf3a-19a978e4d51c"
   },
   "outputs": [
    {
     "name": "stdout",
     "output_type": "stream",
     "text": [
      "[nltk_data] Downloading package punkt to /root/nltk_data...\n",
      "[nltk_data]   Unzipping tokenizers/punkt.zip.\n",
      "[nltk_data] Downloading package wordnet to /root/nltk_data...\n",
      "[nltk_data]   Unzipping corpora/wordnet.zip.\n"
     ]
    },
    {
     "data": {
      "text/plain": [
       "True"
      ]
     },
     "execution_count": 4,
     "metadata": {},
     "output_type": "execute_result"
    }
   ],
   "source": [
    "import nltk\n",
    "nltk.download('punkt')\n",
    "nltk.download('wordnet')"
   ]
  },
  {
   "cell_type": "markdown",
   "metadata": {
    "id": "I-lJZkilYXFU"
   },
   "source": [
    "# Data Preprocessing"
   ]
  },
  {
   "cell_type": "code",
   "execution_count": 5,
   "metadata": {
    "colab": {
     "base_uri": "https://localhost:8080/",
     "height": 206
    },
    "id": "68KcoqNcx4XK",
    "outputId": "c0394a8c-087e-4011-c4b7-608870fb774b"
   },
   "outputs": [
    {
     "data": {
      "text/html": [
       "\n",
       "  <div id=\"df-8ea507d5-ce67-45be-b718-fac18acb097f\">\n",
       "    <div class=\"colab-df-container\">\n",
       "      <div>\n",
       "<style scoped>\n",
       "    .dataframe tbody tr th:only-of-type {\n",
       "        vertical-align: middle;\n",
       "    }\n",
       "\n",
       "    .dataframe tbody tr th {\n",
       "        vertical-align: top;\n",
       "    }\n",
       "\n",
       "    .dataframe thead th {\n",
       "        text-align: right;\n",
       "    }\n",
       "</style>\n",
       "<table border=\"1\" class=\"dataframe\">\n",
       "  <thead>\n",
       "    <tr style=\"text-align: right;\">\n",
       "      <th></th>\n",
       "      <th>ID</th>\n",
       "      <th>Text</th>\n",
       "      <th>Label</th>\n",
       "    </tr>\n",
       "  </thead>\n",
       "  <tbody>\n",
       "    <tr>\n",
       "      <th>606</th>\n",
       "      <td>ID_WnLgBJdY</td>\n",
       "      <td>WESM Ikuthandiza Alimi Kupanga Manyowa Bungwe ...</td>\n",
       "      <td>FARMING</td>\n",
       "    </tr>\n",
       "    <tr>\n",
       "      <th>223</th>\n",
       "      <td>ID_IVUpzLZS</td>\n",
       "      <td>YCW Imangira Nyumba Mayi Wachikulire Wolemba: ...</td>\n",
       "      <td>SOCIAL</td>\n",
       "    </tr>\n",
       "    <tr>\n",
       "      <th>1154</th>\n",
       "      <td>ID_rJHYjLHj</td>\n",
       "      <td>Kasambara: Akhazikitsa chimbale mwezi uno Mar...</td>\n",
       "      <td>MUSIC</td>\n",
       "    </tr>\n",
       "    <tr>\n",
       "      <th>1115</th>\n",
       "      <td>ID_pmLnsGZZ</td>\n",
       "      <td>Ndale pamaliro nchitonzo Katswiri pa zachikha...</td>\n",
       "      <td>POLITICS</td>\n",
       "    </tr>\n",
       "    <tr>\n",
       "      <th>77</th>\n",
       "      <td>ID_DQZzdkEq</td>\n",
       "      <td>Awiri Afa Pochokera Ku Interview Ya Zaumoyo An...</td>\n",
       "      <td>SOCIAL</td>\n",
       "    </tr>\n",
       "  </tbody>\n",
       "</table>\n",
       "</div>\n",
       "      <button class=\"colab-df-convert\" onclick=\"convertToInteractive('df-8ea507d5-ce67-45be-b718-fac18acb097f')\"\n",
       "              title=\"Convert this dataframe to an interactive table.\"\n",
       "              style=\"display:none;\">\n",
       "        \n",
       "  <svg xmlns=\"http://www.w3.org/2000/svg\" height=\"24px\"viewBox=\"0 0 24 24\"\n",
       "       width=\"24px\">\n",
       "    <path d=\"M0 0h24v24H0V0z\" fill=\"none\"/>\n",
       "    <path d=\"M18.56 5.44l.94 2.06.94-2.06 2.06-.94-2.06-.94-.94-2.06-.94 2.06-2.06.94zm-11 1L8.5 8.5l.94-2.06 2.06-.94-2.06-.94L8.5 2.5l-.94 2.06-2.06.94zm10 10l.94 2.06.94-2.06 2.06-.94-2.06-.94-.94-2.06-.94 2.06-2.06.94z\"/><path d=\"M17.41 7.96l-1.37-1.37c-.4-.4-.92-.59-1.43-.59-.52 0-1.04.2-1.43.59L10.3 9.45l-7.72 7.72c-.78.78-.78 2.05 0 2.83L4 21.41c.39.39.9.59 1.41.59.51 0 1.02-.2 1.41-.59l7.78-7.78 2.81-2.81c.8-.78.8-2.07 0-2.86zM5.41 20L4 18.59l7.72-7.72 1.47 1.35L5.41 20z\"/>\n",
       "  </svg>\n",
       "      </button>\n",
       "      \n",
       "  <style>\n",
       "    .colab-df-container {\n",
       "      display:flex;\n",
       "      flex-wrap:wrap;\n",
       "      gap: 12px;\n",
       "    }\n",
       "\n",
       "    .colab-df-convert {\n",
       "      background-color: #E8F0FE;\n",
       "      border: none;\n",
       "      border-radius: 50%;\n",
       "      cursor: pointer;\n",
       "      display: none;\n",
       "      fill: #1967D2;\n",
       "      height: 32px;\n",
       "      padding: 0 0 0 0;\n",
       "      width: 32px;\n",
       "    }\n",
       "\n",
       "    .colab-df-convert:hover {\n",
       "      background-color: #E2EBFA;\n",
       "      box-shadow: 0px 1px 2px rgba(60, 64, 67, 0.3), 0px 1px 3px 1px rgba(60, 64, 67, 0.15);\n",
       "      fill: #174EA6;\n",
       "    }\n",
       "\n",
       "    [theme=dark] .colab-df-convert {\n",
       "      background-color: #3B4455;\n",
       "      fill: #D2E3FC;\n",
       "    }\n",
       "\n",
       "    [theme=dark] .colab-df-convert:hover {\n",
       "      background-color: #434B5C;\n",
       "      box-shadow: 0px 1px 3px 1px rgba(0, 0, 0, 0.15);\n",
       "      filter: drop-shadow(0px 1px 2px rgba(0, 0, 0, 0.3));\n",
       "      fill: #FFFFFF;\n",
       "    }\n",
       "  </style>\n",
       "\n",
       "      <script>\n",
       "        const buttonEl =\n",
       "          document.querySelector('#df-8ea507d5-ce67-45be-b718-fac18acb097f button.colab-df-convert');\n",
       "        buttonEl.style.display =\n",
       "          google.colab.kernel.accessAllowed ? 'block' : 'none';\n",
       "\n",
       "        async function convertToInteractive(key) {\n",
       "          const element = document.querySelector('#df-8ea507d5-ce67-45be-b718-fac18acb097f');\n",
       "          const dataTable =\n",
       "            await google.colab.kernel.invokeFunction('convertToInteractive',\n",
       "                                                     [key], {});\n",
       "          if (!dataTable) return;\n",
       "\n",
       "          const docLinkHtml = 'Like what you see? Visit the ' +\n",
       "            '<a target=\"_blank\" href=https://colab.research.google.com/notebooks/data_table.ipynb>data table notebook</a>'\n",
       "            + ' to learn more about interactive tables.';\n",
       "          element.innerHTML = '';\n",
       "          dataTable['output_type'] = 'display_data';\n",
       "          await google.colab.output.renderOutput(dataTable, element);\n",
       "          const docLink = document.createElement('div');\n",
       "          docLink.innerHTML = docLinkHtml;\n",
       "          element.appendChild(docLink);\n",
       "        }\n",
       "      </script>\n",
       "    </div>\n",
       "  </div>\n",
       "  "
      ],
      "text/plain": [
       "               ID                                               Text     Label\n",
       "606   ID_WnLgBJdY  WESM Ikuthandiza Alimi Kupanga Manyowa Bungwe ...   FARMING\n",
       "223   ID_IVUpzLZS  YCW Imangira Nyumba Mayi Wachikulire Wolemba: ...    SOCIAL\n",
       "1154  ID_rJHYjLHj   Kasambara: Akhazikitsa chimbale mwezi uno Mar...     MUSIC\n",
       "1115  ID_pmLnsGZZ   Ndale pamaliro nchitonzo Katswiri pa zachikha...  POLITICS\n",
       "77    ID_DQZzdkEq  Awiri Afa Pochokera Ku Interview Ya Zaumoyo An...    SOCIAL"
      ]
     },
     "execution_count": 5,
     "metadata": {},
     "output_type": "execute_result"
    }
   ],
   "source": [
    "training_set = pd.read_csv(\"Train.csv\")\n",
    "training_set.sample(5)"
   ]
  },
  {
   "cell_type": "code",
   "execution_count": 6,
   "metadata": {
    "colab": {
     "base_uri": "https://localhost:8080/"
    },
    "id": "t1i0gu6DVgn6",
    "outputId": "2bf31b73-76d1-4546-d13a-807e635c2231"
   },
   "outputs": [
    {
     "name": "stdout",
     "output_type": "stream",
     "text": [
      "<class 'pandas.core.frame.DataFrame'>\n",
      "RangeIndex: 1436 entries, 0 to 1435\n",
      "Data columns (total 3 columns):\n",
      " #   Column  Non-Null Count  Dtype \n",
      "---  ------  --------------  ----- \n",
      " 0   ID      1436 non-null   object\n",
      " 1   Text    1436 non-null   object\n",
      " 2   Label   1436 non-null   object\n",
      "dtypes: object(3)\n",
      "memory usage: 33.8+ KB\n"
     ]
    }
   ],
   "source": [
    "training_set.info()"
   ]
  },
  {
   "cell_type": "code",
   "execution_count": 7,
   "metadata": {
    "colab": {
     "base_uri": "https://localhost:8080/",
     "height": 206
    },
    "id": "daEkQFAvx4XL",
    "outputId": "7321d064-7183-48e3-a0f5-c9819f63c565"
   },
   "outputs": [
    {
     "data": {
      "text/html": [
       "\n",
       "  <div id=\"df-c81260ef-b2b9-464f-9143-49cd34d1ecd9\">\n",
       "    <div class=\"colab-df-container\">\n",
       "      <div>\n",
       "<style scoped>\n",
       "    .dataframe tbody tr th:only-of-type {\n",
       "        vertical-align: middle;\n",
       "    }\n",
       "\n",
       "    .dataframe tbody tr th {\n",
       "        vertical-align: top;\n",
       "    }\n",
       "\n",
       "    .dataframe thead th {\n",
       "        text-align: right;\n",
       "    }\n",
       "</style>\n",
       "<table border=\"1\" class=\"dataframe\">\n",
       "  <thead>\n",
       "    <tr style=\"text-align: right;\">\n",
       "      <th></th>\n",
       "      <th>ID</th>\n",
       "      <th>Text</th>\n",
       "    </tr>\n",
       "  </thead>\n",
       "  <tbody>\n",
       "    <tr>\n",
       "      <th>346</th>\n",
       "      <td>ID_eCJzliVf</td>\n",
       "      <td>Papa Wati Masewero Olimbitsa Thupi Amabweretsa...</td>\n",
       "    </tr>\n",
       "    <tr>\n",
       "      <th>602</th>\n",
       "      <td>ID_yPLbZVkn</td>\n",
       "      <td>Arkidayosizi ya Blantyre Yayamikira Umodzi Pak...</td>\n",
       "    </tr>\n",
       "    <tr>\n",
       "      <th>529</th>\n",
       "      <td>ID_sluGXbji</td>\n",
       "      <td>TB ya kumsana imapha ziwalo Dokotala wothandi...</td>\n",
       "    </tr>\n",
       "    <tr>\n",
       "      <th>318</th>\n",
       "      <td>ID_bMpMazLm</td>\n",
       "      <td>Rasta akaseweza zaka 6 Mlandu woba njinga kom...</td>\n",
       "    </tr>\n",
       "    <tr>\n",
       "      <th>496</th>\n",
       "      <td>ID_qPSOUOBY</td>\n",
       "      <td>Anthu 29 Anjatidwa ku Mchesi, Biwi Apolisi mu ...</td>\n",
       "    </tr>\n",
       "  </tbody>\n",
       "</table>\n",
       "</div>\n",
       "      <button class=\"colab-df-convert\" onclick=\"convertToInteractive('df-c81260ef-b2b9-464f-9143-49cd34d1ecd9')\"\n",
       "              title=\"Convert this dataframe to an interactive table.\"\n",
       "              style=\"display:none;\">\n",
       "        \n",
       "  <svg xmlns=\"http://www.w3.org/2000/svg\" height=\"24px\"viewBox=\"0 0 24 24\"\n",
       "       width=\"24px\">\n",
       "    <path d=\"M0 0h24v24H0V0z\" fill=\"none\"/>\n",
       "    <path d=\"M18.56 5.44l.94 2.06.94-2.06 2.06-.94-2.06-.94-.94-2.06-.94 2.06-2.06.94zm-11 1L8.5 8.5l.94-2.06 2.06-.94-2.06-.94L8.5 2.5l-.94 2.06-2.06.94zm10 10l.94 2.06.94-2.06 2.06-.94-2.06-.94-.94-2.06-.94 2.06-2.06.94z\"/><path d=\"M17.41 7.96l-1.37-1.37c-.4-.4-.92-.59-1.43-.59-.52 0-1.04.2-1.43.59L10.3 9.45l-7.72 7.72c-.78.78-.78 2.05 0 2.83L4 21.41c.39.39.9.59 1.41.59.51 0 1.02-.2 1.41-.59l7.78-7.78 2.81-2.81c.8-.78.8-2.07 0-2.86zM5.41 20L4 18.59l7.72-7.72 1.47 1.35L5.41 20z\"/>\n",
       "  </svg>\n",
       "      </button>\n",
       "      \n",
       "  <style>\n",
       "    .colab-df-container {\n",
       "      display:flex;\n",
       "      flex-wrap:wrap;\n",
       "      gap: 12px;\n",
       "    }\n",
       "\n",
       "    .colab-df-convert {\n",
       "      background-color: #E8F0FE;\n",
       "      border: none;\n",
       "      border-radius: 50%;\n",
       "      cursor: pointer;\n",
       "      display: none;\n",
       "      fill: #1967D2;\n",
       "      height: 32px;\n",
       "      padding: 0 0 0 0;\n",
       "      width: 32px;\n",
       "    }\n",
       "\n",
       "    .colab-df-convert:hover {\n",
       "      background-color: #E2EBFA;\n",
       "      box-shadow: 0px 1px 2px rgba(60, 64, 67, 0.3), 0px 1px 3px 1px rgba(60, 64, 67, 0.15);\n",
       "      fill: #174EA6;\n",
       "    }\n",
       "\n",
       "    [theme=dark] .colab-df-convert {\n",
       "      background-color: #3B4455;\n",
       "      fill: #D2E3FC;\n",
       "    }\n",
       "\n",
       "    [theme=dark] .colab-df-convert:hover {\n",
       "      background-color: #434B5C;\n",
       "      box-shadow: 0px 1px 3px 1px rgba(0, 0, 0, 0.15);\n",
       "      filter: drop-shadow(0px 1px 2px rgba(0, 0, 0, 0.3));\n",
       "      fill: #FFFFFF;\n",
       "    }\n",
       "  </style>\n",
       "\n",
       "      <script>\n",
       "        const buttonEl =\n",
       "          document.querySelector('#df-c81260ef-b2b9-464f-9143-49cd34d1ecd9 button.colab-df-convert');\n",
       "        buttonEl.style.display =\n",
       "          google.colab.kernel.accessAllowed ? 'block' : 'none';\n",
       "\n",
       "        async function convertToInteractive(key) {\n",
       "          const element = document.querySelector('#df-c81260ef-b2b9-464f-9143-49cd34d1ecd9');\n",
       "          const dataTable =\n",
       "            await google.colab.kernel.invokeFunction('convertToInteractive',\n",
       "                                                     [key], {});\n",
       "          if (!dataTable) return;\n",
       "\n",
       "          const docLinkHtml = 'Like what you see? Visit the ' +\n",
       "            '<a target=\"_blank\" href=https://colab.research.google.com/notebooks/data_table.ipynb>data table notebook</a>'\n",
       "            + ' to learn more about interactive tables.';\n",
       "          element.innerHTML = '';\n",
       "          dataTable['output_type'] = 'display_data';\n",
       "          await google.colab.output.renderOutput(dataTable, element);\n",
       "          const docLink = document.createElement('div');\n",
       "          docLink.innerHTML = docLinkHtml;\n",
       "          element.appendChild(docLink);\n",
       "        }\n",
       "      </script>\n",
       "    </div>\n",
       "  </div>\n",
       "  "
      ],
      "text/plain": [
       "              ID                                               Text\n",
       "346  ID_eCJzliVf  Papa Wati Masewero Olimbitsa Thupi Amabweretsa...\n",
       "602  ID_yPLbZVkn  Arkidayosizi ya Blantyre Yayamikira Umodzi Pak...\n",
       "529  ID_sluGXbji   TB ya kumsana imapha ziwalo Dokotala wothandi...\n",
       "318  ID_bMpMazLm   Rasta akaseweza zaka 6 Mlandu woba njinga kom...\n",
       "496  ID_qPSOUOBY  Anthu 29 Anjatidwa ku Mchesi, Biwi Apolisi mu ..."
      ]
     },
     "execution_count": 7,
     "metadata": {},
     "output_type": "execute_result"
    }
   ],
   "source": [
    "test_set = pd.read_csv(\"Test.csv\")\n",
    "test_set.sample(5)"
   ]
  },
  {
   "cell_type": "code",
   "execution_count": 8,
   "metadata": {
    "id": "lepSZGgyl8fE"
   },
   "outputs": [],
   "source": [
    "punctuations = string.punctuation + \"’¶•@°©®™\"\n",
    "stop_words = pd.read_csv(\"stopwords.csv\", usecols=[\"Chichewa\"])\n",
    "sw = set(stop_words.values[:100].flatten().tolist())"
   ]
  },
  {
   "cell_type": "code",
   "execution_count": 9,
   "metadata": {
    "id": "yMrgTHEu10Ho"
   },
   "outputs": [],
   "source": [
    "def preprocess_text(text):\n",
    "    \"\"\"\n",
    "    @param text string\n",
    "    @return text string\n",
    "    \n",
    "    This function preprocess a given raw text by normalizing it to lowercase removing the stop words,\n",
    "    punctuations and lemmatization\n",
    "    \"\"\"\n",
    "        \n",
    "    #string to lowercase\n",
    "    txt = text.lower()\n",
    "    \n",
    "    # keep only ascii characters\n",
    "    txt = re.sub(r\"[^a-zA-ZÀ-ÿ]\", \" \", txt)\n",
    "    \n",
    "    # punctuation removal and map it to space\n",
    "    translator = str.maketrans(punctuations, \" \"*len(punctuations))\n",
    "    s = txt.translate(translator)\n",
    "    \n",
    "    # remove digits \n",
    "    no_digits = ''.join([i for i in s if not i.isdigit()])\n",
    "    cleaner = \" \".join(no_digits.split())\n",
    "    \n",
    "    # tokenize words and removing stop words \n",
    "    word_tokens = word_tokenize(cleaner)\n",
    "    filtered_sentence = [w for w in word_tokens if len(w)>2 and w not in sw]\n",
    "    filtered_sentence = \" \".join(filtered_sentence)\n",
    "    \n",
    "    return filtered_sentence"
   ]
  },
  {
   "cell_type": "code",
   "execution_count": 10,
   "metadata": {
    "colab": {
     "base_uri": "https://localhost:8080/"
    },
    "id": "RT6HF4vG9eYI",
    "outputId": "0fbb1a09-4aa0-4e53-8984-7988c2a46c74",
    "scrolled": true
   },
   "outputs": [
    {
     "name": "stdout",
     "output_type": "stream",
     "text": [
      "RAW text before preprocessing :\n",
      "\n",
      " Mayi wamalonda avulazidwa ku bt Titha Masamba, wa zaka 31, akumva ululu wadzaoneni. Kuti ayende akuyenera agwirire ndodo; sangagone chafufumimba koma chammbali kapena chagada; moyo wamtendere watha.\r\n",
      " Akuti adamuphera tsogolo lake: Masamba kumva ululu kunyumba kwake Akuti izitu zili chonchi chifukwa cha bala lomwe lili pabondo lake la kumanja lomwe lidasokedwa kuchipatala pambuyo pokhapidwa ndi chikwanje.\r\n",
      "  Chisale watuluka nkumangidwanso  Sipakala waimitsa Nyumba ya Malamulo  Pa Wenela pasintha zedi Ulendo wa mayiyu wokagulitsa mandasi pa 7 July ndi womwe udabweretsa mavutowa pomwe anthu ena, omwe akuwaganizira kuti ogwira ntchito kukhonsolo ya mzinda wa Blantyre (city rangers) amene adamuchita chiwembu pomulanda malonda ake komanso kumuvulaza ndi chikwanje.\r\n",
      " Masamba akuti atangomwalira amuna ake mu 2007, iye adayamba geni yogulitsa mandasi kuti azisamalira banja lake la ana awiri. Malo amene amagulitsira malonda akewo akuti ndi ku Cold Storage pafupi ndi Kamuzu Stadium mumzindawu.\r\n",
      " Monga mwa nthawi zonse, patsiku la ngozilo, adauyatsa ulendo wokapha makwacha. Pafupi ndi Cold Storage pali njanje ndiye ndidaika malonda anga chapafupi ndi msewu womwe umadutsa pamwamba pa njajeyo kuti ndikataye madzi ndisadalowere ku Cold Storage, adatero Masamba.\r\n",
      " Pamene ndimati ndikatenge malondawo, ndidangoona galimoto ya City, yoyera ndipo mmbalimu idali ya sefa. Idadzaima pafupi ndi pomwe padali mandasiwo ndipo adali mgalimotomo adatsika natenga beseni la mandasilo. Ena adandigwira ndipo ndidawauza kuti angotenga mandasiwo asalimbane nane koma zidakanika.\r\n",
      " Mayiyu, yemwe akukhala ku Makhetha mumzindawu, akuti anthuwo adamubudulira malondawo ndipo mosakhalitsa zodabwitsa zidamuchitikira.\r\n",
      " Mmodzi adatulutsa chikwanje ndipo adandikhapa nacho pabondopa. Kaamba ka ululu kuchokera apo sindikumbukanso chomwe chidachitika ndipo ndidangozindikira ndili pabedi kuchipatala ku Queens cha mma 4 koloko madzulo, adatero.\r\n",
      " Iye akuti adazindikiranso kuti K4 500 yomwe adamanga pansalu yake palibe.\r\n",
      " Idali ndalama yomwe ndimati ndiwatumizire agogo anga ku Dedza. Agogowa amadaliranso ine akafuna thandizo, adatero iye.\r\n",
      " Chichitikireni cha izi, mayiyu akungobuula ndi ululu kunyumba kwake. Geni sangachitenso, moyo tsopano wasanduka wovuta.\r\n",
      " Mneneri wa khonsolo ya Blantyre Anthony Kasunda akuti wangomva za nkhaniyi koma akufufuza kaye ngatidi adali antchito awo amene adachitira chipongwe mayiyu.\r\n",
      " Ndikudabwa chifuma malo amene mayiwa akukamba ife sitifikako. Ndiye zikundidabwitsa kuti zatheka bwanji kuti mayiwa avulazidwe ndi anthu amene akuti ndi akhonsolo ya Blantyre, adatero Kasunda, amene akuganiza kuti mwina angakhale anthu ena omwe achita izi.\r\n",
      " Pamene Kasunda akufufuza, moyo wa Masamba uli pachiswe chifukwa ana ake akudalira iye kuti asake chakudya cha tsiku ndi tsiku komanso zofunikira kusukulu.\r\n",
      " Andiphera tsogolo. Tikadya ndiye kuti ndachita geni. Nawo mpamba udathera kuchipatala. Chochita chikundisowa, adalira mayiyu pocheza naye kunyumba kwake.\r\n",
      "\n",
      "\n",
      "-------------------------------\n",
      "\n",
      "Processed text after preprocessing :\n",
      "\n",
      "wamalonda avulazidwa titha masamba zaka akumva ululu wadzaoneni ayende akuyenera agwirire ndodo sangagone chafufumimba chammbali chagada moyo wamtendere watha akuti adamuphera tsogolo lake masamba kumva ululu kwake akuti izitu zili chonchi cha bala lomwe lili pabondo lake kumanja lomwe lidasokedwa kuchipatala pambuyo pokhapidwa chikwanje chisale watuluka nkumangidwanso sipakala waimitsa nyumba malamulo wenela pasintha zedi ulendo mayiyu wokagulitsa mandasi july womwe udabweretsa mavutowa pomwe omwe akuwaganizira ogwira ntchito kukhonsolo mzinda blantyre city rangers amene adamuchita chiwembu pomulanda malonda ake kumuvulaza chikwanje masamba akuti atangomwalira amuna ake adayamba geni yogulitsa mandasi azisamalira banja lake ana awiri malo amene amagulitsira malonda akewo akuti cold storage kamuzu stadium mumzindawu mwa zonse patsiku ngozilo adauyatsa ulendo wokapha makwacha cold storage pali njanje ndiye ndidaika malonda anga chapafupi msewu womwe umadutsa pamwamba njajeyo ndikataye madzi ndisadalowere cold storage adatero masamba pamene ndimati ndikatenge malondawo ndidangoona galimoto city yoyera mmbalimu idali sefa idadzaima pomwe padali mandasiwo adali mgalimotomo adatsika natenga beseni mandasilo adandigwira ndidawauza angotenga mandasiwo asalimbane nane zidakanika mayiyu yemwe akukhala makhetha mumzindawu akuti anthuwo adamubudulira malondawo mosakhalitsa zodabwitsa zidamuchitikira adatulutsa chikwanje adandikhapa nacho pabondopa kaamba ululu apo sindikumbukanso chomwe chidachitika ndidangozindikira ndili pabedi kuchipatala queens cha mma koloko madzulo adatero akuti adazindikiranso yomwe adamanga pansalu yake palibe idali ndalama yomwe ndimati ndiwatumizire agogo anga dedza agogowa amadaliranso akafuna thandizo adatero chichitikireni cha mayiyu akungobuula ululu kwake geni sangachitenso moyo tsopano wasanduka wovuta mneneri khonsolo blantyre anthony kasunda akuti wangomva nkhaniyi akufufuza kaye ngatidi adali antchito amene adachitira chipongwe mayiyu ndikudabwa chifuma malo amene mayiwa akukamba sitifikako ndiye zikundidabwitsa zatheka mayiwa avulazidwe amene akuti akhonsolo blantyre adatero kasunda amene akuganiza mwina angakhale omwe achita pamene kasunda akufufuza moyo masamba uli pachiswe ana ake akudalira asake chakudya cha tsiku tsiku zofunikira kusukulu andiphera tsogolo tikadya ndiye ndachita geni nawo mpamba udathera kuchipatala chochita chikundisowa adalira mayiyu pocheza naye kwake\n"
     ]
    }
   ],
   "source": [
    "# testing function\n",
    "sample_text = training_set.Text[7]\n",
    "print(\"RAW text before preprocessing :\\n\")\n",
    "print(sample_text)\n",
    "print(\"\\n-------------------------------\\n\")\n",
    "print(\"Processed text after preprocessing :\\n\")\n",
    "print(preprocess_text(sample_text))"
   ]
  },
  {
   "cell_type": "code",
   "execution_count": 11,
   "metadata": {
    "id": "DsjtpJCp9d91"
   },
   "outputs": [],
   "source": [
    "# Applying the preprocessing function through all the data\n",
    "training_set['clean_text'] = training_set.Text.apply(preprocess_text)\n",
    "test_set['clean_text'] = test_set.Text.apply(preprocess_text)"
   ]
  },
  {
   "cell_type": "code",
   "execution_count": 12,
   "metadata": {
    "id": "sCGi8tPql8fI"
   },
   "outputs": [],
   "source": [
    "training_set['clean_text'] = training_set['clean_text'].str.replace('ndi', '').replace('kuti', '')\n",
    "test_set['clean_text'] = test_set['clean_text'].str.replace('ndi', '').replace('kuti', '')"
   ]
  },
  {
   "cell_type": "code",
   "execution_count": 13,
   "metadata": {
    "colab": {
     "base_uri": "https://localhost:8080/",
     "height": 406
    },
    "id": "YKghEh0tl8fI",
    "outputId": "66b87020-7df9-4a62-c946-4c35aa3e175b"
   },
   "outputs": [
    {
     "data": {
      "text/html": [
       "\n",
       "  <div id=\"df-39e95e1f-44fb-426b-9d2f-c68e53d32e08\">\n",
       "    <div class=\"colab-df-container\">\n",
       "      <div>\n",
       "<style scoped>\n",
       "    .dataframe tbody tr th:only-of-type {\n",
       "        vertical-align: middle;\n",
       "    }\n",
       "\n",
       "    .dataframe tbody tr th {\n",
       "        vertical-align: top;\n",
       "    }\n",
       "\n",
       "    .dataframe thead th {\n",
       "        text-align: right;\n",
       "    }\n",
       "</style>\n",
       "<table border=\"1\" class=\"dataframe\">\n",
       "  <thead>\n",
       "    <tr style=\"text-align: right;\">\n",
       "      <th></th>\n",
       "      <th>ID</th>\n",
       "      <th>Text</th>\n",
       "      <th>Label</th>\n",
       "      <th>clean_text</th>\n",
       "    </tr>\n",
       "  </thead>\n",
       "  <tbody>\n",
       "    <tr>\n",
       "      <th>873</th>\n",
       "      <td>ID_ggGOcZRW</td>\n",
       "      <td>Olowa mdziko mozemba aonjeza mavuto mndende M...</td>\n",
       "      <td>POLITICS</td>\n",
       "      <td>olowa mdziko mozemba aonjeza mavuto mndende ma...</td>\n",
       "    </tr>\n",
       "    <tr>\n",
       "      <th>1251</th>\n",
       "      <td>ID_uETOtdkb</td>\n",
       "      <td>Tinkakhala nyumba zoyandikana Mwayi wa banja ...</td>\n",
       "      <td>SOCIAL ISSUES</td>\n",
       "      <td>tinkakhala nyumba zoyakana mwayi banja umapeze...</td>\n",
       "    </tr>\n",
       "    <tr>\n",
       "      <th>1108</th>\n",
       "      <td>ID_pdNmeuRK</td>\n",
       "      <td>Joyce Banda Wauza Anthu Aku Zomba Avotere Chak...</td>\n",
       "      <td>POLITICS</td>\n",
       "      <td>joyce banda wauza aku zomba avotere chakwera m...</td>\n",
       "    </tr>\n",
       "    <tr>\n",
       "      <th>691</th>\n",
       "      <td>ID_ZtXFlfQC</td>\n",
       "      <td>MSE Ipereka Maphunziro apa Intaneti kwa Atolan...</td>\n",
       "      <td>ECONOMY</td>\n",
       "      <td>mse ipereka maphunziro apa intaneti kwa atolan...</td>\n",
       "    </tr>\n",
       "    <tr>\n",
       "      <th>1340</th>\n",
       "      <td>ID_wpLpuNtY</td>\n",
       "      <td>Papa Achita Misa Yokumbukira Ulendo Wake Wokac...</td>\n",
       "      <td>RELIGION</td>\n",
       "      <td>papa achita misa yokumbukira ulendo wokacheza ...</td>\n",
       "    </tr>\n",
       "  </tbody>\n",
       "</table>\n",
       "</div>\n",
       "      <button class=\"colab-df-convert\" onclick=\"convertToInteractive('df-39e95e1f-44fb-426b-9d2f-c68e53d32e08')\"\n",
       "              title=\"Convert this dataframe to an interactive table.\"\n",
       "              style=\"display:none;\">\n",
       "        \n",
       "  <svg xmlns=\"http://www.w3.org/2000/svg\" height=\"24px\"viewBox=\"0 0 24 24\"\n",
       "       width=\"24px\">\n",
       "    <path d=\"M0 0h24v24H0V0z\" fill=\"none\"/>\n",
       "    <path d=\"M18.56 5.44l.94 2.06.94-2.06 2.06-.94-2.06-.94-.94-2.06-.94 2.06-2.06.94zm-11 1L8.5 8.5l.94-2.06 2.06-.94-2.06-.94L8.5 2.5l-.94 2.06-2.06.94zm10 10l.94 2.06.94-2.06 2.06-.94-2.06-.94-.94-2.06-.94 2.06-2.06.94z\"/><path d=\"M17.41 7.96l-1.37-1.37c-.4-.4-.92-.59-1.43-.59-.52 0-1.04.2-1.43.59L10.3 9.45l-7.72 7.72c-.78.78-.78 2.05 0 2.83L4 21.41c.39.39.9.59 1.41.59.51 0 1.02-.2 1.41-.59l7.78-7.78 2.81-2.81c.8-.78.8-2.07 0-2.86zM5.41 20L4 18.59l7.72-7.72 1.47 1.35L5.41 20z\"/>\n",
       "  </svg>\n",
       "      </button>\n",
       "      \n",
       "  <style>\n",
       "    .colab-df-container {\n",
       "      display:flex;\n",
       "      flex-wrap:wrap;\n",
       "      gap: 12px;\n",
       "    }\n",
       "\n",
       "    .colab-df-convert {\n",
       "      background-color: #E8F0FE;\n",
       "      border: none;\n",
       "      border-radius: 50%;\n",
       "      cursor: pointer;\n",
       "      display: none;\n",
       "      fill: #1967D2;\n",
       "      height: 32px;\n",
       "      padding: 0 0 0 0;\n",
       "      width: 32px;\n",
       "    }\n",
       "\n",
       "    .colab-df-convert:hover {\n",
       "      background-color: #E2EBFA;\n",
       "      box-shadow: 0px 1px 2px rgba(60, 64, 67, 0.3), 0px 1px 3px 1px rgba(60, 64, 67, 0.15);\n",
       "      fill: #174EA6;\n",
       "    }\n",
       "\n",
       "    [theme=dark] .colab-df-convert {\n",
       "      background-color: #3B4455;\n",
       "      fill: #D2E3FC;\n",
       "    }\n",
       "\n",
       "    [theme=dark] .colab-df-convert:hover {\n",
       "      background-color: #434B5C;\n",
       "      box-shadow: 0px 1px 3px 1px rgba(0, 0, 0, 0.15);\n",
       "      filter: drop-shadow(0px 1px 2px rgba(0, 0, 0, 0.3));\n",
       "      fill: #FFFFFF;\n",
       "    }\n",
       "  </style>\n",
       "\n",
       "      <script>\n",
       "        const buttonEl =\n",
       "          document.querySelector('#df-39e95e1f-44fb-426b-9d2f-c68e53d32e08 button.colab-df-convert');\n",
       "        buttonEl.style.display =\n",
       "          google.colab.kernel.accessAllowed ? 'block' : 'none';\n",
       "\n",
       "        async function convertToInteractive(key) {\n",
       "          const element = document.querySelector('#df-39e95e1f-44fb-426b-9d2f-c68e53d32e08');\n",
       "          const dataTable =\n",
       "            await google.colab.kernel.invokeFunction('convertToInteractive',\n",
       "                                                     [key], {});\n",
       "          if (!dataTable) return;\n",
       "\n",
       "          const docLinkHtml = 'Like what you see? Visit the ' +\n",
       "            '<a target=\"_blank\" href=https://colab.research.google.com/notebooks/data_table.ipynb>data table notebook</a>'\n",
       "            + ' to learn more about interactive tables.';\n",
       "          element.innerHTML = '';\n",
       "          dataTable['output_type'] = 'display_data';\n",
       "          await google.colab.output.renderOutput(dataTable, element);\n",
       "          const docLink = document.createElement('div');\n",
       "          docLink.innerHTML = docLinkHtml;\n",
       "          element.appendChild(docLink);\n",
       "        }\n",
       "      </script>\n",
       "    </div>\n",
       "  </div>\n",
       "  "
      ],
      "text/plain": [
       "               ID                                               Text  \\\n",
       "873   ID_ggGOcZRW   Olowa mdziko mozemba aonjeza mavuto mndende M...   \n",
       "1251  ID_uETOtdkb   Tinkakhala nyumba zoyandikana Mwayi wa banja ...   \n",
       "1108  ID_pdNmeuRK  Joyce Banda Wauza Anthu Aku Zomba Avotere Chak...   \n",
       "691   ID_ZtXFlfQC  MSE Ipereka Maphunziro apa Intaneti kwa Atolan...   \n",
       "1340  ID_wpLpuNtY  Papa Achita Misa Yokumbukira Ulendo Wake Wokac...   \n",
       "\n",
       "              Label                                         clean_text  \n",
       "873        POLITICS  olowa mdziko mozemba aonjeza mavuto mndende ma...  \n",
       "1251  SOCIAL ISSUES  tinkakhala nyumba zoyakana mwayi banja umapeze...  \n",
       "1108       POLITICS  joyce banda wauza aku zomba avotere chakwera m...  \n",
       "691         ECONOMY  mse ipereka maphunziro apa intaneti kwa atolan...  \n",
       "1340       RELIGION  papa achita misa yokumbukira ulendo wokacheza ...  "
      ]
     },
     "execution_count": 13,
     "metadata": {},
     "output_type": "execute_result"
    }
   ],
   "source": [
    "training_set.sample(5)"
   ]
  },
  {
   "cell_type": "markdown",
   "metadata": {
    "id": "wuBmWcc8uSv0"
   },
   "source": [
    "# Random Forest w2v"
   ]
  },
  {
   "cell_type": "code",
   "execution_count": 14,
   "metadata": {
    "id": "QaSX1GQis42p"
   },
   "outputs": [],
   "source": [
    "chichewa_tkns = []\n",
    "for s in training_set['Text']:\n",
    "  chichewa_tkns.append(word_tokenize(s))"
   ]
  },
  {
   "cell_type": "code",
   "execution_count": 15,
   "metadata": {
    "id": "eN3pmykLs8z7"
   },
   "outputs": [],
   "source": [
    "bigram_transformer = Phrases(chichewa_tkns)"
   ]
  },
  {
   "cell_type": "code",
   "execution_count": 16,
   "metadata": {
    "colab": {
     "base_uri": "https://localhost:8080/"
    },
    "id": "73Y5xvyJs-ho",
    "outputId": "e6acab15-753f-44e6-b275-d7013db5e6d2"
   },
   "outputs": [
    {
     "name": "stderr",
     "output_type": "stream",
     "text": [
      "/usr/local/lib/python3.7/dist-packages/gensim/models/phrases.py:598: UserWarning: For a faster implementation, use the gensim.models.phrases.Phraser class\n",
      "  warnings.warn(\"For a faster implementation, use the gensim.models.phrases.Phraser class\")\n"
     ]
    }
   ],
   "source": [
    "w2vmodel = Word2Vec(bigram_transformer[chichewa_tkns], size = 300, window = 5, min_count = 1, workers = 2)\n",
    "#model.save('chichewa_w2v.model')"
   ]
  },
  {
   "cell_type": "code",
   "execution_count": 19,
   "metadata": {
    "id": "hTbcbzMJtlQy"
   },
   "outputs": [],
   "source": [
    "def get_avg_w2v(s):\n",
    "  vec = 0\n",
    "  n = 0\n",
    "  for token in word_tokenize(s):\n",
    "    if token in w2vmodel:\n",
    "      vec += w2vmodel.wv[token]\n",
    "      n += 1\n",
    "  return vec / n"
   ]
  },
  {
   "cell_type": "code",
   "execution_count": 22,
   "metadata": {
    "colab": {
     "base_uri": "https://localhost:8080/"
    },
    "id": "DGCpgpRVuegv",
    "outputId": "efbdc48d-802b-4d14-82fc-d25988d72e51"
   },
   "outputs": [
    {
     "name": "stderr",
     "output_type": "stream",
     "text": [
      "/usr/local/lib/python3.7/dist-packages/ipykernel_launcher.py:5: DeprecationWarning: Call to deprecated `__contains__` (Method will be removed in 4.0.0, use self.wv.__contains__() instead).\n",
      "  \"\"\"\n"
     ]
    }
   ],
   "source": [
    "x_train, x_test, y_train, y_test = train_test_split(training_set['clean_text'].values, training_set['Label'].values, test_size = .15, stratify = training_set['Label'].values)\n",
    "\n",
    "vectorizer = TfidfVectorizer()\n",
    "x_train_vec = vectorizer.fit_transform(x_train).toarray()\n",
    "x_test_vec = vectorizer.transform(x_test).toarray()\n",
    "\n",
    "x_train_w2v = np.array([get_avg_w2v(x) for x in x_train])\n",
    "x_test_w2v = np.array([get_avg_w2v(x) for x in x_test])\n",
    "\n",
    "x_train_w2v = np.hstack([x_train_vec, x_train_w2v])\n",
    "x_test_w2v = np.hstack([x_test_vec, x_test_w2v])"
   ]
  },
  {
   "cell_type": "code",
   "execution_count": 23,
   "metadata": {
    "colab": {
     "base_uri": "https://localhost:8080/"
    },
    "id": "2fB7psN0wX0y",
    "outputId": "c4237a1b-c04d-408a-aabf-78c9d4617aee"
   },
   "outputs": [
    {
     "data": {
      "text/plain": [
       "RandomForestClassifier()"
      ]
     },
     "execution_count": 23,
     "metadata": {},
     "output_type": "execute_result"
    }
   ],
   "source": [
    "clf = RandomForestClassifier()\n",
    "clf.fit(x_train_w2v, y_train)"
   ]
  },
  {
   "cell_type": "code",
   "execution_count": 25,
   "metadata": {
    "colab": {
     "base_uri": "https://localhost:8080/"
    },
    "id": "rjJ6s2s3ymfo",
    "outputId": "f074ee9a-a510-45c3-94e0-a26e476c48d9"
   },
   "outputs": [
    {
     "data": {
      "text/plain": [
       "0.46296296296296297"
      ]
     },
     "execution_count": 25,
     "metadata": {},
     "output_type": "execute_result"
    }
   ],
   "source": [
    "pred = clf.predict(x_test_w2v)\n",
    "accuracy_score(y_test, pred)"
   ]
  },
  {
   "cell_type": "code",
   "execution_count": 26,
   "metadata": {
    "colab": {
     "base_uri": "https://localhost:8080/"
    },
    "id": "W0OvLDO61uZR",
    "outputId": "e40b593a-0d5c-4d92-a357-88ba3ee6c002"
   },
   "outputs": [
    {
     "name": "stderr",
     "output_type": "stream",
     "text": [
      "/usr/local/lib/python3.7/dist-packages/ipykernel_launcher.py:5: DeprecationWarning: Call to deprecated `__contains__` (Method will be removed in 4.0.0, use self.wv.__contains__() instead).\n",
      "  \"\"\"\n"
     ]
    },
    {
     "data": {
      "text/plain": [
       "RandomForestClassifier()"
      ]
     },
     "execution_count": 26,
     "metadata": {},
     "output_type": "execute_result"
    }
   ],
   "source": [
    "vectorizer = TfidfVectorizer()\n",
    "x_train_vec = vectorizer.fit_transform(training_set['clean_text'].values).toarray()\n",
    "x_test_vec = vectorizer.transform(test_set['clean_text'].values).toarray()\n",
    "\n",
    "x_train_w2v = np.array([get_avg_w2v(x) for x in training_set['clean_text'].values])\n",
    "x_test_w2v = np.array([get_avg_w2v(x) for x in test_set['clean_text'].values])\n",
    "\n",
    "x_train_w2v = np.hstack([x_train_vec, x_train_w2v])\n",
    "x_test_w2v = np.hstack([x_test_vec, x_test_w2v])\n",
    "\n",
    "clf = RandomForestClassifier()\n",
    "clf.fit(x_train_w2v, training_set['Label'].values)"
   ]
  },
  {
   "cell_type": "code",
   "execution_count": 27,
   "metadata": {
    "id": "uF-39OS22LAo"
   },
   "outputs": [],
   "source": [
    "pred = clf.predict(x_test_w2v)\n",
    "test_set[\"Label\"] = pred"
   ]
  },
  {
   "cell_type": "code",
   "execution_count": 28,
   "metadata": {
    "colab": {
     "base_uri": "https://localhost:8080/",
     "height": 423
    },
    "id": "zbLIQFF62XQ7",
    "outputId": "ca42a52b-9840-431f-cc5c-db266dc302e2"
   },
   "outputs": [
    {
     "data": {
      "text/html": [
       "\n",
       "  <div id=\"df-e7f4e046-bc2d-40f8-829c-23cab45aad51\">\n",
       "    <div class=\"colab-df-container\">\n",
       "      <div>\n",
       "<style scoped>\n",
       "    .dataframe tbody tr th:only-of-type {\n",
       "        vertical-align: middle;\n",
       "    }\n",
       "\n",
       "    .dataframe tbody tr th {\n",
       "        vertical-align: top;\n",
       "    }\n",
       "\n",
       "    .dataframe thead th {\n",
       "        text-align: right;\n",
       "    }\n",
       "</style>\n",
       "<table border=\"1\" class=\"dataframe\">\n",
       "  <thead>\n",
       "    <tr style=\"text-align: right;\">\n",
       "      <th></th>\n",
       "      <th>ID</th>\n",
       "      <th>Label</th>\n",
       "    </tr>\n",
       "  </thead>\n",
       "  <tbody>\n",
       "    <tr>\n",
       "      <th>0</th>\n",
       "      <td>ID_ADHEtjTi</td>\n",
       "      <td>POLITICS</td>\n",
       "    </tr>\n",
       "    <tr>\n",
       "      <th>1</th>\n",
       "      <td>ID_AHfJktdQ</td>\n",
       "      <td>RELIGION</td>\n",
       "    </tr>\n",
       "    <tr>\n",
       "      <th>2</th>\n",
       "      <td>ID_AUJIHpZr</td>\n",
       "      <td>SOCIAL ISSUES</td>\n",
       "    </tr>\n",
       "    <tr>\n",
       "      <th>3</th>\n",
       "      <td>ID_AUKYBbIM</td>\n",
       "      <td>POLITICS</td>\n",
       "    </tr>\n",
       "    <tr>\n",
       "      <th>4</th>\n",
       "      <td>ID_AZnsVPEi</td>\n",
       "      <td>LAW/ORDER</td>\n",
       "    </tr>\n",
       "    <tr>\n",
       "      <th>...</th>\n",
       "      <td>...</td>\n",
       "      <td>...</td>\n",
       "    </tr>\n",
       "    <tr>\n",
       "      <th>615</th>\n",
       "      <td>ID_zdpOUWyJ</td>\n",
       "      <td>POLITICS</td>\n",
       "    </tr>\n",
       "    <tr>\n",
       "      <th>616</th>\n",
       "      <td>ID_zhnOomuu</td>\n",
       "      <td>SOCIAL ISSUES</td>\n",
       "    </tr>\n",
       "    <tr>\n",
       "      <th>617</th>\n",
       "      <td>ID_zmWHvBJb</td>\n",
       "      <td>POLITICS</td>\n",
       "    </tr>\n",
       "    <tr>\n",
       "      <th>618</th>\n",
       "      <td>ID_zphjdFIb</td>\n",
       "      <td>SOCIAL ISSUES</td>\n",
       "    </tr>\n",
       "    <tr>\n",
       "      <th>619</th>\n",
       "      <td>ID_ztdtrNxt</td>\n",
       "      <td>POLITICS</td>\n",
       "    </tr>\n",
       "  </tbody>\n",
       "</table>\n",
       "<p>620 rows × 2 columns</p>\n",
       "</div>\n",
       "      <button class=\"colab-df-convert\" onclick=\"convertToInteractive('df-e7f4e046-bc2d-40f8-829c-23cab45aad51')\"\n",
       "              title=\"Convert this dataframe to an interactive table.\"\n",
       "              style=\"display:none;\">\n",
       "        \n",
       "  <svg xmlns=\"http://www.w3.org/2000/svg\" height=\"24px\"viewBox=\"0 0 24 24\"\n",
       "       width=\"24px\">\n",
       "    <path d=\"M0 0h24v24H0V0z\" fill=\"none\"/>\n",
       "    <path d=\"M18.56 5.44l.94 2.06.94-2.06 2.06-.94-2.06-.94-.94-2.06-.94 2.06-2.06.94zm-11 1L8.5 8.5l.94-2.06 2.06-.94-2.06-.94L8.5 2.5l-.94 2.06-2.06.94zm10 10l.94 2.06.94-2.06 2.06-.94-2.06-.94-.94-2.06-.94 2.06-2.06.94z\"/><path d=\"M17.41 7.96l-1.37-1.37c-.4-.4-.92-.59-1.43-.59-.52 0-1.04.2-1.43.59L10.3 9.45l-7.72 7.72c-.78.78-.78 2.05 0 2.83L4 21.41c.39.39.9.59 1.41.59.51 0 1.02-.2 1.41-.59l7.78-7.78 2.81-2.81c.8-.78.8-2.07 0-2.86zM5.41 20L4 18.59l7.72-7.72 1.47 1.35L5.41 20z\"/>\n",
       "  </svg>\n",
       "      </button>\n",
       "      \n",
       "  <style>\n",
       "    .colab-df-container {\n",
       "      display:flex;\n",
       "      flex-wrap:wrap;\n",
       "      gap: 12px;\n",
       "    }\n",
       "\n",
       "    .colab-df-convert {\n",
       "      background-color: #E8F0FE;\n",
       "      border: none;\n",
       "      border-radius: 50%;\n",
       "      cursor: pointer;\n",
       "      display: none;\n",
       "      fill: #1967D2;\n",
       "      height: 32px;\n",
       "      padding: 0 0 0 0;\n",
       "      width: 32px;\n",
       "    }\n",
       "\n",
       "    .colab-df-convert:hover {\n",
       "      background-color: #E2EBFA;\n",
       "      box-shadow: 0px 1px 2px rgba(60, 64, 67, 0.3), 0px 1px 3px 1px rgba(60, 64, 67, 0.15);\n",
       "      fill: #174EA6;\n",
       "    }\n",
       "\n",
       "    [theme=dark] .colab-df-convert {\n",
       "      background-color: #3B4455;\n",
       "      fill: #D2E3FC;\n",
       "    }\n",
       "\n",
       "    [theme=dark] .colab-df-convert:hover {\n",
       "      background-color: #434B5C;\n",
       "      box-shadow: 0px 1px 3px 1px rgba(0, 0, 0, 0.15);\n",
       "      filter: drop-shadow(0px 1px 2px rgba(0, 0, 0, 0.3));\n",
       "      fill: #FFFFFF;\n",
       "    }\n",
       "  </style>\n",
       "\n",
       "      <script>\n",
       "        const buttonEl =\n",
       "          document.querySelector('#df-e7f4e046-bc2d-40f8-829c-23cab45aad51 button.colab-df-convert');\n",
       "        buttonEl.style.display =\n",
       "          google.colab.kernel.accessAllowed ? 'block' : 'none';\n",
       "\n",
       "        async function convertToInteractive(key) {\n",
       "          const element = document.querySelector('#df-e7f4e046-bc2d-40f8-829c-23cab45aad51');\n",
       "          const dataTable =\n",
       "            await google.colab.kernel.invokeFunction('convertToInteractive',\n",
       "                                                     [key], {});\n",
       "          if (!dataTable) return;\n",
       "\n",
       "          const docLinkHtml = 'Like what you see? Visit the ' +\n",
       "            '<a target=\"_blank\" href=https://colab.research.google.com/notebooks/data_table.ipynb>data table notebook</a>'\n",
       "            + ' to learn more about interactive tables.';\n",
       "          element.innerHTML = '';\n",
       "          dataTable['output_type'] = 'display_data';\n",
       "          await google.colab.output.renderOutput(dataTable, element);\n",
       "          const docLink = document.createElement('div');\n",
       "          docLink.innerHTML = docLinkHtml;\n",
       "          element.appendChild(docLink);\n",
       "        }\n",
       "      </script>\n",
       "    </div>\n",
       "  </div>\n",
       "  "
      ],
      "text/plain": [
       "              ID          Label\n",
       "0    ID_ADHEtjTi       POLITICS\n",
       "1    ID_AHfJktdQ       RELIGION\n",
       "2    ID_AUJIHpZr  SOCIAL ISSUES\n",
       "3    ID_AUKYBbIM       POLITICS\n",
       "4    ID_AZnsVPEi      LAW/ORDER\n",
       "..           ...            ...\n",
       "615  ID_zdpOUWyJ       POLITICS\n",
       "616  ID_zhnOomuu  SOCIAL ISSUES\n",
       "617  ID_zmWHvBJb       POLITICS\n",
       "618  ID_zphjdFIb  SOCIAL ISSUES\n",
       "619  ID_ztdtrNxt       POLITICS\n",
       "\n",
       "[620 rows x 2 columns]"
      ]
     },
     "execution_count": 28,
     "metadata": {},
     "output_type": "execute_result"
    }
   ],
   "source": [
    "test_set[['ID','Label']]"
   ]
  },
  {
   "cell_type": "code",
   "execution_count": 29,
   "metadata": {
    "id": "xCxYn14O2ZIU"
   },
   "outputs": [],
   "source": [
    "test_set[['ID','Label']].to_csv(\"submission.csv\", index=False) "
   ]
  },
  {
   "cell_type": "markdown",
   "metadata": {
    "id": "867567t_Yp-l"
   },
   "source": [
    "# Decision Tree tfidf"
   ]
  },
  {
   "cell_type": "markdown",
   "metadata": {
    "id": "OT6-YxDbYp-s"
   },
   "source": [
    "## Grid Search without oversampling"
   ]
  },
  {
   "cell_type": "code",
   "execution_count": null,
   "metadata": {
    "id": "Lo-LFzSXYp-t"
   },
   "outputs": [],
   "source": [
    "from sklearn.feature_extraction.text import CountVectorizer, TfidfTransformer\n",
    "\n",
    "pipeline = Pipeline(\n",
    "    [\n",
    "        (\"vect\", CountVectorizer()),\n",
    "        (\"tfidf\", TfidfTransformer()),\n",
    "        (\"classifier\", DecisionTreeClassifier()),\n",
    "    ]\n",
    ")"
   ]
  },
  {
   "cell_type": "code",
   "execution_count": null,
   "metadata": {
    "id": "DYPJEDBLYp-t"
   },
   "outputs": [],
   "source": [
    "parameters = {\n",
    "    'classifier__max_leaf_nodes': list(range(2, 100)),\n",
    "    'classifier__min_samples_split': [2, 3, 4],\n",
    "    'classifier__max_depth' : [10, 20, 40, 60, None]\n",
    "}"
   ]
  },
  {
   "cell_type": "code",
   "execution_count": null,
   "metadata": {
    "id": "qkpGIGSoYp-t"
   },
   "outputs": [],
   "source": [
    "from sklearn.model_selection import GridSearchCV\n",
    "from pprint import pprint\n",
    "\n",
    "grid_search = GridSearchCV(pipeline, parameters, n_jobs=-1, verbose=1)"
   ]
  },
  {
   "cell_type": "code",
   "execution_count": null,
   "metadata": {
    "colab": {
     "base_uri": "https://localhost:8080/"
    },
    "id": "bTa_WXpuYp-t",
    "outputId": "f12ba2fd-c465-4f33-eed8-44c2b5285697",
    "scrolled": true
   },
   "outputs": [
    {
     "name": "stdout",
     "output_type": "stream",
     "text": [
      "Performing grid search...\n",
      "pipeline: ['vect', 'tfidf', 'classifier']\n",
      "parameters:\n",
      "{'classifier__max_leaf_nodes': [2,\n",
      "                                3,\n",
      "                                4,\n",
      "                                5,\n",
      "                                6,\n",
      "                                7,\n",
      "                                8,\n",
      "                                9,\n",
      "                                10,\n",
      "                                11,\n",
      "                                12,\n",
      "                                13,\n",
      "                                14,\n",
      "                                15,\n",
      "                                16,\n",
      "                                17,\n",
      "                                18,\n",
      "                                19,\n",
      "                                20,\n",
      "                                21,\n",
      "                                22,\n",
      "                                23,\n",
      "                                24,\n",
      "                                25,\n",
      "                                26,\n",
      "                                27,\n",
      "                                28,\n",
      "                                29,\n",
      "                                30,\n",
      "                                31,\n",
      "                                32,\n",
      "                                33,\n",
      "                                34,\n",
      "                                35,\n",
      "                                36,\n",
      "                                37,\n",
      "                                38,\n",
      "                                39,\n",
      "                                40,\n",
      "                                41,\n",
      "                                42,\n",
      "                                43,\n",
      "                                44,\n",
      "                                45,\n",
      "                                46,\n",
      "                                47,\n",
      "                                48,\n",
      "                                49,\n",
      "                                50,\n",
      "                                51,\n",
      "                                52,\n",
      "                                53,\n",
      "                                54,\n",
      "                                55,\n",
      "                                56,\n",
      "                                57,\n",
      "                                58,\n",
      "                                59,\n",
      "                                60,\n",
      "                                61,\n",
      "                                62,\n",
      "                                63,\n",
      "                                64,\n",
      "                                65,\n",
      "                                66,\n",
      "                                67,\n",
      "                                68,\n",
      "                                69,\n",
      "                                70,\n",
      "                                71,\n",
      "                                72,\n",
      "                                73,\n",
      "                                74,\n",
      "                                75,\n",
      "                                76,\n",
      "                                77,\n",
      "                                78,\n",
      "                                79,\n",
      "                                80,\n",
      "                                81,\n",
      "                                82,\n",
      "                                83,\n",
      "                                84,\n",
      "                                85,\n",
      "                                86,\n",
      "                                87,\n",
      "                                88,\n",
      "                                89,\n",
      "                                90,\n",
      "                                91,\n",
      "                                92,\n",
      "                                93,\n",
      "                                94,\n",
      "                                95,\n",
      "                                96,\n",
      "                                97,\n",
      "                                98,\n",
      "                                99],\n",
      " 'classifier__min_samples_split': [2, 3, 4]}\n",
      "Fitting 5 folds for each of 294 candidates, totalling 1470 fits\n",
      "done in 1600.719s\n",
      "\n",
      "Best score: 0.492\n",
      "Best parameters set:\n",
      "\tclassifier__max_leaf_nodes: 34\n",
      "\tclassifier__min_samples_split: 3\n"
     ]
    }
   ],
   "source": [
    "print(\"Performing grid search...\")\n",
    "print(\"pipeline:\", [name for name, _ in pipeline.steps])\n",
    "print(\"parameters:\")\n",
    "pprint(parameters)\n",
    "t0 = time()\n",
    "grid_search.fit(training_set['clean_text'], training_set['Label'])\n",
    "print(\"done in %0.3fs\" % (time() - t0))\n",
    "print()\n",
    "\n",
    "print(\"Best score: %0.3f\" % grid_search.best_score_)\n",
    "print(\"Best parameters set:\")\n",
    "best_parameters = grid_search.best_estimator_.get_params()\n",
    "for param_name in sorted(parameters.keys()):\n",
    "    print(\"\\t%s: %r\" % (param_name, best_parameters[param_name]))"
   ]
  },
  {
   "cell_type": "markdown",
   "metadata": {
    "id": "tRbEyLRoYp-t"
   },
   "source": [
    "## Train best model Without Oversampling"
   ]
  },
  {
   "cell_type": "code",
   "execution_count": null,
   "metadata": {
    "colab": {
     "base_uri": "https://localhost:8080/"
    },
    "id": "3cEz1EYmYp-t",
    "outputId": "6935cf76-0754-490b-ea88-48c0ac4ab722"
   },
   "outputs": [
    {
     "name": "stdout",
     "output_type": "stream",
     "text": [
      "CPU times: user 200 µs, sys: 8 µs, total: 208 µs\n",
      "Wall time: 217 µs\n"
     ]
    }
   ],
   "source": [
    "%%time\n",
    "pipeline = Pipeline(\n",
    "    [\n",
    "        (\"vect\", CountVectorizer()),\n",
    "        (\"tfidf\", TfidfTransformer()),\n",
    "        (\"classifier\", DecisionTreeClassifier(max_leaf_nodes=34, min_samples_split=3)),\n",
    "    ]\n",
    ")"
   ]
  },
  {
   "cell_type": "code",
   "execution_count": null,
   "metadata": {
    "colab": {
     "base_uri": "https://localhost:8080/"
    },
    "id": "Kfm3m2UzYp-u",
    "outputId": "b68e2e0f-4c54-4349-abe6-9a716517deb3"
   },
   "outputs": [
    {
     "name": "stdout",
     "output_type": "stream",
     "text": [
      "[0.45833333 0.48780488 0.50174216 0.51567944 0.49825784]\n"
     ]
    }
   ],
   "source": [
    "scores = cross_val_score(pipeline, training_set['clean_text'], training_set['Label'], cv=5, scoring='precision_micro')\n",
    "print(scores)"
   ]
  },
  {
   "cell_type": "code",
   "execution_count": null,
   "metadata": {
    "colab": {
     "base_uri": "https://localhost:8080/"
    },
    "id": "NEQgJ1QqYp-u",
    "outputId": "3f3f42cc-0e99-4f87-f229-22d37bfef360"
   },
   "outputs": [
    {
     "name": "stdout",
     "output_type": "stream",
     "text": [
      "Final score is 0.4923635307781649\n"
     ]
    }
   ],
   "source": [
    "print(f\"Final score is {scores.mean()}\")"
   ]
  },
  {
   "cell_type": "markdown",
   "metadata": {
    "id": "0E-VZ3GeYp-u"
   },
   "source": [
    "## Grid Search and Train With Oversampling"
   ]
  },
  {
   "cell_type": "code",
   "execution_count": null,
   "metadata": {
    "id": "wt3iS3uEYp-u"
   },
   "outputs": [],
   "source": [
    "pipeline = imblearn.pipeline.Pipeline(\n",
    "    [\n",
    "        (\"vect\", CountVectorizer()),\n",
    "        (\"tfidf\", TfidfTransformer()),\n",
    "        ('ros', RandomOverSampler()),\n",
    "        ('oversampler', SMOTE()),\n",
    "        (\"classifier\", DecisionTreeClassifier())\n",
    "    ]\n",
    ")\n",
    "parameters = {\n",
    "    'classifier__max_leaf_nodes': list(range(2, 100)),\n",
    "    'classifier__min_samples_split': [2, 3, 4]\n",
    "}\n",
    "grid_search = GridSearchCV(pipeline, parameters, n_jobs=-1, verbose=1)"
   ]
  },
  {
   "cell_type": "code",
   "execution_count": null,
   "metadata": {
    "colab": {
     "base_uri": "https://localhost:8080/"
    },
    "id": "VmoESmpyYp-u",
    "outputId": "ee361f24-3644-4131-bf75-5277e37c0803"
   },
   "outputs": [
    {
     "name": "stdout",
     "output_type": "stream",
     "text": [
      "Performing grid search...\n",
      "pipeline: ['vect', 'tfidf', 'ros', 'oversampler', 'classifier']\n",
      "parameters:\n",
      "{'classifier__max_leaf_nodes': [2,\n",
      "                                3,\n",
      "                                4,\n",
      "                                5,\n",
      "                                6,\n",
      "                                7,\n",
      "                                8,\n",
      "                                9,\n",
      "                                10,\n",
      "                                11,\n",
      "                                12,\n",
      "                                13,\n",
      "                                14,\n",
      "                                15,\n",
      "                                16,\n",
      "                                17,\n",
      "                                18,\n",
      "                                19,\n",
      "                                20,\n",
      "                                21,\n",
      "                                22,\n",
      "                                23,\n",
      "                                24,\n",
      "                                25,\n",
      "                                26,\n",
      "                                27,\n",
      "                                28,\n",
      "                                29,\n",
      "                                30,\n",
      "                                31,\n",
      "                                32,\n",
      "                                33,\n",
      "                                34,\n",
      "                                35,\n",
      "                                36,\n",
      "                                37,\n",
      "                                38,\n",
      "                                39,\n",
      "                                40,\n",
      "                                41,\n",
      "                                42,\n",
      "                                43,\n",
      "                                44,\n",
      "                                45,\n",
      "                                46,\n",
      "                                47,\n",
      "                                48,\n",
      "                                49,\n",
      "                                50,\n",
      "                                51,\n",
      "                                52,\n",
      "                                53,\n",
      "                                54,\n",
      "                                55,\n",
      "                                56,\n",
      "                                57,\n",
      "                                58,\n",
      "                                59,\n",
      "                                60,\n",
      "                                61,\n",
      "                                62,\n",
      "                                63,\n",
      "                                64,\n",
      "                                65,\n",
      "                                66,\n",
      "                                67,\n",
      "                                68,\n",
      "                                69,\n",
      "                                70,\n",
      "                                71,\n",
      "                                72,\n",
      "                                73,\n",
      "                                74,\n",
      "                                75,\n",
      "                                76,\n",
      "                                77,\n",
      "                                78,\n",
      "                                79,\n",
      "                                80,\n",
      "                                81,\n",
      "                                82,\n",
      "                                83,\n",
      "                                84,\n",
      "                                85,\n",
      "                                86,\n",
      "                                87,\n",
      "                                88,\n",
      "                                89,\n",
      "                                90,\n",
      "                                91,\n",
      "                                92,\n",
      "                                93,\n",
      "                                94,\n",
      "                                95,\n",
      "                                96,\n",
      "                                97,\n",
      "                                98,\n",
      "                                99],\n",
      " 'classifier__min_samples_split': [2, 3, 4]}\n",
      "Fitting 5 folds for each of 294 candidates, totalling 1470 fits\n",
      "done in 2816.396s\n",
      "\n",
      "Best score: 0.426\n",
      "Best parameters set:\n",
      "\tclassifier__max_leaf_nodes: 75\n",
      "\tclassifier__min_samples_split: 3\n"
     ]
    }
   ],
   "source": [
    "print(\"Performing grid search...\")\n",
    "print(\"pipeline:\", [name for name, _ in pipeline.steps])\n",
    "print(\"parameters:\")\n",
    "pprint(parameters)\n",
    "t0 = time()\n",
    "grid_search.fit(training_set['clean_text'], training_set['Label'])\n",
    "print(\"done in %0.3fs\" % (time() - t0))\n",
    "print()\n",
    "\n",
    "print(\"Best score: %0.3f\" % grid_search.best_score_)\n",
    "print(\"Best parameters set:\")\n",
    "best_parameters = grid_search.best_estimator_.get_params()\n",
    "for param_name in sorted(parameters.keys()):\n",
    "    print(\"\\t%s: %r\" % (param_name, best_parameters[param_name]))"
   ]
  },
  {
   "cell_type": "code",
   "execution_count": null,
   "metadata": {
    "colab": {
     "base_uri": "https://localhost:8080/"
    },
    "id": "91Ou2jjeYp-u",
    "outputId": "9d5e4dee-1f18-4814-85fd-0281dc54e6b5"
   },
   "outputs": [
    {
     "name": "stdout",
     "output_type": "stream",
     "text": [
      "CPU times: user 2.02 ms, sys: 0 ns, total: 2.02 ms\n",
      "Wall time: 19.1 ms\n"
     ]
    }
   ],
   "source": [
    "%%time\n",
    "pipeline = imblearn.pipeline.Pipeline(\n",
    "    [\n",
    "        (\"vect\", CountVectorizer()),\n",
    "        (\"tfidf\", TfidfTransformer()),\n",
    "        ('ros', RandomOverSampler()),\n",
    "        ('oversampler', SMOTE()),\n",
    "        (\"classifier\", DecisionTreeClassifier(max_leaf_nodes=75, min_samples_split=3)),\n",
    "    ]\n",
    ")"
   ]
  },
  {
   "cell_type": "code",
   "execution_count": null,
   "metadata": {
    "colab": {
     "base_uri": "https://localhost:8080/"
    },
    "id": "HqjLOuHSYp-v",
    "outputId": "d9915c68-d7fc-4074-b6ad-098134dd2e20"
   },
   "outputs": [
    {
     "name": "stdout",
     "output_type": "stream",
     "text": [
      "[0.36805556 0.36933798 0.39372822 0.48432056 0.40418118]\n"
     ]
    }
   ],
   "source": [
    "scores = cross_val_score(pipeline, training_set['clean_text'], training_set['Label'], cv=5, scoring='precision_micro')\n",
    "print(scores)"
   ]
  },
  {
   "cell_type": "code",
   "execution_count": null,
   "metadata": {
    "colab": {
     "base_uri": "https://localhost:8080/"
    },
    "id": "BK-5fsh1Yp-v",
    "outputId": "03b50161-e422-43a9-d042-c47026e9dbcd"
   },
   "outputs": [
    {
     "name": "stdout",
     "output_type": "stream",
     "text": [
      "Final score is 0.4039246999612853\n"
     ]
    }
   ],
   "source": [
    "print(f\"Final score is {scores.mean()}\")"
   ]
  },
  {
   "cell_type": "markdown",
   "metadata": {
    "id": "DdxmNHRVYRrv"
   },
   "source": [
    "# Random Forest tfidf"
   ]
  },
  {
   "cell_type": "markdown",
   "metadata": {
    "id": "wfxLV4BWmaTR"
   },
   "source": [
    "## Grid Search without oversampling"
   ]
  },
  {
   "cell_type": "code",
   "execution_count": null,
   "metadata": {
    "id": "PiIpe4FBl8fI"
   },
   "outputs": [],
   "source": [
    "from sklearn.feature_extraction.text import CountVectorizer, TfidfTransformer\n",
    "\n",
    "pipeline = Pipeline(\n",
    "    [\n",
    "        (\"vect\", CountVectorizer()),\n",
    "        (\"tfidf\", TfidfTransformer()),\n",
    "        (\"classifier\", RandomForestClassifier()),\n",
    "    ]\n",
    ")"
   ]
  },
  {
   "cell_type": "code",
   "execution_count": null,
   "metadata": {
    "id": "l4mIYTZhl8fJ"
   },
   "outputs": [],
   "source": [
    "parameters = {\n",
    "    'classifier__bootstrap': [True, False],\n",
    "    'classifier__max_depth': [10, 20, 40, 60, None],\n",
    "    'classifier__max_features': ['auto', 'sqrt'],\n",
    "    'classifier__n_estimators': [200, 500, 1000, 1500]\n",
    "}"
   ]
  },
  {
   "cell_type": "code",
   "execution_count": null,
   "metadata": {
    "id": "LyFkeSV5l8fJ"
   },
   "outputs": [],
   "source": [
    "from sklearn.model_selection import GridSearchCV\n",
    "from pprint import pprint\n",
    "\n",
    "grid_search = GridSearchCV(pipeline, parameters, n_jobs=-1, verbose=1)"
   ]
  },
  {
   "cell_type": "code",
   "execution_count": null,
   "metadata": {
    "colab": {
     "base_uri": "https://localhost:8080/"
    },
    "id": "F2Pcve3hl8fJ",
    "outputId": "17b62e5f-3e2e-4cba-df7d-7ad8e8a6d232",
    "scrolled": true
   },
   "outputs": [
    {
     "name": "stdout",
     "output_type": "stream",
     "text": [
      "Performing grid search...\n",
      "pipeline: ['vect', 'tfidf', 'classifier']\n",
      "parameters:\n",
      "{'classifier__bootstrap': [True, False],\n",
      " 'classifier__max_depth': [10, 20, 40, 60, None],\n",
      " 'classifier__max_features': ['auto', 'sqrt'],\n",
      " 'classifier__n_estimators': [200, 500, 1000, 1500]}\n",
      "Fitting 5 folds for each of 80 candidates, totalling 400 fits\n"
     ]
    },
    {
     "name": "stderr",
     "output_type": "stream",
     "text": [
      "/usr/local/lib/python3.7/dist-packages/joblib/externals/loky/process_executor.py:705: UserWarning: A worker stopped while some jobs were given to the executor. This can be caused by a too short worker timeout or by a memory leak.\n",
      "  \"timeout or by a memory leak.\", UserWarning\n"
     ]
    },
    {
     "name": "stdout",
     "output_type": "stream",
     "text": [
      "done in 4931.146s\n",
      "\n",
      "Best score: 0.581\n",
      "Best parameters set:\n",
      "\tclassifier__bootstrap: False\n",
      "\tclassifier__max_depth: 40\n",
      "\tclassifier__max_features: 'sqrt'\n",
      "\tclassifier__n_estimators: 200\n"
     ]
    }
   ],
   "source": [
    "print(\"Performing grid search...\")\n",
    "print(\"pipeline:\", [name for name, _ in pipeline.steps])\n",
    "print(\"parameters:\")\n",
    "pprint(parameters)\n",
    "t0 = time()\n",
    "grid_search.fit(training_set['clean_text'], training_set['Label'])\n",
    "print(\"done in %0.3fs\" % (time() - t0))\n",
    "print()\n",
    "\n",
    "print(\"Best score: %0.3f\" % grid_search.best_score_)\n",
    "print(\"Best parameters set:\")\n",
    "best_parameters = grid_search.best_estimator_.get_params()\n",
    "for param_name in sorted(parameters.keys()):\n",
    "    print(\"\\t%s: %r\" % (param_name, best_parameters[param_name]))"
   ]
  },
  {
   "cell_type": "markdown",
   "metadata": {
    "id": "5MprYcmVmgSw"
   },
   "source": [
    "## Train best model Without Oversampling"
   ]
  },
  {
   "cell_type": "code",
   "execution_count": null,
   "metadata": {
    "colab": {
     "base_uri": "https://localhost:8080/"
    },
    "id": "wHRPPso-l8fK",
    "outputId": "f3b89e7b-add3-4494-a805-1c8157c99436"
   },
   "outputs": [
    {
     "name": "stdout",
     "output_type": "stream",
     "text": [
      "CPU times: user 253 µs, sys: 0 ns, total: 253 µs\n",
      "Wall time: 260 µs\n"
     ]
    }
   ],
   "source": [
    "%%time\n",
    "pipeline = Pipeline(\n",
    "    [\n",
    "        (\"vect\", CountVectorizer()),\n",
    "        (\"tfidf\", TfidfTransformer()),\n",
    "        (\"classifier\", RandomForestClassifier(n_estimators=200, max_features='sqrt', max_depth=40, bootstrap=False)),\n",
    "    ]\n",
    ")"
   ]
  },
  {
   "cell_type": "code",
   "execution_count": null,
   "metadata": {
    "colab": {
     "base_uri": "https://localhost:8080/"
    },
    "id": "9xOnC18ml8fK",
    "outputId": "38f804b7-c23d-4492-8af9-9ae450e0c26a"
   },
   "outputs": [
    {
     "name": "stdout",
     "output_type": "stream",
     "text": [
      "[0.58680556 0.57491289 0.61324042 0.57491289 0.55052265]\n"
     ]
    }
   ],
   "source": [
    "scores = cross_val_score(pipeline, training_set['clean_text'], training_set['Label'], cv=5, scoring='precision_micro')\n",
    "print(scores)"
   ]
  },
  {
   "cell_type": "code",
   "execution_count": null,
   "metadata": {
    "colab": {
     "base_uri": "https://localhost:8080/"
    },
    "id": "KfElTteSl8fK",
    "outputId": "3d72be1f-1041-4524-cc2b-de15322753cc"
   },
   "outputs": [
    {
     "name": "stdout",
     "output_type": "stream",
     "text": [
      "Final score is 0.5800788811459543\n"
     ]
    }
   ],
   "source": [
    "print(f\"Final score is {scores.mean()}\")"
   ]
  },
  {
   "cell_type": "markdown",
   "metadata": {
    "id": "cS6Jofvom7eW"
   },
   "source": [
    "## Grid Search and Train With Oversampling"
   ]
  },
  {
   "cell_type": "code",
   "execution_count": null,
   "metadata": {
    "id": "Sl-mbP2Ms-Qe"
   },
   "outputs": [],
   "source": [
    "pipeline = imblearn.pipeline.Pipeline(\n",
    "    [\n",
    "        (\"vect\", CountVectorizer()),\n",
    "        (\"tfidf\", TfidfTransformer()),\n",
    "        ('ros', RandomOverSampler()),\n",
    "        ('oversampler', SMOTE()),\n",
    "        (\"classifier\", RandomForestClassifier())\n",
    "    ]\n",
    ")\n",
    "parameters = {\n",
    "    'classifier__bootstrap': [True, False],\n",
    "    'classifier__max_depth': [10, 20, 40, 60, None],\n",
    "    'classifier__max_features': ['auto', 'sqrt'],\n",
    "    'classifier__n_estimators': [100, 200, 500, 1000]\n",
    "}\n",
    "grid_search = GridSearchCV(pipeline, parameters, n_jobs=-1, verbose=1)"
   ]
  },
  {
   "cell_type": "code",
   "execution_count": null,
   "metadata": {
    "colab": {
     "base_uri": "https://localhost:8080/"
    },
    "id": "9eWnldqatMMi",
    "outputId": "146f9d16-f54b-4649-a984-fe777f82d12e"
   },
   "outputs": [
    {
     "name": "stdout",
     "output_type": "stream",
     "text": [
      "Performing grid search...\n",
      "pipeline: ['vect', 'tfidf', 'ros', 'oversampler', 'classifier']\n",
      "parameters:\n",
      "{'classifier__bootstrap': [True, False],\n",
      " 'classifier__max_depth': [10, 20, 40, 60, None],\n",
      " 'classifier__max_features': ['auto', 'sqrt'],\n",
      " 'classifier__n_estimators': [100, 200, 500, 1000]}\n",
      "Fitting 5 folds for each of 80 candidates, totalling 400 fits\n"
     ]
    },
    {
     "name": "stderr",
     "output_type": "stream",
     "text": [
      "/usr/local/lib/python3.7/dist-packages/joblib/externals/loky/process_executor.py:705: UserWarning: A worker stopped while some jobs were given to the executor. This can be caused by a too short worker timeout or by a memory leak.\n",
      "  \"timeout or by a memory leak.\", UserWarning\n"
     ]
    },
    {
     "name": "stdout",
     "output_type": "stream",
     "text": [
      "done in 4760.212s\n",
      "\n",
      "Best score: 0.610\n",
      "Best parameters set:\n",
      "\tclassifier__bootstrap: True\n",
      "\tclassifier__max_depth: 40\n",
      "\tclassifier__max_features: 'sqrt'\n",
      "\tclassifier__n_estimators: 500\n"
     ]
    }
   ],
   "source": [
    "print(\"Performing grid search...\")\n",
    "print(\"pipeline:\", [name for name, _ in pipeline.steps])\n",
    "print(\"parameters:\")\n",
    "pprint(parameters)\n",
    "t0 = time()\n",
    "grid_search.fit(training_set['clean_text'], training_set['Label'])\n",
    "print(\"done in %0.3fs\" % (time() - t0))\n",
    "print()\n",
    "\n",
    "print(\"Best score: %0.3f\" % grid_search.best_score_)\n",
    "print(\"Best parameters set:\")\n",
    "best_parameters = grid_search.best_estimator_.get_params()\n",
    "for param_name in sorted(parameters.keys()):\n",
    "    print(\"\\t%s: %r\" % (param_name, best_parameters[param_name]))"
   ]
  },
  {
   "cell_type": "code",
   "execution_count": null,
   "metadata": {
    "colab": {
     "base_uri": "https://localhost:8080/"
    },
    "id": "o_30b4-Sm9lc",
    "outputId": "52fe79de-ac11-40fe-e3df-5574168b7522"
   },
   "outputs": [
    {
     "name": "stdout",
     "output_type": "stream",
     "text": [
      "CPU times: user 509 µs, sys: 0 ns, total: 509 µs\n",
      "Wall time: 539 µs\n"
     ]
    }
   ],
   "source": [
    "%%time\n",
    "pipeline = imblearn.pipeline.Pipeline(\n",
    "    [\n",
    "        (\"vect\", CountVectorizer()),\n",
    "        (\"tfidf\", TfidfTransformer()),\n",
    "        ('ros', RandomOverSampler()),\n",
    "        ('oversampler', SMOTE()),\n",
    "        (\"classifier\", RandomForestClassifier(n_estimators=500, max_features='sqrt', max_depth=40, bootstrap=True)),\n",
    "        #(\"classifier\", RandomForestClassifier())\n",
    "    ]\n",
    ")"
   ]
  },
  {
   "cell_type": "code",
   "execution_count": null,
   "metadata": {
    "colab": {
     "base_uri": "https://localhost:8080/"
    },
    "id": "GBX17gZynCDu",
    "outputId": "ef1dab22-869c-4ed0-a860-a94bf71d3ad3"
   },
   "outputs": [
    {
     "name": "stdout",
     "output_type": "stream",
     "text": [
      "[0.59722222 0.57491289 0.64808362 0.6271777  0.57491289]\n"
     ]
    }
   ],
   "source": [
    "scores = cross_val_score(pipeline, training_set['clean_text'], training_set['Label'], cv=5, scoring='precision_micro')\n",
    "print(scores)"
   ]
  },
  {
   "cell_type": "code",
   "execution_count": null,
   "metadata": {
    "colab": {
     "base_uri": "https://localhost:8080/"
    },
    "id": "e5QVfBGInFtE",
    "outputId": "8f703f0e-795c-4a46-e0eb-9b20e6ec949d"
   },
   "outputs": [
    {
     "name": "stdout",
     "output_type": "stream",
     "text": [
      "Final score is 0.604461866047232\n"
     ]
    }
   ],
   "source": [
    "print(f\"Final score is {scores.mean()}\")"
   ]
  },
  {
   "cell_type": "markdown",
   "metadata": {
    "id": "pMniFs8WnGfJ"
   },
   "source": [
    "# Predict test data"
   ]
  },
  {
   "cell_type": "code",
   "execution_count": null,
   "metadata": {
    "id": "F9pCnk46l8fK"
   },
   "outputs": [],
   "source": [
    "pipeline.fit( training_set['clean_text'], training_set['Label'])\n",
    "test_set.loc[:,\"Label\"] = pipeline.predict(test_set['Text'])"
   ]
  },
  {
   "cell_type": "code",
   "execution_count": null,
   "metadata": {
    "colab": {
     "base_uri": "https://localhost:8080/",
     "height": 423
    },
    "id": "VqvglM51l8fL",
    "outputId": "7fb85ef2-3ce5-45e9-f755-449632c4517a"
   },
   "outputs": [
    {
     "data": {
      "text/html": [
       "\n",
       "  <div id=\"df-d02a19a1-490c-4b99-bdac-cf35b0a82895\">\n",
       "    <div class=\"colab-df-container\">\n",
       "      <div>\n",
       "<style scoped>\n",
       "    .dataframe tbody tr th:only-of-type {\n",
       "        vertical-align: middle;\n",
       "    }\n",
       "\n",
       "    .dataframe tbody tr th {\n",
       "        vertical-align: top;\n",
       "    }\n",
       "\n",
       "    .dataframe thead th {\n",
       "        text-align: right;\n",
       "    }\n",
       "</style>\n",
       "<table border=\"1\" class=\"dataframe\">\n",
       "  <thead>\n",
       "    <tr style=\"text-align: right;\">\n",
       "      <th></th>\n",
       "      <th>ID</th>\n",
       "      <th>Label</th>\n",
       "    </tr>\n",
       "  </thead>\n",
       "  <tbody>\n",
       "    <tr>\n",
       "      <th>0</th>\n",
       "      <td>ID_ADHEtjTi</td>\n",
       "      <td>SOCIAL ISSUES</td>\n",
       "    </tr>\n",
       "    <tr>\n",
       "      <th>1</th>\n",
       "      <td>ID_AHfJktdQ</td>\n",
       "      <td>RELIGION</td>\n",
       "    </tr>\n",
       "    <tr>\n",
       "      <th>2</th>\n",
       "      <td>ID_AUJIHpZr</td>\n",
       "      <td>RELATIONSHIPS</td>\n",
       "    </tr>\n",
       "    <tr>\n",
       "      <th>3</th>\n",
       "      <td>ID_AUKYBbIM</td>\n",
       "      <td>LAW/ORDER</td>\n",
       "    </tr>\n",
       "    <tr>\n",
       "      <th>4</th>\n",
       "      <td>ID_AZnsVPEi</td>\n",
       "      <td>FARMING</td>\n",
       "    </tr>\n",
       "    <tr>\n",
       "      <th>...</th>\n",
       "      <td>...</td>\n",
       "      <td>...</td>\n",
       "    </tr>\n",
       "    <tr>\n",
       "      <th>615</th>\n",
       "      <td>ID_zdpOUWyJ</td>\n",
       "      <td>SOCIAL</td>\n",
       "    </tr>\n",
       "    <tr>\n",
       "      <th>616</th>\n",
       "      <td>ID_zhnOomuu</td>\n",
       "      <td>RELATIONSHIPS</td>\n",
       "    </tr>\n",
       "    <tr>\n",
       "      <th>617</th>\n",
       "      <td>ID_zmWHvBJb</td>\n",
       "      <td>LAW/ORDER</td>\n",
       "    </tr>\n",
       "    <tr>\n",
       "      <th>618</th>\n",
       "      <td>ID_zphjdFIb</td>\n",
       "      <td>SOCIAL ISSUES</td>\n",
       "    </tr>\n",
       "    <tr>\n",
       "      <th>619</th>\n",
       "      <td>ID_ztdtrNxt</td>\n",
       "      <td>LAW/ORDER</td>\n",
       "    </tr>\n",
       "  </tbody>\n",
       "</table>\n",
       "<p>620 rows × 2 columns</p>\n",
       "</div>\n",
       "      <button class=\"colab-df-convert\" onclick=\"convertToInteractive('df-d02a19a1-490c-4b99-bdac-cf35b0a82895')\"\n",
       "              title=\"Convert this dataframe to an interactive table.\"\n",
       "              style=\"display:none;\">\n",
       "        \n",
       "  <svg xmlns=\"http://www.w3.org/2000/svg\" height=\"24px\"viewBox=\"0 0 24 24\"\n",
       "       width=\"24px\">\n",
       "    <path d=\"M0 0h24v24H0V0z\" fill=\"none\"/>\n",
       "    <path d=\"M18.56 5.44l.94 2.06.94-2.06 2.06-.94-2.06-.94-.94-2.06-.94 2.06-2.06.94zm-11 1L8.5 8.5l.94-2.06 2.06-.94-2.06-.94L8.5 2.5l-.94 2.06-2.06.94zm10 10l.94 2.06.94-2.06 2.06-.94-2.06-.94-.94-2.06-.94 2.06-2.06.94z\"/><path d=\"M17.41 7.96l-1.37-1.37c-.4-.4-.92-.59-1.43-.59-.52 0-1.04.2-1.43.59L10.3 9.45l-7.72 7.72c-.78.78-.78 2.05 0 2.83L4 21.41c.39.39.9.59 1.41.59.51 0 1.02-.2 1.41-.59l7.78-7.78 2.81-2.81c.8-.78.8-2.07 0-2.86zM5.41 20L4 18.59l7.72-7.72 1.47 1.35L5.41 20z\"/>\n",
       "  </svg>\n",
       "      </button>\n",
       "      \n",
       "  <style>\n",
       "    .colab-df-container {\n",
       "      display:flex;\n",
       "      flex-wrap:wrap;\n",
       "      gap: 12px;\n",
       "    }\n",
       "\n",
       "    .colab-df-convert {\n",
       "      background-color: #E8F0FE;\n",
       "      border: none;\n",
       "      border-radius: 50%;\n",
       "      cursor: pointer;\n",
       "      display: none;\n",
       "      fill: #1967D2;\n",
       "      height: 32px;\n",
       "      padding: 0 0 0 0;\n",
       "      width: 32px;\n",
       "    }\n",
       "\n",
       "    .colab-df-convert:hover {\n",
       "      background-color: #E2EBFA;\n",
       "      box-shadow: 0px 1px 2px rgba(60, 64, 67, 0.3), 0px 1px 3px 1px rgba(60, 64, 67, 0.15);\n",
       "      fill: #174EA6;\n",
       "    }\n",
       "\n",
       "    [theme=dark] .colab-df-convert {\n",
       "      background-color: #3B4455;\n",
       "      fill: #D2E3FC;\n",
       "    }\n",
       "\n",
       "    [theme=dark] .colab-df-convert:hover {\n",
       "      background-color: #434B5C;\n",
       "      box-shadow: 0px 1px 3px 1px rgba(0, 0, 0, 0.15);\n",
       "      filter: drop-shadow(0px 1px 2px rgba(0, 0, 0, 0.3));\n",
       "      fill: #FFFFFF;\n",
       "    }\n",
       "  </style>\n",
       "\n",
       "      <script>\n",
       "        const buttonEl =\n",
       "          document.querySelector('#df-d02a19a1-490c-4b99-bdac-cf35b0a82895 button.colab-df-convert');\n",
       "        buttonEl.style.display =\n",
       "          google.colab.kernel.accessAllowed ? 'block' : 'none';\n",
       "\n",
       "        async function convertToInteractive(key) {\n",
       "          const element = document.querySelector('#df-d02a19a1-490c-4b99-bdac-cf35b0a82895');\n",
       "          const dataTable =\n",
       "            await google.colab.kernel.invokeFunction('convertToInteractive',\n",
       "                                                     [key], {});\n",
       "          if (!dataTable) return;\n",
       "\n",
       "          const docLinkHtml = 'Like what you see? Visit the ' +\n",
       "            '<a target=\"_blank\" href=https://colab.research.google.com/notebooks/data_table.ipynb>data table notebook</a>'\n",
       "            + ' to learn more about interactive tables.';\n",
       "          element.innerHTML = '';\n",
       "          dataTable['output_type'] = 'display_data';\n",
       "          await google.colab.output.renderOutput(dataTable, element);\n",
       "          const docLink = document.createElement('div');\n",
       "          docLink.innerHTML = docLinkHtml;\n",
       "          element.appendChild(docLink);\n",
       "        }\n",
       "      </script>\n",
       "    </div>\n",
       "  </div>\n",
       "  "
      ],
      "text/plain": [
       "              ID          Label\n",
       "0    ID_ADHEtjTi  SOCIAL ISSUES\n",
       "1    ID_AHfJktdQ       RELIGION\n",
       "2    ID_AUJIHpZr  RELATIONSHIPS\n",
       "3    ID_AUKYBbIM      LAW/ORDER\n",
       "4    ID_AZnsVPEi        FARMING\n",
       "..           ...            ...\n",
       "615  ID_zdpOUWyJ         SOCIAL\n",
       "616  ID_zhnOomuu  RELATIONSHIPS\n",
       "617  ID_zmWHvBJb      LAW/ORDER\n",
       "618  ID_zphjdFIb  SOCIAL ISSUES\n",
       "619  ID_ztdtrNxt      LAW/ORDER\n",
       "\n",
       "[620 rows x 2 columns]"
      ]
     },
     "execution_count": 124,
     "metadata": {},
     "output_type": "execute_result"
    }
   ],
   "source": [
    "test_set[['ID','Label']]"
   ]
  },
  {
   "cell_type": "code",
   "execution_count": null,
   "metadata": {
    "id": "Poj5M4hWl8fL"
   },
   "outputs": [],
   "source": [
    "test_set[['ID','Label']].to_csv(\"submission.csv\", index=False) "
   ]
  },
  {
   "cell_type": "code",
   "execution_count": null,
   "metadata": {},
   "outputs": [],
   "source": [
    "combiner = pd.read_csv(\"combiner.csv\")\n",
    "combiner['Random Forest'] = test_set['Label']\n",
    "combiner.to_csv('combiner.csv',index=False)"
   ]
  },
  {
   "cell_type": "markdown",
   "metadata": {
    "id": "h7BNnhnrCslN"
   },
   "source": [
    "Best Score on website: 0.61935 \\\n",
    "By Random Forest with Oversampling"
   ]
  }
 ],
 "metadata": {
  "colab": {
   "collapsed_sections": [
    "867567t_Yp-l",
    "0E-VZ3GeYp-u",
    "wfxLV4BWmaTR",
    "5MprYcmVmgSw",
    "cS6Jofvom7eW"
   ],
   "name": "random_forest_model.ipynb",
   "provenance": []
  },
  "kernelspec": {
   "display_name": "Python 3 (ipykernel)",
   "language": "python",
   "name": "python3"
  },
  "language_info": {
   "codemirror_mode": {
    "name": "ipython",
    "version": 3
   },
   "file_extension": ".py",
   "mimetype": "text/x-python",
   "name": "python",
   "nbconvert_exporter": "python",
   "pygments_lexer": "ipython3",
   "version": "3.8.5"
  }
 },
 "nbformat": 4,
 "nbformat_minor": 1
}
