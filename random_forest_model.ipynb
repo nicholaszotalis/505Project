{
  "cells": [
    {
      "cell_type": "code",
      "execution_count": 55,
      "metadata": {
        "id": "YQlita-mq_qc"
      },
      "outputs": [],
      "source": [
        "import matplotlib.pyplot as plt\n",
        "from sklearn.pipeline import Pipeline\n",
        "from sklearn.feature_extraction.text import TfidfVectorizer\n",
        "from sklearn.preprocessing import FunctionTransformer\n",
        "from sklearn.ensemble import RandomForestClassifier\n",
        "from sklearn.tree import DecisionTreeClassifier\n",
        "from sklearn.model_selection import cross_val_score\n",
        "from collections import Counter\n",
        "import imblearn\n",
        "from imblearn.over_sampling import SMOTE,RandomOverSampler\n",
        "\n",
        "from nltk import word_tokenize\n",
        "from time import time\n",
        "import pandas as pd\n",
        "import re\n",
        "import numpy as np\n",
        "import gensim\n",
        "import string"
      ]
    },
    {
      "cell_type": "code",
      "execution_count": 4,
      "metadata": {
        "colab": {
          "base_uri": "https://localhost:8080/"
        },
        "id": "hoqE2N0al8fB",
        "outputId": "033383c7-2ee5-4f97-c37c-46843f06bca8"
      },
      "outputs": [
        {
          "output_type": "stream",
          "name": "stdout",
          "text": [
            "[nltk_data] Downloading package punkt to /root/nltk_data...\n",
            "[nltk_data]   Unzipping tokenizers/punkt.zip.\n",
            "[nltk_data] Downloading package wordnet to /root/nltk_data...\n",
            "[nltk_data]   Unzipping corpora/wordnet.zip.\n"
          ]
        },
        {
          "output_type": "execute_result",
          "data": {
            "text/plain": [
              "True"
            ]
          },
          "metadata": {},
          "execution_count": 4
        }
      ],
      "source": [
        "import nltk\n",
        "nltk.download('punkt')\n",
        "nltk.download('wordnet')"
      ]
    },
    {
      "cell_type": "markdown",
      "source": [
        "# Data Preprocessing"
      ],
      "metadata": {
        "id": "I-lJZkilYXFU"
      }
    },
    {
      "cell_type": "code",
      "execution_count": 101,
      "metadata": {
        "colab": {
          "base_uri": "https://localhost:8080/",
          "height": 206
        },
        "id": "68KcoqNcx4XK",
        "outputId": "0acba733-0799-4123-db8e-01d71c0bef9a"
      },
      "outputs": [
        {
          "output_type": "execute_result",
          "data": {
            "text/plain": [
              "               ID                                               Text  \\\n",
              "330   ID_MhRLVrCv   Sabuside yayamba ndi njengunje Pulogalamu ya ...   \n",
              "1271  ID_uaIRnKEg   Woganiziridwa kuba khanda anjatidwa ku Mzuzu ...   \n",
              "753   ID_cGoUjmkl  Boma Lati Lilemba Ntchito Madotolo Ochuluka Bo...   \n",
              "908   ID_hqiqQOJU  HRDC Yauza A Malawi Akhale Tcheru pa Chisankho...   \n",
              "1235  ID_tctVZmuZ  Papa Akuyembekezeka kuchita Misa Yopemphelera ...   \n",
              "\n",
              "          Label  \n",
              "330     FARMING  \n",
              "1271  LAW/ORDER  \n",
              "753      HEALTH  \n",
              "908    POLITICS  \n",
              "1235   RELIGION  "
            ],
            "text/html": [
              "\n",
              "  <div id=\"df-a8b0c113-6aa2-4656-9fde-fafb76c8b101\">\n",
              "    <div class=\"colab-df-container\">\n",
              "      <div>\n",
              "<style scoped>\n",
              "    .dataframe tbody tr th:only-of-type {\n",
              "        vertical-align: middle;\n",
              "    }\n",
              "\n",
              "    .dataframe tbody tr th {\n",
              "        vertical-align: top;\n",
              "    }\n",
              "\n",
              "    .dataframe thead th {\n",
              "        text-align: right;\n",
              "    }\n",
              "</style>\n",
              "<table border=\"1\" class=\"dataframe\">\n",
              "  <thead>\n",
              "    <tr style=\"text-align: right;\">\n",
              "      <th></th>\n",
              "      <th>ID</th>\n",
              "      <th>Text</th>\n",
              "      <th>Label</th>\n",
              "    </tr>\n",
              "  </thead>\n",
              "  <tbody>\n",
              "    <tr>\n",
              "      <th>330</th>\n",
              "      <td>ID_MhRLVrCv</td>\n",
              "      <td>Sabuside yayamba ndi njengunje Pulogalamu ya ...</td>\n",
              "      <td>FARMING</td>\n",
              "    </tr>\n",
              "    <tr>\n",
              "      <th>1271</th>\n",
              "      <td>ID_uaIRnKEg</td>\n",
              "      <td>Woganiziridwa kuba khanda anjatidwa ku Mzuzu ...</td>\n",
              "      <td>LAW/ORDER</td>\n",
              "    </tr>\n",
              "    <tr>\n",
              "      <th>753</th>\n",
              "      <td>ID_cGoUjmkl</td>\n",
              "      <td>Boma Lati Lilemba Ntchito Madotolo Ochuluka Bo...</td>\n",
              "      <td>HEALTH</td>\n",
              "    </tr>\n",
              "    <tr>\n",
              "      <th>908</th>\n",
              "      <td>ID_hqiqQOJU</td>\n",
              "      <td>HRDC Yauza A Malawi Akhale Tcheru pa Chisankho...</td>\n",
              "      <td>POLITICS</td>\n",
              "    </tr>\n",
              "    <tr>\n",
              "      <th>1235</th>\n",
              "      <td>ID_tctVZmuZ</td>\n",
              "      <td>Papa Akuyembekezeka kuchita Misa Yopemphelera ...</td>\n",
              "      <td>RELIGION</td>\n",
              "    </tr>\n",
              "  </tbody>\n",
              "</table>\n",
              "</div>\n",
              "      <button class=\"colab-df-convert\" onclick=\"convertToInteractive('df-a8b0c113-6aa2-4656-9fde-fafb76c8b101')\"\n",
              "              title=\"Convert this dataframe to an interactive table.\"\n",
              "              style=\"display:none;\">\n",
              "        \n",
              "  <svg xmlns=\"http://www.w3.org/2000/svg\" height=\"24px\"viewBox=\"0 0 24 24\"\n",
              "       width=\"24px\">\n",
              "    <path d=\"M0 0h24v24H0V0z\" fill=\"none\"/>\n",
              "    <path d=\"M18.56 5.44l.94 2.06.94-2.06 2.06-.94-2.06-.94-.94-2.06-.94 2.06-2.06.94zm-11 1L8.5 8.5l.94-2.06 2.06-.94-2.06-.94L8.5 2.5l-.94 2.06-2.06.94zm10 10l.94 2.06.94-2.06 2.06-.94-2.06-.94-.94-2.06-.94 2.06-2.06.94z\"/><path d=\"M17.41 7.96l-1.37-1.37c-.4-.4-.92-.59-1.43-.59-.52 0-1.04.2-1.43.59L10.3 9.45l-7.72 7.72c-.78.78-.78 2.05 0 2.83L4 21.41c.39.39.9.59 1.41.59.51 0 1.02-.2 1.41-.59l7.78-7.78 2.81-2.81c.8-.78.8-2.07 0-2.86zM5.41 20L4 18.59l7.72-7.72 1.47 1.35L5.41 20z\"/>\n",
              "  </svg>\n",
              "      </button>\n",
              "      \n",
              "  <style>\n",
              "    .colab-df-container {\n",
              "      display:flex;\n",
              "      flex-wrap:wrap;\n",
              "      gap: 12px;\n",
              "    }\n",
              "\n",
              "    .colab-df-convert {\n",
              "      background-color: #E8F0FE;\n",
              "      border: none;\n",
              "      border-radius: 50%;\n",
              "      cursor: pointer;\n",
              "      display: none;\n",
              "      fill: #1967D2;\n",
              "      height: 32px;\n",
              "      padding: 0 0 0 0;\n",
              "      width: 32px;\n",
              "    }\n",
              "\n",
              "    .colab-df-convert:hover {\n",
              "      background-color: #E2EBFA;\n",
              "      box-shadow: 0px 1px 2px rgba(60, 64, 67, 0.3), 0px 1px 3px 1px rgba(60, 64, 67, 0.15);\n",
              "      fill: #174EA6;\n",
              "    }\n",
              "\n",
              "    [theme=dark] .colab-df-convert {\n",
              "      background-color: #3B4455;\n",
              "      fill: #D2E3FC;\n",
              "    }\n",
              "\n",
              "    [theme=dark] .colab-df-convert:hover {\n",
              "      background-color: #434B5C;\n",
              "      box-shadow: 0px 1px 3px 1px rgba(0, 0, 0, 0.15);\n",
              "      filter: drop-shadow(0px 1px 2px rgba(0, 0, 0, 0.3));\n",
              "      fill: #FFFFFF;\n",
              "    }\n",
              "  </style>\n",
              "\n",
              "      <script>\n",
              "        const buttonEl =\n",
              "          document.querySelector('#df-a8b0c113-6aa2-4656-9fde-fafb76c8b101 button.colab-df-convert');\n",
              "        buttonEl.style.display =\n",
              "          google.colab.kernel.accessAllowed ? 'block' : 'none';\n",
              "\n",
              "        async function convertToInteractive(key) {\n",
              "          const element = document.querySelector('#df-a8b0c113-6aa2-4656-9fde-fafb76c8b101');\n",
              "          const dataTable =\n",
              "            await google.colab.kernel.invokeFunction('convertToInteractive',\n",
              "                                                     [key], {});\n",
              "          if (!dataTable) return;\n",
              "\n",
              "          const docLinkHtml = 'Like what you see? Visit the ' +\n",
              "            '<a target=\"_blank\" href=https://colab.research.google.com/notebooks/data_table.ipynb>data table notebook</a>'\n",
              "            + ' to learn more about interactive tables.';\n",
              "          element.innerHTML = '';\n",
              "          dataTable['output_type'] = 'display_data';\n",
              "          await google.colab.output.renderOutput(dataTable, element);\n",
              "          const docLink = document.createElement('div');\n",
              "          docLink.innerHTML = docLinkHtml;\n",
              "          element.appendChild(docLink);\n",
              "        }\n",
              "      </script>\n",
              "    </div>\n",
              "  </div>\n",
              "  "
            ]
          },
          "metadata": {},
          "execution_count": 101
        }
      ],
      "source": [
        "training_set = pd.read_csv(\"Train.csv\")\n",
        "training_set.sample(5)"
      ]
    },
    {
      "cell_type": "code",
      "execution_count": 102,
      "metadata": {
        "colab": {
          "base_uri": "https://localhost:8080/"
        },
        "id": "t1i0gu6DVgn6",
        "outputId": "7a7022fa-3b82-40c8-fafd-3e434d9bbcd0"
      },
      "outputs": [
        {
          "output_type": "stream",
          "name": "stdout",
          "text": [
            "<class 'pandas.core.frame.DataFrame'>\n",
            "RangeIndex: 1436 entries, 0 to 1435\n",
            "Data columns (total 3 columns):\n",
            " #   Column  Non-Null Count  Dtype \n",
            "---  ------  --------------  ----- \n",
            " 0   ID      1436 non-null   object\n",
            " 1   Text    1436 non-null   object\n",
            " 2   Label   1436 non-null   object\n",
            "dtypes: object(3)\n",
            "memory usage: 33.8+ KB\n"
          ]
        }
      ],
      "source": [
        "training_set.info()"
      ]
    },
    {
      "cell_type": "code",
      "execution_count": 103,
      "metadata": {
        "colab": {
          "base_uri": "https://localhost:8080/",
          "height": 206
        },
        "id": "daEkQFAvx4XL",
        "outputId": "30bd9a44-a8df-4c19-a26c-785510a91fc2"
      },
      "outputs": [
        {
          "output_type": "execute_result",
          "data": {
            "text/plain": [
              "              ID                                               Text\n",
              "587  ID_xOPvEpYq   Mutharika apempha bata Peter Mutharika, yemwe...\n",
              "325  ID_cVAHPaJJ   Tikolole motani chimanga? Alimi mmadera a dzi...\n",
              "195  ID_OlMYVZHE  Papa Wakhazikitsa Masiku Apadera Oteteza Chile...\n",
              "48   ID_DvKpsrBg   Anatchezera Akunyengana ndi mnzanga Zikomo An...\n",
              "468  ID_nwWsswqZ  Sukulu ya Maranatha Yatseka Nthambi Zake Zitat..."
            ],
            "text/html": [
              "\n",
              "  <div id=\"df-e0a4d8c6-e3e3-4072-9e86-172adb325a0f\">\n",
              "    <div class=\"colab-df-container\">\n",
              "      <div>\n",
              "<style scoped>\n",
              "    .dataframe tbody tr th:only-of-type {\n",
              "        vertical-align: middle;\n",
              "    }\n",
              "\n",
              "    .dataframe tbody tr th {\n",
              "        vertical-align: top;\n",
              "    }\n",
              "\n",
              "    .dataframe thead th {\n",
              "        text-align: right;\n",
              "    }\n",
              "</style>\n",
              "<table border=\"1\" class=\"dataframe\">\n",
              "  <thead>\n",
              "    <tr style=\"text-align: right;\">\n",
              "      <th></th>\n",
              "      <th>ID</th>\n",
              "      <th>Text</th>\n",
              "    </tr>\n",
              "  </thead>\n",
              "  <tbody>\n",
              "    <tr>\n",
              "      <th>587</th>\n",
              "      <td>ID_xOPvEpYq</td>\n",
              "      <td>Mutharika apempha bata Peter Mutharika, yemwe...</td>\n",
              "    </tr>\n",
              "    <tr>\n",
              "      <th>325</th>\n",
              "      <td>ID_cVAHPaJJ</td>\n",
              "      <td>Tikolole motani chimanga? Alimi mmadera a dzi...</td>\n",
              "    </tr>\n",
              "    <tr>\n",
              "      <th>195</th>\n",
              "      <td>ID_OlMYVZHE</td>\n",
              "      <td>Papa Wakhazikitsa Masiku Apadera Oteteza Chile...</td>\n",
              "    </tr>\n",
              "    <tr>\n",
              "      <th>48</th>\n",
              "      <td>ID_DvKpsrBg</td>\n",
              "      <td>Anatchezera Akunyengana ndi mnzanga Zikomo An...</td>\n",
              "    </tr>\n",
              "    <tr>\n",
              "      <th>468</th>\n",
              "      <td>ID_nwWsswqZ</td>\n",
              "      <td>Sukulu ya Maranatha Yatseka Nthambi Zake Zitat...</td>\n",
              "    </tr>\n",
              "  </tbody>\n",
              "</table>\n",
              "</div>\n",
              "      <button class=\"colab-df-convert\" onclick=\"convertToInteractive('df-e0a4d8c6-e3e3-4072-9e86-172adb325a0f')\"\n",
              "              title=\"Convert this dataframe to an interactive table.\"\n",
              "              style=\"display:none;\">\n",
              "        \n",
              "  <svg xmlns=\"http://www.w3.org/2000/svg\" height=\"24px\"viewBox=\"0 0 24 24\"\n",
              "       width=\"24px\">\n",
              "    <path d=\"M0 0h24v24H0V0z\" fill=\"none\"/>\n",
              "    <path d=\"M18.56 5.44l.94 2.06.94-2.06 2.06-.94-2.06-.94-.94-2.06-.94 2.06-2.06.94zm-11 1L8.5 8.5l.94-2.06 2.06-.94-2.06-.94L8.5 2.5l-.94 2.06-2.06.94zm10 10l.94 2.06.94-2.06 2.06-.94-2.06-.94-.94-2.06-.94 2.06-2.06.94z\"/><path d=\"M17.41 7.96l-1.37-1.37c-.4-.4-.92-.59-1.43-.59-.52 0-1.04.2-1.43.59L10.3 9.45l-7.72 7.72c-.78.78-.78 2.05 0 2.83L4 21.41c.39.39.9.59 1.41.59.51 0 1.02-.2 1.41-.59l7.78-7.78 2.81-2.81c.8-.78.8-2.07 0-2.86zM5.41 20L4 18.59l7.72-7.72 1.47 1.35L5.41 20z\"/>\n",
              "  </svg>\n",
              "      </button>\n",
              "      \n",
              "  <style>\n",
              "    .colab-df-container {\n",
              "      display:flex;\n",
              "      flex-wrap:wrap;\n",
              "      gap: 12px;\n",
              "    }\n",
              "\n",
              "    .colab-df-convert {\n",
              "      background-color: #E8F0FE;\n",
              "      border: none;\n",
              "      border-radius: 50%;\n",
              "      cursor: pointer;\n",
              "      display: none;\n",
              "      fill: #1967D2;\n",
              "      height: 32px;\n",
              "      padding: 0 0 0 0;\n",
              "      width: 32px;\n",
              "    }\n",
              "\n",
              "    .colab-df-convert:hover {\n",
              "      background-color: #E2EBFA;\n",
              "      box-shadow: 0px 1px 2px rgba(60, 64, 67, 0.3), 0px 1px 3px 1px rgba(60, 64, 67, 0.15);\n",
              "      fill: #174EA6;\n",
              "    }\n",
              "\n",
              "    [theme=dark] .colab-df-convert {\n",
              "      background-color: #3B4455;\n",
              "      fill: #D2E3FC;\n",
              "    }\n",
              "\n",
              "    [theme=dark] .colab-df-convert:hover {\n",
              "      background-color: #434B5C;\n",
              "      box-shadow: 0px 1px 3px 1px rgba(0, 0, 0, 0.15);\n",
              "      filter: drop-shadow(0px 1px 2px rgba(0, 0, 0, 0.3));\n",
              "      fill: #FFFFFF;\n",
              "    }\n",
              "  </style>\n",
              "\n",
              "      <script>\n",
              "        const buttonEl =\n",
              "          document.querySelector('#df-e0a4d8c6-e3e3-4072-9e86-172adb325a0f button.colab-df-convert');\n",
              "        buttonEl.style.display =\n",
              "          google.colab.kernel.accessAllowed ? 'block' : 'none';\n",
              "\n",
              "        async function convertToInteractive(key) {\n",
              "          const element = document.querySelector('#df-e0a4d8c6-e3e3-4072-9e86-172adb325a0f');\n",
              "          const dataTable =\n",
              "            await google.colab.kernel.invokeFunction('convertToInteractive',\n",
              "                                                     [key], {});\n",
              "          if (!dataTable) return;\n",
              "\n",
              "          const docLinkHtml = 'Like what you see? Visit the ' +\n",
              "            '<a target=\"_blank\" href=https://colab.research.google.com/notebooks/data_table.ipynb>data table notebook</a>'\n",
              "            + ' to learn more about interactive tables.';\n",
              "          element.innerHTML = '';\n",
              "          dataTable['output_type'] = 'display_data';\n",
              "          await google.colab.output.renderOutput(dataTable, element);\n",
              "          const docLink = document.createElement('div');\n",
              "          docLink.innerHTML = docLinkHtml;\n",
              "          element.appendChild(docLink);\n",
              "        }\n",
              "      </script>\n",
              "    </div>\n",
              "  </div>\n",
              "  "
            ]
          },
          "metadata": {},
          "execution_count": 103
        }
      ],
      "source": [
        "test_set = pd.read_csv(\"Test.csv\")\n",
        "test_set.sample(5)"
      ]
    },
    {
      "cell_type": "code",
      "execution_count": 104,
      "metadata": {
        "id": "lepSZGgyl8fE"
      },
      "outputs": [],
      "source": [
        "punctuations = string.punctuation + \"’¶•@°©®™\"\n",
        "stop_words = pd.read_csv(\"stopwords.csv\", usecols=[\"Chichewa\"])\n",
        "sw = set(stop_words.values[:100].flatten().tolist())"
      ]
    },
    {
      "cell_type": "code",
      "execution_count": 105,
      "metadata": {
        "id": "yMrgTHEu10Ho"
      },
      "outputs": [],
      "source": [
        "def preprocess_text(text):\n",
        "    \"\"\"\n",
        "    @param text string\n",
        "    @return text string\n",
        "    \n",
        "    This function preprocess a given raw text by normalizing it to lowercase removing the stop words,\n",
        "    punctuations and lemmatization\n",
        "    \"\"\"\n",
        "        \n",
        "    #string to lowercase\n",
        "    txt = text.lower()\n",
        "    \n",
        "    # keep only ascii characters\n",
        "    txt = re.sub(r\"[^a-zA-ZÀ-ÿ]\", \" \", txt)\n",
        "    \n",
        "    # punctuation removal and map it to space\n",
        "    translator = str.maketrans(punctuations, \" \"*len(punctuations))\n",
        "    s = txt.translate(translator)\n",
        "    \n",
        "    # remove digits \n",
        "    no_digits = ''.join([i for i in s if not i.isdigit()])\n",
        "    cleaner = \" \".join(no_digits.split())\n",
        "    \n",
        "    # tokenize words and removing stop words \n",
        "    word_tokens = word_tokenize(cleaner)\n",
        "    filtered_sentence = [w for w in word_tokens if len(w)>2 and w not in sw]\n",
        "    filtered_sentence = \" \".join(filtered_sentence)\n",
        "    \n",
        "    return filtered_sentence"
      ]
    },
    {
      "cell_type": "code",
      "execution_count": 106,
      "metadata": {
        "colab": {
          "base_uri": "https://localhost:8080/"
        },
        "id": "RT6HF4vG9eYI",
        "outputId": "c2c4ef4c-8943-4db9-d518-4127046c1dc1",
        "scrolled": true
      },
      "outputs": [
        {
          "output_type": "stream",
          "name": "stdout",
          "text": [
            "RAW text before preprocessing :\n",
            "\n",
            " Mayi wamalonda avulazidwa ku bt Titha Masamba, wa zaka 31, akumva ululu wadzaoneni. Kuti ayende akuyenera agwirire ndodo; sangagone chafufumimba koma chammbali kapena chagada; moyo wamtendere watha.\r\n",
            " Akuti adamuphera tsogolo lake: Masamba kumva ululu kunyumba kwake Akuti izitu zili chonchi chifukwa cha bala lomwe lili pabondo lake la kumanja lomwe lidasokedwa kuchipatala pambuyo pokhapidwa ndi chikwanje.\r\n",
            "  Chisale watuluka nkumangidwanso  Sipakala waimitsa Nyumba ya Malamulo  Pa Wenela pasintha zedi Ulendo wa mayiyu wokagulitsa mandasi pa 7 July ndi womwe udabweretsa mavutowa pomwe anthu ena, omwe akuwaganizira kuti ogwira ntchito kukhonsolo ya mzinda wa Blantyre (city rangers) amene adamuchita chiwembu pomulanda malonda ake komanso kumuvulaza ndi chikwanje.\r\n",
            " Masamba akuti atangomwalira amuna ake mu 2007, iye adayamba geni yogulitsa mandasi kuti azisamalira banja lake la ana awiri. Malo amene amagulitsira malonda akewo akuti ndi ku Cold Storage pafupi ndi Kamuzu Stadium mumzindawu.\r\n",
            " Monga mwa nthawi zonse, patsiku la ngozilo, adauyatsa ulendo wokapha makwacha. Pafupi ndi Cold Storage pali njanje ndiye ndidaika malonda anga chapafupi ndi msewu womwe umadutsa pamwamba pa njajeyo kuti ndikataye madzi ndisadalowere ku Cold Storage, adatero Masamba.\r\n",
            " Pamene ndimati ndikatenge malondawo, ndidangoona galimoto ya City, yoyera ndipo mmbalimu idali ya sefa. Idadzaima pafupi ndi pomwe padali mandasiwo ndipo adali mgalimotomo adatsika natenga beseni la mandasilo. Ena adandigwira ndipo ndidawauza kuti angotenga mandasiwo asalimbane nane koma zidakanika.\r\n",
            " Mayiyu, yemwe akukhala ku Makhetha mumzindawu, akuti anthuwo adamubudulira malondawo ndipo mosakhalitsa zodabwitsa zidamuchitikira.\r\n",
            " Mmodzi adatulutsa chikwanje ndipo adandikhapa nacho pabondopa. Kaamba ka ululu kuchokera apo sindikumbukanso chomwe chidachitika ndipo ndidangozindikira ndili pabedi kuchipatala ku Queens cha mma 4 koloko madzulo, adatero.\r\n",
            " Iye akuti adazindikiranso kuti K4 500 yomwe adamanga pansalu yake palibe.\r\n",
            " Idali ndalama yomwe ndimati ndiwatumizire agogo anga ku Dedza. Agogowa amadaliranso ine akafuna thandizo, adatero iye.\r\n",
            " Chichitikireni cha izi, mayiyu akungobuula ndi ululu kunyumba kwake. Geni sangachitenso, moyo tsopano wasanduka wovuta.\r\n",
            " Mneneri wa khonsolo ya Blantyre Anthony Kasunda akuti wangomva za nkhaniyi koma akufufuza kaye ngatidi adali antchito awo amene adachitira chipongwe mayiyu.\r\n",
            " Ndikudabwa chifuma malo amene mayiwa akukamba ife sitifikako. Ndiye zikundidabwitsa kuti zatheka bwanji kuti mayiwa avulazidwe ndi anthu amene akuti ndi akhonsolo ya Blantyre, adatero Kasunda, amene akuganiza kuti mwina angakhale anthu ena omwe achita izi.\r\n",
            " Pamene Kasunda akufufuza, moyo wa Masamba uli pachiswe chifukwa ana ake akudalira iye kuti asake chakudya cha tsiku ndi tsiku komanso zofunikira kusukulu.\r\n",
            " Andiphera tsogolo. Tikadya ndiye kuti ndachita geni. Nawo mpamba udathera kuchipatala. Chochita chikundisowa, adalira mayiyu pocheza naye kunyumba kwake.\r\n",
            "\n",
            "\n",
            "-------------------------------\n",
            "\n",
            "Processed text after preprocessing :\n",
            "\n",
            "wamalonda avulazidwa titha masamba zaka akumva ululu wadzaoneni ayende akuyenera agwirire ndodo sangagone chafufumimba chammbali chagada moyo wamtendere watha akuti adamuphera tsogolo lake masamba kumva ululu kwake akuti izitu zili chonchi cha bala lomwe lili pabondo lake kumanja lomwe lidasokedwa kuchipatala pambuyo pokhapidwa chikwanje chisale watuluka nkumangidwanso sipakala waimitsa nyumba malamulo wenela pasintha zedi ulendo mayiyu wokagulitsa mandasi july womwe udabweretsa mavutowa pomwe omwe akuwaganizira ogwira ntchito kukhonsolo mzinda blantyre city rangers amene adamuchita chiwembu pomulanda malonda ake kumuvulaza chikwanje masamba akuti atangomwalira amuna ake adayamba geni yogulitsa mandasi azisamalira banja lake ana awiri malo amene amagulitsira malonda akewo akuti cold storage kamuzu stadium mumzindawu mwa zonse patsiku ngozilo adauyatsa ulendo wokapha makwacha cold storage pali njanje ndiye ndidaika malonda anga chapafupi msewu womwe umadutsa pamwamba njajeyo ndikataye madzi ndisadalowere cold storage adatero masamba pamene ndimati ndikatenge malondawo ndidangoona galimoto city yoyera mmbalimu idali sefa idadzaima pomwe padali mandasiwo adali mgalimotomo adatsika natenga beseni mandasilo adandigwira ndidawauza angotenga mandasiwo asalimbane nane zidakanika mayiyu yemwe akukhala makhetha mumzindawu akuti anthuwo adamubudulira malondawo mosakhalitsa zodabwitsa zidamuchitikira adatulutsa chikwanje adandikhapa nacho pabondopa kaamba ululu apo sindikumbukanso chomwe chidachitika ndidangozindikira ndili pabedi kuchipatala queens cha mma koloko madzulo adatero akuti adazindikiranso yomwe adamanga pansalu yake palibe idali ndalama yomwe ndimati ndiwatumizire agogo anga dedza agogowa amadaliranso akafuna thandizo adatero chichitikireni cha mayiyu akungobuula ululu kwake geni sangachitenso moyo tsopano wasanduka wovuta mneneri khonsolo blantyre anthony kasunda akuti wangomva nkhaniyi akufufuza kaye ngatidi adali antchito amene adachitira chipongwe mayiyu ndikudabwa chifuma malo amene mayiwa akukamba sitifikako ndiye zikundidabwitsa zatheka mayiwa avulazidwe amene akuti akhonsolo blantyre adatero kasunda amene akuganiza mwina angakhale omwe achita pamene kasunda akufufuza moyo masamba uli pachiswe ana ake akudalira asake chakudya cha tsiku tsiku zofunikira kusukulu andiphera tsogolo tikadya ndiye ndachita geni nawo mpamba udathera kuchipatala chochita chikundisowa adalira mayiyu pocheza naye kwake\n"
          ]
        }
      ],
      "source": [
        "# testing function\n",
        "sample_text = training_set.Text[7]\n",
        "print(\"RAW text before preprocessing :\\n\")\n",
        "print(sample_text)\n",
        "print(\"\\n-------------------------------\\n\")\n",
        "print(\"Processed text after preprocessing :\\n\")\n",
        "print(preprocess_text(sample_text))"
      ]
    },
    {
      "cell_type": "code",
      "execution_count": 107,
      "metadata": {
        "id": "DsjtpJCp9d91"
      },
      "outputs": [],
      "source": [
        "# Applying the preprocessing function through all the data\n",
        "training_set['clean_text'] = training_set.Text.apply(preprocess_text)\n",
        "test_set['clean_text'] = test_set.Text.apply(preprocess_text)"
      ]
    },
    {
      "cell_type": "code",
      "execution_count": 109,
      "metadata": {
        "id": "sCGi8tPql8fI"
      },
      "outputs": [],
      "source": [
        "training_set['clean_text'] = training_set['clean_text'].str.replace('ndi', '').replace('kuti', '')\n",
        "test_set['clean_text'] = test_set['clean_text'].str.replace('ndi', '').replace('kuti', '')"
      ]
    },
    {
      "cell_type": "code",
      "execution_count": 110,
      "metadata": {
        "colab": {
          "base_uri": "https://localhost:8080/",
          "height": 354
        },
        "id": "YKghEh0tl8fI",
        "outputId": "689c74d7-6e77-4d12-a8b4-e19560de6a8d"
      },
      "outputs": [
        {
          "output_type": "execute_result",
          "data": {
            "text/plain": [
              "               ID                                               Text  \\\n",
              "427   ID_QNAHlieY   Alimbana ndi ntchemberezandonda ku Zomba Undu...   \n",
              "1189  ID_sIaymPRo  Bande Walimbikitsa Aphungu Anzake Kuti Agwire ...   \n",
              "1008  ID_ltyEVrOY  World Vision Donates Buckets to Mangochi Polic...   \n",
              "522   ID_TUIsSydd  Bambo Wafa Atawombedwa ndi Galimoto ku Kasungu...   \n",
              "296   ID_LRqnhrXL   Ndalama zakale zitha pa 23 May Banki yaikulu ...   \n",
              "\n",
              "         Label                                         clean_text  \n",
              "427    FARMING  alimbana ntchemberezandonda zomba unduna zamal...  \n",
              "1189  POLITICS  bande walimbikitsa aphungu anzake agwire ntchi...  \n",
              "1008    SOCIAL  world vision donates buckets mangochi police m...  \n",
              "522     SOCIAL  wafa atawombedwa galimoto kasungu wina zaka za...  \n",
              "296    ECONOMY  ndalama zakale zitha may banki yakumbutsa maba...  "
            ],
            "text/html": [
              "\n",
              "  <div id=\"df-b72bddc8-0d9c-495f-bec2-f013fe8b8d7d\">\n",
              "    <div class=\"colab-df-container\">\n",
              "      <div>\n",
              "<style scoped>\n",
              "    .dataframe tbody tr th:only-of-type {\n",
              "        vertical-align: middle;\n",
              "    }\n",
              "\n",
              "    .dataframe tbody tr th {\n",
              "        vertical-align: top;\n",
              "    }\n",
              "\n",
              "    .dataframe thead th {\n",
              "        text-align: right;\n",
              "    }\n",
              "</style>\n",
              "<table border=\"1\" class=\"dataframe\">\n",
              "  <thead>\n",
              "    <tr style=\"text-align: right;\">\n",
              "      <th></th>\n",
              "      <th>ID</th>\n",
              "      <th>Text</th>\n",
              "      <th>Label</th>\n",
              "      <th>clean_text</th>\n",
              "    </tr>\n",
              "  </thead>\n",
              "  <tbody>\n",
              "    <tr>\n",
              "      <th>427</th>\n",
              "      <td>ID_QNAHlieY</td>\n",
              "      <td>Alimbana ndi ntchemberezandonda ku Zomba Undu...</td>\n",
              "      <td>FARMING</td>\n",
              "      <td>alimbana ntchemberezandonda zomba unduna zamal...</td>\n",
              "    </tr>\n",
              "    <tr>\n",
              "      <th>1189</th>\n",
              "      <td>ID_sIaymPRo</td>\n",
              "      <td>Bande Walimbikitsa Aphungu Anzake Kuti Agwire ...</td>\n",
              "      <td>POLITICS</td>\n",
              "      <td>bande walimbikitsa aphungu anzake agwire ntchi...</td>\n",
              "    </tr>\n",
              "    <tr>\n",
              "      <th>1008</th>\n",
              "      <td>ID_ltyEVrOY</td>\n",
              "      <td>World Vision Donates Buckets to Mangochi Polic...</td>\n",
              "      <td>SOCIAL</td>\n",
              "      <td>world vision donates buckets mangochi police m...</td>\n",
              "    </tr>\n",
              "    <tr>\n",
              "      <th>522</th>\n",
              "      <td>ID_TUIsSydd</td>\n",
              "      <td>Bambo Wafa Atawombedwa ndi Galimoto ku Kasungu...</td>\n",
              "      <td>SOCIAL</td>\n",
              "      <td>wafa atawombedwa galimoto kasungu wina zaka za...</td>\n",
              "    </tr>\n",
              "    <tr>\n",
              "      <th>296</th>\n",
              "      <td>ID_LRqnhrXL</td>\n",
              "      <td>Ndalama zakale zitha pa 23 May Banki yaikulu ...</td>\n",
              "      <td>ECONOMY</td>\n",
              "      <td>ndalama zakale zitha may banki yakumbutsa maba...</td>\n",
              "    </tr>\n",
              "  </tbody>\n",
              "</table>\n",
              "</div>\n",
              "      <button class=\"colab-df-convert\" onclick=\"convertToInteractive('df-b72bddc8-0d9c-495f-bec2-f013fe8b8d7d')\"\n",
              "              title=\"Convert this dataframe to an interactive table.\"\n",
              "              style=\"display:none;\">\n",
              "        \n",
              "  <svg xmlns=\"http://www.w3.org/2000/svg\" height=\"24px\"viewBox=\"0 0 24 24\"\n",
              "       width=\"24px\">\n",
              "    <path d=\"M0 0h24v24H0V0z\" fill=\"none\"/>\n",
              "    <path d=\"M18.56 5.44l.94 2.06.94-2.06 2.06-.94-2.06-.94-.94-2.06-.94 2.06-2.06.94zm-11 1L8.5 8.5l.94-2.06 2.06-.94-2.06-.94L8.5 2.5l-.94 2.06-2.06.94zm10 10l.94 2.06.94-2.06 2.06-.94-2.06-.94-.94-2.06-.94 2.06-2.06.94z\"/><path d=\"M17.41 7.96l-1.37-1.37c-.4-.4-.92-.59-1.43-.59-.52 0-1.04.2-1.43.59L10.3 9.45l-7.72 7.72c-.78.78-.78 2.05 0 2.83L4 21.41c.39.39.9.59 1.41.59.51 0 1.02-.2 1.41-.59l7.78-7.78 2.81-2.81c.8-.78.8-2.07 0-2.86zM5.41 20L4 18.59l7.72-7.72 1.47 1.35L5.41 20z\"/>\n",
              "  </svg>\n",
              "      </button>\n",
              "      \n",
              "  <style>\n",
              "    .colab-df-container {\n",
              "      display:flex;\n",
              "      flex-wrap:wrap;\n",
              "      gap: 12px;\n",
              "    }\n",
              "\n",
              "    .colab-df-convert {\n",
              "      background-color: #E8F0FE;\n",
              "      border: none;\n",
              "      border-radius: 50%;\n",
              "      cursor: pointer;\n",
              "      display: none;\n",
              "      fill: #1967D2;\n",
              "      height: 32px;\n",
              "      padding: 0 0 0 0;\n",
              "      width: 32px;\n",
              "    }\n",
              "\n",
              "    .colab-df-convert:hover {\n",
              "      background-color: #E2EBFA;\n",
              "      box-shadow: 0px 1px 2px rgba(60, 64, 67, 0.3), 0px 1px 3px 1px rgba(60, 64, 67, 0.15);\n",
              "      fill: #174EA6;\n",
              "    }\n",
              "\n",
              "    [theme=dark] .colab-df-convert {\n",
              "      background-color: #3B4455;\n",
              "      fill: #D2E3FC;\n",
              "    }\n",
              "\n",
              "    [theme=dark] .colab-df-convert:hover {\n",
              "      background-color: #434B5C;\n",
              "      box-shadow: 0px 1px 3px 1px rgba(0, 0, 0, 0.15);\n",
              "      filter: drop-shadow(0px 1px 2px rgba(0, 0, 0, 0.3));\n",
              "      fill: #FFFFFF;\n",
              "    }\n",
              "  </style>\n",
              "\n",
              "      <script>\n",
              "        const buttonEl =\n",
              "          document.querySelector('#df-b72bddc8-0d9c-495f-bec2-f013fe8b8d7d button.colab-df-convert');\n",
              "        buttonEl.style.display =\n",
              "          google.colab.kernel.accessAllowed ? 'block' : 'none';\n",
              "\n",
              "        async function convertToInteractive(key) {\n",
              "          const element = document.querySelector('#df-b72bddc8-0d9c-495f-bec2-f013fe8b8d7d');\n",
              "          const dataTable =\n",
              "            await google.colab.kernel.invokeFunction('convertToInteractive',\n",
              "                                                     [key], {});\n",
              "          if (!dataTable) return;\n",
              "\n",
              "          const docLinkHtml = 'Like what you see? Visit the ' +\n",
              "            '<a target=\"_blank\" href=https://colab.research.google.com/notebooks/data_table.ipynb>data table notebook</a>'\n",
              "            + ' to learn more about interactive tables.';\n",
              "          element.innerHTML = '';\n",
              "          dataTable['output_type'] = 'display_data';\n",
              "          await google.colab.output.renderOutput(dataTable, element);\n",
              "          const docLink = document.createElement('div');\n",
              "          docLink.innerHTML = docLinkHtml;\n",
              "          element.appendChild(docLink);\n",
              "        }\n",
              "      </script>\n",
              "    </div>\n",
              "  </div>\n",
              "  "
            ]
          },
          "metadata": {},
          "execution_count": 110
        }
      ],
      "source": [
        "training_set.sample(5)"
      ]
    },
    {
      "cell_type": "markdown",
      "source": [
        "# Decision Tree"
      ],
      "metadata": {
        "id": "867567t_Yp-l"
      }
    },
    {
      "cell_type": "markdown",
      "source": [
        "## Grid Search without oversampling"
      ],
      "metadata": {
        "id": "OT6-YxDbYp-s"
      }
    },
    {
      "cell_type": "code",
      "execution_count": 56,
      "metadata": {
        "id": "Lo-LFzSXYp-t"
      },
      "outputs": [],
      "source": [
        "from sklearn.feature_extraction.text import CountVectorizer, TfidfTransformer\n",
        "\n",
        "pipeline = Pipeline(\n",
        "    [\n",
        "        (\"vect\", CountVectorizer()),\n",
        "        (\"tfidf\", TfidfTransformer()),\n",
        "        (\"classifier\", DecisionTreeClassifier()),\n",
        "    ]\n",
        ")"
      ]
    },
    {
      "cell_type": "code",
      "execution_count": 57,
      "metadata": {
        "id": "DYPJEDBLYp-t"
      },
      "outputs": [],
      "source": [
        "parameters = {\n",
        "    'classifier__max_leaf_nodes': list(range(2, 100)),\n",
        "    'classifier__min_samples_split': [2, 3, 4],\n",
        "    'classifier__max_depth' : [10, 20, 40, 60, None]\n",
        "}"
      ]
    },
    {
      "cell_type": "code",
      "execution_count": 58,
      "metadata": {
        "id": "qkpGIGSoYp-t"
      },
      "outputs": [],
      "source": [
        "from sklearn.model_selection import GridSearchCV\n",
        "from pprint import pprint\n",
        "\n",
        "grid_search = GridSearchCV(pipeline, parameters, n_jobs=-1, verbose=1)"
      ]
    },
    {
      "cell_type": "code",
      "execution_count": 59,
      "metadata": {
        "scrolled": true,
        "outputId": "f12ba2fd-c465-4f33-eed8-44c2b5285697",
        "colab": {
          "base_uri": "https://localhost:8080/"
        },
        "id": "bTa_WXpuYp-t"
      },
      "outputs": [
        {
          "output_type": "stream",
          "name": "stdout",
          "text": [
            "Performing grid search...\n",
            "pipeline: ['vect', 'tfidf', 'classifier']\n",
            "parameters:\n",
            "{'classifier__max_leaf_nodes': [2,\n",
            "                                3,\n",
            "                                4,\n",
            "                                5,\n",
            "                                6,\n",
            "                                7,\n",
            "                                8,\n",
            "                                9,\n",
            "                                10,\n",
            "                                11,\n",
            "                                12,\n",
            "                                13,\n",
            "                                14,\n",
            "                                15,\n",
            "                                16,\n",
            "                                17,\n",
            "                                18,\n",
            "                                19,\n",
            "                                20,\n",
            "                                21,\n",
            "                                22,\n",
            "                                23,\n",
            "                                24,\n",
            "                                25,\n",
            "                                26,\n",
            "                                27,\n",
            "                                28,\n",
            "                                29,\n",
            "                                30,\n",
            "                                31,\n",
            "                                32,\n",
            "                                33,\n",
            "                                34,\n",
            "                                35,\n",
            "                                36,\n",
            "                                37,\n",
            "                                38,\n",
            "                                39,\n",
            "                                40,\n",
            "                                41,\n",
            "                                42,\n",
            "                                43,\n",
            "                                44,\n",
            "                                45,\n",
            "                                46,\n",
            "                                47,\n",
            "                                48,\n",
            "                                49,\n",
            "                                50,\n",
            "                                51,\n",
            "                                52,\n",
            "                                53,\n",
            "                                54,\n",
            "                                55,\n",
            "                                56,\n",
            "                                57,\n",
            "                                58,\n",
            "                                59,\n",
            "                                60,\n",
            "                                61,\n",
            "                                62,\n",
            "                                63,\n",
            "                                64,\n",
            "                                65,\n",
            "                                66,\n",
            "                                67,\n",
            "                                68,\n",
            "                                69,\n",
            "                                70,\n",
            "                                71,\n",
            "                                72,\n",
            "                                73,\n",
            "                                74,\n",
            "                                75,\n",
            "                                76,\n",
            "                                77,\n",
            "                                78,\n",
            "                                79,\n",
            "                                80,\n",
            "                                81,\n",
            "                                82,\n",
            "                                83,\n",
            "                                84,\n",
            "                                85,\n",
            "                                86,\n",
            "                                87,\n",
            "                                88,\n",
            "                                89,\n",
            "                                90,\n",
            "                                91,\n",
            "                                92,\n",
            "                                93,\n",
            "                                94,\n",
            "                                95,\n",
            "                                96,\n",
            "                                97,\n",
            "                                98,\n",
            "                                99],\n",
            " 'classifier__min_samples_split': [2, 3, 4]}\n",
            "Fitting 5 folds for each of 294 candidates, totalling 1470 fits\n",
            "done in 1600.719s\n",
            "\n",
            "Best score: 0.492\n",
            "Best parameters set:\n",
            "\tclassifier__max_leaf_nodes: 34\n",
            "\tclassifier__min_samples_split: 3\n"
          ]
        }
      ],
      "source": [
        "print(\"Performing grid search...\")\n",
        "print(\"pipeline:\", [name for name, _ in pipeline.steps])\n",
        "print(\"parameters:\")\n",
        "pprint(parameters)\n",
        "t0 = time()\n",
        "grid_search.fit(training_set['clean_text'], training_set['Label'])\n",
        "print(\"done in %0.3fs\" % (time() - t0))\n",
        "print()\n",
        "\n",
        "print(\"Best score: %0.3f\" % grid_search.best_score_)\n",
        "print(\"Best parameters set:\")\n",
        "best_parameters = grid_search.best_estimator_.get_params()\n",
        "for param_name in sorted(parameters.keys()):\n",
        "    print(\"\\t%s: %r\" % (param_name, best_parameters[param_name]))"
      ]
    },
    {
      "cell_type": "markdown",
      "source": [
        "## Train best model Without Oversampling"
      ],
      "metadata": {
        "id": "tRbEyLRoYp-t"
      }
    },
    {
      "cell_type": "code",
      "execution_count": 92,
      "metadata": {
        "colab": {
          "base_uri": "https://localhost:8080/"
        },
        "outputId": "6935cf76-0754-490b-ea88-48c0ac4ab722",
        "id": "3cEz1EYmYp-t"
      },
      "outputs": [
        {
          "output_type": "stream",
          "name": "stdout",
          "text": [
            "CPU times: user 200 µs, sys: 8 µs, total: 208 µs\n",
            "Wall time: 217 µs\n"
          ]
        }
      ],
      "source": [
        "%%time\n",
        "pipeline = Pipeline(\n",
        "    [\n",
        "        (\"vect\", CountVectorizer()),\n",
        "        (\"tfidf\", TfidfTransformer()),\n",
        "        (\"classifier\", DecisionTreeClassifier(max_leaf_nodes=34, min_samples_split=3)),\n",
        "    ]\n",
        ")"
      ]
    },
    {
      "cell_type": "code",
      "execution_count": 85,
      "metadata": {
        "outputId": "b68e2e0f-4c54-4349-abe6-9a716517deb3",
        "colab": {
          "base_uri": "https://localhost:8080/"
        },
        "id": "Kfm3m2UzYp-u"
      },
      "outputs": [
        {
          "output_type": "stream",
          "name": "stdout",
          "text": [
            "[0.45833333 0.48780488 0.50174216 0.51567944 0.49825784]\n"
          ]
        }
      ],
      "source": [
        "scores = cross_val_score(pipeline, training_set['clean_text'], training_set['Label'], cv=5, scoring='precision_micro')\n",
        "print(scores)"
      ]
    },
    {
      "cell_type": "code",
      "execution_count": 86,
      "metadata": {
        "outputId": "3f3f42cc-0e99-4f87-f229-22d37bfef360",
        "colab": {
          "base_uri": "https://localhost:8080/"
        },
        "id": "NEQgJ1QqYp-u"
      },
      "outputs": [
        {
          "output_type": "stream",
          "name": "stdout",
          "text": [
            "Final score is 0.4923635307781649\n"
          ]
        }
      ],
      "source": [
        "print(f\"Final score is {scores.mean()}\")"
      ]
    },
    {
      "cell_type": "markdown",
      "source": [
        "## Grid Search and Train With Oversampling"
      ],
      "metadata": {
        "id": "0E-VZ3GeYp-u"
      }
    },
    {
      "cell_type": "code",
      "source": [
        "pipeline = imblearn.pipeline.Pipeline(\n",
        "    [\n",
        "        (\"vect\", CountVectorizer()),\n",
        "        (\"tfidf\", TfidfTransformer()),\n",
        "        ('ros', RandomOverSampler()),\n",
        "        ('oversampler', SMOTE()),\n",
        "        (\"classifier\", DecisionTreeClassifier())\n",
        "    ]\n",
        ")\n",
        "parameters = {\n",
        "    'classifier__max_leaf_nodes': list(range(2, 100)),\n",
        "    'classifier__min_samples_split': [2, 3, 4]\n",
        "}\n",
        "grid_search = GridSearchCV(pipeline, parameters, n_jobs=-1, verbose=1)"
      ],
      "metadata": {
        "id": "wt3iS3uEYp-u"
      },
      "execution_count": 96,
      "outputs": []
    },
    {
      "cell_type": "code",
      "source": [
        "print(\"Performing grid search...\")\n",
        "print(\"pipeline:\", [name for name, _ in pipeline.steps])\n",
        "print(\"parameters:\")\n",
        "pprint(parameters)\n",
        "t0 = time()\n",
        "grid_search.fit(training_set['clean_text'], training_set['Label'])\n",
        "print(\"done in %0.3fs\" % (time() - t0))\n",
        "print()\n",
        "\n",
        "print(\"Best score: %0.3f\" % grid_search.best_score_)\n",
        "print(\"Best parameters set:\")\n",
        "best_parameters = grid_search.best_estimator_.get_params()\n",
        "for param_name in sorted(parameters.keys()):\n",
        "    print(\"\\t%s: %r\" % (param_name, best_parameters[param_name]))"
      ],
      "metadata": {
        "colab": {
          "base_uri": "https://localhost:8080/"
        },
        "outputId": "ee361f24-3644-4131-bf75-5277e37c0803",
        "id": "VmoESmpyYp-u"
      },
      "execution_count": 97,
      "outputs": [
        {
          "output_type": "stream",
          "name": "stdout",
          "text": [
            "Performing grid search...\n",
            "pipeline: ['vect', 'tfidf', 'ros', 'oversampler', 'classifier']\n",
            "parameters:\n",
            "{'classifier__max_leaf_nodes': [2,\n",
            "                                3,\n",
            "                                4,\n",
            "                                5,\n",
            "                                6,\n",
            "                                7,\n",
            "                                8,\n",
            "                                9,\n",
            "                                10,\n",
            "                                11,\n",
            "                                12,\n",
            "                                13,\n",
            "                                14,\n",
            "                                15,\n",
            "                                16,\n",
            "                                17,\n",
            "                                18,\n",
            "                                19,\n",
            "                                20,\n",
            "                                21,\n",
            "                                22,\n",
            "                                23,\n",
            "                                24,\n",
            "                                25,\n",
            "                                26,\n",
            "                                27,\n",
            "                                28,\n",
            "                                29,\n",
            "                                30,\n",
            "                                31,\n",
            "                                32,\n",
            "                                33,\n",
            "                                34,\n",
            "                                35,\n",
            "                                36,\n",
            "                                37,\n",
            "                                38,\n",
            "                                39,\n",
            "                                40,\n",
            "                                41,\n",
            "                                42,\n",
            "                                43,\n",
            "                                44,\n",
            "                                45,\n",
            "                                46,\n",
            "                                47,\n",
            "                                48,\n",
            "                                49,\n",
            "                                50,\n",
            "                                51,\n",
            "                                52,\n",
            "                                53,\n",
            "                                54,\n",
            "                                55,\n",
            "                                56,\n",
            "                                57,\n",
            "                                58,\n",
            "                                59,\n",
            "                                60,\n",
            "                                61,\n",
            "                                62,\n",
            "                                63,\n",
            "                                64,\n",
            "                                65,\n",
            "                                66,\n",
            "                                67,\n",
            "                                68,\n",
            "                                69,\n",
            "                                70,\n",
            "                                71,\n",
            "                                72,\n",
            "                                73,\n",
            "                                74,\n",
            "                                75,\n",
            "                                76,\n",
            "                                77,\n",
            "                                78,\n",
            "                                79,\n",
            "                                80,\n",
            "                                81,\n",
            "                                82,\n",
            "                                83,\n",
            "                                84,\n",
            "                                85,\n",
            "                                86,\n",
            "                                87,\n",
            "                                88,\n",
            "                                89,\n",
            "                                90,\n",
            "                                91,\n",
            "                                92,\n",
            "                                93,\n",
            "                                94,\n",
            "                                95,\n",
            "                                96,\n",
            "                                97,\n",
            "                                98,\n",
            "                                99],\n",
            " 'classifier__min_samples_split': [2, 3, 4]}\n",
            "Fitting 5 folds for each of 294 candidates, totalling 1470 fits\n",
            "done in 2816.396s\n",
            "\n",
            "Best score: 0.426\n",
            "Best parameters set:\n",
            "\tclassifier__max_leaf_nodes: 75\n",
            "\tclassifier__min_samples_split: 3\n"
          ]
        }
      ]
    },
    {
      "cell_type": "code",
      "source": [
        "%%time\n",
        "pipeline = imblearn.pipeline.Pipeline(\n",
        "    [\n",
        "        (\"vect\", CountVectorizer()),\n",
        "        (\"tfidf\", TfidfTransformer()),\n",
        "        ('ros', RandomOverSampler()),\n",
        "        ('oversampler', SMOTE()),\n",
        "        (\"classifier\", DecisionTreeClassifier(max_leaf_nodes=75, min_samples_split=3)),\n",
        "    ]\n",
        ")"
      ],
      "metadata": {
        "colab": {
          "base_uri": "https://localhost:8080/"
        },
        "outputId": "9d5e4dee-1f18-4814-85fd-0281dc54e6b5",
        "id": "91Ou2jjeYp-u"
      },
      "execution_count": 98,
      "outputs": [
        {
          "output_type": "stream",
          "name": "stdout",
          "text": [
            "CPU times: user 2.02 ms, sys: 0 ns, total: 2.02 ms\n",
            "Wall time: 19.1 ms\n"
          ]
        }
      ]
    },
    {
      "cell_type": "code",
      "source": [
        "scores = cross_val_score(pipeline, training_set['clean_text'], training_set['Label'], cv=5, scoring='precision_micro')\n",
        "print(scores)"
      ],
      "metadata": {
        "colab": {
          "base_uri": "https://localhost:8080/"
        },
        "outputId": "d9915c68-d7fc-4074-b6ad-098134dd2e20",
        "id": "HqjLOuHSYp-v"
      },
      "execution_count": 99,
      "outputs": [
        {
          "output_type": "stream",
          "name": "stdout",
          "text": [
            "[0.36805556 0.36933798 0.39372822 0.48432056 0.40418118]\n"
          ]
        }
      ]
    },
    {
      "cell_type": "code",
      "source": [
        "print(f\"Final score is {scores.mean()}\")"
      ],
      "metadata": {
        "colab": {
          "base_uri": "https://localhost:8080/"
        },
        "outputId": "03b50161-e422-43a9-d042-c47026e9dbcd",
        "id": "BK-5fsh1Yp-v"
      },
      "execution_count": 100,
      "outputs": [
        {
          "output_type": "stream",
          "name": "stdout",
          "text": [
            "Final score is 0.4039246999612853\n"
          ]
        }
      ]
    },
    {
      "cell_type": "markdown",
      "source": [
        "# Random Forest"
      ],
      "metadata": {
        "id": "DdxmNHRVYRrv"
      }
    },
    {
      "cell_type": "markdown",
      "source": [
        "## Grid Search without oversampling"
      ],
      "metadata": {
        "id": "wfxLV4BWmaTR"
      }
    },
    {
      "cell_type": "code",
      "execution_count": 16,
      "metadata": {
        "id": "PiIpe4FBl8fI"
      },
      "outputs": [],
      "source": [
        "from sklearn.feature_extraction.text import CountVectorizer, TfidfTransformer\n",
        "\n",
        "pipeline = Pipeline(\n",
        "    [\n",
        "        (\"vect\", CountVectorizer()),\n",
        "        (\"tfidf\", TfidfTransformer()),\n",
        "        (\"classifier\", RandomForestClassifier()),\n",
        "    ]\n",
        ")"
      ]
    },
    {
      "cell_type": "code",
      "execution_count": 22,
      "metadata": {
        "id": "l4mIYTZhl8fJ"
      },
      "outputs": [],
      "source": [
        "parameters = {\n",
        "    'classifier__bootstrap': [True, False],\n",
        "    'classifier__max_depth': [10, 20, 40, 60, None],\n",
        "    'classifier__max_features': ['auto', 'sqrt'],\n",
        "    'classifier__n_estimators': [200, 500, 1000, 1500]\n",
        "}"
      ]
    },
    {
      "cell_type": "code",
      "execution_count": 24,
      "metadata": {
        "id": "LyFkeSV5l8fJ"
      },
      "outputs": [],
      "source": [
        "from sklearn.model_selection import GridSearchCV\n",
        "from pprint import pprint\n",
        "\n",
        "grid_search = GridSearchCV(pipeline, parameters, n_jobs=-1, verbose=1)"
      ]
    },
    {
      "cell_type": "code",
      "execution_count": 25,
      "metadata": {
        "scrolled": true,
        "id": "F2Pcve3hl8fJ",
        "outputId": "17b62e5f-3e2e-4cba-df7d-7ad8e8a6d232",
        "colab": {
          "base_uri": "https://localhost:8080/"
        }
      },
      "outputs": [
        {
          "output_type": "stream",
          "name": "stdout",
          "text": [
            "Performing grid search...\n",
            "pipeline: ['vect', 'tfidf', 'classifier']\n",
            "parameters:\n",
            "{'classifier__bootstrap': [True, False],\n",
            " 'classifier__max_depth': [10, 20, 40, 60, None],\n",
            " 'classifier__max_features': ['auto', 'sqrt'],\n",
            " 'classifier__n_estimators': [200, 500, 1000, 1500]}\n",
            "Fitting 5 folds for each of 80 candidates, totalling 400 fits\n"
          ]
        },
        {
          "output_type": "stream",
          "name": "stderr",
          "text": [
            "/usr/local/lib/python3.7/dist-packages/joblib/externals/loky/process_executor.py:705: UserWarning: A worker stopped while some jobs were given to the executor. This can be caused by a too short worker timeout or by a memory leak.\n",
            "  \"timeout or by a memory leak.\", UserWarning\n"
          ]
        },
        {
          "output_type": "stream",
          "name": "stdout",
          "text": [
            "done in 4931.146s\n",
            "\n",
            "Best score: 0.581\n",
            "Best parameters set:\n",
            "\tclassifier__bootstrap: False\n",
            "\tclassifier__max_depth: 40\n",
            "\tclassifier__max_features: 'sqrt'\n",
            "\tclassifier__n_estimators: 200\n"
          ]
        }
      ],
      "source": [
        "print(\"Performing grid search...\")\n",
        "print(\"pipeline:\", [name for name, _ in pipeline.steps])\n",
        "print(\"parameters:\")\n",
        "pprint(parameters)\n",
        "t0 = time()\n",
        "grid_search.fit(training_set['clean_text'], training_set['Label'])\n",
        "print(\"done in %0.3fs\" % (time() - t0))\n",
        "print()\n",
        "\n",
        "print(\"Best score: %0.3f\" % grid_search.best_score_)\n",
        "print(\"Best parameters set:\")\n",
        "best_parameters = grid_search.best_estimator_.get_params()\n",
        "for param_name in sorted(parameters.keys()):\n",
        "    print(\"\\t%s: %r\" % (param_name, best_parameters[param_name]))"
      ]
    },
    {
      "cell_type": "markdown",
      "source": [
        "## Train best model Without Oversampling"
      ],
      "metadata": {
        "id": "5MprYcmVmgSw"
      }
    },
    {
      "cell_type": "code",
      "execution_count": 114,
      "metadata": {
        "colab": {
          "base_uri": "https://localhost:8080/"
        },
        "id": "wHRPPso-l8fK",
        "outputId": "f3b89e7b-add3-4494-a805-1c8157c99436"
      },
      "outputs": [
        {
          "output_type": "stream",
          "name": "stdout",
          "text": [
            "CPU times: user 253 µs, sys: 0 ns, total: 253 µs\n",
            "Wall time: 260 µs\n"
          ]
        }
      ],
      "source": [
        "%%time\n",
        "pipeline = Pipeline(\n",
        "    [\n",
        "        (\"vect\", CountVectorizer()),\n",
        "        (\"tfidf\", TfidfTransformer()),\n",
        "        (\"classifier\", RandomForestClassifier(n_estimators=200, max_features='sqrt', max_depth=40, bootstrap=False)),\n",
        "    ]\n",
        ")"
      ]
    },
    {
      "cell_type": "code",
      "execution_count": 115,
      "metadata": {
        "id": "9xOnC18ml8fK",
        "outputId": "38f804b7-c23d-4492-8af9-9ae450e0c26a",
        "colab": {
          "base_uri": "https://localhost:8080/"
        }
      },
      "outputs": [
        {
          "output_type": "stream",
          "name": "stdout",
          "text": [
            "[0.58680556 0.57491289 0.61324042 0.57491289 0.55052265]\n"
          ]
        }
      ],
      "source": [
        "scores = cross_val_score(pipeline, training_set['clean_text'], training_set['Label'], cv=5, scoring='precision_micro')\n",
        "print(scores)"
      ]
    },
    {
      "cell_type": "code",
      "execution_count": 116,
      "metadata": {
        "id": "KfElTteSl8fK",
        "outputId": "3d72be1f-1041-4524-cc2b-de15322753cc",
        "colab": {
          "base_uri": "https://localhost:8080/"
        }
      },
      "outputs": [
        {
          "output_type": "stream",
          "name": "stdout",
          "text": [
            "Final score is 0.5800788811459543\n"
          ]
        }
      ],
      "source": [
        "print(f\"Final score is {scores.mean()}\")"
      ]
    },
    {
      "cell_type": "markdown",
      "source": [
        "## Grid Search and Train With Oversampling"
      ],
      "metadata": {
        "id": "cS6Jofvom7eW"
      }
    },
    {
      "cell_type": "code",
      "source": [
        "pipeline = imblearn.pipeline.Pipeline(\n",
        "    [\n",
        "        (\"vect\", CountVectorizer()),\n",
        "        (\"tfidf\", TfidfTransformer()),\n",
        "        ('ros', RandomOverSampler()),\n",
        "        ('oversampler', SMOTE()),\n",
        "        (\"classifier\", RandomForestClassifier())\n",
        "    ]\n",
        ")\n",
        "parameters = {\n",
        "    'classifier__bootstrap': [True, False],\n",
        "    'classifier__max_depth': [10, 20, 40, 60, None],\n",
        "    'classifier__max_features': ['auto', 'sqrt'],\n",
        "    'classifier__n_estimators': [100, 200, 500, 1000]\n",
        "}\n",
        "grid_search = GridSearchCV(pipeline, parameters, n_jobs=-1, verbose=1)"
      ],
      "metadata": {
        "id": "Sl-mbP2Ms-Qe"
      },
      "execution_count": 40,
      "outputs": []
    },
    {
      "cell_type": "code",
      "source": [
        "print(\"Performing grid search...\")\n",
        "print(\"pipeline:\", [name for name, _ in pipeline.steps])\n",
        "print(\"parameters:\")\n",
        "pprint(parameters)\n",
        "t0 = time()\n",
        "grid_search.fit(training_set['clean_text'], training_set['Label'])\n",
        "print(\"done in %0.3fs\" % (time() - t0))\n",
        "print()\n",
        "\n",
        "print(\"Best score: %0.3f\" % grid_search.best_score_)\n",
        "print(\"Best parameters set:\")\n",
        "best_parameters = grid_search.best_estimator_.get_params()\n",
        "for param_name in sorted(parameters.keys()):\n",
        "    print(\"\\t%s: %r\" % (param_name, best_parameters[param_name]))"
      ],
      "metadata": {
        "colab": {
          "base_uri": "https://localhost:8080/"
        },
        "id": "9eWnldqatMMi",
        "outputId": "146f9d16-f54b-4649-a984-fe777f82d12e"
      },
      "execution_count": 41,
      "outputs": [
        {
          "output_type": "stream",
          "name": "stdout",
          "text": [
            "Performing grid search...\n",
            "pipeline: ['vect', 'tfidf', 'ros', 'oversampler', 'classifier']\n",
            "parameters:\n",
            "{'classifier__bootstrap': [True, False],\n",
            " 'classifier__max_depth': [10, 20, 40, 60, None],\n",
            " 'classifier__max_features': ['auto', 'sqrt'],\n",
            " 'classifier__n_estimators': [100, 200, 500, 1000]}\n",
            "Fitting 5 folds for each of 80 candidates, totalling 400 fits\n"
          ]
        },
        {
          "output_type": "stream",
          "name": "stderr",
          "text": [
            "/usr/local/lib/python3.7/dist-packages/joblib/externals/loky/process_executor.py:705: UserWarning: A worker stopped while some jobs were given to the executor. This can be caused by a too short worker timeout or by a memory leak.\n",
            "  \"timeout or by a memory leak.\", UserWarning\n"
          ]
        },
        {
          "output_type": "stream",
          "name": "stdout",
          "text": [
            "done in 4760.212s\n",
            "\n",
            "Best score: 0.610\n",
            "Best parameters set:\n",
            "\tclassifier__bootstrap: True\n",
            "\tclassifier__max_depth: 40\n",
            "\tclassifier__max_features: 'sqrt'\n",
            "\tclassifier__n_estimators: 500\n"
          ]
        }
      ]
    },
    {
      "cell_type": "code",
      "source": [
        "%%time\n",
        "pipeline = imblearn.pipeline.Pipeline(\n",
        "    [\n",
        "        (\"vect\", CountVectorizer()),\n",
        "        (\"tfidf\", TfidfTransformer()),\n",
        "        ('ros', RandomOverSampler()),\n",
        "        ('oversampler', SMOTE()),\n",
        "        (\"classifier\", RandomForestClassifier(n_estimators=500, max_features='sqrt', max_depth=40, bootstrap=True)),\n",
        "        #(\"classifier\", RandomForestClassifier())\n",
        "    ]\n",
        ")"
      ],
      "metadata": {
        "colab": {
          "base_uri": "https://localhost:8080/"
        },
        "id": "o_30b4-Sm9lc",
        "outputId": "52fe79de-ac11-40fe-e3df-5574168b7522"
      },
      "execution_count": 120,
      "outputs": [
        {
          "output_type": "stream",
          "name": "stdout",
          "text": [
            "CPU times: user 509 µs, sys: 0 ns, total: 509 µs\n",
            "Wall time: 539 µs\n"
          ]
        }
      ]
    },
    {
      "cell_type": "code",
      "source": [
        "scores = cross_val_score(pipeline, training_set['clean_text'], training_set['Label'], cv=5, scoring='precision_micro')\n",
        "print(scores)"
      ],
      "metadata": {
        "colab": {
          "base_uri": "https://localhost:8080/"
        },
        "id": "GBX17gZynCDu",
        "outputId": "ef1dab22-869c-4ed0-a860-a94bf71d3ad3"
      },
      "execution_count": 121,
      "outputs": [
        {
          "output_type": "stream",
          "name": "stdout",
          "text": [
            "[0.59722222 0.57491289 0.64808362 0.6271777  0.57491289]\n"
          ]
        }
      ]
    },
    {
      "cell_type": "code",
      "source": [
        "print(f\"Final score is {scores.mean()}\")"
      ],
      "metadata": {
        "colab": {
          "base_uri": "https://localhost:8080/"
        },
        "id": "e5QVfBGInFtE",
        "outputId": "8f703f0e-795c-4a46-e0eb-9b20e6ec949d"
      },
      "execution_count": 122,
      "outputs": [
        {
          "output_type": "stream",
          "name": "stdout",
          "text": [
            "Final score is 0.604461866047232\n"
          ]
        }
      ]
    },
    {
      "cell_type": "markdown",
      "source": [
        "# Predict test data"
      ],
      "metadata": {
        "id": "pMniFs8WnGfJ"
      }
    },
    {
      "cell_type": "code",
      "execution_count": 123,
      "metadata": {
        "id": "F9pCnk46l8fK"
      },
      "outputs": [],
      "source": [
        "pipeline.fit( training_set['clean_text'], training_set['Label'])\n",
        "test_set.loc[:,\"Label\"] = pipeline.predict(test_set['Text'])"
      ]
    },
    {
      "cell_type": "code",
      "execution_count": 124,
      "metadata": {
        "colab": {
          "base_uri": "https://localhost:8080/",
          "height": 423
        },
        "id": "VqvglM51l8fL",
        "outputId": "7fb85ef2-3ce5-45e9-f755-449632c4517a"
      },
      "outputs": [
        {
          "output_type": "execute_result",
          "data": {
            "text/plain": [
              "              ID          Label\n",
              "0    ID_ADHEtjTi  SOCIAL ISSUES\n",
              "1    ID_AHfJktdQ       RELIGION\n",
              "2    ID_AUJIHpZr  RELATIONSHIPS\n",
              "3    ID_AUKYBbIM      LAW/ORDER\n",
              "4    ID_AZnsVPEi        FARMING\n",
              "..           ...            ...\n",
              "615  ID_zdpOUWyJ         SOCIAL\n",
              "616  ID_zhnOomuu  RELATIONSHIPS\n",
              "617  ID_zmWHvBJb      LAW/ORDER\n",
              "618  ID_zphjdFIb  SOCIAL ISSUES\n",
              "619  ID_ztdtrNxt      LAW/ORDER\n",
              "\n",
              "[620 rows x 2 columns]"
            ],
            "text/html": [
              "\n",
              "  <div id=\"df-d02a19a1-490c-4b99-bdac-cf35b0a82895\">\n",
              "    <div class=\"colab-df-container\">\n",
              "      <div>\n",
              "<style scoped>\n",
              "    .dataframe tbody tr th:only-of-type {\n",
              "        vertical-align: middle;\n",
              "    }\n",
              "\n",
              "    .dataframe tbody tr th {\n",
              "        vertical-align: top;\n",
              "    }\n",
              "\n",
              "    .dataframe thead th {\n",
              "        text-align: right;\n",
              "    }\n",
              "</style>\n",
              "<table border=\"1\" class=\"dataframe\">\n",
              "  <thead>\n",
              "    <tr style=\"text-align: right;\">\n",
              "      <th></th>\n",
              "      <th>ID</th>\n",
              "      <th>Label</th>\n",
              "    </tr>\n",
              "  </thead>\n",
              "  <tbody>\n",
              "    <tr>\n",
              "      <th>0</th>\n",
              "      <td>ID_ADHEtjTi</td>\n",
              "      <td>SOCIAL ISSUES</td>\n",
              "    </tr>\n",
              "    <tr>\n",
              "      <th>1</th>\n",
              "      <td>ID_AHfJktdQ</td>\n",
              "      <td>RELIGION</td>\n",
              "    </tr>\n",
              "    <tr>\n",
              "      <th>2</th>\n",
              "      <td>ID_AUJIHpZr</td>\n",
              "      <td>RELATIONSHIPS</td>\n",
              "    </tr>\n",
              "    <tr>\n",
              "      <th>3</th>\n",
              "      <td>ID_AUKYBbIM</td>\n",
              "      <td>LAW/ORDER</td>\n",
              "    </tr>\n",
              "    <tr>\n",
              "      <th>4</th>\n",
              "      <td>ID_AZnsVPEi</td>\n",
              "      <td>FARMING</td>\n",
              "    </tr>\n",
              "    <tr>\n",
              "      <th>...</th>\n",
              "      <td>...</td>\n",
              "      <td>...</td>\n",
              "    </tr>\n",
              "    <tr>\n",
              "      <th>615</th>\n",
              "      <td>ID_zdpOUWyJ</td>\n",
              "      <td>SOCIAL</td>\n",
              "    </tr>\n",
              "    <tr>\n",
              "      <th>616</th>\n",
              "      <td>ID_zhnOomuu</td>\n",
              "      <td>RELATIONSHIPS</td>\n",
              "    </tr>\n",
              "    <tr>\n",
              "      <th>617</th>\n",
              "      <td>ID_zmWHvBJb</td>\n",
              "      <td>LAW/ORDER</td>\n",
              "    </tr>\n",
              "    <tr>\n",
              "      <th>618</th>\n",
              "      <td>ID_zphjdFIb</td>\n",
              "      <td>SOCIAL ISSUES</td>\n",
              "    </tr>\n",
              "    <tr>\n",
              "      <th>619</th>\n",
              "      <td>ID_ztdtrNxt</td>\n",
              "      <td>LAW/ORDER</td>\n",
              "    </tr>\n",
              "  </tbody>\n",
              "</table>\n",
              "<p>620 rows × 2 columns</p>\n",
              "</div>\n",
              "      <button class=\"colab-df-convert\" onclick=\"convertToInteractive('df-d02a19a1-490c-4b99-bdac-cf35b0a82895')\"\n",
              "              title=\"Convert this dataframe to an interactive table.\"\n",
              "              style=\"display:none;\">\n",
              "        \n",
              "  <svg xmlns=\"http://www.w3.org/2000/svg\" height=\"24px\"viewBox=\"0 0 24 24\"\n",
              "       width=\"24px\">\n",
              "    <path d=\"M0 0h24v24H0V0z\" fill=\"none\"/>\n",
              "    <path d=\"M18.56 5.44l.94 2.06.94-2.06 2.06-.94-2.06-.94-.94-2.06-.94 2.06-2.06.94zm-11 1L8.5 8.5l.94-2.06 2.06-.94-2.06-.94L8.5 2.5l-.94 2.06-2.06.94zm10 10l.94 2.06.94-2.06 2.06-.94-2.06-.94-.94-2.06-.94 2.06-2.06.94z\"/><path d=\"M17.41 7.96l-1.37-1.37c-.4-.4-.92-.59-1.43-.59-.52 0-1.04.2-1.43.59L10.3 9.45l-7.72 7.72c-.78.78-.78 2.05 0 2.83L4 21.41c.39.39.9.59 1.41.59.51 0 1.02-.2 1.41-.59l7.78-7.78 2.81-2.81c.8-.78.8-2.07 0-2.86zM5.41 20L4 18.59l7.72-7.72 1.47 1.35L5.41 20z\"/>\n",
              "  </svg>\n",
              "      </button>\n",
              "      \n",
              "  <style>\n",
              "    .colab-df-container {\n",
              "      display:flex;\n",
              "      flex-wrap:wrap;\n",
              "      gap: 12px;\n",
              "    }\n",
              "\n",
              "    .colab-df-convert {\n",
              "      background-color: #E8F0FE;\n",
              "      border: none;\n",
              "      border-radius: 50%;\n",
              "      cursor: pointer;\n",
              "      display: none;\n",
              "      fill: #1967D2;\n",
              "      height: 32px;\n",
              "      padding: 0 0 0 0;\n",
              "      width: 32px;\n",
              "    }\n",
              "\n",
              "    .colab-df-convert:hover {\n",
              "      background-color: #E2EBFA;\n",
              "      box-shadow: 0px 1px 2px rgba(60, 64, 67, 0.3), 0px 1px 3px 1px rgba(60, 64, 67, 0.15);\n",
              "      fill: #174EA6;\n",
              "    }\n",
              "\n",
              "    [theme=dark] .colab-df-convert {\n",
              "      background-color: #3B4455;\n",
              "      fill: #D2E3FC;\n",
              "    }\n",
              "\n",
              "    [theme=dark] .colab-df-convert:hover {\n",
              "      background-color: #434B5C;\n",
              "      box-shadow: 0px 1px 3px 1px rgba(0, 0, 0, 0.15);\n",
              "      filter: drop-shadow(0px 1px 2px rgba(0, 0, 0, 0.3));\n",
              "      fill: #FFFFFF;\n",
              "    }\n",
              "  </style>\n",
              "\n",
              "      <script>\n",
              "        const buttonEl =\n",
              "          document.querySelector('#df-d02a19a1-490c-4b99-bdac-cf35b0a82895 button.colab-df-convert');\n",
              "        buttonEl.style.display =\n",
              "          google.colab.kernel.accessAllowed ? 'block' : 'none';\n",
              "\n",
              "        async function convertToInteractive(key) {\n",
              "          const element = document.querySelector('#df-d02a19a1-490c-4b99-bdac-cf35b0a82895');\n",
              "          const dataTable =\n",
              "            await google.colab.kernel.invokeFunction('convertToInteractive',\n",
              "                                                     [key], {});\n",
              "          if (!dataTable) return;\n",
              "\n",
              "          const docLinkHtml = 'Like what you see? Visit the ' +\n",
              "            '<a target=\"_blank\" href=https://colab.research.google.com/notebooks/data_table.ipynb>data table notebook</a>'\n",
              "            + ' to learn more about interactive tables.';\n",
              "          element.innerHTML = '';\n",
              "          dataTable['output_type'] = 'display_data';\n",
              "          await google.colab.output.renderOutput(dataTable, element);\n",
              "          const docLink = document.createElement('div');\n",
              "          docLink.innerHTML = docLinkHtml;\n",
              "          element.appendChild(docLink);\n",
              "        }\n",
              "      </script>\n",
              "    </div>\n",
              "  </div>\n",
              "  "
            ]
          },
          "metadata": {},
          "execution_count": 124
        }
      ],
      "source": [
        "test_set[['ID','Label']]"
      ]
    },
    {
      "cell_type": "code",
      "execution_count": 126,
      "metadata": {
        "id": "Poj5M4hWl8fL"
      },
      "outputs": [],
      "source": [
        "test_set[['ID','Label']].to_csv(\"submission.csv\", index=False) "
      ]
    },
    {
      "cell_type": "markdown",
      "source": [
        "Best Score on website: 0.61935 \\\n",
        "By Random Forest with Oversampling"
      ],
      "metadata": {
        "id": "h7BNnhnrCslN"
      }
    }
  ],
  "metadata": {
    "colab": {
      "collapsed_sections": [
        "867567t_Yp-l",
        "0E-VZ3GeYp-u",
        "wfxLV4BWmaTR"
      ],
      "name": "random_forest_model.ipynb",
      "provenance": []
    },
    "kernelspec": {
      "display_name": "Python 3 (ipykernel)",
      "language": "python",
      "name": "python3"
    },
    "language_info": {
      "codemirror_mode": {
        "name": "ipython",
        "version": 3
      },
      "file_extension": ".py",
      "mimetype": "text/x-python",
      "name": "python",
      "nbconvert_exporter": "python",
      "pygments_lexer": "ipython3",
      "version": "3.8.8"
    }
  },
  "nbformat": 4,
  "nbformat_minor": 0
}